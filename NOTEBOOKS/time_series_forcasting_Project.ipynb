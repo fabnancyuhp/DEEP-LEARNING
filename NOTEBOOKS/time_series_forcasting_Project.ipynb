{
  "metadata": {
    "kernelspec": {
      "language": "python",
      "display_name": "Python 3",
      "name": "python3"
    },
    "language_info": {
      "name": "python",
      "version": "3.7.12",
      "mimetype": "text/x-python",
      "codemirror_mode": {
        "name": "ipython",
        "version": 3
      },
      "pygments_lexer": "ipython3",
      "nbconvert_exporter": "python",
      "file_extension": ".py"
    },
    "colab": {
      "name": "time-series-forcasting Project.ipynb",
      "provenance": [],
      "include_colab_link": true
    }
  },
  "nbformat_minor": 0,
  "nbformat": 4,
  "cells": [
    {
      "cell_type": "markdown",
      "metadata": {
        "id": "view-in-github",
        "colab_type": "text"
      },
      "source": [
        "<a href=\"https://colab.research.google.com/github/fabnancyuhp/DEEP-LEARNING/blob/main/NOTEBOOKS/time_series_forcasting_Project.ipynb\" target=\"_parent\"><img src=\"https://colab.research.google.com/assets/colab-badge.svg\" alt=\"Open In Colab\"/></a>"
      ]
    },
    {
      "cell_type": "markdown",
      "source": [
        "# Time Series Data Preparation\n",
        "Univariate time series are datasets comprised of a single series of observations with a temporal ordering and a model is required to learn from the series of past observations to predict the next value in the sequence."
      ],
      "metadata": {
        "id": "_I2mcKbatMLS"
      }
    },
    {
      "cell_type": "markdown",
      "source": [
        "For exemple the univariate sequence $[x_{1},x_{2},x_{3},x_{4},x_{5},x_{6},x_{7},x_{8}]$. We can divide the sequence into multiple input/output patterns called samples, where three time steps are used as input and one time step is used as output for the one-step prediction that is being learned. The features matrix X and the target values Y are\n",
        "$$\\begin{array}{llllll} \n",
        "X      &        &      &  & &Y\\\\\n",
        "x_{1}, & x_{2}, & x_{3}&  & &x_{4}\\\\\n",
        "x_{2}, & x_{3}, & x_{4}&  & &x_{5}\\\\\n",
        "x_{3}, & x_{4}, & x_{5}&  & &x_{6}\\\\\n",
        "x_{4}, & x_{5}, & x_{6}&  & &x_{7}\\\\\n",
        "x_{5}, & x_{6}, & x_{7}&  & &x_{8}\n",
        "\\end{array}$$\n"
      ],
      "metadata": {
        "id": "qyLdcn5-tMLU"
      }
    },
    {
      "cell_type": "markdown",
      "source": [
        "Here, we divide the sequence $[x_{1},x_{2},x_{3},x_{4},x_{5},x_{6},x_{7},x_{8},x_{9},x_{10}]$ into multiple input/output patterns, where four time steps are used as input and two time step is used as output for the two_step prediction that is being learned, we get:\n",
        "$$\\begin{array}{lllllll} \n",
        "X      &        &      &  & & &Y\\\\\n",
        "x_{1}, & x_{2}, & x_{3}&x_{4}  & & &x_{6}\\\\\n",
        "x_{2}, & x_{3}, & x_{4}&x_{5}  & & &x_{7}\\\\\n",
        "x_{3}, & x_{4}, & x_{5}&x_{6}  & & &x_{8}\\\\\n",
        "x_{4}, & x_{5}, & x_{6}&x_{7}  & & &x_{9}\\\\\n",
        "x_{5}, & x_{6}, & x_{7}&x_{8}  & & &x_{10}\n",
        "\\end{array}$$\n",
        "\n",
        "In the above cell, we show a function able to divide a gven sequence into multiple input/output patterns. The argument of split_sequence function are:\n",
        "* Raw_list is a python list modelizing the sequence\n",
        "* n_steps : number time steps used as input "
      ],
      "metadata": {
        "id": "C_aZfOQqtMLW"
      }
    },
    {
      "cell_type": "code",
      "source": [
        "import numpy as np\n",
        "\n",
        "#Raw_list is a python list modelising the sequence \n",
        "#n_steps : number time steps used as input \n",
        "def split_sequence(raw_seq,n_steps):\n",
        "    X = []\n",
        "    y = []\n",
        "    for i in range(len(raw_seq)):\n",
        "        end_ix = i + n_steps\n",
        "        if end_ix<=len(raw_seq)-1:\n",
        "            X.append(raw_seq[i:end_ix])\n",
        "            y.append(raw_seq[end_ix])\n",
        "    return np.array(X),np.array(y)"
      ],
      "metadata": {
        "execution": {
          "iopub.status.busy": "2021-12-10T13:48:44.361857Z",
          "iopub.execute_input": "2021-12-10T13:48:44.362638Z",
          "iopub.status.idle": "2021-12-10T13:48:44.393821Z",
          "shell.execute_reply.started": "2021-12-10T13:48:44.362494Z",
          "shell.execute_reply": "2021-12-10T13:48:44.392843Z"
        },
        "trusted": true,
        "id": "Pjy_tD3NtMLZ"
      },
      "execution_count": null,
      "outputs": []
    },
    {
      "cell_type": "markdown",
      "source": [
        "We try the function split_sequence."
      ],
      "metadata": {
        "id": "Y7wiYY-stMLb"
      }
    },
    {
      "cell_type": "code",
      "source": [
        "raw_seq = [10, 20, 30, 40, 50, 60, 70, 80, 90]\n",
        "n_steps = 3\n",
        "\n",
        "split_sequence(raw_seq,n_steps)[0]"
      ],
      "metadata": {
        "execution": {
          "iopub.status.busy": "2021-12-10T13:48:44.397591Z",
          "iopub.execute_input": "2021-12-10T13:48:44.398537Z",
          "iopub.status.idle": "2021-12-10T13:48:44.411437Z",
          "shell.execute_reply.started": "2021-12-10T13:48:44.398478Z",
          "shell.execute_reply": "2021-12-10T13:48:44.410679Z"
        },
        "trusted": true,
        "colab": {
          "base_uri": "https://localhost:8080/"
        },
        "id": "2RYGf3IJtMLg",
        "outputId": "6b1ca423-b05a-44a9-b736-e9400f347b14"
      },
      "execution_count": null,
      "outputs": [
        {
          "output_type": "execute_result",
          "data": {
            "text/plain": [
              "array([[10, 20, 30],\n",
              "       [20, 30, 40],\n",
              "       [30, 40, 50],\n",
              "       [40, 50, 60],\n",
              "       [50, 60, 70],\n",
              "       [60, 70, 80]])"
            ]
          },
          "metadata": {},
          "execution_count": 3
        }
      ]
    },
    {
      "cell_type": "code",
      "source": [
        "split_sequence(raw_seq,n_steps)[1]"
      ],
      "metadata": {
        "colab": {
          "base_uri": "https://localhost:8080/"
        },
        "id": "JFdnX3tkuxA5",
        "outputId": "01c52da6-477e-41f4-d483-4e9fc6078d2e"
      },
      "execution_count": null,
      "outputs": [
        {
          "output_type": "execute_result",
          "data": {
            "text/plain": [
              "array([40, 50, 60, 70, 80, 90])"
            ]
          },
          "metadata": {},
          "execution_count": 4
        }
      ]
    },
    {
      "cell_type": "markdown",
      "source": [
        "Here, we make a function able to handle a n step prediction problem.\n",
        "* n_steps are used for the input\n",
        "* n_steps_pred is used for the output\n",
        "\n",
        "If we want to make a model that predict a stock price a week later with the last 30 stock price values we set n_steps = 30 and n_steps_pred=7."
      ],
      "metadata": {
        "id": "yBOUruAxtMLi"
      }
    },
    {
      "cell_type": "code",
      "source": [
        "import numpy as np\n",
        "\n",
        "def split_sequence_bis(raw_seq,n_steps,n_steps_pred):\n",
        "    X = []\n",
        "    y = []\n",
        "    for i in range(len(raw_seq)):\n",
        "        end_ix = i + n_steps \n",
        "        end_iy = i + n_steps +n_steps_pred-1\n",
        "        if (end_iy<=len(raw_seq)-1):\n",
        "            X.append(raw_seq[i:end_ix])\n",
        "            y.append(raw_seq[end_iy])\n",
        "    return np.array(X),np.array(y)\n",
        "\n",
        "split_sequence_bis(raw_seq,4,3)"
      ],
      "metadata": {
        "execution": {
          "iopub.status.busy": "2021-12-09T16:00:04.62267Z",
          "iopub.execute_input": "2021-12-09T16:00:04.62299Z",
          "iopub.status.idle": "2021-12-09T16:00:04.633177Z",
          "shell.execute_reply.started": "2021-12-09T16:00:04.622957Z",
          "shell.execute_reply": "2021-12-09T16:00:04.632296Z"
        },
        "trusted": true,
        "colab": {
          "base_uri": "https://localhost:8080/"
        },
        "id": "sK5GEZAPtMLk",
        "outputId": "1a81df82-5631-4211-a88c-8f1215988a42"
      },
      "execution_count": null,
      "outputs": [
        {
          "output_type": "execute_result",
          "data": {
            "text/plain": [
              "(array([[10, 20, 30, 40],\n",
              "        [20, 30, 40, 50],\n",
              "        [30, 40, 50, 60]]), array([70, 80, 90]))"
            ]
          },
          "metadata": {},
          "execution_count": 5
        }
      ]
    },
    {
      "cell_type": "markdown",
      "source": [
        "# Renault SA stock price prediction\n",
        "In the dataset Renault_Stock_prices we store some times series about the Renault stock price. In this example, we want to build a model to predict the closing price of the stock price from its previous 12 closing values."
      ],
      "metadata": {
        "id": "wdPei6X2tMLm"
      }
    },
    {
      "cell_type": "markdown",
      "source": [
        "## Load data\n",
        "Renault_Stock_prices is a dataset of Renault stock prices from 2000-01-03 to 2021-12-07. We get ride of the data older than 2018. We keep the closing stock price since we want to built a model to predict it."
      ],
      "metadata": {
        "id": "E89SW5cPtMLp"
      }
    },
    {
      "cell_type": "code",
      "source": [
        "#!pip install yfinance\n",
        "#import yfinance as yf\n",
        "#tickers=['TSLA'] AAPL  RNO.PA\n",
        "#tickers = ['RNO.PA']\n",
        "#data = yf.download(tickers[0]) \n",
        "\n",
        "import pandas as pd\n",
        "file = \"https://raw.githubusercontent.com/fabnancyuhp/DEEP-LEARNING/main/DATA/RENAULT.parquet\"\n",
        "Renault_Stock_prices = pd.read_parquet(file)\n",
        "Renault_Stock_prices = Renault_Stock_prices.loc[Renault_Stock_prices.index.year>=2018][['Close']]\n",
        "\n",
        "Renault_Stock_prices.head()"
      ],
      "metadata": {
        "execution": {
          "iopub.status.busy": "2021-12-29T14:48:47.023632Z",
          "iopub.execute_input": "2021-12-29T14:48:47.023963Z",
          "iopub.status.idle": "2021-12-29T14:48:47.359126Z",
          "shell.execute_reply.started": "2021-12-29T14:48:47.023931Z",
          "shell.execute_reply": "2021-12-29T14:48:47.358219Z"
        },
        "trusted": true,
        "colab": {
          "base_uri": "https://localhost:8080/",
          "height": 236
        },
        "id": "VyDj7z3PtMLq",
        "outputId": "f8378d57-f5d6-4fa7-d83e-d4d691920d7b"
      },
      "execution_count": null,
      "outputs": [
        {
          "output_type": "execute_result",
          "data": {
            "text/html": [
              "\n",
              "  <div id=\"df-5f0f4257-c2b0-4398-aeb4-5ae39276a08e\">\n",
              "    <div class=\"colab-df-container\">\n",
              "      <div>\n",
              "<style scoped>\n",
              "    .dataframe tbody tr th:only-of-type {\n",
              "        vertical-align: middle;\n",
              "    }\n",
              "\n",
              "    .dataframe tbody tr th {\n",
              "        vertical-align: top;\n",
              "    }\n",
              "\n",
              "    .dataframe thead th {\n",
              "        text-align: right;\n",
              "    }\n",
              "</style>\n",
              "<table border=\"1\" class=\"dataframe\">\n",
              "  <thead>\n",
              "    <tr style=\"text-align: right;\">\n",
              "      <th></th>\n",
              "      <th>Close</th>\n",
              "    </tr>\n",
              "    <tr>\n",
              "      <th>Date</th>\n",
              "      <th></th>\n",
              "    </tr>\n",
              "  </thead>\n",
              "  <tbody>\n",
              "    <tr>\n",
              "      <th>2018-01-02</th>\n",
              "      <td>83.800003</td>\n",
              "    </tr>\n",
              "    <tr>\n",
              "      <th>2018-01-03</th>\n",
              "      <td>84.089996</td>\n",
              "    </tr>\n",
              "    <tr>\n",
              "      <th>2018-01-04</th>\n",
              "      <td>85.220001</td>\n",
              "    </tr>\n",
              "    <tr>\n",
              "      <th>2018-01-05</th>\n",
              "      <td>87.199997</td>\n",
              "    </tr>\n",
              "    <tr>\n",
              "      <th>2018-01-08</th>\n",
              "      <td>88.470001</td>\n",
              "    </tr>\n",
              "  </tbody>\n",
              "</table>\n",
              "</div>\n",
              "      <button class=\"colab-df-convert\" onclick=\"convertToInteractive('df-5f0f4257-c2b0-4398-aeb4-5ae39276a08e')\"\n",
              "              title=\"Convert this dataframe to an interactive table.\"\n",
              "              style=\"display:none;\">\n",
              "        \n",
              "  <svg xmlns=\"http://www.w3.org/2000/svg\" height=\"24px\"viewBox=\"0 0 24 24\"\n",
              "       width=\"24px\">\n",
              "    <path d=\"M0 0h24v24H0V0z\" fill=\"none\"/>\n",
              "    <path d=\"M18.56 5.44l.94 2.06.94-2.06 2.06-.94-2.06-.94-.94-2.06-.94 2.06-2.06.94zm-11 1L8.5 8.5l.94-2.06 2.06-.94-2.06-.94L8.5 2.5l-.94 2.06-2.06.94zm10 10l.94 2.06.94-2.06 2.06-.94-2.06-.94-.94-2.06-.94 2.06-2.06.94z\"/><path d=\"M17.41 7.96l-1.37-1.37c-.4-.4-.92-.59-1.43-.59-.52 0-1.04.2-1.43.59L10.3 9.45l-7.72 7.72c-.78.78-.78 2.05 0 2.83L4 21.41c.39.39.9.59 1.41.59.51 0 1.02-.2 1.41-.59l7.78-7.78 2.81-2.81c.8-.78.8-2.07 0-2.86zM5.41 20L4 18.59l7.72-7.72 1.47 1.35L5.41 20z\"/>\n",
              "  </svg>\n",
              "      </button>\n",
              "      \n",
              "  <style>\n",
              "    .colab-df-container {\n",
              "      display:flex;\n",
              "      flex-wrap:wrap;\n",
              "      gap: 12px;\n",
              "    }\n",
              "\n",
              "    .colab-df-convert {\n",
              "      background-color: #E8F0FE;\n",
              "      border: none;\n",
              "      border-radius: 50%;\n",
              "      cursor: pointer;\n",
              "      display: none;\n",
              "      fill: #1967D2;\n",
              "      height: 32px;\n",
              "      padding: 0 0 0 0;\n",
              "      width: 32px;\n",
              "    }\n",
              "\n",
              "    .colab-df-convert:hover {\n",
              "      background-color: #E2EBFA;\n",
              "      box-shadow: 0px 1px 2px rgba(60, 64, 67, 0.3), 0px 1px 3px 1px rgba(60, 64, 67, 0.15);\n",
              "      fill: #174EA6;\n",
              "    }\n",
              "\n",
              "    [theme=dark] .colab-df-convert {\n",
              "      background-color: #3B4455;\n",
              "      fill: #D2E3FC;\n",
              "    }\n",
              "\n",
              "    [theme=dark] .colab-df-convert:hover {\n",
              "      background-color: #434B5C;\n",
              "      box-shadow: 0px 1px 3px 1px rgba(0, 0, 0, 0.15);\n",
              "      filter: drop-shadow(0px 1px 2px rgba(0, 0, 0, 0.3));\n",
              "      fill: #FFFFFF;\n",
              "    }\n",
              "  </style>\n",
              "\n",
              "      <script>\n",
              "        const buttonEl =\n",
              "          document.querySelector('#df-5f0f4257-c2b0-4398-aeb4-5ae39276a08e button.colab-df-convert');\n",
              "        buttonEl.style.display =\n",
              "          google.colab.kernel.accessAllowed ? 'block' : 'none';\n",
              "\n",
              "        async function convertToInteractive(key) {\n",
              "          const element = document.querySelector('#df-5f0f4257-c2b0-4398-aeb4-5ae39276a08e');\n",
              "          const dataTable =\n",
              "            await google.colab.kernel.invokeFunction('convertToInteractive',\n",
              "                                                     [key], {});\n",
              "          if (!dataTable) return;\n",
              "\n",
              "          const docLinkHtml = 'Like what you see? Visit the ' +\n",
              "            '<a target=\"_blank\" href=https://colab.research.google.com/notebooks/data_table.ipynb>data table notebook</a>'\n",
              "            + ' to learn more about interactive tables.';\n",
              "          element.innerHTML = '';\n",
              "          dataTable['output_type'] = 'display_data';\n",
              "          await google.colab.output.renderOutput(dataTable, element);\n",
              "          const docLink = document.createElement('div');\n",
              "          docLink.innerHTML = docLinkHtml;\n",
              "          element.appendChild(docLink);\n",
              "        }\n",
              "      </script>\n",
              "    </div>\n",
              "  </div>\n",
              "  "
            ],
            "text/plain": [
              "                Close\n",
              "Date                 \n",
              "2018-01-02  83.800003\n",
              "2018-01-03  84.089996\n",
              "2018-01-04  85.220001\n",
              "2018-01-05  87.199997\n",
              "2018-01-08  88.470001"
            ]
          },
          "metadata": {},
          "execution_count": 7
        }
      ]
    },
    {
      "cell_type": "markdown",
      "source": [
        "## Vilualize the price of the closing price history"
      ],
      "metadata": {
        "id": "gxkV422mtMLw"
      }
    },
    {
      "cell_type": "code",
      "source": [
        "\n",
        "\n",
        "import matplotlib.pyplot as plt\n",
        "plt.figure(figsize=(16,8))\n",
        "plt.title('Close Price History')\n",
        "plt.plot(Renault_Stock_prices['Close'])\n",
        "plt.xlabel('Date',fontsize=18)\n",
        "plt.ylabel('Close Price : Currency in EUR',fontsize=18)\n",
        "plt.show()"
      ],
      "metadata": {
        "execution": {
          "iopub.status.busy": "2021-12-10T13:50:47.523408Z",
          "iopub.execute_input": "2021-12-10T13:50:47.523693Z",
          "iopub.status.idle": "2021-12-10T13:50:47.862318Z",
          "shell.execute_reply.started": "2021-12-10T13:50:47.523659Z",
          "shell.execute_reply": "2021-12-10T13:50:47.86136Z"
        },
        "trusted": true,
        "colab": {
          "base_uri": "https://localhost:8080/",
          "height": 521
        },
        "id": "SGTvQwiCtMLx",
        "outputId": "f8f3c00d-71d8-4504-f4a0-04ced7bf132b"
      },
      "execution_count": null,
      "outputs": [
        {
          "output_type": "display_data",
          "data": {
            "image/png": "[encoded data removed]",
            "text/plain": [
              "<Figure size 1152x576 with 1 Axes>"
            ]
          },
          "metadata": {
            "needs_background": "light"
          }
        }
      ]
    },
    {
      "cell_type": "markdown",
      "source": [
        "## Divide data into train and test sets"
      ],
      "metadata": {
        "id": "2k1UWhNYtMLz"
      }
    },
    {
      "cell_type": "code",
      "source": [
        "train = Renault_Stock_prices.loc[Renault_Stock_prices.index < '2021-08-01']\n",
        "test = Renault_Stock_prices.loc[Renault_Stock_prices.index >= '2021-08-01']\n"
      ],
      "metadata": {
        "execution": {
          "iopub.status.busy": "2021-12-10T15:17:14.859379Z",
          "iopub.execute_input": "2021-12-10T15:17:14.859746Z",
          "iopub.status.idle": "2021-12-10T15:17:14.867664Z",
          "shell.execute_reply.started": "2021-12-10T15:17:14.859711Z",
          "shell.execute_reply": "2021-12-10T15:17:14.866543Z"
        },
        "trusted": true,
        "id": "9NzheBE_tML0"
      },
      "execution_count": null,
      "outputs": []
    },
    {
      "cell_type": "markdown",
      "source": [
        "## Normalize training data\n",
        "To produce the best-optimized results with the models, we are required to scale the data. For this task, we are leveraging scikit-learn library’s minmax scaler for converting the input values between 0 to 1."
      ],
      "metadata": {
        "id": "2U0kHt4jtML1"
      }
    },
    {
      "cell_type": "code",
      "source": [
        "from sklearn.preprocessing import MinMaxScaler\n",
        "\n",
        "sc = MinMaxScaler(feature_range=(0,1))\n",
        "train_scaled = sc.fit_transform(train['Close'].values.reshape(-1,1))"
      ],
      "metadata": {
        "execution": {
          "iopub.status.busy": "2021-12-10T15:17:20.254479Z",
          "iopub.execute_input": "2021-12-10T15:17:20.255216Z",
          "iopub.status.idle": "2021-12-10T15:17:20.261606Z",
          "shell.execute_reply.started": "2021-12-10T15:17:20.255179Z",
          "shell.execute_reply": "2021-12-10T15:17:20.260862Z"
        },
        "trusted": true,
        "id": "guoiS2GStML2"
      },
      "execution_count": null,
      "outputs": []
    },
    {
      "cell_type": "markdown",
      "source": [
        "## Create supervised data with 12 inputs and 1 output\n",
        "We are working with a univariate series, so the number of features is one, for one variable. When we are working with LSTM’s, we need to keep the data in a specific format. Once the data is created in the form of 12 timesteps. Finally, the data is converted to a 3D dimension array, 12 timeframes, and also one feature at each step.<br><br>\n",
        "The number of time steps as input is the number we chose when preparing our dataset as an argument to the split_sequence() function.<br><br>\n",
        "The shape of the input for each sample is specified in the input_shape argument on the definition of first hidden layer.<br><br>\n",
        "We almost always have multiple samples, therefore, the model will expect the input component of training data to have the dimensions or shape: [samples, timesteps, features]."
      ],
      "metadata": {
        "id": "jxPRVer0tML3"
      }
    },
    {
      "cell_type": "code",
      "source": [
        "import numpy as np\n",
        "\n",
        "n_features = 1\n",
        "n_lag = 12\n",
        "\n",
        "X_train, y_train = split_sequence(train_scaled.ravel().tolist(),n_lag)\n",
        "\n",
        "X_train = X_train.reshape((X_train.shape[0],X_train.shape[1],n_features))"
      ],
      "metadata": {
        "execution": {
          "iopub.status.busy": "2021-12-10T15:17:26.751612Z",
          "iopub.execute_input": "2021-12-10T15:17:26.752039Z",
          "iopub.status.idle": "2021-12-10T15:17:26.761006Z",
          "shell.execute_reply.started": "2021-12-10T15:17:26.752008Z",
          "shell.execute_reply": "2021-12-10T15:17:26.759917Z"
        },
        "trusted": true,
        "id": "97Vck7A6tML6"
      },
      "execution_count": null,
      "outputs": []
    },
    {
      "cell_type": "markdown",
      "source": [
        "## Build and train Vanilla LSTM\n",
        "A Vanilla LSTM is an LSTM model that has a single hidden layer of LSTM units, and an output layer used to make a prediction. Now it’s time to build our LSTM, for this purpose we will load certain Keras modules – Sequential, Dense, LSTM, and Dropout.<br>\n",
        "We compile the model with the help of adam optimizer. The error is computed using mean_squared_error.  The model is fit using 300 epochs with a batch size of 32."
      ],
      "metadata": {
        "id": "9STHzZkStML7"
      }
    },
    {
      "cell_type": "code",
      "source": [
        "#Loading Keras LSTM and Other Modules\n",
        "from tensorflow.keras.layers import Dense, LSTM, Dropout\n",
        "from tensorflow.keras.models import Sequential\n",
        "from tensorflow.keras.optimizers import RMSprop\n",
        "\n",
        "#Building the Vanilla LSTM \n",
        "Vanilla_LSTM = Sequential()\n",
        "Vanilla_LSTM.add(LSTM(units = 50,activation='relu',input_shape=(X_train.shape[1],1)))\n",
        "Vanilla_LSTM.add(Dense(1))\n",
        "\n",
        "\n",
        "#Compile the model\n",
        "#opt = RMSprop(lr=0.0001)\n",
        "Vanilla_LSTM.compile(optimizer = 'adam', loss = 'mse')\n",
        "\n",
        "#Train the model\n",
        "Vanilla_LSTM.fit(X_train,y_train,epochs = 300,verbose=0)"
      ],
      "metadata": {
        "execution": {
          "iopub.status.busy": "2021-12-10T15:17:45.422449Z",
          "iopub.execute_input": "2021-12-10T15:17:45.423077Z",
          "iopub.status.idle": "2021-12-10T15:19:01.29907Z",
          "shell.execute_reply.started": "2021-12-10T15:17:45.422901Z",
          "shell.execute_reply": "2021-12-10T15:19:01.29838Z"
        },
        "trusted": true,
        "colab": {
          "base_uri": "https://localhost:8080/"
        },
        "id": "O9xPCSf2tML8",
        "outputId": "4d96c88b-99e7-4b19-e663-1a10ae4a2846"
      },
      "execution_count": null,
      "outputs": [
        {
          "output_type": "execute_result",
          "data": {
            "text/plain": [
              "<keras.callbacks.History at 0x7fa49c9656d0>"
            ]
          },
          "metadata": {},
          "execution_count": 13
        }
      ]
    },
    {
      "cell_type": "markdown",
      "source": [
        "## Prepare test set\n",
        "For predicting the stock prices, the test set should contain the 12 last rows of the training set. The timestep is set to 12, we also apply MinMaxScaler on the new dataset and lastly, the dataset is reshaped."
      ],
      "metadata": {
        "id": "zvcmraOOtML9"
      }
    },
    {
      "cell_type": "code",
      "source": [
        "inputs  = Renault_Stock_prices[len(Renault_Stock_prices) - len(test) - n_lag:].values\n",
        "inputs = inputs.reshape(-1,1)\n",
        "inputs = sc.transform(inputs)\n",
        "\n",
        "n_features = 1\n",
        "n_lag = 12\n",
        "\n",
        "X_test, y_test = split_sequence(inputs.ravel().tolist(),n_lag)\n",
        "\n",
        "X_test = X_test.reshape((X_test.shape[0],X_test.shape[1],n_features))"
      ],
      "metadata": {
        "execution": {
          "iopub.status.busy": "2021-12-10T15:20:09.509345Z",
          "iopub.execute_input": "2021-12-10T15:20:09.510323Z",
          "iopub.status.idle": "2021-12-10T15:20:09.517062Z",
          "shell.execute_reply.started": "2021-12-10T15:20:09.510267Z",
          "shell.execute_reply": "2021-12-10T15:20:09.516382Z"
        },
        "trusted": true,
        "id": "6H4ElGQFtML9"
      },
      "execution_count": null,
      "outputs": []
    },
    {
      "cell_type": "markdown",
      "source": [
        "## Forecast future values"
      ],
      "metadata": {
        "id": "6bHoJs-RtML-"
      }
    },
    {
      "cell_type": "code",
      "source": [
        "predict_scaled = Vanilla_LSTM.predict(X_test)\n",
        "predict = sc.inverse_transform(predict_scaled)\n",
        "\n",
        "predict = pd.DataFrame(predict)\n",
        "predict.columns = ['Dernier']\n",
        "predict.index = test.index"
      ],
      "metadata": {
        "execution": {
          "iopub.status.busy": "2021-12-10T15:31:16.172522Z",
          "iopub.execute_input": "2021-12-10T15:31:16.172869Z",
          "iopub.status.idle": "2021-12-10T15:31:16.243726Z",
          "shell.execute_reply.started": "2021-12-10T15:31:16.172834Z",
          "shell.execute_reply": "2021-12-10T15:31:16.242809Z"
        },
        "trusted": true,
        "id": "xMS85u8JtML_"
      },
      "execution_count": null,
      "outputs": []
    },
    {
      "cell_type": "markdown",
      "source": [
        "## Evaluate the model"
      ],
      "metadata": {
        "id": "Cq--n2ae3m7s"
      }
    },
    {
      "cell_type": "code",
      "source": [
        "Vanilla_LSTM.evaluate(X_test,y_test)"
      ],
      "metadata": {
        "colab": {
          "base_uri": "https://localhost:8080/"
        },
        "id": "Aeig9Vvz3rCP",
        "outputId": "b52dc292-ad22-4cb2-bc78-0d089ce6cfd1"
      },
      "execution_count": null,
      "outputs": [
        {
          "output_type": "stream",
          "name": "stdout",
          "text": [
            "3/3 [==============================] - 0s 9ms/step - loss: 6.7640e-05\n"
          ]
        },
        {
          "output_type": "execute_result",
          "data": {
            "text/plain": [
              "6.764020508853719e-05"
            ]
          },
          "metadata": {},
          "execution_count": 26
        }
      ]
    },
    {
      "cell_type": "markdown",
      "source": [
        "## Plotting the Results"
      ],
      "metadata": {
        "id": "t3iLw2xXtMMA"
      }
    },
    {
      "cell_type": "code",
      "source": [
        "import matplotlib.pyplot as plt\n",
        "\n",
        "plt.plot(test, color = 'black', label = 'Renault Stock Price')\n",
        "plt.plot(predict, color = 'green', label = 'Predicted Renault Stock Price')\n",
        "plt.title('Renault Stock Price Prediction')\n",
        "plt.xlabel('Time')\n",
        "plt.ylabel('Renault Stock Price')\n",
        "plt.legend()\n",
        "plt.show()"
      ],
      "metadata": {
        "execution": {
          "iopub.status.busy": "2021-12-10T15:35:22.25458Z",
          "iopub.execute_input": "2021-12-10T15:35:22.255296Z",
          "iopub.status.idle": "2021-12-10T15:35:22.564612Z",
          "shell.execute_reply.started": "2021-12-10T15:35:22.255222Z",
          "shell.execute_reply": "2021-12-10T15:35:22.563668Z"
        },
        "trusted": true,
        "colab": {
          "base_uri": "https://localhost:8080/",
          "height": 295
        },
        "id": "9U7E_ebvtMMA",
        "outputId": "3cabaccf-8fcb-4ae9-dcc7-c2e323a7e128"
      },
      "execution_count": null,
      "outputs": [
        {
          "output_type": "display_data",
          "data": {
            "image/png": "[encoded data removed]",
            "text/plain": [
              "<Figure size 432x288 with 1 Axes>"
            ]
          },
          "metadata": {
            "needs_background": "light"
          }
        }
      ]
    },
    {
      "cell_type": "markdown",
      "source": [
        "## Stacked LSTM \n",
        "Multiple hidden LSTM layers can be stacked one on top of another in what is referred to as a Stacked LSTM model.<br><br>\n",
        "An LSTM layer requires a three-dimensional input and LSTMs by default will produce a two-dimensional output as an interpretation from the end of the sequence.<br><br>\n",
        "We can address this by having the LSTM output a value for each time step in the input data by setting the return_sequences=True argument on the layer. This allows us to have 3D output from hidden LSTM layer as input to the next."
      ],
      "metadata": {
        "id": "h2apAIIftMMB"
      }
    },
    {
      "cell_type": "code",
      "source": [
        "#Loading Keras LSTM and Other Modules\n",
        "from tensorflow.keras.layers import Dense, LSTM, Dropout\n",
        "from tensorflow.keras.models import Sequential\n",
        "from tensorflow.keras.optimizers import RMSprop\n",
        "\n",
        "#Building the Vanilla LSTM \n",
        "STACKED_LSTM = Sequential()\n",
        "STACKED_LSTM.add(LSTM(units = 50,activation='relu',input_shape=(X_train.shape[1],1),return_sequences=True))\n",
        "STACKED_LSTM.add(LSTM(units = 50,activation='relu'))\n",
        "STACKED_LSTM.add(Dense(1))\n",
        "\n",
        "\n",
        "#Compile the model\n",
        "opt = RMSprop(lr=0.0001)\n",
        "STACKED_LSTM.compile(optimizer = 'adam', loss = 'mse')\n",
        "\n",
        "#Fit STACKED_LSTM                 \n",
        "STACKED_LSTM.fit(X_train,y_train,epochs = 300,verbose=0)"
      ],
      "metadata": {
        "execution": {
          "iopub.status.busy": "2021-12-10T15:44:37.17039Z",
          "iopub.execute_input": "2021-12-10T15:44:37.171025Z",
          "iopub.status.idle": "2021-12-10T15:47:04.334327Z",
          "shell.execute_reply.started": "2021-12-10T15:44:37.170985Z",
          "shell.execute_reply": "2021-12-10T15:47:04.333414Z"
        },
        "trusted": true,
        "colab": {
          "base_uri": "https://localhost:8080/"
        },
        "id": "Z1Wpew7OtMMC",
        "outputId": "a42dedcb-a724-400a-8042-c6539a159d45"
      },
      "execution_count": null,
      "outputs": [
        {
          "output_type": "stream",
          "name": "stderr",
          "text": [
            "/usr/local/lib/python3.7/dist-packages/keras/optimizer_v2/rmsprop.py:130: UserWarning: The `lr` argument is deprecated, use `learning_rate` instead.\n",
            "  super(RMSprop, self).__init__(name, **kwargs)\n"
          ]
        },
        {
          "output_type": "execute_result",
          "data": {
            "text/plain": [
              "<keras.callbacks.History at 0x7fa49c5715d0>"
            ]
          },
          "metadata": {},
          "execution_count": 17
        }
      ]
    },
    {
      "cell_type": "markdown",
      "source": [
        "We evaluate the model:"
      ],
      "metadata": {
        "id": "NTsRo10W3P30"
      }
    },
    {
      "cell_type": "code",
      "source": [
        "STACKED_LSTM.evaluate(X_test,y_test)"
      ],
      "metadata": {
        "colab": {
          "base_uri": "https://localhost:8080/"
        },
        "id": "2xqd7uc-3V3k",
        "outputId": "2bcb8cb7-adff-43f1-e610-f9cfb3c9045f"
      },
      "execution_count": null,
      "outputs": [
        {
          "output_type": "stream",
          "name": "stdout",
          "text": [
            "3/3 [==============================] - 1s 8ms/step - loss: 8.1907e-05\n"
          ]
        },
        {
          "output_type": "execute_result",
          "data": {
            "text/plain": [
              "8.190675725927576e-05"
            ]
          },
          "metadata": {},
          "execution_count": 25
        }
      ]
    },
    {
      "cell_type": "markdown",
      "source": [
        "We forecast future values and plotting the Results"
      ],
      "metadata": {
        "id": "ZIggrVAItMMC"
      }
    },
    {
      "cell_type": "code",
      "source": [
        "predict_scaled = STACKED_LSTM.predict(X_test)\n",
        "predict = sc.inverse_transform(predict_scaled)\n",
        "\n",
        "predict = pd.DataFrame(predict)\n",
        "predict.columns = ['Dernier']\n",
        "predict.index = test.index\n",
        "\n",
        "import matplotlib.pyplot as plt\n",
        "\n",
        "plt.plot(test, color = 'black', label = 'Renault Stock Price')\n",
        "plt.plot(predict, color = 'green', label = 'Predicted Renault Stock Price')\n",
        "plt.title('Renault Stock Price Prediction')\n",
        "plt.xlabel('Time')\n",
        "plt.ylabel('Renault Stock Price')\n",
        "plt.legend()\n",
        "plt.show()"
      ],
      "metadata": {
        "execution": {
          "iopub.status.busy": "2021-12-10T15:52:22.630414Z",
          "iopub.execute_input": "2021-12-10T15:52:22.630976Z",
          "iopub.status.idle": "2021-12-10T15:52:23.321608Z",
          "shell.execute_reply.started": "2021-12-10T15:52:22.630937Z",
          "shell.execute_reply": "2021-12-10T15:52:23.320545Z"
        },
        "trusted": true,
        "colab": {
          "base_uri": "https://localhost:8080/",
          "height": 295
        },
        "id": "qKJ2kN7KtMMD",
        "outputId": "3bd850ef-9b0a-4afd-f080-db2760121ecf"
      },
      "execution_count": null,
      "outputs": [
        {
          "output_type": "display_data",
          "data": {
            "image/png": "[encoded data removed]",
            "text/plain": [
              "<Figure size 432x288 with 1 Axes>"
            ]
          },
          "metadata": {
            "needs_background": "light"
          }
        }
      ]
    },
    {
      "cell_type": "markdown",
      "source": [
        "## CNN Model\n",
        "\n",
        "A one-dimensional CNN is a CNN model that has a convolutional hidden layer that operates over a 1D sequence. This is followed by perhaps a second convolutional layer in some cases, such as very long input sequences, and then a pooling layer whose job it is to distill the output of the convolutional layer to the most salient elements.<br><br>\n",
        "The convolutional and pooling layers are followed by a dense fully connected layer that interprets the features extracted by the convolutional part of the model. A flatten layer is used between the convolutional layers and the dense layer to reduce the feature maps to a single one-dimensional vector.<br><br>\n",
        "We can define a 1D CNN Model for univariate time series forecasting as follows."
      ],
      "metadata": {
        "id": "e5xx-2_qtMME"
      }
    },
    {
      "cell_type": "code",
      "source": [
        "\n",
        "from tensorflow.keras.layers import Dense, Conv1D, MaxPooling1D, Flatten\n",
        "from tensorflow.keras.models import Sequential\n",
        "\n",
        "\n",
        "#Building the CNN model \n",
        "CNN_MODEL = Sequential()\n",
        "CNN_MODEL.add(Conv1D(filters=64,kernel_size=2,activation='relu',input_shape=(X_train.shape[1],1)))\n",
        "CNN_MODEL.add(MaxPooling1D(pool_size=2))\n",
        "CNN_MODEL.add(Flatten())\n",
        "CNN_MODEL.add(Dense(50,activation='relu'))\n",
        "CNN_MODEL.add(Dense(1))\n",
        "\n",
        "#Compile the model\n",
        "CNN_MODEL.compile(optimizer = 'adam', loss = 'mse')\n",
        "\n",
        "#Train the model\n",
        "CNN_MODEL.fit(X_train,y_train,epochs = 1000,verbose=0,validation_split=0.1)"
      ],
      "metadata": {
        "execution": {
          "iopub.status.busy": "2021-12-10T16:15:07.237395Z",
          "iopub.execute_input": "2021-12-10T16:15:07.23773Z",
          "iopub.status.idle": "2021-12-10T16:16:37.921823Z",
          "shell.execute_reply.started": "2021-12-10T16:15:07.237697Z",
          "shell.execute_reply": "2021-12-10T16:16:37.920749Z"
        },
        "trusted": true,
        "colab": {
          "base_uri": "https://localhost:8080/"
        },
        "id": "DR0alQjXtMMF",
        "outputId": "7e8fc196-3bb1-42b3-e6de-13948a315b17"
      },
      "execution_count": null,
      "outputs": [
        {
          "output_type": "execute_result",
          "data": {
            "text/plain": [
              "<keras.callbacks.History at 0x7fa497b9e990>"
            ]
          },
          "metadata": {},
          "execution_count": 22
        }
      ]
    },
    {
      "cell_type": "code",
      "source": [
        "CNN_MODEL.evaluate(X_test,y_test)"
      ],
      "metadata": {
        "colab": {
          "base_uri": "https://localhost:8080/"
        },
        "id": "gi-jtOq03D_3",
        "outputId": "6ffa7a55-c94e-43be-a76d-bdb7d2331bf9"
      },
      "execution_count": null,
      "outputs": [
        {
          "output_type": "stream",
          "name": "stdout",
          "text": [
            "3/3 [==============================] - 0s 6ms/step - loss: 1.8193e-04\n"
          ]
        },
        {
          "output_type": "execute_result",
          "data": {
            "text/plain": [
              "0.00018193406867794693"
            ]
          },
          "metadata": {},
          "execution_count": 24
        }
      ]
    },
    {
      "cell_type": "markdown",
      "source": [
        "We forecast future values and plotting the Results"
      ],
      "metadata": {
        "id": "o2zLMPGryo8U"
      }
    },
    {
      "cell_type": "code",
      "source": [
        "predict_scaled = CNN_MODEL.predict(X_test)\n",
        "predict = sc.inverse_transform(predict_scaled)\n",
        "\n",
        "predict = pd.DataFrame(predict)\n",
        "predict.columns = ['Dernier']\n",
        "predict.index = test.index\n",
        "\n",
        "import matplotlib.pyplot as plt\n",
        "\n",
        "plt.plot(test, color = 'black', label = 'Renault Stock Price')\n",
        "plt.plot(predict, color = 'green', label = 'Predicted Renault Stock Price')\n",
        "plt.title('Renault Stock Price Prediction')\n",
        "plt.xlabel('Time')\n",
        "plt.ylabel('Renault Stock Price')\n",
        "plt.legend()\n",
        "plt.show()"
      ],
      "metadata": {
        "execution": {
          "iopub.status.busy": "2021-12-10T16:23:08.748545Z",
          "iopub.execute_input": "2021-12-10T16:23:08.74891Z",
          "iopub.status.idle": "2021-12-10T16:23:09.195183Z",
          "shell.execute_reply.started": "2021-12-10T16:23:08.748878Z",
          "shell.execute_reply": "2021-12-10T16:23:09.194268Z"
        },
        "trusted": true,
        "colab": {
          "base_uri": "https://localhost:8080/",
          "height": 295
        },
        "id": "2XY5v6YetMMG",
        "outputId": "3b39eb97-5548-41bf-dec6-2e984eec705d"
      },
      "execution_count": null,
      "outputs": [
        {
          "output_type": "display_data",
          "data": {
            "image/png": "[encoded data removed]",
            "text/plain": [
              "<Figure size 432x288 with 1 Axes>"
            ]
          },
          "metadata": {
            "needs_background": "light"
          }
        }
      ]
    },
    {
      "cell_type": "markdown",
      "source": [
        "# Exercise : Next week stock price prediction\n",
        "Before, to start this assignment, I recommend you read the above example.<br><br>\n",
        "The example in this notebook shows you how to design, use deep learning models to predict the stock price the next day. We mainly use LSTM and CNN.<br><br>\n",
        "\n",
        "We evaluate these models over a test set. We also plot our predicted Stock Price and the Stock price together to have an idea of how well are our model.<br>\n",
        "\n",
        "**The goal of this exercise is to build models that predict stock price the next week**. In this exercice, you have to : \n",
        "* build deep learning models\n",
        "* Try a model that is not in the field of deep learning like arima.\n",
        "* Improve the way to  check the efficacity of the models\n",
        "* compare the models you will build \n",
        "\n",
        "The dataset for this exercie could be \n",
        "* the one we use in this notebook\n",
        "* Another daily stock price dataset from a company of your interested \n",
        "\n",
        "In the cell below, we show you a way to load the stock price from tesla with the yahoo finance package. You can also follow the following link to have an access to the tesla data:\n",
        "https://fr.finance.yahoo.com/quote/TSLA/history?p=TSLA\n",
        "\n"
      ],
      "metadata": {
        "id": "H3UvIXdn2xyI"
      }
    },
    {
      "cell_type": "code",
      "source": [
        "!pip install yfinance\n",
        "import yfinance as yf\n",
        "tickers=['TSLA'] \n",
        "data = yf.download(tickers[0]) "
      ],
      "metadata": {
        "colab": {
          "base_uri": "https://localhost:8080/"
        },
        "id": "bhUSrzWP22V6",
        "outputId": "fe04858b-e9b5-46ec-b254-4b5714b6f026"
      },
      "execution_count": null,
      "outputs": [
        {
          "output_type": "stream",
          "name": "stdout",
          "text": [
            "Collecting yfinance\n",
            "  Downloading yfinance-0.1.67-py2.py3-none-any.whl (25 kB)\n",
            "Requirement already satisfied: pandas>=0.24 in /usr/local/lib/python3.7/dist-packages (from yfinance) (1.1.5)\n",
            "Requirement already satisfied: numpy>=1.15 in /usr/local/lib/python3.7/dist-packages (from yfinance) (1.19.5)\n",
            "Requirement already satisfied: requests>=2.20 in /usr/local/lib/python3.7/dist-packages (from yfinance) (2.23.0)\n",
            "Requirement already satisfied: multitasking>=0.0.7 in /usr/local/lib/python3.7/dist-packages (from yfinance) (0.0.10)\n",
            "Collecting lxml>=4.5.1\n",
            "  Downloading lxml-4.7.1-cp37-cp37m-manylinux_2_17_x86_64.manylinux2014_x86_64.manylinux_2_24_x86_64.whl (6.4 MB)\n",
            "\u001b[K     |████████████████████████████████| 6.4 MB 7.6 MB/s \n",
            "\u001b[?25hRequirement already satisfied: python-dateutil>=2.7.3 in /usr/local/lib/python3.7/dist-packages (from pandas>=0.24->yfinance) (2.8.2)\n",
            "Requirement already satisfied: pytz>=2017.2 in /usr/local/lib/python3.7/dist-packages (from pandas>=0.24->yfinance) (2018.9)\n",
            "Requirement already satisfied: six>=1.5 in /usr/local/lib/python3.7/dist-packages (from python-dateutil>=2.7.3->pandas>=0.24->yfinance) (1.15.0)\n",
            "Requirement already satisfied: urllib3!=1.25.0,!=1.25.1,<1.26,>=1.21.1 in /usr/local/lib/python3.7/dist-packages (from requests>=2.20->yfinance) (1.24.3)\n",
            "Requirement already satisfied: idna<3,>=2.5 in /usr/local/lib/python3.7/dist-packages (from requests>=2.20->yfinance) (2.10)\n",
            "Requirement already satisfied: certifi>=2017.4.17 in /usr/local/lib/python3.7/dist-packages (from requests>=2.20->yfinance) (2021.10.8)\n",
            "Requirement already satisfied: chardet<4,>=3.0.2 in /usr/local/lib/python3.7/dist-packages (from requests>=2.20->yfinance) (3.0.4)\n",
            "Installing collected packages: lxml, yfinance\n",
            "  Attempting uninstall: lxml\n",
            "    Found existing installation: lxml 4.2.6\n",
            "    Uninstalling lxml-4.2.6:\n",
            "      Successfully uninstalled lxml-4.2.6\n",
            "Successfully installed lxml-4.7.1 yfinance-0.1.67\n",
            "[*********************100%***********************]  1 of 1 completed\n"
          ]
        }
      ]
    },
    {
      "cell_type": "code",
      "source": [
        "data.head()"
      ],
      "metadata": {
        "colab": {
          "base_uri": "https://localhost:8080/",
          "height": 236
        },
        "id": "mNJcNW94Ayt6",
        "outputId": "6cf95475-e0b5-4fc3-b4b2-b7ebb9cb51a6"
      },
      "execution_count": null,
      "outputs": [
        {
          "output_type": "execute_result",
          "data": {
            "text/html": [
              "\n",
              "  <div id=\"df-1629bb83-ecd6-43b8-bc1d-6ae85d2de2ce\">\n",
              "    <div class=\"colab-df-container\">\n",
              "      <div>\n",
              "<style scoped>\n",
              "    .dataframe tbody tr th:only-of-type {\n",
              "        vertical-align: middle;\n",
              "    }\n",
              "\n",
              "    .dataframe tbody tr th {\n",
              "        vertical-align: top;\n",
              "    }\n",
              "\n",
              "    .dataframe thead th {\n",
              "        text-align: right;\n",
              "    }\n",
              "</style>\n",
              "<table border=\"1\" class=\"dataframe\">\n",
              "  <thead>\n",
              "    <tr style=\"text-align: right;\">\n",
              "      <th></th>\n",
              "      <th>Open</th>\n",
              "      <th>High</th>\n",
              "      <th>Low</th>\n",
              "      <th>Close</th>\n",
              "      <th>Adj Close</th>\n",
              "      <th>Volume</th>\n",
              "    </tr>\n",
              "    <tr>\n",
              "      <th>Date</th>\n",
              "      <th></th>\n",
              "      <th></th>\n",
              "      <th></th>\n",
              "      <th></th>\n",
              "      <th></th>\n",
              "      <th></th>\n",
              "    </tr>\n",
              "  </thead>\n",
              "  <tbody>\n",
              "    <tr>\n",
              "      <th>2010-06-29</th>\n",
              "      <td>3.800</td>\n",
              "      <td>5.000</td>\n",
              "      <td>3.508</td>\n",
              "      <td>4.778</td>\n",
              "      <td>4.778</td>\n",
              "      <td>93831500</td>\n",
              "    </tr>\n",
              "    <tr>\n",
              "      <th>2010-06-30</th>\n",
              "      <td>5.158</td>\n",
              "      <td>6.084</td>\n",
              "      <td>4.660</td>\n",
              "      <td>4.766</td>\n",
              "      <td>4.766</td>\n",
              "      <td>85935500</td>\n",
              "    </tr>\n",
              "    <tr>\n",
              "      <th>2010-07-01</th>\n",
              "      <td>5.000</td>\n",
              "      <td>5.184</td>\n",
              "      <td>4.054</td>\n",
              "      <td>4.392</td>\n",
              "      <td>4.392</td>\n",
              "      <td>41094000</td>\n",
              "    </tr>\n",
              "    <tr>\n",
              "      <th>2010-07-02</th>\n",
              "      <td>4.600</td>\n",
              "      <td>4.620</td>\n",
              "      <td>3.742</td>\n",
              "      <td>3.840</td>\n",
              "      <td>3.840</td>\n",
              "      <td>25699000</td>\n",
              "    </tr>\n",
              "    <tr>\n",
              "      <th>2010-07-06</th>\n",
              "      <td>4.000</td>\n",
              "      <td>4.000</td>\n",
              "      <td>3.166</td>\n",
              "      <td>3.222</td>\n",
              "      <td>3.222</td>\n",
              "      <td>34334500</td>\n",
              "    </tr>\n",
              "  </tbody>\n",
              "</table>\n",
              "</div>\n",
              "      <button class=\"colab-df-convert\" onclick=\"convertToInteractive('df-1629bb83-ecd6-43b8-bc1d-6ae85d2de2ce')\"\n",
              "              title=\"Convert this dataframe to an interactive table.\"\n",
              "              style=\"display:none;\">\n",
              "        \n",
              "  <svg xmlns=\"http://www.w3.org/2000/svg\" height=\"24px\"viewBox=\"0 0 24 24\"\n",
              "       width=\"24px\">\n",
              "    <path d=\"M0 0h24v24H0V0z\" fill=\"none\"/>\n",
              "    <path d=\"M18.56 5.44l.94 2.06.94-2.06 2.06-.94-2.06-.94-.94-2.06-.94 2.06-2.06.94zm-11 1L8.5 8.5l.94-2.06 2.06-.94-2.06-.94L8.5 2.5l-.94 2.06-2.06.94zm10 10l.94 2.06.94-2.06 2.06-.94-2.06-.94-.94-2.06-.94 2.06-2.06.94z\"/><path d=\"M17.41 7.96l-1.37-1.37c-.4-.4-.92-.59-1.43-.59-.52 0-1.04.2-1.43.59L10.3 9.45l-7.72 7.72c-.78.78-.78 2.05 0 2.83L4 21.41c.39.39.9.59 1.41.59.51 0 1.02-.2 1.41-.59l7.78-7.78 2.81-2.81c.8-.78.8-2.07 0-2.86zM5.41 20L4 18.59l7.72-7.72 1.47 1.35L5.41 20z\"/>\n",
              "  </svg>\n",
              "      </button>\n",
              "      \n",
              "  <style>\n",
              "    .colab-df-container {\n",
              "      display:flex;\n",
              "      flex-wrap:wrap;\n",
              "      gap: 12px;\n",
              "    }\n",
              "\n",
              "    .colab-df-convert {\n",
              "      background-color: #E8F0FE;\n",
              "      border: none;\n",
              "      border-radius: 50%;\n",
              "      cursor: pointer;\n",
              "      display: none;\n",
              "      fill: #1967D2;\n",
              "      height: 32px;\n",
              "      padding: 0 0 0 0;\n",
              "      width: 32px;\n",
              "    }\n",
              "\n",
              "    .colab-df-convert:hover {\n",
              "      background-color: #E2EBFA;\n",
              "      box-shadow: 0px 1px 2px rgba(60, 64, 67, 0.3), 0px 1px 3px 1px rgba(60, 64, 67, 0.15);\n",
              "      fill: #174EA6;\n",
              "    }\n",
              "\n",
              "    [theme=dark] .colab-df-convert {\n",
              "      background-color: #3B4455;\n",
              "      fill: #D2E3FC;\n",
              "    }\n",
              "\n",
              "    [theme=dark] .colab-df-convert:hover {\n",
              "      background-color: #434B5C;\n",
              "      box-shadow: 0px 1px 3px 1px rgba(0, 0, 0, 0.15);\n",
              "      filter: drop-shadow(0px 1px 2px rgba(0, 0, 0, 0.3));\n",
              "      fill: #FFFFFF;\n",
              "    }\n",
              "  </style>\n",
              "\n",
              "      <script>\n",
              "        const buttonEl =\n",
              "          document.querySelector('#df-1629bb83-ecd6-43b8-bc1d-6ae85d2de2ce button.colab-df-convert');\n",
              "        buttonEl.style.display =\n",
              "          google.colab.kernel.accessAllowed ? 'block' : 'none';\n",
              "\n",
              "        async function convertToInteractive(key) {\n",
              "          const element = document.querySelector('#df-1629bb83-ecd6-43b8-bc1d-6ae85d2de2ce');\n",
              "          const dataTable =\n",
              "            await google.colab.kernel.invokeFunction('convertToInteractive',\n",
              "                                                     [key], {});\n",
              "          if (!dataTable) return;\n",
              "\n",
              "          const docLinkHtml = 'Like what you see? Visit the ' +\n",
              "            '<a target=\"_blank\" href=https://colab.research.google.com/notebooks/data_table.ipynb>data table notebook</a>'\n",
              "            + ' to learn more about interactive tables.';\n",
              "          element.innerHTML = '';\n",
              "          dataTable['output_type'] = 'display_data';\n",
              "          await google.colab.output.renderOutput(dataTable, element);\n",
              "          const docLink = document.createElement('div');\n",
              "          docLink.innerHTML = docLinkHtml;\n",
              "          element.appendChild(docLink);\n",
              "        }\n",
              "      </script>\n",
              "    </div>\n",
              "  </div>\n",
              "  "
            ],
            "text/plain": [
              "             Open   High    Low  Close  Adj Close    Volume\n",
              "Date                                                       \n",
              "2010-06-29  3.800  5.000  3.508  4.778      4.778  93831500\n",
              "2010-06-30  5.158  6.084  4.660  4.766      4.766  85935500\n",
              "2010-07-01  5.000  5.184  4.054  4.392      4.392  41094000\n",
              "2010-07-02  4.600  4.620  3.742  3.840      3.840  25699000\n",
              "2010-07-06  4.000  4.000  3.166  3.222      3.222  34334500"
            ]
          },
          "metadata": {},
          "execution_count": 28
        }
      ]
    },
    {
      "cell_type": "code",
      "source": [
        ""
      ],
      "metadata": {
        "id": "g_bGHwg3BAhp"
      },
      "execution_count": null,
      "outputs": []
    }
  ]
}