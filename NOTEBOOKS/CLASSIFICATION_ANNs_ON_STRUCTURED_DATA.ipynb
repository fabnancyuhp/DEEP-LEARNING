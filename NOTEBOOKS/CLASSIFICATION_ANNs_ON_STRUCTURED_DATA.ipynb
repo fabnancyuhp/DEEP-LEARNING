{
  "metadata": {
    "kernelspec": {
      "language": "python",
      "display_name": "Python 3",
      "name": "python3"
    },
    "language_info": {
      "name": "python",
      "version": "3.7.9",
      "mimetype": "text/x-python",
      "codemirror_mode": {
        "name": "ipython",
        "version": 3
      },
      "pygments_lexer": "ipython3",
      "nbconvert_exporter": "python",
      "file_extension": ".py"
    },
    "colab": {
      "name": "CLASSIFICATION ANNs ON STRUCTURED DATA.ipynb",
      "provenance": [],
      "include_colab_link": true
    }
  },
  "nbformat_minor": 0,
  "nbformat": 4,
  "cells": [
    {
      "cell_type": "markdown",
      "metadata": {
        "id": "view-in-github",
        "colab_type": "text"
      },
      "source": [
        "<a href=\"https://colab.research.google.com/github/fabnancyuhp/DEEP-LEARNING/blob/main/NOTEBOOKS/CLASSIFICATION_ANNs_ON_STRUCTURED_DATA.ipynb\" target=\"_parent\"><img src=\"https://colab.research.google.com/assets/colab-badge.svg\" alt=\"Open In Colab\"/></a>"
      ]
    },
    {
      "cell_type": "markdown",
      "source": [
        "# Example : IRIS DATA\n",
        "The Iris flower data set or Fisher's Iris data set is a multivariate data set introduced by the British statistician and biologist Ronald Fisher in his 1936 paper The use of multiple measurements in taxonomic problems as an example of linear discriminant analysis.<br>\n",
        "The data set consists of 150 samples from each of three species of Iris (Iris setosa, Iris virginica and Iris versicolor). Four features were measured from each sample: the length and the width of the sepals and petals, in centimeters. \n",
        "\n"
      ],
      "metadata": {
        "execution": {
          "iopub.status.busy": "2021-08-08T15:54:30.558608Z",
          "iopub.execute_input": "2021-08-08T15:54:30.559428Z",
          "iopub.status.idle": "2021-08-08T15:54:30.566447Z",
          "shell.execute_reply.started": "2021-08-08T15:54:30.559378Z",
          "shell.execute_reply": "2021-08-08T15:54:30.565291Z"
        },
        "id": "sLQpdia3OBGN"
      }
    },
    {
      "cell_type": "code",
      "source": [
        "import pandas as pd\n",
        "iris = pd.read_csv(\"https://raw.githubusercontent.com/fabnancyuhp/DEEP-LEARNING/main/DATA/Iris.csv\")\n",
        "\n",
        "iris = iris[['SepalLengthCm', 'SepalWidthCm', 'PetalLengthCm', 'PetalWidthCm', 'Species']]\n",
        "iris.head(3)"
      ],
      "metadata": {
        "execution": {
          "iopub.status.busy": "2021-08-24T07:00:47.706346Z",
          "iopub.execute_input": "2021-08-24T07:00:47.706729Z",
          "iopub.status.idle": "2021-08-24T07:00:47.952945Z",
          "shell.execute_reply.started": "2021-08-24T07:00:47.706683Z",
          "shell.execute_reply": "2021-08-24T07:00:47.951795Z"
        },
        "trusted": true,
        "colab": {
          "base_uri": "https://localhost:8080/",
          "height": 143
        },
        "id": "lNPDlk4tOBGO",
        "outputId": "31881398-1e19-4a64-d154-5296a38bf440"
      },
      "execution_count": 1,
      "outputs": [
        {
          "output_type": "execute_result",
          "data": {
            "text/plain": [
              "   SepalLengthCm  SepalWidthCm  PetalLengthCm  PetalWidthCm      Species\n",
              "0            5.1           3.5            1.4           0.2  Iris-setosa\n",
              "1            4.9           3.0            1.4           0.2  Iris-setosa\n",
              "2            4.7           3.2            1.3           0.2  Iris-setosa"
            ],
            "text/html": [
              "\n",
              "  <div id=\"df-30209c95-3098-4548-aab8-de7e48b276fd\">\n",
              "    <div class=\"colab-df-container\">\n",
              "      <div>\n",
              "<style scoped>\n",
              "    .dataframe tbody tr th:only-of-type {\n",
              "        vertical-align: middle;\n",
              "    }\n",
              "\n",
              "    .dataframe tbody tr th {\n",
              "        vertical-align: top;\n",
              "    }\n",
              "\n",
              "    .dataframe thead th {\n",
              "        text-align: right;\n",
              "    }\n",
              "</style>\n",
              "<table border=\"1\" class=\"dataframe\">\n",
              "  <thead>\n",
              "    <tr style=\"text-align: right;\">\n",
              "      <th></th>\n",
              "      <th>SepalLengthCm</th>\n",
              "      <th>SepalWidthCm</th>\n",
              "      <th>PetalLengthCm</th>\n",
              "      <th>PetalWidthCm</th>\n",
              "      <th>Species</th>\n",
              "    </tr>\n",
              "  </thead>\n",
              "  <tbody>\n",
              "    <tr>\n",
              "      <th>0</th>\n",
              "      <td>5.1</td>\n",
              "      <td>3.5</td>\n",
              "      <td>1.4</td>\n",
              "      <td>0.2</td>\n",
              "      <td>Iris-setosa</td>\n",
              "    </tr>\n",
              "    <tr>\n",
              "      <th>1</th>\n",
              "      <td>4.9</td>\n",
              "      <td>3.0</td>\n",
              "      <td>1.4</td>\n",
              "      <td>0.2</td>\n",
              "      <td>Iris-setosa</td>\n",
              "    </tr>\n",
              "    <tr>\n",
              "      <th>2</th>\n",
              "      <td>4.7</td>\n",
              "      <td>3.2</td>\n",
              "      <td>1.3</td>\n",
              "      <td>0.2</td>\n",
              "      <td>Iris-setosa</td>\n",
              "    </tr>\n",
              "  </tbody>\n",
              "</table>\n",
              "</div>\n",
              "      <button class=\"colab-df-convert\" onclick=\"convertToInteractive('df-30209c95-3098-4548-aab8-de7e48b276fd')\"\n",
              "              title=\"Convert this dataframe to an interactive table.\"\n",
              "              style=\"display:none;\">\n",
              "        \n",
              "  <svg xmlns=\"http://www.w3.org/2000/svg\" height=\"24px\"viewBox=\"0 0 24 24\"\n",
              "       width=\"24px\">\n",
              "    <path d=\"M0 0h24v24H0V0z\" fill=\"none\"/>\n",
              "    <path d=\"M18.56 5.44l.94 2.06.94-2.06 2.06-.94-2.06-.94-.94-2.06-.94 2.06-2.06.94zm-11 1L8.5 8.5l.94-2.06 2.06-.94-2.06-.94L8.5 2.5l-.94 2.06-2.06.94zm10 10l.94 2.06.94-2.06 2.06-.94-2.06-.94-.94-2.06-.94 2.06-2.06.94z\"/><path d=\"M17.41 7.96l-1.37-1.37c-.4-.4-.92-.59-1.43-.59-.52 0-1.04.2-1.43.59L10.3 9.45l-7.72 7.72c-.78.78-.78 2.05 0 2.83L4 21.41c.39.39.9.59 1.41.59.51 0 1.02-.2 1.41-.59l7.78-7.78 2.81-2.81c.8-.78.8-2.07 0-2.86zM5.41 20L4 18.59l7.72-7.72 1.47 1.35L5.41 20z\"/>\n",
              "  </svg>\n",
              "      </button>\n",
              "      \n",
              "  <style>\n",
              "    .colab-df-container {\n",
              "      display:flex;\n",
              "      flex-wrap:wrap;\n",
              "      gap: 12px;\n",
              "    }\n",
              "\n",
              "    .colab-df-convert {\n",
              "      background-color: #E8F0FE;\n",
              "      border: none;\n",
              "      border-radius: 50%;\n",
              "      cursor: pointer;\n",
              "      display: none;\n",
              "      fill: #1967D2;\n",
              "      height: 32px;\n",
              "      padding: 0 0 0 0;\n",
              "      width: 32px;\n",
              "    }\n",
              "\n",
              "    .colab-df-convert:hover {\n",
              "      background-color: #E2EBFA;\n",
              "      box-shadow: 0px 1px 2px rgba(60, 64, 67, 0.3), 0px 1px 3px 1px rgba(60, 64, 67, 0.15);\n",
              "      fill: #174EA6;\n",
              "    }\n",
              "\n",
              "    [theme=dark] .colab-df-convert {\n",
              "      background-color: #3B4455;\n",
              "      fill: #D2E3FC;\n",
              "    }\n",
              "\n",
              "    [theme=dark] .colab-df-convert:hover {\n",
              "      background-color: #434B5C;\n",
              "      box-shadow: 0px 1px 3px 1px rgba(0, 0, 0, 0.15);\n",
              "      filter: drop-shadow(0px 1px 2px rgba(0, 0, 0, 0.3));\n",
              "      fill: #FFFFFF;\n",
              "    }\n",
              "  </style>\n",
              "\n",
              "      <script>\n",
              "        const buttonEl =\n",
              "          document.querySelector('#df-30209c95-3098-4548-aab8-de7e48b276fd button.colab-df-convert');\n",
              "        buttonEl.style.display =\n",
              "          google.colab.kernel.accessAllowed ? 'block' : 'none';\n",
              "\n",
              "        async function convertToInteractive(key) {\n",
              "          const element = document.querySelector('#df-30209c95-3098-4548-aab8-de7e48b276fd');\n",
              "          const dataTable =\n",
              "            await google.colab.kernel.invokeFunction('convertToInteractive',\n",
              "                                                     [key], {});\n",
              "          if (!dataTable) return;\n",
              "\n",
              "          const docLinkHtml = 'Like what you see? Visit the ' +\n",
              "            '<a target=\"_blank\" href=https://colab.research.google.com/notebooks/data_table.ipynb>data table notebook</a>'\n",
              "            + ' to learn more about interactive tables.';\n",
              "          element.innerHTML = '';\n",
              "          dataTable['output_type'] = 'display_data';\n",
              "          await google.colab.output.renderOutput(dataTable, element);\n",
              "          const docLink = document.createElement('div');\n",
              "          docLink.innerHTML = docLinkHtml;\n",
              "          element.appendChild(docLink);\n",
              "        }\n",
              "      </script>\n",
              "    </div>\n",
              "  </div>\n",
              "  "
            ]
          },
          "metadata": {},
          "execution_count": 1
        }
      ]
    },
    {
      "cell_type": "markdown",
      "source": [
        "The goal of the neural network, we are going to create is to predict the class of the Iris flower based on other attributes. Meaning it needs to create a model, which is going to describe a relationship between attribute values and the class.<br><br>\n",
        "Now we can extract the features values and the targets."
      ],
      "metadata": {
        "id": "6cYcOBFX7bRP"
      }
    },
    {
      "cell_type": "markdown",
      "source": [
        "## Data preprocessing\n",
        "First, we split the dataset into feature values and target values:\n",
        "* X are the feature values\n",
        "* Y are the target values"
      ],
      "metadata": {
        "id": "ghFGk8VQ_Wcl"
      }
    },
    {
      "cell_type": "code",
      "source": [
        "X = iris[['SepalLengthCm','SepalWidthCm','PetalLengthCm','PetalWidthCm']]\n",
        "Y = iris[['Species']]"
      ],
      "metadata": {
        "execution": {
          "iopub.status.busy": "2021-08-24T07:00:53.973482Z",
          "iopub.execute_input": "2021-08-24T07:00:53.97382Z",
          "iopub.status.idle": "2021-08-24T07:00:53.985291Z",
          "shell.execute_reply.started": "2021-08-24T07:00:53.973791Z",
          "shell.execute_reply": "2021-08-24T07:00:53.984264Z"
        },
        "trusted": true,
        "id": "UuGrWU7rOBGO"
      },
      "execution_count": 2,
      "outputs": []
    },
    {
      "cell_type": "markdown",
      "source": [
        "We display the distinct species:"
      ],
      "metadata": {
        "id": "EqcGc-JfAPW9"
      }
    },
    {
      "cell_type": "code",
      "source": [
        "Y['Species'].unique()"
      ],
      "metadata": {
        "colab": {
          "base_uri": "https://localhost:8080/"
        },
        "id": "NJSFiJnQAVQH",
        "outputId": "51991cca-0bbf-4100-9af5-2f53ec36af09"
      },
      "execution_count": 3,
      "outputs": [
        {
          "output_type": "execute_result",
          "data": {
            "text/plain": [
              "array(['Iris-setosa', 'Iris-versicolor', 'Iris-virginica'], dtype=object)"
            ]
          },
          "metadata": {},
          "execution_count": 3
        }
      ]
    },
    {
      "cell_type": "markdown",
      "source": [
        "We have to encode the species using LabelEncoder from sklearn."
      ],
      "metadata": {
        "id": "MH5OEWe5A1bJ"
      }
    },
    {
      "cell_type": "code",
      "source": [
        "from sklearn import preprocessing\n",
        "le = preprocessing.LabelEncoder()\n",
        "le.fit(Y['Species'].unique())\n",
        "\n",
        "Y_encode = le.transform(Y['Species'])\n",
        "le.inverse_transform([0,1,2])"
      ],
      "metadata": {
        "execution": {
          "iopub.status.busy": "2021-08-24T07:01:33.407545Z",
          "iopub.execute_input": "2021-08-24T07:01:33.407882Z",
          "iopub.status.idle": "2021-08-24T07:01:39.644612Z",
          "shell.execute_reply.started": "2021-08-24T07:01:33.407855Z",
          "shell.execute_reply": "2021-08-24T07:01:39.643277Z"
        },
        "trusted": true,
        "colab": {
          "base_uri": "https://localhost:8080/"
        },
        "id": "wG1sIxmxOBGP",
        "outputId": "1c562a8c-5600-419c-f135-cca87499193e"
      },
      "execution_count": 4,
      "outputs": [
        {
          "output_type": "execute_result",
          "data": {
            "text/plain": [
              "array(['Iris-setosa', 'Iris-versicolor', 'Iris-virginica'], dtype=object)"
            ]
          },
          "metadata": {},
          "execution_count": 4
        }
      ]
    },
    {
      "cell_type": "markdown",
      "source": [
        "## Categorizing target values\n",
        "When we deal with a multiclass classification, we use the cross-entropy loss function. There are two ways of using the cross-entropy loss in tensorflow.keras:\n",
        "* tf.keras.losses.CategoricalCrossentropy\n",
        "* tf.keras.losses.SparseCategoricalCrossentropy\n",
        "\n",
        "\n",
        "\n",
        "When we have integer targets, we can use sparse categorical crossentropy. "
      ],
      "metadata": {
        "id": "zbMwXIKTBUWH"
      }
    },
    {
      "cell_type": "markdown",
      "source": [
        "## Split into a training set and test set"
      ],
      "metadata": {
        "id": "3ToK3whDZH7h"
      }
    },
    {
      "cell_type": "code",
      "source": [
        "from sklearn.model_selection import train_test_split\n",
        "X_train, X_test, y_train, y_test = train_test_split(X.values, Y_encode, test_size=0.2, random_state=42)"
      ],
      "metadata": {
        "id": "1nG_ZYaWBUxz"
      },
      "execution_count": 5,
      "outputs": []
    },
    {
      "cell_type": "markdown",
      "source": [
        "## Building the model with categorical_crossentropy loss\n",
        "We build an ANN with the following layers:\n",
        "* Dense layer with 10 units and activation='relu'\n",
        "* BatchNormalization layer\n",
        "* Dropout layer with rate 0.1\n",
        "* Dense layer with 10 units and activation='relu'\n",
        "* Dense layer with 3 units and activation='softmax'\n",
        "\n",
        "We compile our model with optimizer='adam', loss='sparse_categorical_crossentropy' and "
      ],
      "metadata": {
        "id": "WAfO6p3CaCKe"
      }
    },
    {
      "cell_type": "code",
      "source": [
        "from tensorflow.keras.layers import Dense, Dropout, BatchNormalization \n",
        "from tensorflow.keras.models import Sequential\n",
        "\n",
        "model = Sequential()\n",
        "model.add(Dense(10,activation='relu',input_shape=(4,)))\n",
        "model.add(BatchNormalization())\n",
        "model.add(Dropout(0.1))\n",
        "model.add(Dense(10, activation='relu'))\n",
        "model.add(Dense(3,activation='softmax'))\n",
        "\n",
        "model.compile(optimizer='adam',loss='sparse_categorical_crossentropy',metrics=['accuracy'])"
      ],
      "metadata": {
        "execution": {
          "iopub.status.busy": "2021-08-24T07:02:11.352299Z",
          "iopub.execute_input": "2021-08-24T07:02:11.352634Z",
          "iopub.status.idle": "2021-08-24T07:02:15.158727Z",
          "shell.execute_reply.started": "2021-08-24T07:02:11.352606Z",
          "shell.execute_reply": "2021-08-24T07:02:15.157955Z"
        },
        "trusted": true,
        "id": "VNcvykuiOBGQ"
      },
      "execution_count": 6,
      "outputs": []
    },
    {
      "cell_type": "markdown",
      "source": [
        "## Fit the model and evaluate it\n",
        "We fit the model with 300 epochs. We set batch_size to 10."
      ],
      "metadata": {
        "id": "GHFk1xlndb56"
      }
    },
    {
      "cell_type": "code",
      "source": [
        "model.fit(X_train, y_train, epochs=300, batch_size=10,verbose=0,validation_split=0.1)"
      ],
      "metadata": {
        "colab": {
          "base_uri": "https://localhost:8080/"
        },
        "id": "DuKrTrj8ddnq",
        "outputId": "def60524-3802-49e7-8cc5-2924e6db10b1"
      },
      "execution_count": 7,
      "outputs": [
        {
          "output_type": "execute_result",
          "data": {
            "text/plain": [
              "<keras.callbacks.History at 0x7f7cafa83f10>"
            ]
          },
          "metadata": {},
          "execution_count": 7
        }
      ]
    },
    {
      "cell_type": "markdown",
      "source": [
        "We evaluate the model:"
      ],
      "metadata": {
        "id": "A4BZU5f_OBGQ"
      }
    },
    {
      "cell_type": "code",
      "source": [
        "model.evaluate(X_test, y_test)\n"
      ],
      "metadata": {
        "execution": {
          "iopub.status.busy": "2021-08-24T07:03:46.354139Z",
          "iopub.execute_input": "2021-08-24T07:03:46.354488Z",
          "iopub.status.idle": "2021-08-24T07:03:46.562055Z",
          "shell.execute_reply.started": "2021-08-24T07:03:46.354458Z",
          "shell.execute_reply": "2021-08-24T07:03:46.561131Z"
        },
        "trusted": true,
        "colab": {
          "base_uri": "https://localhost:8080/"
        },
        "id": "fIxxP8QSOBGR",
        "outputId": "21a46786-df69-44ad-ce9d-a02f997ad7af"
      },
      "execution_count": 8,
      "outputs": [
        {
          "output_type": "stream",
          "name": "stdout",
          "text": [
            "1/1 [==============================] - 0s 21ms/step - loss: 0.0525 - accuracy: 0.9667\n"
          ]
        },
        {
          "output_type": "execute_result",
          "data": {
            "text/plain": [
              "[0.05254880711436272, 0.9666666388511658]"
            ]
          },
          "metadata": {},
          "execution_count": 8
        }
      ]
    },
    {
      "cell_type": "markdown",
      "source": [
        "## Trying the model on a new sample\n",
        "We create a probability vector with our model:"
      ],
      "metadata": {
        "id": "di2OWssXgOqQ"
      }
    },
    {
      "cell_type": "code",
      "source": [
        "x_sample = X_test[9]\n",
        "x_sample = x_sample.reshape(1,4)\n",
        "vect_proba = model.predict(x_sample)\n",
        "vect_proba"
      ],
      "metadata": {
        "colab": {
          "base_uri": "https://localhost:8080/"
        },
        "id": "yotMVHNlgQ1g",
        "outputId": "1326fa71-6682-405b-fcc1-77ebcef3e400"
      },
      "execution_count": 9,
      "outputs": [
        {
          "output_type": "stream",
          "name": "stdout",
          "text": [
            "1/1 [==============================] - 0s 99ms/step\n"
          ]
        },
        {
          "output_type": "execute_result",
          "data": {
            "text/plain": [
              "array([[8.2794315e-04, 9.9541497e-01, 3.7571096e-03]], dtype=float32)"
            ]
          },
          "metadata": {},
          "execution_count": 9
        }
      ]
    },
    {
      "cell_type": "code",
      "source": [
        "import numpy as np\n",
        "pred_cat_num = np.argmax(vect_proba)\n",
        "pred_cat_label = le.inverse_transform([pred_cat_num])\n",
        "true_cat_label = le.inverse_transform([y_test[9]])\n",
        "print(\"the predited class is: \"+str(pred_cat_label))\n",
        "print(\"the true class is: \"+str(true_cat_label))"
      ],
      "metadata": {
        "colab": {
          "base_uri": "https://localhost:8080/"
        },
        "id": "6jj9mGgVjkl_",
        "outputId": "5d7fc2e2-284e-48d7-b279-4b7f300c58bf"
      },
      "execution_count": 10,
      "outputs": [
        {
          "output_type": "stream",
          "name": "stdout",
          "text": [
            "the predited class is: ['Iris-versicolor']\n",
            "the true class is: ['Iris-versicolor']\n"
          ]
        }
      ]
    },
    {
      "cell_type": "markdown",
      "source": [
        "# Exemple: Red Wine Quality Classification\n",
        "In this example, we build an ANN that predicts the wine quality. We first import the dataset."
      ],
      "metadata": {
        "id": "Py04CFdlOBGo"
      }
    },
    {
      "cell_type": "code",
      "source": [
        "import pandas as pd\n",
        "winequality = pd.read_csv(\"https://raw.githubusercontent.com/fabnancyuhp/DEEP-LEARNING/main/DATA/winequality-red.csv\").astype('float32')\n",
        "winequality.head(2)"
      ],
      "metadata": {
        "colab": {
          "base_uri": "https://localhost:8080/",
          "height": 173
        },
        "id": "gmzp2w2lVkQr",
        "outputId": "864e300e-de29-42d4-c00a-d4a809616491"
      },
      "execution_count": 11,
      "outputs": [
        {
          "output_type": "execute_result",
          "data": {
            "text/plain": [
              "   fixed acidity  volatile acidity  citric acid  residual sugar  chlorides  \\\n",
              "0            7.4              0.70          0.0             1.9      0.076   \n",
              "1            7.8              0.88          0.0             2.6      0.098   \n",
              "\n",
              "   free sulfur dioxide  total sulfur dioxide  density    pH  sulphates  \\\n",
              "0                 11.0                  34.0   0.9978  3.51       0.56   \n",
              "1                 25.0                  67.0   0.9968  3.20       0.68   \n",
              "\n",
              "   alcohol  quality  \n",
              "0      9.4      5.0  \n",
              "1      9.8      5.0  "
            ],
            "text/html": [
              "\n",
              "  <div id=\"df-93548b4d-702b-4860-9c95-3b496a84b82a\">\n",
              "    <div class=\"colab-df-container\">\n",
              "      <div>\n",
              "<style scoped>\n",
              "    .dataframe tbody tr th:only-of-type {\n",
              "        vertical-align: middle;\n",
              "    }\n",
              "\n",
              "    .dataframe tbody tr th {\n",
              "        vertical-align: top;\n",
              "    }\n",
              "\n",
              "    .dataframe thead th {\n",
              "        text-align: right;\n",
              "    }\n",
              "</style>\n",
              "<table border=\"1\" class=\"dataframe\">\n",
              "  <thead>\n",
              "    <tr style=\"text-align: right;\">\n",
              "      <th></th>\n",
              "      <th>fixed acidity</th>\n",
              "      <th>volatile acidity</th>\n",
              "      <th>citric acid</th>\n",
              "      <th>residual sugar</th>\n",
              "      <th>chlorides</th>\n",
              "      <th>free sulfur dioxide</th>\n",
              "      <th>total sulfur dioxide</th>\n",
              "      <th>density</th>\n",
              "      <th>pH</th>\n",
              "      <th>sulphates</th>\n",
              "      <th>alcohol</th>\n",
              "      <th>quality</th>\n",
              "    </tr>\n",
              "  </thead>\n",
              "  <tbody>\n",
              "    <tr>\n",
              "      <th>0</th>\n",
              "      <td>7.4</td>\n",
              "      <td>0.70</td>\n",
              "      <td>0.0</td>\n",
              "      <td>1.9</td>\n",
              "      <td>0.076</td>\n",
              "      <td>11.0</td>\n",
              "      <td>34.0</td>\n",
              "      <td>0.9978</td>\n",
              "      <td>3.51</td>\n",
              "      <td>0.56</td>\n",
              "      <td>9.4</td>\n",
              "      <td>5.0</td>\n",
              "    </tr>\n",
              "    <tr>\n",
              "      <th>1</th>\n",
              "      <td>7.8</td>\n",
              "      <td>0.88</td>\n",
              "      <td>0.0</td>\n",
              "      <td>2.6</td>\n",
              "      <td>0.098</td>\n",
              "      <td>25.0</td>\n",
              "      <td>67.0</td>\n",
              "      <td>0.9968</td>\n",
              "      <td>3.20</td>\n",
              "      <td>0.68</td>\n",
              "      <td>9.8</td>\n",
              "      <td>5.0</td>\n",
              "    </tr>\n",
              "  </tbody>\n",
              "</table>\n",
              "</div>\n",
              "      <button class=\"colab-df-convert\" onclick=\"convertToInteractive('df-93548b4d-702b-4860-9c95-3b496a84b82a')\"\n",
              "              title=\"Convert this dataframe to an interactive table.\"\n",
              "              style=\"display:none;\">\n",
              "        \n",
              "  <svg xmlns=\"http://www.w3.org/2000/svg\" height=\"24px\"viewBox=\"0 0 24 24\"\n",
              "       width=\"24px\">\n",
              "    <path d=\"M0 0h24v24H0V0z\" fill=\"none\"/>\n",
              "    <path d=\"M18.56 5.44l.94 2.06.94-2.06 2.06-.94-2.06-.94-.94-2.06-.94 2.06-2.06.94zm-11 1L8.5 8.5l.94-2.06 2.06-.94-2.06-.94L8.5 2.5l-.94 2.06-2.06.94zm10 10l.94 2.06.94-2.06 2.06-.94-2.06-.94-.94-2.06-.94 2.06-2.06.94z\"/><path d=\"M17.41 7.96l-1.37-1.37c-.4-.4-.92-.59-1.43-.59-.52 0-1.04.2-1.43.59L10.3 9.45l-7.72 7.72c-.78.78-.78 2.05 0 2.83L4 21.41c.39.39.9.59 1.41.59.51 0 1.02-.2 1.41-.59l7.78-7.78 2.81-2.81c.8-.78.8-2.07 0-2.86zM5.41 20L4 18.59l7.72-7.72 1.47 1.35L5.41 20z\"/>\n",
              "  </svg>\n",
              "      </button>\n",
              "      \n",
              "  <style>\n",
              "    .colab-df-container {\n",
              "      display:flex;\n",
              "      flex-wrap:wrap;\n",
              "      gap: 12px;\n",
              "    }\n",
              "\n",
              "    .colab-df-convert {\n",
              "      background-color: #E8F0FE;\n",
              "      border: none;\n",
              "      border-radius: 50%;\n",
              "      cursor: pointer;\n",
              "      display: none;\n",
              "      fill: #1967D2;\n",
              "      height: 32px;\n",
              "      padding: 0 0 0 0;\n",
              "      width: 32px;\n",
              "    }\n",
              "\n",
              "    .colab-df-convert:hover {\n",
              "      background-color: #E2EBFA;\n",
              "      box-shadow: 0px 1px 2px rgba(60, 64, 67, 0.3), 0px 1px 3px 1px rgba(60, 64, 67, 0.15);\n",
              "      fill: #174EA6;\n",
              "    }\n",
              "\n",
              "    [theme=dark] .colab-df-convert {\n",
              "      background-color: #3B4455;\n",
              "      fill: #D2E3FC;\n",
              "    }\n",
              "\n",
              "    [theme=dark] .colab-df-convert:hover {\n",
              "      background-color: #434B5C;\n",
              "      box-shadow: 0px 1px 3px 1px rgba(0, 0, 0, 0.15);\n",
              "      filter: drop-shadow(0px 1px 2px rgba(0, 0, 0, 0.3));\n",
              "      fill: #FFFFFF;\n",
              "    }\n",
              "  </style>\n",
              "\n",
              "      <script>\n",
              "        const buttonEl =\n",
              "          document.querySelector('#df-93548b4d-702b-4860-9c95-3b496a84b82a button.colab-df-convert');\n",
              "        buttonEl.style.display =\n",
              "          google.colab.kernel.accessAllowed ? 'block' : 'none';\n",
              "\n",
              "        async function convertToInteractive(key) {\n",
              "          const element = document.querySelector('#df-93548b4d-702b-4860-9c95-3b496a84b82a');\n",
              "          const dataTable =\n",
              "            await google.colab.kernel.invokeFunction('convertToInteractive',\n",
              "                                                     [key], {});\n",
              "          if (!dataTable) return;\n",
              "\n",
              "          const docLinkHtml = 'Like what you see? Visit the ' +\n",
              "            '<a target=\"_blank\" href=https://colab.research.google.com/notebooks/data_table.ipynb>data table notebook</a>'\n",
              "            + ' to learn more about interactive tables.';\n",
              "          element.innerHTML = '';\n",
              "          dataTable['output_type'] = 'display_data';\n",
              "          await google.colab.output.renderOutput(dataTable, element);\n",
              "          const docLink = document.createElement('div');\n",
              "          docLink.innerHTML = docLinkHtml;\n",
              "          element.appendChild(docLink);\n",
              "        }\n",
              "      </script>\n",
              "    </div>\n",
              "  </div>\n",
              "  "
            ]
          },
          "metadata": {},
          "execution_count": 11
        }
      ]
    },
    {
      "cell_type": "markdown",
      "source": [
        "We get the number of distinct classes. We have 6 classes."
      ],
      "metadata": {
        "id": "o2otRZitxNjA"
      }
    },
    {
      "cell_type": "code",
      "source": [
        "winequality['quality'].unique()"
      ],
      "metadata": {
        "colab": {
          "base_uri": "https://localhost:8080/"
        },
        "id": "QBAcAIAIxfz8",
        "outputId": "b3cb6ea3-ae38-4b0f-a9d4-0a7315e5b188"
      },
      "execution_count": 12,
      "outputs": [
        {
          "output_type": "execute_result",
          "data": {
            "text/plain": [
              "array([5., 6., 7., 4., 8., 3.], dtype=float32)"
            ]
          },
          "metadata": {},
          "execution_count": 12
        }
      ]
    },
    {
      "cell_type": "markdown",
      "source": [
        "## Split dataset into feature variables and target values\n",
        "* X = feature values\n",
        "* Y = target values \n",
        "\n",
        "In the cell below, we use the .values method to convert a pandas.data frame into a NumPy array more suitable for a Keras model."
      ],
      "metadata": {
        "id": "XxCA5bzOx1hi"
      }
    },
    {
      "cell_type": "code",
      "source": [
        "import numpy as np\n",
        "\n",
        "x = winequality.drop(['quality'], axis=1).values\n",
        "y = winequality['quality'].values"
      ],
      "metadata": {
        "execution": {
          "iopub.status.busy": "2021-08-19T12:46:10.21304Z",
          "iopub.execute_input": "2021-08-19T12:46:10.2134Z",
          "iopub.status.idle": "2021-08-19T12:46:10.218279Z",
          "shell.execute_reply.started": "2021-08-19T12:46:10.213371Z",
          "shell.execute_reply": "2021-08-19T12:46:10.217544Z"
        },
        "trusted": true,
        "id": "HNg_BaDjOBGo"
      },
      "execution_count": 14,
      "outputs": []
    },
    {
      "cell_type": "markdown",
      "source": [
        "## Data prerpocessing\n",
        "Since we have a multiclass classification problem we'll use the categorical cross-entropy loss function in our model. To apply that kind of loss function, we should convert our target values into categorical vectors.\n",
        "* In the first step, we encode y with LabelEncoder.\n",
        "* Secondly, we apply to_categorical with num_class=6 "
      ],
      "metadata": {
        "id": "ZZNKAdNOOBGp"
      }
    },
    {
      "cell_type": "code",
      "source": [
        "#from tensorflow.keras.utils import to_categorical\n",
        "from sklearn.preprocessing import LabelEncoder \n",
        "\n",
        "#we encode y with LabelEncoder.\n",
        "le = LabelEncoder()\n",
        "le.fit(np.unique(y))\n",
        "y_encod = le.transform(y)\n",
        "#y_cat = to_categorical(y_encod ,num_classes=6)\n"
      ],
      "metadata": {
        "execution": {
          "iopub.status.busy": "2021-08-19T13:18:47.181294Z",
          "iopub.execute_input": "2021-08-19T13:18:47.181711Z",
          "iopub.status.idle": "2021-08-19T13:18:47.189688Z",
          "shell.execute_reply.started": "2021-08-19T13:18:47.181674Z",
          "shell.execute_reply": "2021-08-19T13:18:47.188733Z"
        },
        "trusted": true,
        "id": "T-Etc-m6OBGp"
      },
      "execution_count": 15,
      "outputs": []
    },
    {
      "cell_type": "markdown",
      "source": [
        "## Split into training set and test set"
      ],
      "metadata": {
        "id": "KObG1E40T0w_"
      }
    },
    {
      "cell_type": "code",
      "source": [
        "from sklearn.model_selection import train_test_split\n",
        "X_train, X_test, y_train, y_test = train_test_split(x, y_encod, test_size=0.2, random_state=42)"
      ],
      "metadata": {
        "id": "6e6KWsdNT1Y3"
      },
      "execution_count": 17,
      "outputs": []
    },
    {
      "cell_type": "markdown",
      "source": [
        "## Building ANN to predict wine quality\n",
        "Since we deal with a 6 classes problem, we build a neural network model such that:\n",
        "* The loss function is the categorical_crossentropy\n",
        "* The output layer yields a 6 sized probability vector\n",
        "* The output layer activation function is the softmax function\n",
        "\n",
        "We put some BatchNormalization layers and some Dropouts layer in our sequential model.\n"
      ],
      "metadata": {
        "id": "b9R3aO2RO26e"
      }
    },
    {
      "cell_type": "code",
      "source": [
        "from tensorflow.keras.layers import Dense, Dropout, BatchNormalization, InputLayer\n",
        "from tensorflow.keras.models import Sequential\n",
        "#from tensorflow.keras.callbacks import EarlyStopping\n",
        "\n",
        "model = Sequential()\n",
        "model.add(InputLayer(input_shape=(x.shape[1],)))\n",
        "model.add(BatchNormalization())\n",
        "model.add(Dense(70,activation='relu'))\n",
        "model.add(Dropout(0.1))\n",
        "model.add(BatchNormalization())          \n",
        "model.add(Dense(60,activation='relu'))\n",
        "model.add(Dropout(0.1))\n",
        "model.add(BatchNormalization())\n",
        "model.add(Dense(6,activation='softmax'))\n"
      ],
      "metadata": {
        "execution": {
          "iopub.status.busy": "2021-08-19T14:15:03.674113Z",
          "iopub.execute_input": "2021-08-19T14:15:03.674526Z",
          "iopub.status.idle": "2021-08-19T14:15:03.766395Z",
          "shell.execute_reply.started": "2021-08-19T14:15:03.674488Z",
          "shell.execute_reply": "2021-08-19T14:15:03.765584Z"
        },
        "trusted": true,
        "id": "GA7QGpuxOBGq"
      },
      "execution_count": 29,
      "outputs": []
    },
    {
      "cell_type": "markdown",
      "source": [
        "We compile the model and train it using early stopping. **Early stopping** is an optimization technique used to reduce overfitting without compromising on model accuracy. The main idea behind early stopping is to stop training before a model starts to overfit. "
      ],
      "metadata": {
        "id": "yncxp8tDfq5n"
      }
    },
    {
      "cell_type": "code",
      "source": [
        "from tensorflow.keras.callbacks import EarlyStopping\n",
        "early_stopping = EarlyStopping(monitor=\"val_loss\",patience=10,verbose=2)\n",
        "\n",
        "model.compile(optimizer='adam',loss='sparse_categorical_crossentropy',metrics=['accuracy'])\n",
        "history = model.fit(X_train, y_train, epochs=800,validation_split=0.1,verbose=0,callbacks=[early_stopping]) #verbose=0"
      ],
      "metadata": {
        "execution": {
          "iopub.status.busy": "2021-08-19T14:15:11.975122Z",
          "iopub.execute_input": "2021-08-19T14:15:11.975751Z",
          "iopub.status.idle": "2021-08-19T14:15:52.474363Z",
          "shell.execute_reply.started": "2021-08-19T14:15:11.97569Z",
          "shell.execute_reply": "2021-08-19T14:15:52.473493Z"
        },
        "trusted": true,
        "id": "T4iCl_VMOBGu",
        "colab": {
          "base_uri": "https://localhost:8080/"
        },
        "outputId": "e06b175f-35b2-4ebf-abc8-d7298e4adb8a"
      },
      "execution_count": 30,
      "outputs": [
        {
          "output_type": "stream",
          "name": "stdout",
          "text": [
            "Epoch 26: early stopping\n"
          ]
        }
      ]
    },
    {
      "cell_type": "markdown",
      "source": [
        "We evaluate the model over the test set:"
      ],
      "metadata": {
        "id": "mXONOx2jd_20"
      }
    },
    {
      "cell_type": "code",
      "source": [
        "model.evaluate(X_test, y_test)"
      ],
      "metadata": {
        "execution": {
          "iopub.status.busy": "2021-08-19T14:16:24.020525Z",
          "iopub.execute_input": "2021-08-19T14:16:24.020893Z",
          "iopub.status.idle": "2021-08-19T14:16:24.235877Z",
          "shell.execute_reply.started": "2021-08-19T14:16:24.020862Z",
          "shell.execute_reply": "2021-08-19T14:16:24.235036Z"
        },
        "trusted": true,
        "colab": {
          "base_uri": "https://localhost:8080/"
        },
        "id": "qS1cIS-pOBGv",
        "outputId": "b21e37a4-fbc2-483f-f40e-46758a621b3b"
      },
      "execution_count": 31,
      "outputs": [
        {
          "output_type": "stream",
          "name": "stdout",
          "text": [
            "10/10 [==============================] - 0s 2ms/step - loss: 0.9250 - accuracy: 0.5781\n"
          ]
        },
        {
          "output_type": "execute_result",
          "data": {
            "text/plain": [
              "[0.9250426292419434, 0.578125]"
            ]
          },
          "metadata": {},
          "execution_count": 31
        }
      ]
    },
    {
      "cell_type": "markdown",
      "source": [
        "We display the model learning history:"
      ],
      "metadata": {
        "id": "-INEXQZdeYG0"
      }
    },
    {
      "cell_type": "code",
      "source": [
        "pd.DataFrame(history.history).plot()"
      ],
      "metadata": {
        "colab": {
          "base_uri": "https://localhost:8080/",
          "height": 282
        },
        "id": "tHcoZAeoYtGJ",
        "outputId": "64654ec0-6125-47d3-a056-0c05047040d0"
      },
      "execution_count": 32,
      "outputs": [
        {
          "output_type": "execute_result",
          "data": {
            "text/plain": [
              "<matplotlib.axes._subplots.AxesSubplot at 0x7f7cabb43430>"
            ]
          },
          "metadata": {},
          "execution_count": 32
        },
        {
          "output_type": "display_data",
          "data": {
            "text/plain": [
              "<Figure size 432x288 with 1 Axes>"
            ],
            "image/png": "[encoded data removed]"
          },
          "metadata": {
            "needs_background": "light"
          }
        }
      ]
    },
    {
      "cell_type": "markdown",
      "source": [
        "## We try the model we've just trained over a new sample:\n",
        "* We create a probability vector\n",
        "* We display the predicted class"
      ],
      "metadata": {
        "id": "Q_nIkisDhJbb"
      }
    },
    {
      "cell_type": "code",
      "source": [
        "x_new = X_test[20].reshape(1,-1)\n",
        "proba_vect = model.predict(x_new)\n",
        "pred_num_class = np.argmax(proba_vect)\n",
        "pred_class = le.inverse_transform([pred_num_class])\n",
        "true_class = le.inverse_transform([y_test[20]])\n",
        "print(\"predicted class : \"+str(pred_class))\n",
        "print(\"Tue class : \"+str(pred_class))"
      ],
      "metadata": {
        "colab": {
          "base_uri": "https://localhost:8080/"
        },
        "id": "AW5lEEBaiHOf",
        "outputId": "cddecda2-624f-4c23-9c60-3f99fc7ae430"
      },
      "execution_count": 37,
      "outputs": [
        {
          "output_type": "stream",
          "name": "stdout",
          "text": [
            "1/1 [==============================] - 0s 18ms/step\n",
            "predicted class : [4.]\n",
            "Tue class : [4.]\n"
          ]
        }
      ]
    },
    {
      "cell_type": "markdown",
      "source": [
        "# Exercise : Classification on Diabetes Data\n",
        "\n",
        "In this exercise, we deal with a diabetes dataset. First, you have the run the cell below to import and view the head of the dataset. "
      ],
      "metadata": {
        "id": "E3EgwFjKOBGv"
      }
    },
    {
      "cell_type": "code",
      "source": [
        "import pandas as pd\n",
        "from tensorflow.keras.utils import get_file\n",
        "csv_file = get_file('diabetes.csv', 'https://raw.githubusercontent.com/fabnancyuhp/DEEP-LEARNING/main/DATA/diabetes.csv')\n",
        "\n",
        "diabetes = pd.read_csv(csv_file)\n",
        "diabetes.head()"
      ],
      "metadata": {
        "execution": {
          "iopub.status.busy": "2021-08-24T12:10:24.343029Z",
          "iopub.execute_input": "2021-08-24T12:10:24.344251Z",
          "iopub.status.idle": "2021-08-24T12:10:30.985463Z",
          "shell.execute_reply.started": "2021-08-24T12:10:24.344092Z",
          "shell.execute_reply": "2021-08-24T12:10:30.98429Z"
        },
        "trusted": true,
        "colab": {
          "base_uri": "https://localhost:8080/",
          "height": 241
        },
        "id": "eHHIncTrOBGw",
        "outputId": "f7b98800-72be-4d57-c680-b1079a1fbb37"
      },
      "execution_count": 38,
      "outputs": [
        {
          "output_type": "stream",
          "name": "stdout",
          "text": [
            "Downloading data from https://raw.githubusercontent.com/fabnancyuhp/DEEP-LEARNING/main/DATA/diabetes.csv\n",
            "23873/23873 [==============================] - 0s 0us/step\n"
          ]
        },
        {
          "output_type": "execute_result",
          "data": {
            "text/plain": [
              "   Pregnancies  Glucose  BloodPressure  SkinThickness  Insulin   BMI  \\\n",
              "0            6      148             72             35        0  33.6   \n",
              "1            1       85             66             29        0  26.6   \n",
              "2            8      183             64              0        0  23.3   \n",
              "3            1       89             66             23       94  28.1   \n",
              "4            0      137             40             35      168  43.1   \n",
              "\n",
              "   DiabetesPedigreeFunction  Age  Outcome  \n",
              "0                     0.627   50        1  \n",
              "1                     0.351   31        0  \n",
              "2                     0.672   32        1  \n",
              "3                     0.167   21        0  \n",
              "4                     2.288   33        1  "
            ],
            "text/html": [
              "\n",
              "  <div id=\"df-df0f581a-b817-494b-bece-2c16dc1aa2e8\">\n",
              "    <div class=\"colab-df-container\">\n",
              "      <div>\n",
              "<style scoped>\n",
              "    .dataframe tbody tr th:only-of-type {\n",
              "        vertical-align: middle;\n",
              "    }\n",
              "\n",
              "    .dataframe tbody tr th {\n",
              "        vertical-align: top;\n",
              "    }\n",
              "\n",
              "    .dataframe thead th {\n",
              "        text-align: right;\n",
              "    }\n",
              "</style>\n",
              "<table border=\"1\" class=\"dataframe\">\n",
              "  <thead>\n",
              "    <tr style=\"text-align: right;\">\n",
              "      <th></th>\n",
              "      <th>Pregnancies</th>\n",
              "      <th>Glucose</th>\n",
              "      <th>BloodPressure</th>\n",
              "      <th>SkinThickness</th>\n",
              "      <th>Insulin</th>\n",
              "      <th>BMI</th>\n",
              "      <th>DiabetesPedigreeFunction</th>\n",
              "      <th>Age</th>\n",
              "      <th>Outcome</th>\n",
              "    </tr>\n",
              "  </thead>\n",
              "  <tbody>\n",
              "    <tr>\n",
              "      <th>0</th>\n",
              "      <td>6</td>\n",
              "      <td>148</td>\n",
              "      <td>72</td>\n",
              "      <td>35</td>\n",
              "      <td>0</td>\n",
              "      <td>33.6</td>\n",
              "      <td>0.627</td>\n",
              "      <td>50</td>\n",
              "      <td>1</td>\n",
              "    </tr>\n",
              "    <tr>\n",
              "      <th>1</th>\n",
              "      <td>1</td>\n",
              "      <td>85</td>\n",
              "      <td>66</td>\n",
              "      <td>29</td>\n",
              "      <td>0</td>\n",
              "      <td>26.6</td>\n",
              "      <td>0.351</td>\n",
              "      <td>31</td>\n",
              "      <td>0</td>\n",
              "    </tr>\n",
              "    <tr>\n",
              "      <th>2</th>\n",
              "      <td>8</td>\n",
              "      <td>183</td>\n",
              "      <td>64</td>\n",
              "      <td>0</td>\n",
              "      <td>0</td>\n",
              "      <td>23.3</td>\n",
              "      <td>0.672</td>\n",
              "      <td>32</td>\n",
              "      <td>1</td>\n",
              "    </tr>\n",
              "    <tr>\n",
              "      <th>3</th>\n",
              "      <td>1</td>\n",
              "      <td>89</td>\n",
              "      <td>66</td>\n",
              "      <td>23</td>\n",
              "      <td>94</td>\n",
              "      <td>28.1</td>\n",
              "      <td>0.167</td>\n",
              "      <td>21</td>\n",
              "      <td>0</td>\n",
              "    </tr>\n",
              "    <tr>\n",
              "      <th>4</th>\n",
              "      <td>0</td>\n",
              "      <td>137</td>\n",
              "      <td>40</td>\n",
              "      <td>35</td>\n",
              "      <td>168</td>\n",
              "      <td>43.1</td>\n",
              "      <td>2.288</td>\n",
              "      <td>33</td>\n",
              "      <td>1</td>\n",
              "    </tr>\n",
              "  </tbody>\n",
              "</table>\n",
              "</div>\n",
              "      <button class=\"colab-df-convert\" onclick=\"convertToInteractive('df-df0f581a-b817-494b-bece-2c16dc1aa2e8')\"\n",
              "              title=\"Convert this dataframe to an interactive table.\"\n",
              "              style=\"display:none;\">\n",
              "        \n",
              "  <svg xmlns=\"http://www.w3.org/2000/svg\" height=\"24px\"viewBox=\"0 0 24 24\"\n",
              "       width=\"24px\">\n",
              "    <path d=\"M0 0h24v24H0V0z\" fill=\"none\"/>\n",
              "    <path d=\"M18.56 5.44l.94 2.06.94-2.06 2.06-.94-2.06-.94-.94-2.06-.94 2.06-2.06.94zm-11 1L8.5 8.5l.94-2.06 2.06-.94-2.06-.94L8.5 2.5l-.94 2.06-2.06.94zm10 10l.94 2.06.94-2.06 2.06-.94-2.06-.94-.94-2.06-.94 2.06-2.06.94z\"/><path d=\"M17.41 7.96l-1.37-1.37c-.4-.4-.92-.59-1.43-.59-.52 0-1.04.2-1.43.59L10.3 9.45l-7.72 7.72c-.78.78-.78 2.05 0 2.83L4 21.41c.39.39.9.59 1.41.59.51 0 1.02-.2 1.41-.59l7.78-7.78 2.81-2.81c.8-.78.8-2.07 0-2.86zM5.41 20L4 18.59l7.72-7.72 1.47 1.35L5.41 20z\"/>\n",
              "  </svg>\n",
              "      </button>\n",
              "      \n",
              "  <style>\n",
              "    .colab-df-container {\n",
              "      display:flex;\n",
              "      flex-wrap:wrap;\n",
              "      gap: 12px;\n",
              "    }\n",
              "\n",
              "    .colab-df-convert {\n",
              "      background-color: #E8F0FE;\n",
              "      border: none;\n",
              "      border-radius: 50%;\n",
              "      cursor: pointer;\n",
              "      display: none;\n",
              "      fill: #1967D2;\n",
              "      height: 32px;\n",
              "      padding: 0 0 0 0;\n",
              "      width: 32px;\n",
              "    }\n",
              "\n",
              "    .colab-df-convert:hover {\n",
              "      background-color: #E2EBFA;\n",
              "      box-shadow: 0px 1px 2px rgba(60, 64, 67, 0.3), 0px 1px 3px 1px rgba(60, 64, 67, 0.15);\n",
              "      fill: #174EA6;\n",
              "    }\n",
              "\n",
              "    [theme=dark] .colab-df-convert {\n",
              "      background-color: #3B4455;\n",
              "      fill: #D2E3FC;\n",
              "    }\n",
              "\n",
              "    [theme=dark] .colab-df-convert:hover {\n",
              "      background-color: #434B5C;\n",
              "      box-shadow: 0px 1px 3px 1px rgba(0, 0, 0, 0.15);\n",
              "      filter: drop-shadow(0px 1px 2px rgba(0, 0, 0, 0.3));\n",
              "      fill: #FFFFFF;\n",
              "    }\n",
              "  </style>\n",
              "\n",
              "      <script>\n",
              "        const buttonEl =\n",
              "          document.querySelector('#df-df0f581a-b817-494b-bece-2c16dc1aa2e8 button.colab-df-convert');\n",
              "        buttonEl.style.display =\n",
              "          google.colab.kernel.accessAllowed ? 'block' : 'none';\n",
              "\n",
              "        async function convertToInteractive(key) {\n",
              "          const element = document.querySelector('#df-df0f581a-b817-494b-bece-2c16dc1aa2e8');\n",
              "          const dataTable =\n",
              "            await google.colab.kernel.invokeFunction('convertToInteractive',\n",
              "                                                     [key], {});\n",
              "          if (!dataTable) return;\n",
              "\n",
              "          const docLinkHtml = 'Like what you see? Visit the ' +\n",
              "            '<a target=\"_blank\" href=https://colab.research.google.com/notebooks/data_table.ipynb>data table notebook</a>'\n",
              "            + ' to learn more about interactive tables.';\n",
              "          element.innerHTML = '';\n",
              "          dataTable['output_type'] = 'display_data';\n",
              "          await google.colab.output.renderOutput(dataTable, element);\n",
              "          const docLink = document.createElement('div');\n",
              "          docLink.innerHTML = docLinkHtml;\n",
              "          element.appendChild(docLink);\n",
              "        }\n",
              "      </script>\n",
              "    </div>\n",
              "  </div>\n",
              "  "
            ]
          },
          "metadata": {},
          "execution_count": 38
        }
      ]
    },
    {
      "cell_type": "markdown",
      "source": [
        "It is a binary classification problem where we have to say if their onset of diabetes is 1 or not as 0."
      ],
      "metadata": {
        "id": "AIC3df1znj7S"
      }
    },
    {
      "cell_type": "markdown",
      "source": [
        "1) Take a look at the above-displayed data set. Which columns do you choose for the features? What is the target? Make a code to select the features and the target. Store the target into Y and the features into X."
      ],
      "metadata": {
        "id": "7FTxAj3vs52V"
      }
    },
    {
      "cell_type": "code",
      "source": [
        "#your code here\n",
        "X = diabetes.drop(['Outcome'],axis=1)\n",
        "Y = diabetes['Outcome']"
      ],
      "metadata": {
        "id": "9qqaTJVytmq9"
      },
      "execution_count": null,
      "outputs": []
    },
    {
      "cell_type": "markdown",
      "source": [
        "2) Split the dataset into a training set and a test set using train_test_split. Set test_size=0.2."
      ],
      "metadata": {
        "id": "PqA9_dAKtv5f"
      }
    },
    {
      "cell_type": "code",
      "source": [
        "from sklearn.model_selection import train_test_split\n",
        "X_train, X_test, y_train, y_test = train_test_split(X, Y, test_size=0.2, random_state=42)"
      ],
      "metadata": {
        "id": "c30cKuQCuDvt"
      },
      "execution_count": null,
      "outputs": []
    },
    {
      "cell_type": "markdown",
      "source": [
        "3) How many classes are there on the target? Which loss function do you choose?"
      ],
      "metadata": {
        "id": "cTjEQWV6uNLx"
      }
    },
    {
      "cell_type": "code",
      "source": [
        "#your code here."
      ],
      "metadata": {
        "id": "UBGV6n9NuRM1"
      },
      "execution_count": null,
      "outputs": []
    },
    {
      "cell_type": "markdown",
      "source": [
        "4) Make a neural network and compile it with TensorFlow.keras to solve this classification problem. You have to respect the following architecture: \n",
        "* InputLayer\n",
        "* BatchNormalization \n",
        "* Dense layer with 12 units, activation='relu', a l2 kernel_regularizer with l2 regularization factor=0.01.\n",
        "* Dense layer with 12 units, activation='relu', a l1 kernel_regularizer with l1 regularization factor=0.01.\n",
        "* The output layer : a Dense layer with 1 unit, activation='sigmoid' "
      ],
      "metadata": {
        "id": "wo-yF8vpuYgI"
      }
    },
    {
      "cell_type": "code",
      "source": [
        "from tensorflow.keras.layers import Dense, Dropout, BatchNormalization, InputLayer\n",
        "from tensorflow.keras.models import Sequential\n",
        "from tensorflow.keras.regularizers import l2,l1\n",
        "\n",
        "model = Sequential()"
      ],
      "metadata": {
        "id": "inp8-o0gwbf1"
      },
      "execution_count": null,
      "outputs": []
    },
    {
      "cell_type": "markdown",
      "source": [
        "5) Compile your model with:\n",
        "* an adam optimizer\n",
        "* loss= 'binary_crossentropy'\n",
        "* accuracy metrics"
      ],
      "metadata": {
        "id": "zXOcvbVywobO"
      }
    },
    {
      "cell_type": "code",
      "source": [
        "#Your code here"
      ],
      "metadata": {
        "id": "xAY2keyJxsms"
      },
      "execution_count": null,
      "outputs": []
    },
    {
      "cell_type": "markdown",
      "source": [
        "6) Fit your model with:600 epochs and validation_split=0.1."
      ],
      "metadata": {
        "id": "t81lB9x1xB-M"
      }
    },
    {
      "cell_type": "code",
      "source": [
        "#your code here"
      ],
      "metadata": {
        "id": "lYVQEBIVxvq3"
      },
      "execution_count": null,
      "outputs": []
    },
    {
      "cell_type": "markdown",
      "source": [
        "7) Evaluate your model on the test set."
      ],
      "metadata": {
        "id": "iFcGJLHcx0OA"
      }
    },
    {
      "cell_type": "code",
      "source": [
        "#your code here"
      ],
      "metadata": {
        "id": "O2k5uPtpx-Xm"
      },
      "execution_count": null,
      "outputs": []
    },
    {
      "cell_type": "markdown",
      "source": [
        "8) Apply your model on the following point:"
      ],
      "metadata": {
        "id": "U7y7lIJyyDAM"
      }
    },
    {
      "cell_type": "code",
      "source": [
        "import numpy as np\n",
        "x_to_try = np.array([  0.  , 162.   ,  76.   ,  56.   , 100.   ,  53.2  ,   0.759,25. ])"
      ],
      "metadata": {
        "id": "sQiu77gCyy76"
      },
      "execution_count": null,
      "outputs": []
    }
  ]
}