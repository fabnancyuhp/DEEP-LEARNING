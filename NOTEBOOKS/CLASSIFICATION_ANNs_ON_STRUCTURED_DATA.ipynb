{
  "metadata": {
    "kernelspec": {
      "language": "python",
      "display_name": "Python 3",
      "name": "python3"
    },
    "language_info": {
      "name": "python",
      "version": "3.7.9",
      "mimetype": "text/x-python",
      "codemirror_mode": {
        "name": "ipython",
        "version": 3
      },
      "pygments_lexer": "ipython3",
      "nbconvert_exporter": "python",
      "file_extension": ".py"
    },
    "colab": {
      "name": "CLASSIFICATION ANNs ON STRUCTURED DATA.ipynb",
      "provenance": [],
      "include_colab_link": true
    }
  },
  "nbformat_minor": 0,
  "nbformat": 4,
  "cells": [
    {
      "cell_type": "markdown",
      "metadata": {
        "id": "view-in-github",
        "colab_type": "text"
      },
      "source": [
        "<a href=\"https://colab.research.google.com/github/fabnancyuhp/DEEP-LEARNING/blob/main/NOTEBOOKS/CLASSIFICATION_ANNs_ON_STRUCTURED_DATA.ipynb\" target=\"_parent\"><img src=\"https://colab.research.google.com/assets/colab-badge.svg\" alt=\"Open In Colab\"/></a>"
      ]
    },
    {
      "cell_type": "markdown",
      "source": [
        "# Example : IRIS DATA\n",
        "The Iris flower data set or Fisher's Iris data set is a multivariate data set introduced by the British statistician and biologist Ronald Fisher in his 1936 paper The use of multiple measurements in taxonomic problems as an example of linear discriminant analysis.<br>\n",
        "The data set consists of 150 samples from each of three species of Iris (Iris setosa, Iris virginica and Iris versicolor). Four features were measured from each sample: the length and the width of the sepals and petals, in centimeters. \n",
        "\n"
      ],
      "metadata": {
        "execution": {
          "iopub.status.busy": "2021-08-08T15:54:30.558608Z",
          "iopub.execute_input": "2021-08-08T15:54:30.559428Z",
          "iopub.status.idle": "2021-08-08T15:54:30.566447Z",
          "shell.execute_reply.started": "2021-08-08T15:54:30.559378Z",
          "shell.execute_reply": "2021-08-08T15:54:30.565291Z"
        },
        "id": "sLQpdia3OBGN"
      }
    },
    {
      "cell_type": "code",
      "source": [
        "import pandas as pd\n",
        "iris = pd.read_csv(\"https://raw.githubusercontent.com/fabnancyuhp/DEEP-LEARNING/main/DATA/Iris.csv\")\n",
        "\n",
        "iris = iris[['SepalLengthCm', 'SepalWidthCm', 'PetalLengthCm', 'PetalWidthCm', 'Species']]\n",
        "iris.head(3)"
      ],
      "metadata": {
        "execution": {
          "iopub.status.busy": "2021-08-24T07:00:47.706346Z",
          "iopub.execute_input": "2021-08-24T07:00:47.706729Z",
          "iopub.status.idle": "2021-08-24T07:00:47.952945Z",
          "shell.execute_reply.started": "2021-08-24T07:00:47.706683Z",
          "shell.execute_reply": "2021-08-24T07:00:47.951795Z"
        },
        "trusted": true,
        "colab": {
          "base_uri": "https://localhost:8080/",
          "height": 143
        },
        "id": "lNPDlk4tOBGO",
        "outputId": "f6428fcf-c8d3-41f1-f16c-5a359d5bae25"
      },
      "execution_count": 4,
      "outputs": [
        {
          "output_type": "execute_result",
          "data": {
            "text/html": [
              "\n",
              "  <div id=\"df-632aa1d2-89cd-49df-b044-6ad73b8b1efa\">\n",
              "    <div class=\"colab-df-container\">\n",
              "      <div>\n",
              "<style scoped>\n",
              "    .dataframe tbody tr th:only-of-type {\n",
              "        vertical-align: middle;\n",
              "    }\n",
              "\n",
              "    .dataframe tbody tr th {\n",
              "        vertical-align: top;\n",
              "    }\n",
              "\n",
              "    .dataframe thead th {\n",
              "        text-align: right;\n",
              "    }\n",
              "</style>\n",
              "<table border=\"1\" class=\"dataframe\">\n",
              "  <thead>\n",
              "    <tr style=\"text-align: right;\">\n",
              "      <th></th>\n",
              "      <th>SepalLengthCm</th>\n",
              "      <th>SepalWidthCm</th>\n",
              "      <th>PetalLengthCm</th>\n",
              "      <th>PetalWidthCm</th>\n",
              "      <th>Species</th>\n",
              "    </tr>\n",
              "  </thead>\n",
              "  <tbody>\n",
              "    <tr>\n",
              "      <th>0</th>\n",
              "      <td>5.1</td>\n",
              "      <td>3.5</td>\n",
              "      <td>1.4</td>\n",
              "      <td>0.2</td>\n",
              "      <td>Iris-setosa</td>\n",
              "    </tr>\n",
              "    <tr>\n",
              "      <th>1</th>\n",
              "      <td>4.9</td>\n",
              "      <td>3.0</td>\n",
              "      <td>1.4</td>\n",
              "      <td>0.2</td>\n",
              "      <td>Iris-setosa</td>\n",
              "    </tr>\n",
              "    <tr>\n",
              "      <th>2</th>\n",
              "      <td>4.7</td>\n",
              "      <td>3.2</td>\n",
              "      <td>1.3</td>\n",
              "      <td>0.2</td>\n",
              "      <td>Iris-setosa</td>\n",
              "    </tr>\n",
              "  </tbody>\n",
              "</table>\n",
              "</div>\n",
              "      <button class=\"colab-df-convert\" onclick=\"convertToInteractive('df-632aa1d2-89cd-49df-b044-6ad73b8b1efa')\"\n",
              "              title=\"Convert this dataframe to an interactive table.\"\n",
              "              style=\"display:none;\">\n",
              "        \n",
              "  <svg xmlns=\"http://www.w3.org/2000/svg\" height=\"24px\"viewBox=\"0 0 24 24\"\n",
              "       width=\"24px\">\n",
              "    <path d=\"M0 0h24v24H0V0z\" fill=\"none\"/>\n",
              "    <path d=\"M18.56 5.44l.94 2.06.94-2.06 2.06-.94-2.06-.94-.94-2.06-.94 2.06-2.06.94zm-11 1L8.5 8.5l.94-2.06 2.06-.94-2.06-.94L8.5 2.5l-.94 2.06-2.06.94zm10 10l.94 2.06.94-2.06 2.06-.94-2.06-.94-.94-2.06-.94 2.06-2.06.94z\"/><path d=\"M17.41 7.96l-1.37-1.37c-.4-.4-.92-.59-1.43-.59-.52 0-1.04.2-1.43.59L10.3 9.45l-7.72 7.72c-.78.78-.78 2.05 0 2.83L4 21.41c.39.39.9.59 1.41.59.51 0 1.02-.2 1.41-.59l7.78-7.78 2.81-2.81c.8-.78.8-2.07 0-2.86zM5.41 20L4 18.59l7.72-7.72 1.47 1.35L5.41 20z\"/>\n",
              "  </svg>\n",
              "      </button>\n",
              "      \n",
              "  <style>\n",
              "    .colab-df-container {\n",
              "      display:flex;\n",
              "      flex-wrap:wrap;\n",
              "      gap: 12px;\n",
              "    }\n",
              "\n",
              "    .colab-df-convert {\n",
              "      background-color: #E8F0FE;\n",
              "      border: none;\n",
              "      border-radius: 50%;\n",
              "      cursor: pointer;\n",
              "      display: none;\n",
              "      fill: #1967D2;\n",
              "      height: 32px;\n",
              "      padding: 0 0 0 0;\n",
              "      width: 32px;\n",
              "    }\n",
              "\n",
              "    .colab-df-convert:hover {\n",
              "      background-color: #E2EBFA;\n",
              "      box-shadow: 0px 1px 2px rgba(60, 64, 67, 0.3), 0px 1px 3px 1px rgba(60, 64, 67, 0.15);\n",
              "      fill: #174EA6;\n",
              "    }\n",
              "\n",
              "    [theme=dark] .colab-df-convert {\n",
              "      background-color: #3B4455;\n",
              "      fill: #D2E3FC;\n",
              "    }\n",
              "\n",
              "    [theme=dark] .colab-df-convert:hover {\n",
              "      background-color: #434B5C;\n",
              "      box-shadow: 0px 1px 3px 1px rgba(0, 0, 0, 0.15);\n",
              "      filter: drop-shadow(0px 1px 2px rgba(0, 0, 0, 0.3));\n",
              "      fill: #FFFFFF;\n",
              "    }\n",
              "  </style>\n",
              "\n",
              "      <script>\n",
              "        const buttonEl =\n",
              "          document.querySelector('#df-632aa1d2-89cd-49df-b044-6ad73b8b1efa button.colab-df-convert');\n",
              "        buttonEl.style.display =\n",
              "          google.colab.kernel.accessAllowed ? 'block' : 'none';\n",
              "\n",
              "        async function convertToInteractive(key) {\n",
              "          const element = document.querySelector('#df-632aa1d2-89cd-49df-b044-6ad73b8b1efa');\n",
              "          const dataTable =\n",
              "            await google.colab.kernel.invokeFunction('convertToInteractive',\n",
              "                                                     [key], {});\n",
              "          if (!dataTable) return;\n",
              "\n",
              "          const docLinkHtml = 'Like what you see? Visit the ' +\n",
              "            '<a target=\"_blank\" href=https://colab.research.google.com/notebooks/data_table.ipynb>data table notebook</a>'\n",
              "            + ' to learn more about interactive tables.';\n",
              "          element.innerHTML = '';\n",
              "          dataTable['output_type'] = 'display_data';\n",
              "          await google.colab.output.renderOutput(dataTable, element);\n",
              "          const docLink = document.createElement('div');\n",
              "          docLink.innerHTML = docLinkHtml;\n",
              "          element.appendChild(docLink);\n",
              "        }\n",
              "      </script>\n",
              "    </div>\n",
              "  </div>\n",
              "  "
            ],
            "text/plain": [
              "   SepalLengthCm  SepalWidthCm  PetalLengthCm  PetalWidthCm      Species\n",
              "0            5.1           3.5            1.4           0.2  Iris-setosa\n",
              "1            4.9           3.0            1.4           0.2  Iris-setosa\n",
              "2            4.7           3.2            1.3           0.2  Iris-setosa"
            ]
          },
          "metadata": {},
          "execution_count": 4
        }
      ]
    },
    {
      "cell_type": "markdown",
      "source": [
        "The goal of the neural network, we are going to create is to predict the class of the Iris flower based on other attributes. Meaning it needs to create a model, which is going to describe a relationship between attribute values and the class.<br><br>\n",
        "Now we can extract the features values and the targets."
      ],
      "metadata": {
        "id": "6cYcOBFX7bRP"
      }
    },
    {
      "cell_type": "markdown",
      "source": [
        "## Data preprocessing\n",
        "First, we split the dataset into feature values and target values:\n",
        "* X are the feature values\n",
        "* Y are the target values"
      ],
      "metadata": {
        "id": "ghFGk8VQ_Wcl"
      }
    },
    {
      "cell_type": "code",
      "source": [
        "X = iris[['SepalLengthCm','SepalWidthCm','PetalLengthCm','PetalWidthCm']]\n",
        "Y = iris[['Species']]"
      ],
      "metadata": {
        "execution": {
          "iopub.status.busy": "2021-08-24T07:00:53.973482Z",
          "iopub.execute_input": "2021-08-24T07:00:53.97382Z",
          "iopub.status.idle": "2021-08-24T07:00:53.985291Z",
          "shell.execute_reply.started": "2021-08-24T07:00:53.973791Z",
          "shell.execute_reply": "2021-08-24T07:00:53.984264Z"
        },
        "trusted": true,
        "id": "UuGrWU7rOBGO"
      },
      "execution_count": 8,
      "outputs": []
    },
    {
      "cell_type": "markdown",
      "source": [
        "We display the distinct species:"
      ],
      "metadata": {
        "id": "EqcGc-JfAPW9"
      }
    },
    {
      "cell_type": "code",
      "source": [
        "Y['Species'].unique()"
      ],
      "metadata": {
        "colab": {
          "base_uri": "https://localhost:8080/"
        },
        "id": "NJSFiJnQAVQH",
        "outputId": "88f206b1-7162-4490-bd7b-d79af8236be5"
      },
      "execution_count": 7,
      "outputs": [
        {
          "output_type": "execute_result",
          "data": {
            "text/plain": [
              "array(['Iris-setosa', 'Iris-versicolor', 'Iris-virginica'], dtype=object)"
            ]
          },
          "metadata": {},
          "execution_count": 7
        }
      ]
    },
    {
      "cell_type": "markdown",
      "source": [
        "We have to encode the species using LabelEncoder from sklearn."
      ],
      "metadata": {
        "id": "MH5OEWe5A1bJ"
      }
    },
    {
      "cell_type": "code",
      "source": [
        "from sklearn import preprocessing\n",
        "le = preprocessing.LabelEncoder()\n",
        "le.fit(Y['Species'].unique())\n",
        "\n",
        "Y_encode = le.transform(Y['Species'])\n",
        "le.inverse_transform([0,1,2])"
      ],
      "metadata": {
        "execution": {
          "iopub.status.busy": "2021-08-24T07:01:33.407545Z",
          "iopub.execute_input": "2021-08-24T07:01:33.407882Z",
          "iopub.status.idle": "2021-08-24T07:01:39.644612Z",
          "shell.execute_reply.started": "2021-08-24T07:01:33.407855Z",
          "shell.execute_reply": "2021-08-24T07:01:39.643277Z"
        },
        "trusted": true,
        "colab": {
          "base_uri": "https://localhost:8080/"
        },
        "id": "wG1sIxmxOBGP",
        "outputId": "b88e10cb-3b05-49e7-c44e-9bbbe91f7a11"
      },
      "execution_count": 11,
      "outputs": [
        {
          "output_type": "execute_result",
          "data": {
            "text/plain": [
              "array(['Iris-setosa', 'Iris-versicolor', 'Iris-virginica'], dtype=object)"
            ]
          },
          "metadata": {},
          "execution_count": 11
        }
      ]
    },
    {
      "cell_type": "markdown",
      "source": [
        "## Categorizing target values\n",
        "When we deal with a multiclass classification, we use the cross-entropy loss function. There are two ways of using the cross-entropy loss in tensorflow.keras:\n",
        "* tf.keras.losses.CategoricalCrossentropy\n",
        "* tf.keras.losses.SparseCategoricalCrossentropy\n",
        "\n",
        "When we use tf.keras.losses.CategoricalCrossentropy, we’ll have to convert the target values into categorical format first – with one-hot encoding, or to_categorical in Keras.<br><br>\n",
        "\n",
        "When we have integer targets instead of categorical vectors as targets, we can use sparse categorical crossentropy. It’s an integer-based version of the categorical crossentropy loss function, which means that we don’t have to convert the targets into categorical format anymore."
      ],
      "metadata": {
        "id": "zbMwXIKTBUWH"
      }
    },
    {
      "cell_type": "code",
      "source": [
        "from tensorflow.keras.utils import to_categorical\n",
        "\n",
        "Y_vect_cat = to_categorical(Y_encode,num_classes=3)\n",
        "Y_vect_cat[0:2]"
      ],
      "metadata": {
        "colab": {
          "base_uri": "https://localhost:8080/"
        },
        "id": "Zoy-JH-iXA34",
        "outputId": "297a3c01-45fe-4b36-cbda-137d710381ee"
      },
      "execution_count": 16,
      "outputs": [
        {
          "output_type": "execute_result",
          "data": {
            "text/plain": [
              "array([[1., 0., 0.],\n",
              "       [1., 0., 0.]], dtype=float32)"
            ]
          },
          "metadata": {},
          "execution_count": 16
        }
      ]
    },
    {
      "cell_type": "markdown",
      "source": [
        "## Split into a training set and test set"
      ],
      "metadata": {
        "id": "3ToK3whDZH7h"
      }
    },
    {
      "cell_type": "code",
      "source": [
        "from sklearn.model_selection import train_test_split\n",
        "\n",
        "X_train, X_test, y_train, y_test = train_test_split(X.values, Y_vect_cat, test_size=0.2, random_state=42)"
      ],
      "metadata": {
        "id": "1nG_ZYaWBUxz"
      },
      "execution_count": 26,
      "outputs": []
    },
    {
      "cell_type": "markdown",
      "source": [
        "## Building the model with categorical_crossentropy loss\n",
        "We build an ANN with the following layers:\n",
        "* Dense layer with 10 units and activation='relu'\n",
        "* BatchNormalization layer\n",
        "* Dropout layer with rate 0.1\n",
        "* Dense layer with 10 units and activation='relu'\n",
        "* Dense layer with 3 units and activation='softmax'\n",
        "\n",
        "We compile our model with optimizer='adam', loss='categorical_crossentropy' and "
      ],
      "metadata": {
        "id": "WAfO6p3CaCKe"
      }
    },
    {
      "cell_type": "code",
      "source": [
        "from tensorflow.keras.layers import Dense, Dropout, BatchNormalization \n",
        "from tensorflow.keras.models import Sequential\n",
        "\n",
        "model = Sequential()\n",
        "model.add(Dense(10,activation='relu',input_shape=(4,)))\n",
        "model.add(BatchNormalization())\n",
        "model.add(Dropout(0.1))\n",
        "model.add(Dense(10, activation='relu'))\n",
        "model.add(Dense(3,activation='softmax'))\n",
        "\n",
        "model.compile(optimizer='adam',loss='categorical_crossentropy',metrics=['accuracy'])"
      ],
      "metadata": {
        "execution": {
          "iopub.status.busy": "2021-08-24T07:02:11.352299Z",
          "iopub.execute_input": "2021-08-24T07:02:11.352634Z",
          "iopub.status.idle": "2021-08-24T07:02:15.158727Z",
          "shell.execute_reply.started": "2021-08-24T07:02:11.352606Z",
          "shell.execute_reply": "2021-08-24T07:02:15.157955Z"
        },
        "trusted": true,
        "id": "VNcvykuiOBGQ"
      },
      "execution_count": 27,
      "outputs": []
    },
    {
      "cell_type": "markdown",
      "source": [
        "## Fit the model and evaluate it\n",
        "We fit the model with 300 epochs. We set batch_size to 10."
      ],
      "metadata": {
        "id": "GHFk1xlndb56"
      }
    },
    {
      "cell_type": "code",
      "source": [
        "model.fit(X_train, y_train, epochs=300, batch_size=10,verbose=0,validation_split=0.1)"
      ],
      "metadata": {
        "colab": {
          "base_uri": "https://localhost:8080/"
        },
        "id": "DuKrTrj8ddnq",
        "outputId": "c5fdefe4-4242-4d81-f0f5-af8f68f93cdc"
      },
      "execution_count": 28,
      "outputs": [
        {
          "output_type": "execute_result",
          "data": {
            "text/plain": [
              "<keras.callbacks.History at 0x7f2782c3f890>"
            ]
          },
          "metadata": {},
          "execution_count": 28
        }
      ]
    },
    {
      "cell_type": "markdown",
      "source": [
        "We evaluate the model:"
      ],
      "metadata": {
        "id": "A4BZU5f_OBGQ"
      }
    },
    {
      "cell_type": "code",
      "source": [
        "model.evaluate(X_test, y_test)\n"
      ],
      "metadata": {
        "execution": {
          "iopub.status.busy": "2021-08-24T07:03:46.354139Z",
          "iopub.execute_input": "2021-08-24T07:03:46.354488Z",
          "iopub.status.idle": "2021-08-24T07:03:46.562055Z",
          "shell.execute_reply.started": "2021-08-24T07:03:46.354458Z",
          "shell.execute_reply": "2021-08-24T07:03:46.561131Z"
        },
        "trusted": true,
        "colab": {
          "base_uri": "https://localhost:8080/"
        },
        "id": "fIxxP8QSOBGR",
        "outputId": "0abd1f46-1576-4097-8f62-04b7d97acca9"
      },
      "execution_count": 29,
      "outputs": [
        {
          "output_type": "stream",
          "name": "stdout",
          "text": [
            "1/1 [==============================] - 0s 21ms/step - loss: 0.0658 - accuracy: 1.0000\n"
          ]
        },
        {
          "output_type": "execute_result",
          "data": {
            "text/plain": [
              "[0.06580964475870132, 1.0]"
            ]
          },
          "metadata": {},
          "execution_count": 29
        }
      ]
    },
    {
      "cell_type": "markdown",
      "source": [
        "## Trying the model on a new sample\n",
        "We create a probability vector with our model:"
      ],
      "metadata": {
        "id": "di2OWssXgOqQ"
      }
    },
    {
      "cell_type": "code",
      "source": [
        "x_sample = X_test[8]\n",
        "x_sample = x_sample.reshape(1,4)\n",
        "vect_proba = model.predict(x_sample)\n",
        "vect_proba"
      ],
      "metadata": {
        "colab": {
          "base_uri": "https://localhost:8080/"
        },
        "id": "yotMVHNlgQ1g",
        "outputId": "81f2a78d-4bc3-4ab9-a470-b54ae2fc2dbf"
      },
      "execution_count": 37,
      "outputs": [
        {
          "output_type": "execute_result",
          "data": {
            "text/plain": [
              "array([[6.1726540e-05, 7.2145969e-01, 2.7847856e-01]], dtype=float32)"
            ]
          },
          "metadata": {},
          "execution_count": 37
        }
      ]
    },
    {
      "cell_type": "code",
      "source": [
        "import numpy as np\n",
        "pred_cat_num = np.argmax(vect_proba)\n",
        "pred_cat_label = le.inverse_transform([pred_cat_num])\n",
        "true_cat_label = le.inverse_transform([np.argmax(y_test[8])])\n",
        "print(\"the predited class is: \"+str(pred_cat_label))\n",
        "print(\"the true class is: \"+str(true_cat_label))"
      ],
      "metadata": {
        "colab": {
          "base_uri": "https://localhost:8080/"
        },
        "id": "6jj9mGgVjkl_",
        "outputId": "2e7ba1cf-246a-4b9f-ba05-dad8e3d19b21"
      },
      "execution_count": 43,
      "outputs": [
        {
          "output_type": "stream",
          "name": "stdout",
          "text": [
            "the predited class is: ['Iris-versicolor']\n",
            "the true class is: ['Iris-versicolor']\n"
          ]
        }
      ]
    },
    {
      "cell_type": "markdown",
      "source": [
        "## Building the model with spars_categorical_crossentropy loss\n",
        "\n",
        "The ANN we build here has the architecture of the previous except the number of units of the last layer and the loss function. We rebuild the training set and test set. Now, the target values are made from the integer numpy array Y_encode."
      ],
      "metadata": {
        "id": "SzSGxyealcMB"
      }
    },
    {
      "cell_type": "code",
      "source": [
        "from sklearn.model_selection import train_test_split\n",
        "X_train, X_test, y_train, y_test = train_test_split(X.values, Y_encode, test_size=0.2, random_state=42)\n",
        "y_train[0:4]"
      ],
      "metadata": {
        "colab": {
          "base_uri": "https://localhost:8080/"
        },
        "id": "Nmfmdyf4m7If",
        "outputId": "f4a0db55-c35c-45ec-ad39-a7d362e933e5"
      },
      "execution_count": 45,
      "outputs": [
        {
          "output_type": "execute_result",
          "data": {
            "text/plain": [
              "array([0, 0, 1, 0])"
            ]
          },
          "metadata": {},
          "execution_count": 45
        }
      ]
    },
    {
      "cell_type": "markdown",
      "source": [
        "We build the new ANN. When we use the sparse_categorical_crossentropy loss function, the last Dense layer has 3+1 units, where 3 equals the number of distinct classes in our dataset.<br>\n",
        "We compile our new ANN with the 'sparse_categorical_crossentropy' loss function."
      ],
      "metadata": {
        "id": "fl_bC-3GorJq"
      }
    },
    {
      "cell_type": "code",
      "source": [
        "from tensorflow.keras.layers import Dense, Dropout, BatchNormalization \n",
        "from tensorflow.keras.models import Sequential\n",
        "\n",
        "model_new = Sequential()\n",
        "model_new.add(Dense(10,activation='relu',input_shape=(4,)))\n",
        "model_new.add(BatchNormalization())\n",
        "model_new.add(Dropout(0.1))\n",
        "model_new.add(Dense(10, activation='relu'))\n",
        "model_new.add(Dense(4,activation='softmax'))\n",
        "\n",
        "model_new.compile(optimizer='adam',loss='sparse_categorical_crossentropy',metrics=['accuracy'])"
      ],
      "metadata": {
        "id": "xhsvS3rPpvtR"
      },
      "execution_count": 51,
      "outputs": []
    },
    {
      "cell_type": "markdown",
      "source": [
        "We fit the new ANN with 300 epochs and evaluate it."
      ],
      "metadata": {
        "id": "BK7n5Y_qqrbx"
      }
    },
    {
      "cell_type": "code",
      "source": [
        "model.fit(X_train,y_train,epochs=300,batch_size=10,verbose=0,validation_split=0.1)\n",
        "model.evaluate(X_test,y_test)"
      ],
      "metadata": {
        "colab": {
          "base_uri": "https://localhost:8080/"
        },
        "id": "oiWqsH5uqxQh",
        "outputId": "37cedf1e-2c3c-419e-a59c-6056df299437"
      },
      "execution_count": 50,
      "outputs": [
        {
          "output_type": "stream",
          "name": "stdout",
          "text": [
            "1/1 [==============================] - 0s 30ms/step - loss: 0.0453 - accuracy: 0.9667\n"
          ]
        },
        {
          "output_type": "execute_result",
          "data": {
            "text/plain": [
              "[0.04528772830963135, 0.9666666388511658]"
            ]
          },
          "metadata": {},
          "execution_count": 50
        }
      ]
    },
    {
      "cell_type": "markdown",
      "source": [
        "# Exemple: Red Wine Quality Classification\n",
        "In this example, we build an ANN that predicts the wine quality. We first import the dataset."
      ],
      "metadata": {
        "id": "Py04CFdlOBGo"
      }
    },
    {
      "cell_type": "code",
      "source": [
        "import pandas as pd\n",
        "winequality = pd.read_csv(\"https://raw.githubusercontent.com/fabnancyuhp/DEEP-LEARNING/main/DATA/winequality-red.csv\").astype('float32')\n",
        "winequality.head(2)"
      ],
      "metadata": {
        "colab": {
          "base_uri": "https://localhost:8080/",
          "height": 173
        },
        "id": "gmzp2w2lVkQr",
        "outputId": "77d69c15-77b5-414b-86c9-7e370547d267"
      },
      "execution_count": 3,
      "outputs": [
        {
          "output_type": "execute_result",
          "data": {
            "text/html": [
              "\n",
              "  <div id=\"df-48e5e405-e63e-4020-b80f-7bae54aaffa3\">\n",
              "    <div class=\"colab-df-container\">\n",
              "      <div>\n",
              "<style scoped>\n",
              "    .dataframe tbody tr th:only-of-type {\n",
              "        vertical-align: middle;\n",
              "    }\n",
              "\n",
              "    .dataframe tbody tr th {\n",
              "        vertical-align: top;\n",
              "    }\n",
              "\n",
              "    .dataframe thead th {\n",
              "        text-align: right;\n",
              "    }\n",
              "</style>\n",
              "<table border=\"1\" class=\"dataframe\">\n",
              "  <thead>\n",
              "    <tr style=\"text-align: right;\">\n",
              "      <th></th>\n",
              "      <th>fixed acidity</th>\n",
              "      <th>volatile acidity</th>\n",
              "      <th>citric acid</th>\n",
              "      <th>residual sugar</th>\n",
              "      <th>chlorides</th>\n",
              "      <th>free sulfur dioxide</th>\n",
              "      <th>total sulfur dioxide</th>\n",
              "      <th>density</th>\n",
              "      <th>pH</th>\n",
              "      <th>sulphates</th>\n",
              "      <th>alcohol</th>\n",
              "      <th>quality</th>\n",
              "    </tr>\n",
              "  </thead>\n",
              "  <tbody>\n",
              "    <tr>\n",
              "      <th>0</th>\n",
              "      <td>7.4</td>\n",
              "      <td>0.70</td>\n",
              "      <td>0.0</td>\n",
              "      <td>1.9</td>\n",
              "      <td>0.076</td>\n",
              "      <td>11.0</td>\n",
              "      <td>34.0</td>\n",
              "      <td>0.9978</td>\n",
              "      <td>3.51</td>\n",
              "      <td>0.56</td>\n",
              "      <td>9.4</td>\n",
              "      <td>5.0</td>\n",
              "    </tr>\n",
              "    <tr>\n",
              "      <th>1</th>\n",
              "      <td>7.8</td>\n",
              "      <td>0.88</td>\n",
              "      <td>0.0</td>\n",
              "      <td>2.6</td>\n",
              "      <td>0.098</td>\n",
              "      <td>25.0</td>\n",
              "      <td>67.0</td>\n",
              "      <td>0.9968</td>\n",
              "      <td>3.20</td>\n",
              "      <td>0.68</td>\n",
              "      <td>9.8</td>\n",
              "      <td>5.0</td>\n",
              "    </tr>\n",
              "  </tbody>\n",
              "</table>\n",
              "</div>\n",
              "      <button class=\"colab-df-convert\" onclick=\"convertToInteractive('df-48e5e405-e63e-4020-b80f-7bae54aaffa3')\"\n",
              "              title=\"Convert this dataframe to an interactive table.\"\n",
              "              style=\"display:none;\">\n",
              "        \n",
              "  <svg xmlns=\"http://www.w3.org/2000/svg\" height=\"24px\"viewBox=\"0 0 24 24\"\n",
              "       width=\"24px\">\n",
              "    <path d=\"M0 0h24v24H0V0z\" fill=\"none\"/>\n",
              "    <path d=\"M18.56 5.44l.94 2.06.94-2.06 2.06-.94-2.06-.94-.94-2.06-.94 2.06-2.06.94zm-11 1L8.5 8.5l.94-2.06 2.06-.94-2.06-.94L8.5 2.5l-.94 2.06-2.06.94zm10 10l.94 2.06.94-2.06 2.06-.94-2.06-.94-.94-2.06-.94 2.06-2.06.94z\"/><path d=\"M17.41 7.96l-1.37-1.37c-.4-.4-.92-.59-1.43-.59-.52 0-1.04.2-1.43.59L10.3 9.45l-7.72 7.72c-.78.78-.78 2.05 0 2.83L4 21.41c.39.39.9.59 1.41.59.51 0 1.02-.2 1.41-.59l7.78-7.78 2.81-2.81c.8-.78.8-2.07 0-2.86zM5.41 20L4 18.59l7.72-7.72 1.47 1.35L5.41 20z\"/>\n",
              "  </svg>\n",
              "      </button>\n",
              "      \n",
              "  <style>\n",
              "    .colab-df-container {\n",
              "      display:flex;\n",
              "      flex-wrap:wrap;\n",
              "      gap: 12px;\n",
              "    }\n",
              "\n",
              "    .colab-df-convert {\n",
              "      background-color: #E8F0FE;\n",
              "      border: none;\n",
              "      border-radius: 50%;\n",
              "      cursor: pointer;\n",
              "      display: none;\n",
              "      fill: #1967D2;\n",
              "      height: 32px;\n",
              "      padding: 0 0 0 0;\n",
              "      width: 32px;\n",
              "    }\n",
              "\n",
              "    .colab-df-convert:hover {\n",
              "      background-color: #E2EBFA;\n",
              "      box-shadow: 0px 1px 2px rgba(60, 64, 67, 0.3), 0px 1px 3px 1px rgba(60, 64, 67, 0.15);\n",
              "      fill: #174EA6;\n",
              "    }\n",
              "\n",
              "    [theme=dark] .colab-df-convert {\n",
              "      background-color: #3B4455;\n",
              "      fill: #D2E3FC;\n",
              "    }\n",
              "\n",
              "    [theme=dark] .colab-df-convert:hover {\n",
              "      background-color: #434B5C;\n",
              "      box-shadow: 0px 1px 3px 1px rgba(0, 0, 0, 0.15);\n",
              "      filter: drop-shadow(0px 1px 2px rgba(0, 0, 0, 0.3));\n",
              "      fill: #FFFFFF;\n",
              "    }\n",
              "  </style>\n",
              "\n",
              "      <script>\n",
              "        const buttonEl =\n",
              "          document.querySelector('#df-48e5e405-e63e-4020-b80f-7bae54aaffa3 button.colab-df-convert');\n",
              "        buttonEl.style.display =\n",
              "          google.colab.kernel.accessAllowed ? 'block' : 'none';\n",
              "\n",
              "        async function convertToInteractive(key) {\n",
              "          const element = document.querySelector('#df-48e5e405-e63e-4020-b80f-7bae54aaffa3');\n",
              "          const dataTable =\n",
              "            await google.colab.kernel.invokeFunction('convertToInteractive',\n",
              "                                                     [key], {});\n",
              "          if (!dataTable) return;\n",
              "\n",
              "          const docLinkHtml = 'Like what you see? Visit the ' +\n",
              "            '<a target=\"_blank\" href=https://colab.research.google.com/notebooks/data_table.ipynb>data table notebook</a>'\n",
              "            + ' to learn more about interactive tables.';\n",
              "          element.innerHTML = '';\n",
              "          dataTable['output_type'] = 'display_data';\n",
              "          await google.colab.output.renderOutput(dataTable, element);\n",
              "          const docLink = document.createElement('div');\n",
              "          docLink.innerHTML = docLinkHtml;\n",
              "          element.appendChild(docLink);\n",
              "        }\n",
              "      </script>\n",
              "    </div>\n",
              "  </div>\n",
              "  "
            ],
            "text/plain": [
              "   fixed acidity  volatile acidity  citric acid  ...  sulphates  alcohol  quality\n",
              "0            7.4              0.70          0.0  ...       0.56      9.4      5.0\n",
              "1            7.8              0.88          0.0  ...       0.68      9.8      5.0\n",
              "\n",
              "[2 rows x 12 columns]"
            ]
          },
          "metadata": {},
          "execution_count": 3
        }
      ]
    },
    {
      "cell_type": "markdown",
      "source": [
        "We get the number of distinct classes. We have 6 classes."
      ],
      "metadata": {
        "id": "o2otRZitxNjA"
      }
    },
    {
      "cell_type": "code",
      "source": [
        "winequality['quality'].unique()"
      ],
      "metadata": {
        "colab": {
          "base_uri": "https://localhost:8080/"
        },
        "id": "QBAcAIAIxfz8",
        "outputId": "b9e31704-696c-4c2c-c8ba-95ac0722330d"
      },
      "execution_count": 57,
      "outputs": [
        {
          "output_type": "execute_result",
          "data": {
            "text/plain": [
              "array([5., 6., 7., 4., 8., 3.], dtype=float32)"
            ]
          },
          "metadata": {},
          "execution_count": 57
        }
      ]
    },
    {
      "cell_type": "markdown",
      "source": [
        "## Split dataset into feature variables and target values\n",
        "* X = feature values\n",
        "* Y = target values \n",
        "\n",
        "In the cell below, we use the .values method to convert a pandas.data frame into a NumPy array more suitable for a Keras model."
      ],
      "metadata": {
        "id": "XxCA5bzOx1hi"
      }
    },
    {
      "cell_type": "code",
      "source": [
        "import numpy as np\n",
        "#nb_classes = len(np.unique(y))\n",
        "#print(\"The number of classe is: \"+str(nb_classes))\n",
        "\n",
        "x = winequality.drop(['quality'], axis=1).values\n",
        "y = winequality['quality'].values\n",
        "\n",
        "#x_train, x_test, y_train, y_test = train_test_split(x, y, test_size=0.3, random_state=42)#"
      ],
      "metadata": {
        "execution": {
          "iopub.status.busy": "2021-08-19T12:46:10.21304Z",
          "iopub.execute_input": "2021-08-19T12:46:10.2134Z",
          "iopub.status.idle": "2021-08-19T12:46:10.218279Z",
          "shell.execute_reply.started": "2021-08-19T12:46:10.213371Z",
          "shell.execute_reply": "2021-08-19T12:46:10.217544Z"
        },
        "trusted": true,
        "id": "HNg_BaDjOBGo"
      },
      "execution_count": 4,
      "outputs": []
    },
    {
      "cell_type": "markdown",
      "source": [
        "## Data prerpocessing\n",
        "Since we have a multiclass classification problem we'll use the categorical cross-entropy loss function in our model. To apply that kind of loss function, we should convert our target values into categorical vectors.\n",
        "* In the first step, we encode y with LabelEncoder.\n",
        "* Secondly, we apply to_categorical with num_class=6 "
      ],
      "metadata": {
        "id": "ZZNKAdNOOBGp"
      }
    },
    {
      "cell_type": "code",
      "source": [
        "from tensorflow.keras.utils import to_categorical\n",
        "from sklearn.preprocessing import LabelEncoder \n",
        "\n",
        "#we encode y with LabelEncoder.\n",
        "le = LabelEncoder()\n",
        "le.fit(np.unique(y))\n",
        "y_encod = le.transform(y)\n",
        "y_cat = to_categorical(y_encod ,num_classes=6)\n",
        "y_cat[0:2]"
      ],
      "metadata": {
        "execution": {
          "iopub.status.busy": "2021-08-19T13:18:47.181294Z",
          "iopub.execute_input": "2021-08-19T13:18:47.181711Z",
          "iopub.status.idle": "2021-08-19T13:18:47.189688Z",
          "shell.execute_reply.started": "2021-08-19T13:18:47.181674Z",
          "shell.execute_reply": "2021-08-19T13:18:47.188733Z"
        },
        "trusted": true,
        "colab": {
          "base_uri": "https://localhost:8080/"
        },
        "id": "T-Etc-m6OBGp",
        "outputId": "926e5e37-4768-4b17-d405-704c74236ac1"
      },
      "execution_count": 10,
      "outputs": [
        {
          "output_type": "execute_result",
          "data": {
            "text/plain": [
              "array([[0., 0., 1., 0., 0., 0.],\n",
              "       [0., 0., 1., 0., 0., 0.]], dtype=float32)"
            ]
          },
          "metadata": {},
          "execution_count": 10
        }
      ]
    },
    {
      "cell_type": "markdown",
      "source": [
        "## Split into training set and test set"
      ],
      "metadata": {
        "id": "KObG1E40T0w_"
      }
    },
    {
      "cell_type": "code",
      "source": [
        "from sklearn.model_selection import train_test_split\n",
        "X_train, X_test, y_train, y_test = train_test_split(x, y_cat, test_size=0.2, random_state=42)\n",
        "y_train[0:4]"
      ],
      "metadata": {
        "colab": {
          "base_uri": "https://localhost:8080/"
        },
        "id": "6e6KWsdNT1Y3",
        "outputId": "116901cd-3807-4967-d4a1-99f381d296ac"
      },
      "execution_count": 11,
      "outputs": [
        {
          "output_type": "execute_result",
          "data": {
            "text/plain": [
              "array([[0., 0., 0., 1., 0., 0.],\n",
              "       [0., 0., 0., 1., 0., 0.],\n",
              "       [0., 0., 0., 1., 0., 0.],\n",
              "       [0., 0., 1., 0., 0., 0.]], dtype=float32)"
            ]
          },
          "metadata": {},
          "execution_count": 11
        }
      ]
    },
    {
      "cell_type": "markdown",
      "source": [
        "## Building ANN to predict wine quality\n",
        "Since we deal with a 6 classes problem, we build a neural network model such that:\n",
        "* The loss function is the categorical_crossentropy\n",
        "* The output layer yields a 6 sized probability vector\n",
        "* The output layer activation function is the softmax function\n",
        "\n",
        "We put some BatchNormalization layers and some Dropouts layer in our sequential model.\n"
      ],
      "metadata": {
        "id": "b9R3aO2RO26e"
      }
    },
    {
      "cell_type": "code",
      "source": [
        "from tensorflow.keras.layers import Dense, Dropout, BatchNormalization, InputLayer\n",
        "from tensorflow.keras.models import Sequential\n",
        "\n",
        "model = Sequential()\n",
        "model.add(InputLayer(input_shape=(x.shape[1],)))\n",
        "model.add(BatchNormalization())\n",
        "model.add(Dense(70,activation='relu'))\n",
        "model.add(Dropout(0.1))\n",
        "model.add(BatchNormalization())          \n",
        "model.add(Dense(60,activation='relu'))\n",
        "model.add(Dropout(0.1))\n",
        "model.add(BatchNormalization())\n",
        "#model.add(Dense(12,activation='relu'))\n",
        "#model.add(Dropout(0.1))\n",
        "model.add(Dense(6,activation='softmax'))\n"
      ],
      "metadata": {
        "execution": {
          "iopub.status.busy": "2021-08-19T14:15:03.674113Z",
          "iopub.execute_input": "2021-08-19T14:15:03.674526Z",
          "iopub.status.idle": "2021-08-19T14:15:03.766395Z",
          "shell.execute_reply.started": "2021-08-19T14:15:03.674488Z",
          "shell.execute_reply": "2021-08-19T14:15:03.765584Z"
        },
        "trusted": true,
        "id": "GA7QGpuxOBGq"
      },
      "execution_count": 36,
      "outputs": []
    },
    {
      "cell_type": "markdown",
      "source": [
        "We compile the model and train it."
      ],
      "metadata": {
        "id": "yncxp8tDfq5n"
      }
    },
    {
      "cell_type": "code",
      "source": [
        "model.compile(optimizer='adam',loss='categorical_crossentropy',metrics=['accuracy'])\n",
        "history = model.fit(X_train, y_train, epochs=800,validation_split=0.1,verbose=0) #verbose=0"
      ],
      "metadata": {
        "execution": {
          "iopub.status.busy": "2021-08-19T14:15:11.975122Z",
          "iopub.execute_input": "2021-08-19T14:15:11.975751Z",
          "iopub.status.idle": "2021-08-19T14:15:52.474363Z",
          "shell.execute_reply.started": "2021-08-19T14:15:11.97569Z",
          "shell.execute_reply": "2021-08-19T14:15:52.473493Z"
        },
        "trusted": true,
        "id": "T4iCl_VMOBGu"
      },
      "execution_count": 37,
      "outputs": []
    },
    {
      "cell_type": "markdown",
      "source": [
        "We evaluate the model over the test set:"
      ],
      "metadata": {
        "id": "mXONOx2jd_20"
      }
    },
    {
      "cell_type": "code",
      "source": [
        "model.evaluate(X_test, y_test)"
      ],
      "metadata": {
        "execution": {
          "iopub.status.busy": "2021-08-19T14:16:24.020525Z",
          "iopub.execute_input": "2021-08-19T14:16:24.020893Z",
          "iopub.status.idle": "2021-08-19T14:16:24.235877Z",
          "shell.execute_reply.started": "2021-08-19T14:16:24.020862Z",
          "shell.execute_reply": "2021-08-19T14:16:24.235036Z"
        },
        "trusted": true,
        "colab": {
          "base_uri": "https://localhost:8080/"
        },
        "id": "qS1cIS-pOBGv",
        "outputId": "6daeb6e1-a8e6-4c89-faa7-49cd682e893e"
      },
      "execution_count": 38,
      "outputs": [
        {
          "output_type": "stream",
          "name": "stdout",
          "text": [
            "10/10 [==============================] - 0s 2ms/step - loss: 1.0793 - accuracy: 0.6281\n"
          ]
        },
        {
          "output_type": "execute_result",
          "data": {
            "text/plain": [
              "[1.0792872905731201, 0.628125011920929]"
            ]
          },
          "metadata": {},
          "execution_count": 38
        }
      ]
    },
    {
      "cell_type": "markdown",
      "source": [
        "We display the model learning history:"
      ],
      "metadata": {
        "id": "-INEXQZdeYG0"
      }
    },
    {
      "cell_type": "code",
      "source": [
        "pd.DataFrame(history.history).plot()"
      ],
      "metadata": {
        "colab": {
          "base_uri": "https://localhost:8080/",
          "height": 284
        },
        "id": "tHcoZAeoYtGJ",
        "outputId": "446fef1c-5730-417b-d7bf-78103c28a8f1"
      },
      "execution_count": 39,
      "outputs": [
        {
          "output_type": "execute_result",
          "data": {
            "text/plain": [
              "<matplotlib.axes._subplots.AxesSubplot at 0x7f6118d48190>"
            ]
          },
          "metadata": {},
          "execution_count": 39
        },
        {
          "output_type": "display_data",
          "data": {
            "image/png": "[encoded data removed]",
            "text/plain": [
              "<Figure size 432x288 with 1 Axes>"
            ]
          },
          "metadata": {
            "needs_background": "light"
          }
        }
      ]
    },
    {
      "cell_type": "markdown",
      "source": [
        "## We try the model we've just trained over a new sample:\n",
        "* We create a probability vector\n",
        "* We display the predicted class"
      ],
      "metadata": {
        "id": "Q_nIkisDhJbb"
      }
    },
    {
      "cell_type": "code",
      "source": [
        "x_new = X_test[20].reshape(1,-1)\n",
        "proba_vect = model.predict(x_new)\n",
        "pred_num_class = np.argmax(proba_vect)\n",
        "pred_class = le.inverse_transform([pred_num_class])\n",
        "true_class = le.inverse_transform([np.argmax(y_test[20])])\n",
        "print(\"predicted class : \"+str(pred_class))\n",
        "print(\"Tue class : \"+str(pred_class))"
      ],
      "metadata": {
        "colab": {
          "base_uri": "https://localhost:8080/"
        },
        "id": "AW5lEEBaiHOf",
        "outputId": "39f0a276-09d6-4c63-f11e-ecb12585b3f7"
      },
      "execution_count": 51,
      "outputs": [
        {
          "output_type": "stream",
          "name": "stdout",
          "text": [
            "predicted class : [5.]\n",
            "Tue class : [5.]\n"
          ]
        }
      ]
    },
    {
      "cell_type": "markdown",
      "source": [
        "# Exercise : Classification on Diabetes Data\n",
        "\n",
        "In this exercise, we deal with a diabetes dataset. First, you have the run the cell below to import and view the head of the dataset. "
      ],
      "metadata": {
        "id": "E3EgwFjKOBGv"
      }
    },
    {
      "cell_type": "code",
      "source": [
        "import pandas as pd\n",
        "from tensorflow.keras.utils import get_file\n",
        "csv_file = get_file('diabetes.csv', 'https://raw.githubusercontent.com/fabnancyuhp/DEEP-LEARNING/main/DATA/diabetes.csv')\n",
        "\n",
        "diabetes = pd.read_csv(csv_file)\n",
        "diabetes.head()"
      ],
      "metadata": {
        "execution": {
          "iopub.status.busy": "2021-08-24T12:10:24.343029Z",
          "iopub.execute_input": "2021-08-24T12:10:24.344251Z",
          "iopub.status.idle": "2021-08-24T12:10:30.985463Z",
          "shell.execute_reply.started": "2021-08-24T12:10:24.344092Z",
          "shell.execute_reply": "2021-08-24T12:10:30.98429Z"
        },
        "trusted": true,
        "colab": {
          "base_uri": "https://localhost:8080/",
          "height": 257
        },
        "id": "eHHIncTrOBGw",
        "outputId": "48f94cdd-81e3-47d6-96db-e82d4098d910"
      },
      "execution_count": 52,
      "outputs": [
        {
          "output_type": "stream",
          "name": "stdout",
          "text": [
            "Downloading data from https://raw.githubusercontent.com/fabnancyuhp/DEEP-LEARNING/main/DATA/diabetes.csv\n",
            "24576/23873 [==============================] - 0s 0us/step\n",
            "32768/23873 [=========================================] - 0s 0us/step\n"
          ]
        },
        {
          "output_type": "execute_result",
          "data": {
            "text/html": [
              "\n",
              "  <div id=\"df-42f0d28c-87d2-40d8-a412-fd35320bbc01\">\n",
              "    <div class=\"colab-df-container\">\n",
              "      <div>\n",
              "<style scoped>\n",
              "    .dataframe tbody tr th:only-of-type {\n",
              "        vertical-align: middle;\n",
              "    }\n",
              "\n",
              "    .dataframe tbody tr th {\n",
              "        vertical-align: top;\n",
              "    }\n",
              "\n",
              "    .dataframe thead th {\n",
              "        text-align: right;\n",
              "    }\n",
              "</style>\n",
              "<table border=\"1\" class=\"dataframe\">\n",
              "  <thead>\n",
              "    <tr style=\"text-align: right;\">\n",
              "      <th></th>\n",
              "      <th>Pregnancies</th>\n",
              "      <th>Glucose</th>\n",
              "      <th>BloodPressure</th>\n",
              "      <th>SkinThickness</th>\n",
              "      <th>Insulin</th>\n",
              "      <th>BMI</th>\n",
              "      <th>DiabetesPedigreeFunction</th>\n",
              "      <th>Age</th>\n",
              "      <th>Outcome</th>\n",
              "    </tr>\n",
              "  </thead>\n",
              "  <tbody>\n",
              "    <tr>\n",
              "      <th>0</th>\n",
              "      <td>6</td>\n",
              "      <td>148</td>\n",
              "      <td>72</td>\n",
              "      <td>35</td>\n",
              "      <td>0</td>\n",
              "      <td>33.6</td>\n",
              "      <td>0.627</td>\n",
              "      <td>50</td>\n",
              "      <td>1</td>\n",
              "    </tr>\n",
              "    <tr>\n",
              "      <th>1</th>\n",
              "      <td>1</td>\n",
              "      <td>85</td>\n",
              "      <td>66</td>\n",
              "      <td>29</td>\n",
              "      <td>0</td>\n",
              "      <td>26.6</td>\n",
              "      <td>0.351</td>\n",
              "      <td>31</td>\n",
              "      <td>0</td>\n",
              "    </tr>\n",
              "    <tr>\n",
              "      <th>2</th>\n",
              "      <td>8</td>\n",
              "      <td>183</td>\n",
              "      <td>64</td>\n",
              "      <td>0</td>\n",
              "      <td>0</td>\n",
              "      <td>23.3</td>\n",
              "      <td>0.672</td>\n",
              "      <td>32</td>\n",
              "      <td>1</td>\n",
              "    </tr>\n",
              "    <tr>\n",
              "      <th>3</th>\n",
              "      <td>1</td>\n",
              "      <td>89</td>\n",
              "      <td>66</td>\n",
              "      <td>23</td>\n",
              "      <td>94</td>\n",
              "      <td>28.1</td>\n",
              "      <td>0.167</td>\n",
              "      <td>21</td>\n",
              "      <td>0</td>\n",
              "    </tr>\n",
              "    <tr>\n",
              "      <th>4</th>\n",
              "      <td>0</td>\n",
              "      <td>137</td>\n",
              "      <td>40</td>\n",
              "      <td>35</td>\n",
              "      <td>168</td>\n",
              "      <td>43.1</td>\n",
              "      <td>2.288</td>\n",
              "      <td>33</td>\n",
              "      <td>1</td>\n",
              "    </tr>\n",
              "  </tbody>\n",
              "</table>\n",
              "</div>\n",
              "      <button class=\"colab-df-convert\" onclick=\"convertToInteractive('df-42f0d28c-87d2-40d8-a412-fd35320bbc01')\"\n",
              "              title=\"Convert this dataframe to an interactive table.\"\n",
              "              style=\"display:none;\">\n",
              "        \n",
              "  <svg xmlns=\"http://www.w3.org/2000/svg\" height=\"24px\"viewBox=\"0 0 24 24\"\n",
              "       width=\"24px\">\n",
              "    <path d=\"M0 0h24v24H0V0z\" fill=\"none\"/>\n",
              "    <path d=\"M18.56 5.44l.94 2.06.94-2.06 2.06-.94-2.06-.94-.94-2.06-.94 2.06-2.06.94zm-11 1L8.5 8.5l.94-2.06 2.06-.94-2.06-.94L8.5 2.5l-.94 2.06-2.06.94zm10 10l.94 2.06.94-2.06 2.06-.94-2.06-.94-.94-2.06-.94 2.06-2.06.94z\"/><path d=\"M17.41 7.96l-1.37-1.37c-.4-.4-.92-.59-1.43-.59-.52 0-1.04.2-1.43.59L10.3 9.45l-7.72 7.72c-.78.78-.78 2.05 0 2.83L4 21.41c.39.39.9.59 1.41.59.51 0 1.02-.2 1.41-.59l7.78-7.78 2.81-2.81c.8-.78.8-2.07 0-2.86zM5.41 20L4 18.59l7.72-7.72 1.47 1.35L5.41 20z\"/>\n",
              "  </svg>\n",
              "      </button>\n",
              "      \n",
              "  <style>\n",
              "    .colab-df-container {\n",
              "      display:flex;\n",
              "      flex-wrap:wrap;\n",
              "      gap: 12px;\n",
              "    }\n",
              "\n",
              "    .colab-df-convert {\n",
              "      background-color: #E8F0FE;\n",
              "      border: none;\n",
              "      border-radius: 50%;\n",
              "      cursor: pointer;\n",
              "      display: none;\n",
              "      fill: #1967D2;\n",
              "      height: 32px;\n",
              "      padding: 0 0 0 0;\n",
              "      width: 32px;\n",
              "    }\n",
              "\n",
              "    .colab-df-convert:hover {\n",
              "      background-color: #E2EBFA;\n",
              "      box-shadow: 0px 1px 2px rgba(60, 64, 67, 0.3), 0px 1px 3px 1px rgba(60, 64, 67, 0.15);\n",
              "      fill: #174EA6;\n",
              "    }\n",
              "\n",
              "    [theme=dark] .colab-df-convert {\n",
              "      background-color: #3B4455;\n",
              "      fill: #D2E3FC;\n",
              "    }\n",
              "\n",
              "    [theme=dark] .colab-df-convert:hover {\n",
              "      background-color: #434B5C;\n",
              "      box-shadow: 0px 1px 3px 1px rgba(0, 0, 0, 0.15);\n",
              "      filter: drop-shadow(0px 1px 2px rgba(0, 0, 0, 0.3));\n",
              "      fill: #FFFFFF;\n",
              "    }\n",
              "  </style>\n",
              "\n",
              "      <script>\n",
              "        const buttonEl =\n",
              "          document.querySelector('#df-42f0d28c-87d2-40d8-a412-fd35320bbc01 button.colab-df-convert');\n",
              "        buttonEl.style.display =\n",
              "          google.colab.kernel.accessAllowed ? 'block' : 'none';\n",
              "\n",
              "        async function convertToInteractive(key) {\n",
              "          const element = document.querySelector('#df-42f0d28c-87d2-40d8-a412-fd35320bbc01');\n",
              "          const dataTable =\n",
              "            await google.colab.kernel.invokeFunction('convertToInteractive',\n",
              "                                                     [key], {});\n",
              "          if (!dataTable) return;\n",
              "\n",
              "          const docLinkHtml = 'Like what you see? Visit the ' +\n",
              "            '<a target=\"_blank\" href=https://colab.research.google.com/notebooks/data_table.ipynb>data table notebook</a>'\n",
              "            + ' to learn more about interactive tables.';\n",
              "          element.innerHTML = '';\n",
              "          dataTable['output_type'] = 'display_data';\n",
              "          await google.colab.output.renderOutput(dataTable, element);\n",
              "          const docLink = document.createElement('div');\n",
              "          docLink.innerHTML = docLinkHtml;\n",
              "          element.appendChild(docLink);\n",
              "        }\n",
              "      </script>\n",
              "    </div>\n",
              "  </div>\n",
              "  "
            ],
            "text/plain": [
              "   Pregnancies  Glucose  BloodPressure  ...  DiabetesPedigreeFunction  Age  Outcome\n",
              "0            6      148             72  ...                     0.627   50        1\n",
              "1            1       85             66  ...                     0.351   31        0\n",
              "2            8      183             64  ...                     0.672   32        1\n",
              "3            1       89             66  ...                     0.167   21        0\n",
              "4            0      137             40  ...                     2.288   33        1\n",
              "\n",
              "[5 rows x 9 columns]"
            ]
          },
          "metadata": {},
          "execution_count": 52
        }
      ]
    },
    {
      "cell_type": "markdown",
      "source": [
        "It is a binary classification problem where we have to say if their onset of diabetes is 1 or not as 0."
      ],
      "metadata": {
        "id": "AIC3df1znj7S"
      }
    },
    {
      "cell_type": "markdown",
      "source": [
        "1) Take a look at the above-displayed data set. Which columns do you choose for the features? What is the target? Make a code to select the features and the target.\n",
        "\n",
        "\n",
        "2) Split the dataset into a training set and a test set using train_test_split.\n",
        "\n",
        "3) How many classes are there on the target? Which loss function do you choose?\n",
        "\n",
        "4) Make a neural network and compile it with TensorFlow.keras to solve this classification problem. \n",
        "You have to respect the following architecture: BatchNormalization layer following the input of the network, 2 hidden layers with 12 units and a l2 regularizer.\n",
        "\n",
        "5) Train your neural network with 600 epochs and set validation_split=0.1. Use X_train and y_train.\n",
        "\n",
        "6) Evaluate your model on the test set.\n",
        "\n",
        "5) How many trainable parameters does your neural network have?"
      ],
      "metadata": {
        "id": "wh6Ac0dfOBGx"
      }
    },
    {
      "cell_type": "markdown",
      "source": [
        "1) Take a look at the above-displayed data set. Which columns do you choose for the features? What is the target? Make a code to select the features and the target. Store the target into Y and the features into X."
      ],
      "metadata": {
        "id": "7FTxAj3vs52V"
      }
    },
    {
      "cell_type": "code",
      "source": [
        "#your code here\n",
        "X = diabetes.drop(['Outcome'],axis=1)\n",
        "Y = diabetes['Outcome']"
      ],
      "metadata": {
        "id": "9qqaTJVytmq9"
      },
      "execution_count": 64,
      "outputs": []
    },
    {
      "cell_type": "markdown",
      "source": [
        "2) Split the dataset into a training set and a test set using train_test_split. Set test_size=0.2."
      ],
      "metadata": {
        "id": "PqA9_dAKtv5f"
      }
    },
    {
      "cell_type": "code",
      "source": [
        "from sklearn.model_selection import train_test_split\n",
        "X_train, X_test, y_train, y_test = train_test_split(X, Y, test_size=0.2, random_state=42)"
      ],
      "metadata": {
        "id": "c30cKuQCuDvt"
      },
      "execution_count": 65,
      "outputs": []
    },
    {
      "cell_type": "markdown",
      "source": [
        "3) How many classes are there on the target? Which loss function do you choose?"
      ],
      "metadata": {
        "id": "cTjEQWV6uNLx"
      }
    },
    {
      "cell_type": "code",
      "source": [
        "#your code here."
      ],
      "metadata": {
        "id": "UBGV6n9NuRM1"
      },
      "execution_count": 66,
      "outputs": []
    },
    {
      "cell_type": "markdown",
      "source": [
        "4) Make a neural network and compile it with TensorFlow.keras to solve this classification problem. You have to respect the following architecture: \n",
        "* InputLayer\n",
        "* BatchNormalization \n",
        "* Dense layer with 12 units, activation='relu', a l2 kernel_regularizer with l2 regularization factor=0.01.\n",
        "* Dense layer with 12 units, activation='relu', a l1 kernel_regularizer with l1 regularization factor=0.01.\n",
        "* The output layer : a Dense layer with 1 unit, activation='sigmoid' "
      ],
      "metadata": {
        "id": "wo-yF8vpuYgI"
      }
    },
    {
      "cell_type": "code",
      "source": [
        "from tensorflow.keras.layers import Dense, Dropout, BatchNormalization, InputLayer\n",
        "from tensorflow.keras.models import Sequential\n",
        "from tensorflow.keras.regularizers import l2,l1\n",
        "\n",
        "model = Sequential()"
      ],
      "metadata": {
        "id": "inp8-o0gwbf1"
      },
      "execution_count": 67,
      "outputs": []
    },
    {
      "cell_type": "markdown",
      "source": [
        "5) Compile your model with:\n",
        "* an adam optimizer\n",
        "* loss= 'binary_crossentropy'\n",
        "* accuracy metrics"
      ],
      "metadata": {
        "id": "zXOcvbVywobO"
      }
    },
    {
      "cell_type": "code",
      "source": [
        "#Your code here"
      ],
      "metadata": {
        "id": "xAY2keyJxsms"
      },
      "execution_count": 69,
      "outputs": []
    },
    {
      "cell_type": "markdown",
      "source": [
        "6) Fit your model with:600 epochs and validation_split=0.1."
      ],
      "metadata": {
        "id": "t81lB9x1xB-M"
      }
    },
    {
      "cell_type": "code",
      "source": [
        "#your code here"
      ],
      "metadata": {
        "id": "lYVQEBIVxvq3"
      },
      "execution_count": 70,
      "outputs": []
    },
    {
      "cell_type": "markdown",
      "source": [
        "7) Evaluate your model on the test set."
      ],
      "metadata": {
        "id": "iFcGJLHcx0OA"
      }
    },
    {
      "cell_type": "code",
      "source": [
        "#your code here"
      ],
      "metadata": {
        "id": "O2k5uPtpx-Xm"
      },
      "execution_count": 71,
      "outputs": []
    },
    {
      "cell_type": "markdown",
      "source": [
        "8) Apply your model on the following point:"
      ],
      "metadata": {
        "id": "U7y7lIJyyDAM"
      }
    },
    {
      "cell_type": "code",
      "source": [
        "import numpy as np\n",
        "x_to_try = np.array([  0.  , 162.   ,  76.   ,  56.   , 100.   ,  53.2  ,   0.759,25. ])"
      ],
      "metadata": {
        "id": "sQiu77gCyy76"
      },
      "execution_count": 79,
      "outputs": []
    }
  ]
}