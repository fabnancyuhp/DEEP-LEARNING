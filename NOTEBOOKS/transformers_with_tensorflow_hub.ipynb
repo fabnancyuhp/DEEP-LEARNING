{
  "nbformat": 4,
  "nbformat_minor": 0,
  "metadata": {
    "kernelspec": {
      "language": "python",
      "display_name": "Python 3",
      "name": "python3"
    },
    "language_info": {
      "pygments_lexer": "ipython3",
      "nbconvert_exporter": "python",
      "version": "3.6.4",
      "file_extension": ".py",
      "codemirror_mode": {
        "name": "ipython",
        "version": 3
      },
      "name": "python",
      "mimetype": "text/x-python"
    },
    "colab": {
      "name": "transformers-with-tensorflow-hub.ipynb",
      "provenance": [],
      "include_colab_link": true
    },
    "accelerator": "GPU"
  },
  "cells": [
    {
      "cell_type": "markdown",
      "metadata": {
        "id": "view-in-github",
        "colab_type": "text"
      },
      "source": [
        "<a href=\"https://colab.research.google.com/github/fabnancyuhp/DEEP-LEARNING/blob/main/NOTEBOOKS/transformers_with_tensorflow_hub.ipynb\" target=\"_parent\"><img src=\"https://colab.research.google.com/assets/colab-badge.svg\" alt=\"Open In Colab\"/></a>"
      ]
    },
    {
      "cell_type": "markdown",
      "metadata": {
        "id": "da2RDrrL0Vwq"
      },
      "source": [
        "# TENSORFLOW_HUB\n",
        "Watch this video https://www.youtube.com/watch?v=BE5nkhFe3AE&t=55s to have an overview of TENSORFLOW_HUB.<br><br>\n",
        "TensorFlow Hub is a repository of trained machine learning models ready for fine-tuning and deployable anywhere. Reuse trained models like BERT and Faster R-CNN with just a few lines of code. Follow the link https://www.tensorflow.org/hub to access the  tensorflow_hub website.<br><br>\n",
        "\n",
        "To have access to the machine learning models stored in this hub go to https://tfhub.dev/. The models in tensorflow_hub are classified into several categories depending of the problems they can handle:\n",
        "* Text Problem Domains\n",
        "* Image Problem Domains\n",
        "* Video Problem Domains\n",
        "* Audio Problem Domains\n",
        "\n",
        "For exemple, if we want to have access to a video-audio-text model we go here https://tfhub.dev/s?module-type=video-audio-text. After that, if we choose the mmv/tsm-resnet50 model we go https://tfhub.dev/deepmind/mmv/tsm-resnet50/1. In the above code we download the model in training mode."
      ]
    },
    {
      "cell_type": "code",
      "metadata": {
        "trusted": true,
        "id": "5LbVxvYU0Vwz"
      },
      "source": [
        "#import tensorflow as tf\n",
        "#print(tf.__version__)\n",
        "#!pip install -U tensorflow-text==2.6.0 \n",
        "#!pip install -U tensorflow-text==tf.__version__\n",
        "#tf.__version__\n",
        "!pip install -U tensorflow-text==2.6.0 "
      ],
      "execution_count": null,
      "outputs": []
    },
    {
      "cell_type": "code",
      "metadata": {
        "trusted": true,
        "id": "fTqWuV9S0Vw1"
      },
      "source": [
        "import numpy as np\n",
        "import tensorflow_hub as hub\n",
        "import tensorflow_text as text\n",
        "import tensorflow.compat.v2 as tf\n",
        "\n",
        "module = hub.load(\"https://tfhub.dev/deepmind/mmv/tsm-resnet50/1\", tags={\"train\"})"
      ],
      "execution_count": null,
      "outputs": []
    },
    {
      "cell_type": "markdown",
      "metadata": {
        "id": "_e6O0mtb0Vw2"
      },
      "source": [
        "# BERT MODELS IN TENSORFLOW_HUB\n",
        "TENSORFLOW_HUB provide a wide range of text-mining pre-trained model such as BERT. BERT (Bidirectional Encoder Representations from Transformers) provides dense vector representations for natural language by using a deep, pre-trained neural network with the Transformer architecture. TENSORFLOW_HUB store several BERT models (https://tfhub.dev/google/collections/bert/1). Each BERT model in tf_hub has an associated preprocessing in tf_hub for use with it.<br><br>\n",
        "\n",
        "All the associated preprocess models take into account the begining and the end of a sentence. When a model prepoces a sentence like \"I like tensorflow\", it changes it into \"CLS I love tensorflow SEP\". It means, there are some specials tokens for the:\n",
        "* the begining of a sentence\n",
        "* the end of a sentence\n",
        "* unknowns words\n",
        "*....\n",
        "\n",
        "**BERT UNCASED WITH 12 ENCODERS**<br>\n",
        "https://tfhub.dev/tensorflow/bert_en_uncased_L-12_H-768_A-12/4 is a BERT model designed for uncased text with 12 encoders. This model has been pre-trained for English on the Wikipedia and BooksCorpus. The preprocessing for use with it is https://tfhub.dev/tensorflow/bert_en_uncased_preprocess/3.<br> All parameters in the module are trainable, and fine-tuning all parameters is the recommended practice. Now, we show how to import this model in python as tensorflow.keras.layers objects:"
      ]
    },
    {
      "cell_type": "code",
      "metadata": {
        "trusted": true,
        "id": "IHpnfzve0Vw2"
      },
      "source": [
        "#!pip install -U tensorflow-text==2.6.0   print(tf.__version__)\n",
        "import tensorflow_hub as hub\n",
        "import tensorflow as tf\n",
        "import tensorflow_text as text\n",
        "\n",
        "preprocessor = hub.KerasLayer(\"https://tfhub.dev/tensorflow/bert_en_uncased_preprocess/3\")\n",
        "encoder = hub.KerasLayer(\"https://tfhub.dev/tensorflow/bert_en_uncased_L-12_H-768_A-12/4\",trainable=True)"
      ],
      "execution_count": null,
      "outputs": []
    },
    {
      "cell_type": "markdown",
      "metadata": {
        "id": "D1mysCeo0Vw3"
      },
      "source": [
        "encoder(preprocessor(text_sample)) in the above code returns a dictionary of tf.Tensor np.array objects. The corresponding keys of dictionary are:\n",
        " * 'default'\n",
        " * 'pooled_output'\n",
        " * 'encoder_outputs'\n",
        " \n",
        "The 'pooled_output' key stores the embedding vectors of each sentences of our corpus. In the context of this notebook, we are mainly  interested in 'pooled_output'."
      ]
    },
    {
      "cell_type": "code",
      "metadata": {
        "trusted": true,
        "id": "qVowACrz0Vw4"
      },
      "source": [
        "text_sample = ['it is a tensorflow_hub presentation','use bert using pre-trained model from tensorflow']\n",
        "encoder(preprocessor(text_sample))"
      ],
      "execution_count": null,
      "outputs": []
    },
    {
      "cell_type": "code",
      "metadata": {
        "trusted": true,
        "colab": {
          "base_uri": "https://localhost:8080/"
        },
        "id": "zY8i-ssm0Vw4",
        "outputId": "c950bb56-8d59-4385-c69c-ebb336445e0e"
      },
      "source": [
        "encoder(preprocessor(text_sample))['pooled_output']"
      ],
      "execution_count": null,
      "outputs": [
        {
          "output_type": "execute_result",
          "data": {
            "text/plain": [
              "<tf.Tensor: shape=(2, 768), dtype=float32, numpy=\n",
              "array([[-0.835711  , -0.26990077, -0.21665962, ..., -0.23853494,\n",
              "        -0.5519091 ,  0.81152356],\n",
              "       [-0.8952712 , -0.49025884, -0.89983445, ..., -0.8330912 ,\n",
              "        -0.6336721 ,  0.82871586]], dtype=float32)>"
            ]
          },
          "metadata": {},
          "execution_count": 3
        }
      ]
    },
    {
      "cell_type": "markdown",
      "metadata": {
        "id": "a9jZJlJ_0Vw5"
      },
      "source": [
        "**BERT CASED WITH 24 ENCODERS**<br>\n",
        "https://tfhub.dev/tensorflow/bert_en_cased_L-24_H-1024_A-16/4 a BERT model designed for uncased text with 24 encoders. This model has been pre-trained for English on the Wikipedia and BooksCorpus. The preprocessing for use with it is https://tfhub.dev/tensorflow/bert_en_cased_preprocess/3.<br>\n",
        "All parameters in the module are trainable, and fine-tuning all parameters is the recommended practice.Now, we show how to import this model in python as tensorflow.keras.layers objects and to use it to get embedding vectors of sentences:"
      ]
    },
    {
      "cell_type": "code",
      "metadata": {
        "trusted": true,
        "colab": {
          "base_uri": "https://localhost:8080/"
        },
        "id": "ym0jkCS80Vw7",
        "outputId": "f4824439-fda2-42d8-f7f1-eb39c10d6f3a"
      },
      "source": [
        "#!pip install -U tensorflow-text==2.6.0\n",
        "#print(tf.__version__)\n",
        "import tensorflow_hub as hub\n",
        "import tensorflow as tf\n",
        "import tensorflow_text as text\n",
        "\n",
        "preprocessor = hub.KerasLayer(\"https://tfhub.dev/tensorflow/bert_en_cased_preprocess/3\")\n",
        "encoder = hub.KerasLayer(\"https://tfhub.dev/tensorflow/bert_en_cased_L-24_H-1024_A-16/4\",trainable=True)\n",
        "\n",
        "text_sample = ['it is a tensorflow_hub presentation','use bert using pre-trained model from tensorflow']\n",
        "encoder(preprocessor(text_sample))['pooled_output']"
      ],
      "execution_count": null,
      "outputs": [
        {
          "output_type": "execute_result",
          "data": {
            "text/plain": [
              "<tf.Tensor: shape=(2, 1024), dtype=float32, numpy=\n",
              "array([[ 0.9964297 ,  0.83808947,  0.9222261 , ..., -0.9872135 ,\n",
              "        -0.73264426,  0.9662131 ],\n",
              "       [ 0.994999  ,  0.8786669 ,  0.9259143 , ..., -0.98835206,\n",
              "        -0.72122973,  0.9567243 ]], dtype=float32)>"
            ]
          },
          "metadata": {},
          "execution_count": 4
        }
      ]
    },
    {
      "cell_type": "markdown",
      "metadata": {
        "id": "DZSrLtOw0Vw9"
      },
      "source": [
        "# Mail classification with BERT\n",
        "This part is largely inspired by this video https://www.youtube.com/watch?v=hOCDJyZ6quA&t=3s.<br>\n",
        "The following link is a tutorial about bert implementation with tf-hub https://www.tensorflow.org/text/tutorials/classify_text_with_bert?hl=fr<br><br>\n",
        "In this section, we build a BERT model to detect the spams. Run the above cell to import the email dataset. We have 2 columns in this dataset. The email column is email text. The label column is equal to 1 for the valid emails and to 1 for the spams. In the above cell, we provide some functions for preprossesing text data."
      ]
    },
    {
      "cell_type": "code",
      "metadata": {
        "execution": {
          "iopub.status.busy": "2021-11-24T14:22:50.953713Z",
          "iopub.execute_input": "2021-11-24T14:22:50.95426Z",
          "iopub.status.idle": "2021-11-24T14:22:55.587274Z",
          "shell.execute_reply.started": "2021-11-24T14:22:50.954221Z",
          "shell.execute_reply": "2021-11-24T14:22:55.5865Z"
        },
        "trusted": true,
        "id": "ylV3e2fr0Vw9"
      },
      "source": [
        "import re\n",
        "\n",
        "\n",
        "def remove_html(data):\n",
        "    html_tag=re.compile(r'<.*?>')\n",
        "    data=html_tag.sub(r'',data)\n",
        "    return data\n",
        "\n",
        "def _remove_urls(x):\n",
        "    return re.sub(r'(http|https|ftp|ssh)://([\\w_-]+(?:(?:\\.[\\w_-]+)+))([\\w.,@?^=%&:/~+#-]*[\\w@?^=%&/~+#-])?', '' , x)\n",
        "\n",
        "def _remove_emails(x):\n",
        "    return re.sub(r'([a-z0-9+._-]+@[a-z0-9+._-]+\\.[a-z0-9+_-]+)',\"\", x)"
      ],
      "execution_count": null,
      "outputs": []
    },
    {
      "cell_type": "code",
      "metadata": {
        "execution": {
          "iopub.status.busy": "2021-11-24T14:22:55.588789Z",
          "iopub.execute_input": "2021-11-24T14:22:55.589199Z",
          "iopub.status.idle": "2021-11-24T14:22:56.475375Z",
          "shell.execute_reply.started": "2021-11-24T14:22:55.589156Z",
          "shell.execute_reply": "2021-11-24T14:22:56.474686Z"
        },
        "trusted": true,
        "colab": {
          "base_uri": "https://localhost:8080/",
          "height": 206
        },
        "id": "V7-eAiyP0Vw-",
        "outputId": "c4e8cbd3-d9e1-4a0d-8664-601b22c44c5c"
      },
      "source": [
        "import pandas as pd\n",
        "spam_ham = pd.read_csv(\"https://raw.githubusercontent.com/fabnancyuhp/DEEP-LEARNING/main/DATA/spam_ornot_spam.csv\")\n",
        "spam_ham['email'] = spam_ham['email'].apply(lambda x:remove_html(str(x)))\n",
        "spam_ham['email'] = spam_ham['email'].apply(lambda x:_remove_urls(str(x)))\n",
        "spam_ham['email'] = spam_ham['email'].apply(lambda x:_remove_emails(str(x)))\n",
        "spam_ham.head()"
      ],
      "execution_count": null,
      "outputs": [
        {
          "output_type": "execute_result",
          "data": {
            "text/html": [
              "<div>\n",
              "<style scoped>\n",
              "    .dataframe tbody tr th:only-of-type {\n",
              "        vertical-align: middle;\n",
              "    }\n",
              "\n",
              "    .dataframe tbody tr th {\n",
              "        vertical-align: top;\n",
              "    }\n",
              "\n",
              "    .dataframe thead th {\n",
              "        text-align: right;\n",
              "    }\n",
              "</style>\n",
              "<table border=\"1\" class=\"dataframe\">\n",
              "  <thead>\n",
              "    <tr style=\"text-align: right;\">\n",
              "      <th></th>\n",
              "      <th>email</th>\n",
              "      <th>label</th>\n",
              "    </tr>\n",
              "  </thead>\n",
              "  <tbody>\n",
              "    <tr>\n",
              "      <th>0</th>\n",
              "      <td>date wed NUMBER aug NUMBER NUMBER NUMBER NUMB...</td>\n",
              "      <td>0</td>\n",
              "    </tr>\n",
              "    <tr>\n",
              "      <th>1</th>\n",
              "      <td>martin a posted tassos papadopoulos the greek ...</td>\n",
              "      <td>0</td>\n",
              "    </tr>\n",
              "    <tr>\n",
              "      <th>2</th>\n",
              "      <td>man threatens explosion in moscow thursday aug...</td>\n",
              "      <td>0</td>\n",
              "    </tr>\n",
              "    <tr>\n",
              "      <th>3</th>\n",
              "      <td>klez the virus that won t die already the most...</td>\n",
              "      <td>0</td>\n",
              "    </tr>\n",
              "    <tr>\n",
              "      <th>4</th>\n",
              "      <td>in adding cream to spaghetti carbonara which ...</td>\n",
              "      <td>0</td>\n",
              "    </tr>\n",
              "  </tbody>\n",
              "</table>\n",
              "</div>"
            ],
            "text/plain": [
              "                                               email  label\n",
              "0   date wed NUMBER aug NUMBER NUMBER NUMBER NUMB...      0\n",
              "1  martin a posted tassos papadopoulos the greek ...      0\n",
              "2  man threatens explosion in moscow thursday aug...      0\n",
              "3  klez the virus that won t die already the most...      0\n",
              "4   in adding cream to spaghetti carbonara which ...      0"
            ]
          },
          "metadata": {},
          "execution_count": 6
        }
      ]
    },
    {
      "cell_type": "code",
      "metadata": {
        "trusted": true,
        "id": "pPDdqpSt0Vw-"
      },
      "source": [
        "spam_ham.groupby('label').describe()"
      ],
      "execution_count": null,
      "outputs": []
    },
    {
      "cell_type": "markdown",
      "metadata": {
        "id": "daObIlRb0Vw_"
      },
      "source": [
        "We make the dataset more balanced:"
      ]
    },
    {
      "cell_type": "code",
      "metadata": {
        "execution": {
          "iopub.status.busy": "2021-11-24T14:23:03.150709Z",
          "iopub.execute_input": "2021-11-24T14:23:03.151611Z",
          "iopub.status.idle": "2021-11-24T14:23:03.165512Z",
          "shell.execute_reply.started": "2021-11-24T14:23:03.151535Z",
          "shell.execute_reply": "2021-11-24T14:23:03.164454Z"
        },
        "trusted": true,
        "colab": {
          "base_uri": "https://localhost:8080/"
        },
        "id": "_-9z2wGF0Vw_",
        "outputId": "3432ef6d-6134-45ea-a900-7941a3ddec13"
      },
      "source": [
        "df_spam = spam_ham.loc[spam_ham['label']==1]\n",
        "df_ham = spam_ham.loc[spam_ham['label']==0]\n",
        "\n",
        "df_ham_down_sample = df_ham.sample(1500)\n",
        "\n",
        "spam_ham_more_balanced = pd.concat([df_spam,df_ham_down_sample])\n",
        "spam_ham_more_balanced['label'].value_counts()"
      ],
      "execution_count": null,
      "outputs": [
        {
          "output_type": "execute_result",
          "data": {
            "text/plain": [
              "0    1500\n",
              "1     500\n",
              "Name: label, dtype: int64"
            ]
          },
          "metadata": {},
          "execution_count": 7
        }
      ]
    },
    {
      "cell_type": "markdown",
      "metadata": {
        "id": "vtDur6Qk0Vw_"
      },
      "source": [
        "We split spam_ham_more_balanced into train set and test set. Y is the target value. We notice we use the stratify option when we split the dataset."
      ]
    },
    {
      "cell_type": "code",
      "metadata": {
        "execution": {
          "iopub.status.busy": "2021-11-24T14:23:05.479179Z",
          "iopub.execute_input": "2021-11-24T14:23:05.479468Z",
          "iopub.status.idle": "2021-11-24T14:23:05.48932Z",
          "shell.execute_reply.started": "2021-11-24T14:23:05.47943Z",
          "shell.execute_reply": "2021-11-24T14:23:05.48848Z"
        },
        "trusted": true,
        "id": "Lo1ym_L10VxA"
      },
      "source": [
        "Y= spam_ham_more_balanced['label']\n",
        "X = spam_ham_more_balanced['email']\n",
        "\n",
        "from sklearn.model_selection import train_test_split\n",
        "X_train, X_test, y_train, y_test = train_test_split(X,Y, test_size=0.20, stratify=Y,random_state=42)"
      ],
      "execution_count": null,
      "outputs": []
    },
    {
      "cell_type": "markdown",
      "metadata": {
        "id": "rcOpmXhy0VxA"
      },
      "source": [
        "## We create the preprocess and encoder model\n",
        "* The url for encoder : https://tfhub.dev/tensorflow/bert_en_uncased_L-12_H-768_A-12/4\n",
        "* the url for preprocess model : https://tfhub.dev/tensorflow/bert_en_uncased_preprocess/3\n",
        "\n",
        "These 2 URLs correspond to 2 pre-trained models we can download from tensorflow_hub. You see on https://tfhub.dev/google/collections/bert/1 that BERT encoder and preprocessing have to be paired. Run the cell below to dowload these models. In the code below, We can consider bert_preprocess_model and bert_model as tensorflow.keras.layers objects."
      ]
    },
    {
      "cell_type": "code",
      "metadata": {
        "execution": {
          "iopub.status.busy": "2021-11-24T14:23:17.31761Z",
          "iopub.execute_input": "2021-11-24T14:23:17.318351Z",
          "iopub.status.idle": "2021-11-24T14:23:44.729864Z",
          "shell.execute_reply.started": "2021-11-24T14:23:17.318313Z",
          "shell.execute_reply": "2021-11-24T14:23:44.729051Z"
        },
        "trusted": true,
        "id": "-lYOtpbN0VxA"
      },
      "source": [
        "#!pip install -U tensorflow-text==2.6.0\n",
        "import tensorflow as tf\n",
        "import tensorflow_hub as hub\n",
        "import tensorflow_text as text\n",
        "\n",
        "#We can consider bert_preprocess_model and bert_model as tensorflow.keras.layers objects.\n",
        "bert_preprocess_model = hub.KerasLayer('https://tfhub.dev/tensorflow/bert_en_uncased_preprocess/3')\n",
        "bert_model = hub.KerasLayer('https://tfhub.dev/tensorflow/bert_en_uncased_L-12_H-768_A-12/4',trainable=False)\n",
        "\n",
        "\n",
        "#bert_results = bert_model(text_preprocessed)"
      ],
      "execution_count": null,
      "outputs": []
    },
    {
      "cell_type": "markdown",
      "metadata": {
        "id": "Edee4zPn0VxA"
      },
      "source": [
        "## Model implementation\n",
        "In this part we design a model to predict if a mail is spam or not. We make the model with the functional way. Remind that bert_model = hub.KerasLayer('https://tfhub.dev/tensorflow/bert_en_uncased_L-12_H-768_A-12/4',trainable=True) return a dictionary of vectors and we're just interressed in  bert_model['pooled_output']. bert_model['pooled_output'] is a set of embedding vectors of the corpus sentences.<br><br>\n",
        "Since we have a binary classification, the out_put layer has a sigmoid activation function. <br><br>\n",
        "So far we implement the models in the sequential way. This time, we do it with the functional way."
      ]
    },
    {
      "cell_type": "code",
      "metadata": {
        "execution": {
          "iopub.status.busy": "2021-11-24T14:24:50.426446Z",
          "iopub.execute_input": "2021-11-24T14:24:50.427293Z",
          "iopub.status.idle": "2021-11-24T14:24:51.151343Z",
          "shell.execute_reply.started": "2021-11-24T14:24:50.427249Z",
          "shell.execute_reply": "2021-11-24T14:24:51.150597Z"
        },
        "trusted": true,
        "id": "E01xOPpN0VxB"
      },
      "source": [
        "import tensorflow as tf\n",
        "\n",
        "from tensorflow.keras.layers import Input, Dropout, Dense\n",
        "from tensorflow.keras.models import Model\n",
        "\n",
        "import tensorflow as tf\n",
        "#BERT LAYERS\n",
        "text_input = Input(shape=(),dtype=tf.string,name='text')\n",
        "preprocess = bert_preprocess_model(text_input)\n",
        "outputs = bert_model(preprocess)\n",
        "net = outputs['pooled_output']\n",
        "\n",
        "#NN LAYERS\n",
        "net = Dropout(0.1,name=\"dropout\")(net)\n",
        "output_layer = Dense(1,activation='sigmoid',name='output_layer')(net)\n",
        "\n",
        "BERT_MODEL = Model(inputs=[text_input],outputs=[output_layer])"
      ],
      "execution_count": null,
      "outputs": []
    },
    {
      "cell_type": "markdown",
      "metadata": {
        "id": "QN4s5wiC0VxB"
      },
      "source": [
        "The parameters from bert_preprocess_model and bert_model are pretrained. If we want to make those parameters trainables we have to set trainable=True. <br>\n",
        "bert_preprocess_model = hub.KerasLayer('https://tfhub.dev/tensorflow/bert_en_uncased_preprocess/3', trainable=True, name='BERT_encoder'). <br>\n",
        "Model.summary gives us some relevant information about the model such that: the trainable parameters, the parameters per layers."
      ]
    },
    {
      "cell_type": "code",
      "metadata": {
        "trusted": true,
        "colab": {
          "base_uri": "https://localhost:8080/"
        },
        "id": "jaMFNiVz0VxB",
        "outputId": "781dd7fc-f630-420b-9738-719af8505aa4"
      },
      "source": [
        "BERT_MODEL.summary()"
      ],
      "execution_count": null,
      "outputs": [
        {
          "output_type": "stream",
          "name": "stdout",
          "text": [
            "Model: \"model\"\n",
            "__________________________________________________________________________________________________\n",
            "Layer (type)                    Output Shape         Param #     Connected to                     \n",
            "==================================================================================================\n",
            "text (InputLayer)               [(None,)]            0                                            \n",
            "__________________________________________________________________________________________________\n",
            "keras_layer_4 (KerasLayer)      {'input_mask': (None 0           text[0][0]                       \n",
            "__________________________________________________________________________________________________\n",
            "keras_layer_5 (KerasLayer)      {'sequence_output':  109482241   keras_layer_4[0][0]              \n",
            "                                                                 keras_layer_4[0][1]              \n",
            "                                                                 keras_layer_4[0][2]              \n",
            "__________________________________________________________________________________________________\n",
            "dropout (Dropout)               (None, 768)          0           keras_layer_5[0][13]             \n",
            "__________________________________________________________________________________________________\n",
            "output_layer (Dense)            (None, 1)            769         dropout[0][0]                    \n",
            "==================================================================================================\n",
            "Total params: 109,483,010\n",
            "Trainable params: 769\n",
            "Non-trainable params: 109,482,241\n",
            "__________________________________________________________________________________________________\n"
          ]
        }
      ]
    },
    {
      "cell_type": "markdown",
      "metadata": {
        "id": "-4ExPrpe0VxB"
      },
      "source": [
        "Since we have a binary classification we choose binary_crossentropy loss function. Now, we train on imbalanced dataset then we should not rely on accuracy to evaluate our model. We evaluate the model with several metrics."
      ]
    },
    {
      "cell_type": "code",
      "metadata": {
        "execution": {
          "iopub.status.busy": "2021-11-24T14:25:02.448489Z",
          "iopub.execute_input": "2021-11-24T14:25:02.449151Z",
          "iopub.status.idle": "2021-11-24T14:25:02.471129Z",
          "shell.execute_reply.started": "2021-11-24T14:25:02.449108Z",
          "shell.execute_reply": "2021-11-24T14:25:02.47043Z"
        },
        "trusted": true,
        "id": "Efxawupf0VxB"
      },
      "source": [
        "from tensorflow.keras.metrics import BinaryAccuracy, Precision, Recall\n",
        "\n",
        "METRICS = [BinaryAccuracy(name='accuracy'), Precision(name='precision'), Recall(name='recall')]\n",
        "BERT_MODEL.compile(optimizer='adam',loss='binary_crossentropy',metrics=METRICS)"
      ],
      "execution_count": null,
      "outputs": []
    },
    {
      "cell_type": "markdown",
      "metadata": {
        "id": "_2rVK9ad0VxC"
      },
      "source": [
        "In the cell bellow, we run the training stage of the model with 20 epochs."
      ]
    },
    {
      "cell_type": "code",
      "metadata": {
        "execution": {
          "iopub.status.busy": "2021-11-24T14:28:46.087438Z",
          "iopub.execute_input": "2021-11-24T14:28:46.08816Z",
          "iopub.status.idle": "2021-11-24T14:33:19.841236Z",
          "shell.execute_reply.started": "2021-11-24T14:28:46.08812Z",
          "shell.execute_reply": "2021-11-24T14:33:19.840502Z"
        },
        "trusted": true,
        "id": "L504PbiJ0VxC"
      },
      "source": [
        "BERT_MODEL.fit(X_train, y_train,epochs=20)"
      ],
      "execution_count": null,
      "outputs": []
    },
    {
      "cell_type": "code",
      "metadata": {
        "execution": {
          "iopub.status.busy": "2021-11-24T14:33:33.732522Z",
          "iopub.execute_input": "2021-11-24T14:33:33.73316Z",
          "iopub.status.idle": "2021-11-24T14:33:36.963774Z",
          "shell.execute_reply.started": "2021-11-24T14:33:33.73312Z",
          "shell.execute_reply": "2021-11-24T14:33:36.963028Z"
        },
        "trusted": true,
        "colab": {
          "base_uri": "https://localhost:8080/"
        },
        "id": "ChMXtbUa0VxC",
        "outputId": "204e57a6-b001-4d4b-ed60-1620e90d8369"
      },
      "source": [
        "BERT_MODEL.evaluate(X_test,y_test)"
      ],
      "execution_count": null,
      "outputs": [
        {
          "output_type": "stream",
          "name": "stdout",
          "text": [
            "13/13 [==============================] - 9s 583ms/step - loss: 0.3465 - accuracy: 0.8875 - precision: 0.8767 - recall: 0.6400\n"
          ]
        },
        {
          "output_type": "execute_result",
          "data": {
            "text/plain": [
              "[0.3465215265750885, 0.887499988079071, 0.8767123222351074, 0.6399999856948853]"
            ]
          },
          "metadata": {},
          "execution_count": 14
        }
      ]
    },
    {
      "cell_type": "markdown",
      "metadata": {
        "id": "mcPwY3tw0VxC"
      },
      "source": [
        "## Confusion Matrix\n",
        "We call the model we've just trained to comput y_pred. After, we compute the confusion matrix with sklearn and we draw it."
      ]
    },
    {
      "cell_type": "code",
      "metadata": {
        "execution": {
          "iopub.status.busy": "2021-11-24T14:33:53.665005Z",
          "iopub.execute_input": "2021-11-24T14:33:53.665268Z",
          "iopub.status.idle": "2021-11-24T14:33:56.564208Z",
          "shell.execute_reply.started": "2021-11-24T14:33:53.66524Z",
          "shell.execute_reply": "2021-11-24T14:33:56.563406Z"
        },
        "trusted": true,
        "colab": {
          "base_uri": "https://localhost:8080/",
          "height": 282
        },
        "id": "VReXJYwL0VxC",
        "outputId": "87527262-c38a-4d42-811a-88848d669997"
      },
      "source": [
        "import numpy as np\n",
        "y_pred = BERT_MODEL.predict(X_test).flatten()\n",
        "y_pred = np.where(y_pred>0.5,1,0)\n",
        "\n",
        "from sklearn.metrics import confusion_matrix\n",
        "cm = confusion_matrix(y_test,y_pred)\n",
        "\n",
        "import matplotlib.pyplot as plt\n",
        "import seaborn as sn\n",
        "sn.heatmap(cm,annot=True,fmt='d')"
      ],
      "execution_count": null,
      "outputs": [
        {
          "output_type": "execute_result",
          "data": {
            "text/plain": [
              "<matplotlib.axes._subplots.AxesSubplot at 0x7f3ebb90b910>"
            ]
          },
          "metadata": {},
          "execution_count": 16
        },
        {
          "output_type": "display_data",
          "data": {
            "image/png": "[encoded data removed]",
            "text/plain": [
              "<Figure size 432x288 with 2 Axes>"
            ]
          },
          "metadata": {
            "needs_background": "light"
          }
        }
      ]
    },
    {
      "cell_type": "markdown",
      "metadata": {
        "id": "4JeFc9zB0VxC"
      },
      "source": [
        "## We test the model with text that seem to be spam"
      ]
    },
    {
      "cell_type": "code",
      "metadata": {
        "execution": {
          "iopub.status.busy": "2021-11-24T14:34:09.222898Z",
          "iopub.execute_input": "2021-11-24T14:34:09.223185Z",
          "iopub.status.idle": "2021-11-24T14:34:09.294782Z",
          "shell.execute_reply.started": "2021-11-24T14:34:09.223151Z",
          "shell.execute_reply": "2021-11-24T14:34:09.29355Z"
        },
        "trusted": true,
        "colab": {
          "base_uri": "https://localhost:8080/"
        },
        "id": "wfxsC7ON0VxC",
        "outputId": "5f0660c1-b3e9-4af2-8eb4-6357cd1b50f9"
      },
      "source": [
        "new_mail = ['You are awarded an IPHONE. Call 0906 from. Delevery within 28 days']\n",
        "pred_mail = BERT_MODEL.predict(new_mail)\n",
        "\n",
        "if pred_mail[0]>0.5:\n",
        "    print(\"the model predict a spam for the new mail: \" +str(pred_mail[0]))"
      ],
      "execution_count": null,
      "outputs": [
        {
          "output_type": "stream",
          "name": "stdout",
          "text": [
            "the model predict a spam for the new mail: [0.6107131]\n"
          ]
        }
      ]
    },
    {
      "cell_type": "markdown",
      "metadata": {
        "id": "mP8wn-qb0VxD"
      },
      "source": [
        "# Exercise : text topic prediction\n",
        "The goal here is make a model to predict the subject of text from a news dataset. We'll make the model with pre-trained models from tensorflow_hub. Run the cell below to get the dataset the topic_news. You work with topic_news dataset in this exercise."
      ]
    },
    {
      "cell_type": "code",
      "metadata": {
        "execution": {
          "iopub.status.busy": "2021-11-24T14:34:20.824412Z",
          "iopub.execute_input": "2021-11-24T14:34:20.825095Z",
          "iopub.status.idle": "2021-11-24T14:34:23.504366Z",
          "shell.execute_reply.started": "2021-11-24T14:34:20.825053Z",
          "shell.execute_reply": "2021-11-24T14:34:23.503699Z"
        },
        "trusted": true,
        "colab": {
          "base_uri": "https://localhost:8080/",
          "height": 206
        },
        "id": "DiA_7TiL0VxD",
        "outputId": "72a4b9ec-1ec8-4746-d47b-074f4f686a7b"
      },
      "source": [
        "import pandas as pd\n",
        "import numpy as np\n",
        "\n",
        "Fake = pd.read_parquet(\"https://raw.githubusercontent.com/fabnancyuhp/DEEP-LEARNING/main/DATA/Fake.parquet.brotli\")\n",
        "Real = pd.read_parquet(\"https://raw.githubusercontent.com/fabnancyuhp/DEEP-LEARNING/main/DATA/Real.parquet.brotli\")\n",
        "\n",
        "Fake = Fake.loc[~(Fake['text'].str.strip().str.len()==0)]\n",
        "Real = Real.loc[~(Real['text'].str.strip().str.len()==0)]\n",
        "\n",
        "Real['text'] = Real['title']+ \" \" +Real['text']\n",
        "Fake['text'] = Fake['title']+ \" \" +Fake['text']\n",
        "\n",
        "\n",
        "Real = Real[['subject','text']]\n",
        "Fake = Fake[['subject','text']]\n",
        "\n",
        "topic_news = pd.concat([Real,Fake])\n",
        "\n",
        "topic_news = topic_news.loc[topic_news['subject'].isin(['politicsNews','worldnews','News','politics'])]\n",
        "topic_news['subject'] = np.where(topic_news['subject'].isin(['politicsNews','politics']),\\\n",
        "                                 'politics',topic_news['subject'])\n",
        "\n",
        "\n",
        "topic_news.head()"
      ],
      "execution_count": null,
      "outputs": [
        {
          "output_type": "execute_result",
          "data": {
            "text/html": [
              "<div>\n",
              "<style scoped>\n",
              "    .dataframe tbody tr th:only-of-type {\n",
              "        vertical-align: middle;\n",
              "    }\n",
              "\n",
              "    .dataframe tbody tr th {\n",
              "        vertical-align: top;\n",
              "    }\n",
              "\n",
              "    .dataframe thead th {\n",
              "        text-align: right;\n",
              "    }\n",
              "</style>\n",
              "<table border=\"1\" class=\"dataframe\">\n",
              "  <thead>\n",
              "    <tr style=\"text-align: right;\">\n",
              "      <th></th>\n",
              "      <th>subject</th>\n",
              "      <th>text</th>\n",
              "    </tr>\n",
              "  </thead>\n",
              "  <tbody>\n",
              "    <tr>\n",
              "      <th>0</th>\n",
              "      <td>politics</td>\n",
              "      <td>As U.S. budget fight looms, Republicans flip t...</td>\n",
              "    </tr>\n",
              "    <tr>\n",
              "      <th>1</th>\n",
              "      <td>politics</td>\n",
              "      <td>U.S. military to accept transgender recruits o...</td>\n",
              "    </tr>\n",
              "    <tr>\n",
              "      <th>2</th>\n",
              "      <td>politics</td>\n",
              "      <td>Senior U.S. Republican senator: 'Let Mr. Muell...</td>\n",
              "    </tr>\n",
              "    <tr>\n",
              "      <th>3</th>\n",
              "      <td>politics</td>\n",
              "      <td>FBI Russia probe helped by Australian diplomat...</td>\n",
              "    </tr>\n",
              "    <tr>\n",
              "      <th>4</th>\n",
              "      <td>politics</td>\n",
              "      <td>Trump wants Postal Service to charge 'much mor...</td>\n",
              "    </tr>\n",
              "  </tbody>\n",
              "</table>\n",
              "</div>"
            ],
            "text/plain": [
              "    subject                                               text\n",
              "0  politics  As U.S. budget fight looms, Republicans flip t...\n",
              "1  politics  U.S. military to accept transgender recruits o...\n",
              "2  politics  Senior U.S. Republican senator: 'Let Mr. Muell...\n",
              "3  politics  FBI Russia probe helped by Australian diplomat...\n",
              "4  politics  Trump wants Postal Service to charge 'much mor..."
            ]
          },
          "metadata": {},
          "execution_count": 2
        }
      ]
    },
    {
      "cell_type": "markdown",
      "metadata": {
        "id": "rC9gDi-l0VxD"
      },
      "source": [
        "1) Create an encoder from tensorflow_hub such that:\n",
        "\n",
        "* the URL for the encoder is : https://tfhub.dev/google/experts/bert/pubmed/squad2/2\n",
        "* the URL for the preprocess is : https://tfhub.dev/tensorflow/bert_en_uncased_preprocess/3\n",
        "\n",
        "The encoder and preprocess you create should be load as as tensorflow.keras.layers objects. What are the training/fine-tuned datasets used for the pretraining of this model?"
      ]
    },
    {
      "cell_type": "code",
      "metadata": {
        "execution": {
          "iopub.status.busy": "2021-11-24T14:34:31.106183Z",
          "iopub.execute_input": "2021-11-24T14:34:31.106438Z",
          "iopub.status.idle": "2021-11-24T14:34:48.517648Z",
          "shell.execute_reply.started": "2021-11-24T14:34:31.106409Z",
          "shell.execute_reply": "2021-11-24T14:34:48.516767Z"
        },
        "trusted": true,
        "id": "b1U-5MG50VxD"
      },
      "source": [
        "#your code here\n",
        "#!pip install -U tensorflow-text==2.6.0\n",
        "import tensorflow as tf\n",
        "import tensorflow_hub as hub\n",
        "import tensorflow_text as text\n",
        "\n",
        "preprocess = hub.KerasLayer('https://tfhub.dev/tensorflow/bert_en_uncased_preprocess/3')\n",
        "bert = hub.KerasLayer('https://tfhub.dev/google/experts/bert/pubmed/squad2/2')"
      ],
      "execution_count": null,
      "outputs": []
    },
    {
      "cell_type": "markdown",
      "metadata": {
        "id": "Tsz1tmI-0VxD"
      },
      "source": [
        "2) Encode the subject column of topic_news with sklearn.preprocessing.LabelEncoder. The name of the encoded column should be class"
      ]
    },
    {
      "cell_type": "code",
      "metadata": {
        "execution": {
          "iopub.status.busy": "2021-11-24T14:34:55.261069Z",
          "iopub.execute_input": "2021-11-24T14:34:55.261786Z",
          "iopub.status.idle": "2021-11-24T14:34:55.506237Z",
          "shell.execute_reply.started": "2021-11-24T14:34:55.261735Z",
          "shell.execute_reply": "2021-11-24T14:34:55.505556Z"
        },
        "trusted": true,
        "colab": {
          "base_uri": "https://localhost:8080/",
          "height": 406
        },
        "id": "bcnFEcyv0VxD",
        "outputId": "a572bc26-6aec-4af6-8d8a-02f5f0d4a491"
      },
      "source": [
        "from sklearn.preprocessing import LabelEncoder\n",
        "\n",
        "le = LabelEncoder()\n",
        "le.fit(topic_news['subject'].unique())\n",
        "topic_news['class'] = le.transform(topic_news['subject'])\n",
        "topic_news['class']\n",
        "import matplotlib.pyplot as plt\n",
        "import seaborn as sns\n",
        "plt.figure(figsize=(10,6))\n",
        "sns.countplot(x='subject',data=topic_news)"
      ],
      "execution_count": null,
      "outputs": [
        {
          "output_type": "execute_result",
          "data": {
            "text/plain": [
              "<matplotlib.axes._subplots.AxesSubplot at 0x7f5fc596c1d0>"
            ]
          },
          "metadata": {},
          "execution_count": 4
        },
        {
          "output_type": "display_data",
          "data": {
            "image/png": "[encoded data removed]",
            "text/plain": [
              "<Figure size 720x432 with 1 Axes>"
            ]
          },
          "metadata": {
            "needs_background": "light"
          }
        }
      ]
    },
    {
      "cell_type": "markdown",
      "metadata": {
        "id": "EwzDiwky0VxE"
      },
      "source": [
        "3) The encoder and preprocess you created at the first question take text without URL, email, and HTML as input. Remove URL, email, and HTML from the text column."
      ]
    },
    {
      "cell_type": "code",
      "metadata": {
        "execution": {
          "iopub.status.busy": "2021-11-24T14:35:00.710834Z",
          "iopub.execute_input": "2021-11-24T14:35:00.711384Z",
          "iopub.status.idle": "2021-11-24T14:35:11.011965Z",
          "shell.execute_reply.started": "2021-11-24T14:35:00.711343Z",
          "shell.execute_reply": "2021-11-24T14:35:11.011142Z"
        },
        "trusted": true,
        "id": "VY7-_ytw0VxE"
      },
      "source": [
        "#your code here: We first remove the HTML tags. Complete the code\n",
        "topic_news['text'] = topic_news['text'].apply(lambda x:remove_html(str(x)))\n",
        "topic_news['text'] = topic_news['text'].apply(lambda x:_remove_urls(str(x)))\n",
        "topic_news['text'] = topic_news['text'].apply(lambda x:_remove_emails(str(x)))"
      ],
      "execution_count": null,
      "outputs": []
    },
    {
      "cell_type": "markdown",
      "metadata": {
        "id": "4n2-xa8i0VxE"
      },
      "source": [
        "4) Split topic_news into a training dataset and a test dataset using sklearn.model_selection train_test_split with test_size=0.2. You have to apply to_categorical to your target values Y with a num_classes=3."
      ]
    },
    {
      "cell_type": "code",
      "metadata": {
        "execution": {
          "iopub.status.busy": "2021-11-24T14:35:33.331975Z",
          "iopub.execute_input": "2021-11-24T14:35:33.332254Z",
          "iopub.status.idle": "2021-11-24T14:35:33.599859Z",
          "shell.execute_reply.started": "2021-11-24T14:35:33.332223Z",
          "shell.execute_reply": "2021-11-24T14:35:33.599128Z"
        },
        "trusted": true,
        "id": "xwQ7qv2K0VxE"
      },
      "source": [
        "#Your code here\n",
        "from tensorflow.keras.utils import to_categorical\n",
        "Y= topic_news['class']\n",
        "X = topic_news['text']\n",
        "\n",
        "Y = to_categorical(Y,num_classes=3)\n",
        "\n",
        "#Convert \n",
        "\n",
        "from sklearn.model_selection import train_test_split\n",
        "X_train, X_test, y_train, y_test = train_test_split(X,Y, test_size=0.20, stratify=Y,random_state=42)"
      ],
      "execution_count": null,
      "outputs": []
    },
    {
      "cell_type": "markdown",
      "metadata": {
        "id": "T4cZHTTu0VxE"
      },
      "source": [
        "5) The goal here is to implement a BERT model using the encoder and preprocess you built in the first question. Remind that \n",
        "* the encoder returns a dictionary of 3 vectors\n",
        "* we use the 'pooled_output' vectors \n",
        "* the 'pooled_output' vectors are embedding vectors of the input sentences\n",
        "\n",
        "Build a neural network to predict the subject of the text. Compile your model with the accuracy metrics and the adam optimizer."
      ]
    },
    {
      "cell_type": "code",
      "metadata": {
        "execution": {
          "iopub.status.busy": "2021-11-24T14:35:40.150261Z",
          "iopub.execute_input": "2021-11-24T14:35:40.150876Z",
          "iopub.status.idle": "2021-11-24T14:35:40.425208Z",
          "shell.execute_reply.started": "2021-11-24T14:35:40.150833Z",
          "shell.execute_reply": "2021-11-24T14:35:40.424497Z"
        },
        "trusted": true,
        "id": "RDoLsBmD0VxF"
      },
      "source": [
        "from tensorflow.keras.layers import Input, Dropout, Dense\n",
        "from tensorflow.keras.models import Model\n",
        "#from tensorflow.keras.utils import to_categorical\n",
        "\n",
        "#BERT LAYERS\n",
        "text_input = Input(shape=(),dtype=tf.string,name='text_input')\n",
        "preprocess_bert = preprocess(text_input)\n",
        "outputs = bert(preprocess_bert)\n",
        "net = outputs['pooled_output']\n",
        "\n",
        "#NN LAYERS\n",
        "net = Dropout(0.1,name=\"dropout\")(net)\n",
        "output_layer = Dense(3,activation='softmax',name='output_layer')(net)\n",
        "\n",
        "BERT_MODEL = Model(inputs=[text_input],outputs=[output_layer])"
      ],
      "execution_count": null,
      "outputs": []
    },
    {
      "cell_type": "code",
      "metadata": {
        "execution": {
          "iopub.status.busy": "2021-11-24T14:35:44.059223Z",
          "iopub.execute_input": "2021-11-24T14:35:44.059944Z",
          "iopub.status.idle": "2021-11-24T14:35:44.069862Z",
          "shell.execute_reply.started": "2021-11-24T14:35:44.059896Z",
          "shell.execute_reply": "2021-11-24T14:35:44.069103Z"
        },
        "trusted": true,
        "id": "21sKvN2W0VxF"
      },
      "source": [
        "BERT_MODEL.compile(optimizer='adam',metrics=['accuracy'],loss='categorical_crossentropy')"
      ],
      "execution_count": null,
      "outputs": []
    },
    {
      "cell_type": "markdown",
      "metadata": {
        "id": "0zUaT9AD0VxF"
      },
      "source": [
        "6) Train your model with 10 epochs. Evaluate your model over the test set."
      ]
    },
    {
      "cell_type": "code",
      "metadata": {
        "execution": {
          "iopub.status.busy": "2021-11-24T14:35:57.398528Z",
          "iopub.execute_input": "2021-11-24T14:35:57.398957Z",
          "iopub.status.idle": "2021-11-24T15:14:53.090251Z",
          "shell.execute_reply.started": "2021-11-24T14:35:57.398909Z",
          "shell.execute_reply": "2021-11-24T15:14:53.089595Z"
        },
        "trusted": true,
        "colab": {
          "base_uri": "https://localhost:8080/"
        },
        "id": "PUoR49Ok0VxF",
        "outputId": "0513714b-8de2-49c6-e4bb-74fe95e4cc6e"
      },
      "source": [
        "BERT_MODEL.fit(X_train,y_train,epochs=10)"
      ],
      "execution_count": null,
      "outputs": [
        {
          "output_type": "stream",
          "name": "stdout",
          "text": [
            "Epoch 1/10\n",
            "923/923 [==============================] - 584s 620ms/step - loss: 0.9519 - accuracy: 0.5322\n",
            "Epoch 2/10\n",
            "923/923 [==============================] - 572s 619ms/step - loss: 0.8227 - accuracy: 0.6186\n",
            "Epoch 3/10\n",
            "923/923 [==============================] - 571s 618ms/step - loss: 0.7738 - accuracy: 0.6451\n",
            "Epoch 4/10\n",
            "923/923 [==============================] - 571s 618ms/step - loss: 0.7450 - accuracy: 0.6613\n",
            "Epoch 5/10\n",
            "923/923 [==============================] - 566s 613ms/step - loss: 0.7316 - accuracy: 0.6668\n",
            "Epoch 6/10\n",
            "923/923 [==============================] - 565s 612ms/step - loss: 0.7198 - accuracy: 0.6734\n",
            "Epoch 7/10\n",
            "923/923 [==============================] - 566s 614ms/step - loss: 0.7143 - accuracy: 0.6751\n",
            "Epoch 8/10\n",
            "923/923 [==============================] - 569s 616ms/step - loss: 0.7114 - accuracy: 0.6786\n",
            "Epoch 9/10\n",
            "923/923 [==============================] - 568s 616ms/step - loss: 0.7054 - accuracy: 0.6799\n",
            "Epoch 10/10\n",
            "923/923 [==============================] - 568s 615ms/step - loss: 0.7051 - accuracy: 0.6795\n"
          ]
        },
        {
          "output_type": "execute_result",
          "data": {
            "text/plain": [
              "<keras.callbacks.History at 0x7f5fc428fb10>"
            ]
          },
          "metadata": {},
          "execution_count": 13
        }
      ]
    },
    {
      "cell_type": "code",
      "metadata": {
        "execution": {
          "iopub.status.busy": "2021-11-24T15:16:48.140614Z",
          "iopub.execute_input": "2021-11-24T15:16:48.141318Z",
          "iopub.status.idle": "2021-11-24T15:17:47.577232Z",
          "shell.execute_reply.started": "2021-11-24T15:16:48.141262Z",
          "shell.execute_reply": "2021-11-24T15:17:47.576498Z"
        },
        "trusted": true,
        "colab": {
          "base_uri": "https://localhost:8080/"
        },
        "id": "RK6xWEul0VxF",
        "outputId": "8f743a22-b54c-4242-fb74-458ecd6dd501"
      },
      "source": [
        "BERT_MODEL.evaluate(X_test,y_test)"
      ],
      "execution_count": null,
      "outputs": [
        {
          "output_type": "stream",
          "name": "stdout",
          "text": [
            "231/231 [==============================] - 145s 622ms/step - loss: 0.6414 - accuracy: 0.7236\n"
          ]
        },
        {
          "output_type": "execute_result",
          "data": {
            "text/plain": [
              "[0.6414135098457336, 0.7235772609710693]"
            ]
          },
          "metadata": {},
          "execution_count": 14
        }
      ]
    },
    {
      "cell_type": "markdown",
      "metadata": {
        "id": "HMg5uiFb0VxF"
      },
      "source": [
        "7) compute a confusion matrix related to the test set. "
      ]
    },
    {
      "cell_type": "code",
      "metadata": {
        "execution": {
          "iopub.status.busy": "2021-11-24T15:18:09.069657Z",
          "iopub.execute_input": "2021-11-24T15:18:09.070223Z",
          "iopub.status.idle": "2021-11-24T15:19:32.241114Z",
          "shell.execute_reply.started": "2021-11-24T15:18:09.070172Z",
          "shell.execute_reply": "2021-11-24T15:19:32.240419Z"
        },
        "trusted": true,
        "colab": {
          "base_uri": "https://localhost:8080/",
          "height": 282
        },
        "id": "k8M91Sdx0VxF",
        "outputId": "2eb36cd6-5bc9-4839-c5e2-bd6f6a9d3c3a"
      },
      "source": [
        "from sklearn.metrics import confusion_matrix\n",
        "\n",
        "#BERT_MODEL.predict is a probability vector\n",
        "Y_pred_probability = BERT_MODEL.predict(X_test)\n",
        "Y_pred = np.argmax(Y_pred_probability,axis=1)  #np.argmax give the class\n",
        "\n",
        "\n",
        "y_test_class = np.argmax(y_test,axis=1) #y\n",
        "\n",
        "cm = confusion_matrix(y_test_class,Y_pred )\n",
        "\n",
        "import matplotlib.pyplot as plt\n",
        "import seaborn as sn\n",
        "sn.heatmap(cm,annot=True,fmt='d')"
      ],
      "execution_count": null,
      "outputs": [
        {
          "output_type": "execute_result",
          "data": {
            "text/plain": [
              "<matplotlib.axes._subplots.AxesSubplot at 0x7f5fcb621d10>"
            ]
          },
          "metadata": {},
          "execution_count": 15
        },
        {
          "output_type": "display_data",
          "data": {
            "image/png": "[encoded data removed]",
            "text/plain": [
              "<Figure size 432x288 with 2 Axes>"
            ]
          },
          "metadata": {
            "needs_background": "light"
          }
        }
      ]
    },
    {
      "cell_type": "markdown",
      "metadata": {
        "execution": {
          "iopub.status.busy": "2021-09-10T08:43:02.383347Z",
          "iopub.execute_input": "2021-09-10T08:43:02.383677Z",
          "iopub.status.idle": "2021-09-10T08:43:02.389967Z",
          "shell.execute_reply.started": "2021-09-10T08:43:02.383649Z",
          "shell.execute_reply": "2021-09-10T08:43:02.389171Z"
        },
        "id": "_UNyY4xk0VxG"
      },
      "source": [
        "8) Predict the subject of new_text with your model."
      ]
    },
    {
      "cell_type": "code",
      "metadata": {
        "execution": {
          "iopub.status.busy": "2021-11-24T15:20:04.930406Z",
          "iopub.execute_input": "2021-11-24T15:20:04.930971Z",
          "iopub.status.idle": "2021-11-24T15:20:04.937371Z",
          "shell.execute_reply.started": "2021-11-24T15:20:04.930929Z",
          "shell.execute_reply": "2021-11-24T15:20:04.936489Z"
        },
        "trusted": true,
        "id": "G2JMIL6T0VxG"
      },
      "source": [
        "new_text = [\"Philippine Congress backs body cameras for police in bloody war on drugs \\\n",
        "The Philippine Congress approved a bill that removes a proposed 900 million pesos ($17.87 million) \\\n",
        "for the police war on drugs, now that police are no longer leading the operation, \\\n",
        "but which provides them with body cameras to record arrests. \\\n",
        "Senator Loren Legarda, the head of senate s finance committee, \\\n",
        "said on Monday that Congress re-allotted the police-requested budget\\\n",
        "because the Drug Enforcement Agency was now leading the controversial \\\n",
        "war on drugs in which thousand of suspected dealers and users have been killed.\\\n",
        "The bill, approved by Congress last week, is expected to be endorsed by President Rodrigo Duterte,\\\n",
        "who launched the crackdown, on Tuesday. Duterte this month ordered the police \\\n",
        "to return to the drugs war, following a near eight-week layoff, but in a supporting role only.\"]"
      ],
      "execution_count": null,
      "outputs": []
    },
    {
      "cell_type": "code",
      "metadata": {
        "execution": {
          "iopub.status.busy": "2021-11-24T15:20:07.670508Z",
          "iopub.execute_input": "2021-11-24T15:20:07.671283Z",
          "iopub.status.idle": "2021-11-24T15:20:07.743983Z",
          "shell.execute_reply.started": "2021-11-24T15:20:07.671247Z",
          "shell.execute_reply": "2021-11-24T15:20:07.74328Z"
        },
        "trusted": true,
        "colab": {
          "base_uri": "https://localhost:8080/"
        },
        "id": "NkgCjxpF0VxG",
        "outputId": "4c66f5de-e265-4593-9278-a5c78868260d"
      },
      "source": [
        "le.inverse_transform([np.argmax(BERT_MODEL.predict(new_text))])"
      ],
      "execution_count": null,
      "outputs": [
        {
          "output_type": "execute_result",
          "data": {
            "text/plain": [
              "array(['worldnews'], dtype=object)"
            ]
          },
          "metadata": {},
          "execution_count": 17
        }
      ]
    },
    {
      "cell_type": "code",
      "metadata": {
        "id": "cnvtGPm6Fz5L"
      },
      "source": [
        ""
      ],
      "execution_count": null,
      "outputs": []
    }
  ]
}