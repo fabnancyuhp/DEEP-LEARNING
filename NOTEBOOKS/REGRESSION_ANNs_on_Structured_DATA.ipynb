{
  "cells": [
    {
      "cell_type": "markdown",
      "metadata": {
        "id": "view-in-github",
        "colab_type": "text"
      },
      "source": [
        "<a href=\"https://colab.research.google.com/github/fabnancyuhp/DEEP-LEARNING/blob/main/NOTEBOOKS/REGRESSION_ANNs_on_Structured_DATA.ipynb\" target=\"_parent\"><img src=\"https://colab.research.google.com/assets/colab-badge.svg\" alt=\"Open In Colab\"/></a>"
      ]
    },
    {
      "cell_type": "markdown",
      "metadata": {
        "id": "ibsEpSBbN6p4"
      },
      "source": [
        "# Example 1 : Red Wine Quality Regression\n",
        "\n",
        "Here we handle a regression problem on Red wine Quality dataset. We import the data from github. We convert all columns in float32 because it makes the dataset more TensorFlow digestible. "
      ]
    },
    {
      "cell_type": "code",
      "execution_count": null,
      "metadata": {
        "colab": {
          "base_uri": "https://localhost:8080/",
          "height": 242
        },
        "id": "IyRa_MuLN6p5",
        "outputId": "757974c3-5cd4-4749-91d1-be5d3c13f3f9"
      },
      "outputs": [
        {
          "data": {
            "text/html": [
              "\n",
              "  <div id=\"df-a0ed5a44-5464-4446-afb1-c992c07f579f\">\n",
              "    <div class=\"colab-df-container\">\n",
              "      <div>\n",
              "<style scoped>\n",
              "    .dataframe tbody tr th:only-of-type {\n",
              "        vertical-align: middle;\n",
              "    }\n",
              "\n",
              "    .dataframe tbody tr th {\n",
              "        vertical-align: top;\n",
              "    }\n",
              "\n",
              "    .dataframe thead th {\n",
              "        text-align: right;\n",
              "    }\n",
              "</style>\n",
              "<table border=\"1\" class=\"dataframe\">\n",
              "  <thead>\n",
              "    <tr style=\"text-align: right;\">\n",
              "      <th></th>\n",
              "      <th>fixed acidity</th>\n",
              "      <th>volatile acidity</th>\n",
              "      <th>citric acid</th>\n",
              "      <th>residual sugar</th>\n",
              "      <th>chlorides</th>\n",
              "      <th>free sulfur dioxide</th>\n",
              "      <th>total sulfur dioxide</th>\n",
              "      <th>density</th>\n",
              "      <th>pH</th>\n",
              "      <th>sulphates</th>\n",
              "      <th>alcohol</th>\n",
              "      <th>quality</th>\n",
              "    </tr>\n",
              "  </thead>\n",
              "  <tbody>\n",
              "    <tr>\n",
              "      <th>0</th>\n",
              "      <td>7.4</td>\n",
              "      <td>0.70</td>\n",
              "      <td>0.00</td>\n",
              "      <td>1.9</td>\n",
              "      <td>0.076</td>\n",
              "      <td>11.0</td>\n",
              "      <td>34.0</td>\n",
              "      <td>0.9978</td>\n",
              "      <td>3.51</td>\n",
              "      <td>0.56</td>\n",
              "      <td>9.4</td>\n",
              "      <td>5.0</td>\n",
              "    </tr>\n",
              "    <tr>\n",
              "      <th>1</th>\n",
              "      <td>7.8</td>\n",
              "      <td>0.88</td>\n",
              "      <td>0.00</td>\n",
              "      <td>2.6</td>\n",
              "      <td>0.098</td>\n",
              "      <td>25.0</td>\n",
              "      <td>67.0</td>\n",
              "      <td>0.9968</td>\n",
              "      <td>3.20</td>\n",
              "      <td>0.68</td>\n",
              "      <td>9.8</td>\n",
              "      <td>5.0</td>\n",
              "    </tr>\n",
              "    <tr>\n",
              "      <th>2</th>\n",
              "      <td>7.8</td>\n",
              "      <td>0.76</td>\n",
              "      <td>0.04</td>\n",
              "      <td>2.3</td>\n",
              "      <td>0.092</td>\n",
              "      <td>15.0</td>\n",
              "      <td>54.0</td>\n",
              "      <td>0.9970</td>\n",
              "      <td>3.26</td>\n",
              "      <td>0.65</td>\n",
              "      <td>9.8</td>\n",
              "      <td>5.0</td>\n",
              "    </tr>\n",
              "  </tbody>\n",
              "</table>\n",
              "</div>\n",
              "      <button class=\"colab-df-convert\" onclick=\"convertToInteractive('df-a0ed5a44-5464-4446-afb1-c992c07f579f')\"\n",
              "              title=\"Convert this dataframe to an interactive table.\"\n",
              "              style=\"display:none;\">\n",
              "        \n",
              "  <svg xmlns=\"http://www.w3.org/2000/svg\" height=\"24px\"viewBox=\"0 0 24 24\"\n",
              "       width=\"24px\">\n",
              "    <path d=\"M0 0h24v24H0V0z\" fill=\"none\"/>\n",
              "    <path d=\"M18.56 5.44l.94 2.06.94-2.06 2.06-.94-2.06-.94-.94-2.06-.94 2.06-2.06.94zm-11 1L8.5 8.5l.94-2.06 2.06-.94-2.06-.94L8.5 2.5l-.94 2.06-2.06.94zm10 10l.94 2.06.94-2.06 2.06-.94-2.06-.94-.94-2.06-.94 2.06-2.06.94z\"/><path d=\"M17.41 7.96l-1.37-1.37c-.4-.4-.92-.59-1.43-.59-.52 0-1.04.2-1.43.59L10.3 9.45l-7.72 7.72c-.78.78-.78 2.05 0 2.83L4 21.41c.39.39.9.59 1.41.59.51 0 1.02-.2 1.41-.59l7.78-7.78 2.81-2.81c.8-.78.8-2.07 0-2.86zM5.41 20L4 18.59l7.72-7.72 1.47 1.35L5.41 20z\"/>\n",
              "  </svg>\n",
              "      </button>\n",
              "      \n",
              "  <style>\n",
              "    .colab-df-container {\n",
              "      display:flex;\n",
              "      flex-wrap:wrap;\n",
              "      gap: 12px;\n",
              "    }\n",
              "\n",
              "    .colab-df-convert {\n",
              "      background-color: #E8F0FE;\n",
              "      border: none;\n",
              "      border-radius: 50%;\n",
              "      cursor: pointer;\n",
              "      display: none;\n",
              "      fill: #1967D2;\n",
              "      height: 32px;\n",
              "      padding: 0 0 0 0;\n",
              "      width: 32px;\n",
              "    }\n",
              "\n",
              "    .colab-df-convert:hover {\n",
              "      background-color: #E2EBFA;\n",
              "      box-shadow: 0px 1px 2px rgba(60, 64, 67, 0.3), 0px 1px 3px 1px rgba(60, 64, 67, 0.15);\n",
              "      fill: #174EA6;\n",
              "    }\n",
              "\n",
              "    [theme=dark] .colab-df-convert {\n",
              "      background-color: #3B4455;\n",
              "      fill: #D2E3FC;\n",
              "    }\n",
              "\n",
              "    [theme=dark] .colab-df-convert:hover {\n",
              "      background-color: #434B5C;\n",
              "      box-shadow: 0px 1px 3px 1px rgba(0, 0, 0, 0.15);\n",
              "      filter: drop-shadow(0px 1px 2px rgba(0, 0, 0, 0.3));\n",
              "      fill: #FFFFFF;\n",
              "    }\n",
              "  </style>\n",
              "\n",
              "      <script>\n",
              "        const buttonEl =\n",
              "          document.querySelector('#df-a0ed5a44-5464-4446-afb1-c992c07f579f button.colab-df-convert');\n",
              "        buttonEl.style.display =\n",
              "          google.colab.kernel.accessAllowed ? 'block' : 'none';\n",
              "\n",
              "        async function convertToInteractive(key) {\n",
              "          const element = document.querySelector('#df-a0ed5a44-5464-4446-afb1-c992c07f579f');\n",
              "          const dataTable =\n",
              "            await google.colab.kernel.invokeFunction('convertToInteractive',\n",
              "                                                     [key], {});\n",
              "          if (!dataTable) return;\n",
              "\n",
              "          const docLinkHtml = 'Like what you see? Visit the ' +\n",
              "            '<a target=\"_blank\" href=https://colab.research.google.com/notebooks/data_table.ipynb>data table notebook</a>'\n",
              "            + ' to learn more about interactive tables.';\n",
              "          element.innerHTML = '';\n",
              "          dataTable['output_type'] = 'display_data';\n",
              "          await google.colab.output.renderOutput(dataTable, element);\n",
              "          const docLink = document.createElement('div');\n",
              "          docLink.innerHTML = docLinkHtml;\n",
              "          element.appendChild(docLink);\n",
              "        }\n",
              "      </script>\n",
              "    </div>\n",
              "  </div>\n",
              "  "
            ],
            "text/plain": [
              "   fixed acidity  volatile acidity  citric acid  ...  sulphates  alcohol  quality\n",
              "0            7.4              0.70         0.00  ...       0.56      9.4      5.0\n",
              "1            7.8              0.88         0.00  ...       0.68      9.8      5.0\n",
              "2            7.8              0.76         0.04  ...       0.65      9.8      5.0\n",
              "\n",
              "[3 rows x 12 columns]"
            ]
          },
          "execution_count": 4,
          "metadata": {},
          "output_type": "execute_result"
        }
      ],
      "source": [
        "import pandas as pd\n",
        "winequality = pd.read_csv(\"https://raw.githubusercontent.com/fabnancyuhp/DEEP-LEARNING/main/DATA/winequality-red.csv\").astype('float32')\n",
        "winequality.head(3) "
      ]
    },
    {
      "cell_type": "markdown",
      "metadata": {
        "id": "3mMaudc9N6p7"
      },
      "source": [
        "We want to predict the wine quality. Then the quality is the target value. The others columns from the dataset are the values of the features. We also split the dataset into the train set and the test set."
      ]
    },
    {
      "cell_type": "code",
      "execution_count": null,
      "metadata": {
        "id": "DiTQMbY9N6p8"
      },
      "outputs": [],
      "source": [
        "x = winequality.drop(['quality'], axis=1)\n",
        "y = winequality['quality']"
      ]
    },
    {
      "cell_type": "markdown",
      "metadata": {
        "id": "Dsv5SzzqVXnx"
      },
      "source": [
        "We display the distinct value of winequality['quality']. Although the target values are integers stored in a float format, we'll make a regression model to predict the quality.  The model we'll build we'll return a float number. We'll add an extra step that rounds the outputs of our model."
      ]
    },
    {
      "cell_type": "code",
      "execution_count": null,
      "metadata": {
        "colab": {
          "base_uri": "https://localhost:8080/"
        },
        "id": "cZ4a0GKKVije",
        "outputId": "2724382a-11ab-4631-eeff-a88f8bd468ce"
      },
      "outputs": [
        {
          "data": {
            "text/plain": [
              "array([5., 6., 7., 4., 8., 3.], dtype=float32)"
            ]
          },
          "execution_count": 23,
          "metadata": {},
          "output_type": "execute_result"
        }
      ],
      "source": [
        "winequality['quality'].unique()"
      ]
    },
    {
      "cell_type": "markdown",
      "metadata": {
        "id": "5SNyeL5qi7Yk"
      },
      "source": [
        "We split the dataset into the train set and the test set."
      ]
    },
    {
      "cell_type": "code",
      "execution_count": null,
      "metadata": {
        "id": "Pk8ADh07TP-o"
      },
      "outputs": [],
      "source": [
        "from sklearn.model_selection import train_test_split\n",
        "x_train, x_test, y_train, y_test = train_test_split(x.values, y.values, test_size=0.2, random_state=42)"
      ]
    },
    {
      "cell_type": "markdown",
      "metadata": {
        "id": "pFXKG0YwjUl5"
      },
      "source": [
        "## Building the regression model with tensorflow.keras"
      ]
    },
    {
      "cell_type": "markdown",
      "metadata": {
        "id": "JwvAXqdhN6p8"
      },
      "source": [
        "We import the keras.layers and keras.models packages:"
      ]
    },
    {
      "cell_type": "code",
      "execution_count": null,
      "metadata": {
        "id": "_U04NsnfN6p9"
      },
      "outputs": [],
      "source": [
        "from tensorflow.keras.layers import Dense, Dropout, BatchNormalization, InputLayer \n",
        "from tensorflow.keras.models import Sequential"
      ]
    },
    {
      "cell_type": "markdown",
      "metadata": {
        "id": "4AZFOxbrN6p9"
      },
      "source": [
        "Now, we are building the neural network and compile the model. You have to notice we import the Adam optimizer to choose the learning rate. The output Dense layer has one unit in the case of a regression problem. We compile the model with the mean absolute error loss and mean absolute error metric."
      ]
    },
    {
      "cell_type": "code",
      "execution_count": null,
      "metadata": {
        "id": "87LK0jZ0N6p-"
      },
      "outputs": [],
      "source": [
        "from tensorflow.keras.optimizers import Adam\n",
        "\n",
        "model = Sequential([InputLayer(input_shape=(x.shape[1],))\n",
        "                    ,BatchNormalization()\n",
        "                    ,Dense(100,activation='relu')\n",
        "                    ,Dropout(0.3)\n",
        "                    ,Dense(100,activation='relu')\n",
        "                    ,Dropout(0.3)\n",
        "                    ,BatchNormalization()\n",
        "                    ,Dense(100, activation='relu')\n",
        "                    ,Dropout(0.3)\n",
        "                    ,Dense(12,activation='relu')\n",
        "                    ,Dropout(0.1)\n",
        "                    ,Dense(1)])\n",
        "\n",
        "model.compile(optimizer=Adam(learning_rate=0.001),loss='mae',metrics=['mae'])"
      ]
    },
    {
      "cell_type": "markdown",
      "metadata": {
        "id": "RHhDvcizOVJT"
      },
      "source": [
        "## Training and evaluating the model"
      ]
    },
    {
      "cell_type": "markdown",
      "metadata": {
        "id": "IFym3bQJN6p_"
      },
      "source": [
        "Now, we launch the training stage with 700 epochs. The number of epochs is defining how much time the whole training set will be passed through the network. We use 10 percent of the training as a validation set."
      ]
    },
    {
      "cell_type": "code",
      "execution_count": null,
      "metadata": {
        "id": "XthYELN3N6qA"
      },
      "outputs": [],
      "source": [
        "history = model.fit(x_train, y_train, epochs=700, verbose=0,validation_split=0.1)"
      ]
    },
    {
      "cell_type": "markdown",
      "metadata": {
        "id": "o_JuZovFPBA8"
      },
      "source": [
        "We evaluate the model on the test set:"
      ]
    },
    {
      "cell_type": "code",
      "execution_count": null,
      "metadata": {
        "colab": {
          "base_uri": "https://localhost:8080/"
        },
        "id": "Zm6Iwp_2N6qA",
        "outputId": "370d6190-26d5-48fe-bcb6-2f20ec25ece1"
      },
      "outputs": [
        {
          "name": "stdout",
          "output_type": "stream",
          "text": [
            "10/10 [==============================] - 0s 2ms/step - loss: 0.4556 - mae: 0.4556\n"
          ]
        },
        {
          "data": {
            "text/plain": [
              "[0.45556050539016724, 0.45556050539016724]"
            ]
          },
          "execution_count": 16,
          "metadata": {},
          "output_type": "execute_result"
        }
      ],
      "source": [
        "model.evaluate(x_test, y_test)"
      ]
    },
    {
      "cell_type": "markdown",
      "metadata": {
        "id": "sfCy376MX0zG"
      },
      "source": [
        "We display the model training history."
      ]
    },
    {
      "cell_type": "code",
      "execution_count": null,
      "metadata": {
        "colab": {
          "base_uri": "https://localhost:8080/",
          "height": 282
        },
        "id": "diIIMMhbN6qB",
        "outputId": "d4fe7416-fd2f-4f7a-d53d-4dfb0271d6c9"
      },
      "outputs": [
        {
          "data": {
            "text/plain": [
              "<matplotlib.axes._subplots.AxesSubplot at 0x7f49ca204d90>"
            ]
          },
          "execution_count": 17,
          "metadata": {},
          "output_type": "execute_result"
        },
        {
          "data": {
            "image/png": "[encoded data removed]",
            "text/plain": [
              "<Figure size 432x288 with 1 Axes>"
            ]
          },
          "metadata": {},
          "output_type": "display_data"
        }
      ],
      "source": [
        "pd.DataFrame(history.history).plot()"
      ]
    },
    {
      "cell_type": "markdown",
      "metadata": {
        "id": "0btFt301PJ0p"
      },
      "source": [
        "## Making predictions with the model\n",
        "Here, we predict the quality of a new wine from the test set. We reshape to make the vector suitable for the model. You notice we round the predicted value to compare it with the true value."
      ]
    },
    {
      "cell_type": "code",
      "execution_count": null,
      "metadata": {
        "colab": {
          "base_uri": "https://localhost:8080/"
        },
        "id": "kMM-4KkhPK9n",
        "outputId": "e86968d2-cce5-4538-b827-b9e6a54e5aec"
      },
      "outputs": [
        {
          "name": "stdout",
          "output_type": "stream",
          "text": [
            "Predicted value :[7.]\n",
            "The true value :7.0\n"
          ]
        }
      ],
      "source": [
        "import numpy as np\n",
        "new_wine = x_test[15]\n",
        "new_wine_reshape = x_test[15].reshape(1,11)\n",
        "pred_model = model.predict(new_wine_reshape)\n",
        "pred_model_bis = np.round(pred_model[0])\n",
        "print(\"Predicted value :\"+str(pred_model_bis))\n",
        "print(\"The true value :\"+str(y_test[15]))"
      ]
    },
    {
      "cell_type": "markdown",
      "metadata": {
        "id": "qbJxxDsirbq9"
      },
      "source": [
        "# Example : Regression on California housing dataset\n",
        "We build an ANN to predict the median house value for California districts, expressed in hundreds of thousands of dollars. The predictive attributes are:\n",
        "* MedInc        median income in block group\n",
        "* HouseAge      median house age in block group\n",
        "* AveRooms      average number of rooms per household\n",
        "* AveBedrms     average number of bedrooms per household\n",
        "* Population    block group population\n",
        "* AveOccup      average number of household members\n",
        "* Latitude      block group latitude\n",
        "* Longitude     block group longitude "
      ]
    },
    {
      "cell_type": "code",
      "execution_count": 7,
      "metadata": {
        "colab": {
          "base_uri": "https://localhost:8080/",
          "height": 143
        },
        "id": "O_GW4mSMrcIs",
        "outputId": "faadce66-f46e-49e0-b438-57c3edd57f0b"
      },
      "outputs": [
        {
          "output_type": "execute_result",
          "data": {
            "text/html": [
              "\n",
              "  <div id=\"df-d41f7a75-877c-4a26-b0dd-56c6b5d48265\">\n",
              "    <div class=\"colab-df-container\">\n",
              "      <div>\n",
              "<style scoped>\n",
              "    .dataframe tbody tr th:only-of-type {\n",
              "        vertical-align: middle;\n",
              "    }\n",
              "\n",
              "    .dataframe tbody tr th {\n",
              "        vertical-align: top;\n",
              "    }\n",
              "\n",
              "    .dataframe thead th {\n",
              "        text-align: right;\n",
              "    }\n",
              "</style>\n",
              "<table border=\"1\" class=\"dataframe\">\n",
              "  <thead>\n",
              "    <tr style=\"text-align: right;\">\n",
              "      <th></th>\n",
              "      <th>MedInc</th>\n",
              "      <th>HouseAge</th>\n",
              "      <th>AveRooms</th>\n",
              "      <th>AveBedrms</th>\n",
              "      <th>Population</th>\n",
              "      <th>AveOccup</th>\n",
              "      <th>Latitude</th>\n",
              "      <th>Longitude</th>\n",
              "      <th>MedHouseVal</th>\n",
              "    </tr>\n",
              "  </thead>\n",
              "  <tbody>\n",
              "    <tr>\n",
              "      <th>0</th>\n",
              "      <td>8.3252</td>\n",
              "      <td>41.0</td>\n",
              "      <td>6.984127</td>\n",
              "      <td>1.023810</td>\n",
              "      <td>322.0</td>\n",
              "      <td>2.555556</td>\n",
              "      <td>37.88</td>\n",
              "      <td>-122.23</td>\n",
              "      <td>4.526</td>\n",
              "    </tr>\n",
              "    <tr>\n",
              "      <th>1</th>\n",
              "      <td>8.3014</td>\n",
              "      <td>21.0</td>\n",
              "      <td>6.238137</td>\n",
              "      <td>0.971880</td>\n",
              "      <td>2401.0</td>\n",
              "      <td>2.109842</td>\n",
              "      <td>37.86</td>\n",
              "      <td>-122.22</td>\n",
              "      <td>3.585</td>\n",
              "    </tr>\n",
              "    <tr>\n",
              "      <th>2</th>\n",
              "      <td>7.2574</td>\n",
              "      <td>52.0</td>\n",
              "      <td>8.288136</td>\n",
              "      <td>1.073446</td>\n",
              "      <td>496.0</td>\n",
              "      <td>2.802260</td>\n",
              "      <td>37.85</td>\n",
              "      <td>-122.24</td>\n",
              "      <td>3.521</td>\n",
              "    </tr>\n",
              "  </tbody>\n",
              "</table>\n",
              "</div>\n",
              "      <button class=\"colab-df-convert\" onclick=\"convertToInteractive('df-d41f7a75-877c-4a26-b0dd-56c6b5d48265')\"\n",
              "              title=\"Convert this dataframe to an interactive table.\"\n",
              "              style=\"display:none;\">\n",
              "        \n",
              "  <svg xmlns=\"http://www.w3.org/2000/svg\" height=\"24px\"viewBox=\"0 0 24 24\"\n",
              "       width=\"24px\">\n",
              "    <path d=\"M0 0h24v24H0V0z\" fill=\"none\"/>\n",
              "    <path d=\"M18.56 5.44l.94 2.06.94-2.06 2.06-.94-2.06-.94-.94-2.06-.94 2.06-2.06.94zm-11 1L8.5 8.5l.94-2.06 2.06-.94-2.06-.94L8.5 2.5l-.94 2.06-2.06.94zm10 10l.94 2.06.94-2.06 2.06-.94-2.06-.94-.94-2.06-.94 2.06-2.06.94z\"/><path d=\"M17.41 7.96l-1.37-1.37c-.4-.4-.92-.59-1.43-.59-.52 0-1.04.2-1.43.59L10.3 9.45l-7.72 7.72c-.78.78-.78 2.05 0 2.83L4 21.41c.39.39.9.59 1.41.59.51 0 1.02-.2 1.41-.59l7.78-7.78 2.81-2.81c.8-.78.8-2.07 0-2.86zM5.41 20L4 18.59l7.72-7.72 1.47 1.35L5.41 20z\"/>\n",
              "  </svg>\n",
              "      </button>\n",
              "      \n",
              "  <style>\n",
              "    .colab-df-container {\n",
              "      display:flex;\n",
              "      flex-wrap:wrap;\n",
              "      gap: 12px;\n",
              "    }\n",
              "\n",
              "    .colab-df-convert {\n",
              "      background-color: #E8F0FE;\n",
              "      border: none;\n",
              "      border-radius: 50%;\n",
              "      cursor: pointer;\n",
              "      display: none;\n",
              "      fill: #1967D2;\n",
              "      height: 32px;\n",
              "      padding: 0 0 0 0;\n",
              "      width: 32px;\n",
              "    }\n",
              "\n",
              "    .colab-df-convert:hover {\n",
              "      background-color: #E2EBFA;\n",
              "      box-shadow: 0px 1px 2px rgba(60, 64, 67, 0.3), 0px 1px 3px 1px rgba(60, 64, 67, 0.15);\n",
              "      fill: #174EA6;\n",
              "    }\n",
              "\n",
              "    [theme=dark] .colab-df-convert {\n",
              "      background-color: #3B4455;\n",
              "      fill: #D2E3FC;\n",
              "    }\n",
              "\n",
              "    [theme=dark] .colab-df-convert:hover {\n",
              "      background-color: #434B5C;\n",
              "      box-shadow: 0px 1px 3px 1px rgba(0, 0, 0, 0.15);\n",
              "      filter: drop-shadow(0px 1px 2px rgba(0, 0, 0, 0.3));\n",
              "      fill: #FFFFFF;\n",
              "    }\n",
              "  </style>\n",
              "\n",
              "      <script>\n",
              "        const buttonEl =\n",
              "          document.querySelector('#df-d41f7a75-877c-4a26-b0dd-56c6b5d48265 button.colab-df-convert');\n",
              "        buttonEl.style.display =\n",
              "          google.colab.kernel.accessAllowed ? 'block' : 'none';\n",
              "\n",
              "        async function convertToInteractive(key) {\n",
              "          const element = document.querySelector('#df-d41f7a75-877c-4a26-b0dd-56c6b5d48265');\n",
              "          const dataTable =\n",
              "            await google.colab.kernel.invokeFunction('convertToInteractive',\n",
              "                                                     [key], {});\n",
              "          if (!dataTable) return;\n",
              "\n",
              "          const docLinkHtml = 'Like what you see? Visit the ' +\n",
              "            '<a target=\"_blank\" href=https://colab.research.google.com/notebooks/data_table.ipynb>data table notebook</a>'\n",
              "            + ' to learn more about interactive tables.';\n",
              "          element.innerHTML = '';\n",
              "          dataTable['output_type'] = 'display_data';\n",
              "          await google.colab.output.renderOutput(dataTable, element);\n",
              "          const docLink = document.createElement('div');\n",
              "          docLink.innerHTML = docLinkHtml;\n",
              "          element.appendChild(docLink);\n",
              "        }\n",
              "      </script>\n",
              "    </div>\n",
              "  </div>\n",
              "  "
            ],
            "text/plain": [
              "   MedInc  HouseAge  AveRooms  ...  Latitude  Longitude  MedHouseVal\n",
              "0  8.3252      41.0  6.984127  ...     37.88    -122.23        4.526\n",
              "1  8.3014      21.0  6.238137  ...     37.86    -122.22        3.585\n",
              "2  7.2574      52.0  8.288136  ...     37.85    -122.24        3.521\n",
              "\n",
              "[3 rows x 9 columns]"
            ]
          },
          "metadata": {},
          "execution_count": 7
        }
      ],
      "source": [
        "import pandas as pd\n",
        "url = \"https://raw.githubusercontent.com/fabnancyuhp/DEEP-LEARNING/main/DATA/california_housing%20(1).csv\"\n",
        "housing = pd.read_csv(url)\n",
        "housing.head(3)"
      ]
    },
    {
      "cell_type": "markdown",
      "source": [
        "**We split features from labels**. We also get ride of Latitude,Longitude attributes."
      ],
      "metadata": {
        "id": "8cQYti4KIHmt"
      }
    },
    {
      "cell_type": "code",
      "source": [
        "X = housing.drop(['MedHouseVal','Latitude','Longitude'],axis=1).values\n",
        "Y = housing['MedHouseVal'].values"
      ],
      "metadata": {
        "id": "z7AXA1b7ISRF"
      },
      "execution_count": 9,
      "outputs": []
    },
    {
      "cell_type": "markdown",
      "source": [
        "**We split the data into training and test sets.**"
      ],
      "metadata": {
        "id": "1MR_DKoCJWmH"
      }
    },
    {
      "cell_type": "code",
      "source": [
        "from sklearn.model_selection import train_test_split\n",
        "X_train, X_test, y_train, y_test = train_test_split(X, Y, test_size=0.2, random_state=42)"
      ],
      "metadata": {
        "id": "PH6aIiT4Jm0B"
      },
      "execution_count": 10,
      "outputs": []
    },
    {
      "cell_type": "code",
      "source": [
        "from sklearn.datasets import fetch_california_housing\n",
        "housing = fetch_california_housing()"
      ],
      "metadata": {
        "id": "aotu7RihGTGU"
      },
      "execution_count": 3,
      "outputs": []
    },
    {
      "cell_type": "code",
      "source": [
        "print(housing.DESCR)"
      ],
      "metadata": {
        "id": "Nl03c0JmGVPV",
        "outputId": "09268306-d86c-4b51-e502-f0ed218d136f",
        "colab": {
          "base_uri": "https://localhost:8080/"
        }
      },
      "execution_count": 5,
      "outputs": [
        {
          "output_type": "stream",
          "name": "stdout",
          "text": [
            ".. _california_housing_dataset:\n",
            "\n",
            "California Housing dataset\n",
            "--------------------------\n",
            "\n",
            "**Data Set Characteristics:**\n",
            "\n",
            "    :Number of Instances: 20640\n",
            "\n",
            "    :Number of Attributes: 8 numeric, predictive attributes and the target\n",
            "\n",
            "    :Attribute Information:\n",
            "        - MedInc        median income in block group\n",
            "        - HouseAge      median house age in block group\n",
            "        - AveRooms      average number of rooms per household\n",
            "        - AveBedrms     average number of bedrooms per household\n",
            "        - Population    block group population\n",
            "        - AveOccup      average number of household members\n",
            "        - Latitude      block group latitude\n",
            "        - Longitude     block group longitude\n",
            "\n",
            "    :Missing Attribute Values: None\n",
            "\n",
            "This dataset was obtained from the StatLib repository.\n",
            "https://www.dcc.fc.up.pt/~ltorgo/Regression/cal_housing.html\n",
            "\n",
            "The target variable is the median house value for California districts,\n",
            "expressed in hundreds of thousands of dollars ($100,000).\n",
            "\n",
            "This dataset was derived from the 1990 U.S. census, using one row per census\n",
            "block group. A block group is the smallest geographical unit for which the U.S.\n",
            "Census Bureau publishes sample data (a block group typically has a population\n",
            "of 600 to 3,000 people).\n",
            "\n",
            "An household is a group of people residing within a home. Since the average\n",
            "number of rooms and bedrooms in this dataset are provided per household, these\n",
            "columns may take surpinsingly large values for block groups with few households\n",
            "and many empty houses, such as vacation resorts.\n",
            "\n",
            "It can be downloaded/loaded using the\n",
            ":func:`sklearn.datasets.fetch_california_housing` function.\n",
            "\n",
            ".. topic:: References\n",
            "\n",
            "    - Pace, R. Kelley and Ronald Barry, Sparse Spatial Autoregressions,\n",
            "      Statistics and Probability Letters, 33 (1997) 291-297\n",
            "\n"
          ]
        }
      ]
    },
    {
      "cell_type": "markdown",
      "metadata": {
        "id": "uMoRF1yMN6qO"
      },
      "source": [
        "# Exercise :Superconductors critical temperature prediction\n",
        "The critical temperature for superconductors is the temperature at which the electrical resistivity of a metal drops to zero. \n",
        "**In this exercise, you have to build a model that predicts the critical temperature of superconductors**. First, you have the run the cell below to import and view the head of the dataset. Since the critical temperature is a continuous variable, we are in a regression problem."
      ]
    },
    {
      "cell_type": "code",
      "execution_count": null,
      "metadata": {
        "colab": {
          "base_uri": "https://localhost:8080/",
          "height": 236
        },
        "id": "4cJREldbN6qP",
        "outputId": "a87046d7-3f9d-410f-f042-640a52683706"
      },
      "outputs": [
        {
          "data": {
            "text/html": [
              "\n",
              "  <div id=\"df-8bec1b56-f359-47b1-b4cb-c80d835b5e18\">\n",
              "    <div class=\"colab-df-container\">\n",
              "      <div>\n",
              "<style scoped>\n",
              "    .dataframe tbody tr th:only-of-type {\n",
              "        vertical-align: middle;\n",
              "    }\n",
              "\n",
              "    .dataframe tbody tr th {\n",
              "        vertical-align: top;\n",
              "    }\n",
              "\n",
              "    .dataframe thead th {\n",
              "        text-align: right;\n",
              "    }\n",
              "</style>\n",
              "<table border=\"1\" class=\"dataframe\">\n",
              "  <thead>\n",
              "    <tr style=\"text-align: right;\">\n",
              "      <th></th>\n",
              "      <th>number_of_elements</th>\n",
              "      <th>mean_atomic_mass</th>\n",
              "      <th>wtd_mean_atomic_mass</th>\n",
              "      <th>gmean_atomic_mass</th>\n",
              "      <th>wtd_gmean_atomic_mass</th>\n",
              "      <th>entropy_atomic_mass</th>\n",
              "      <th>wtd_entropy_atomic_mass</th>\n",
              "      <th>range_atomic_mass</th>\n",
              "      <th>wtd_range_atomic_mass</th>\n",
              "      <th>std_atomic_mass</th>\n",
              "      <th>wtd_std_atomic_mass</th>\n",
              "      <th>mean_fie</th>\n",
              "      <th>wtd_mean_fie</th>\n",
              "      <th>gmean_fie</th>\n",
              "      <th>wtd_gmean_fie</th>\n",
              "      <th>entropy_fie</th>\n",
              "      <th>wtd_entropy_fie</th>\n",
              "      <th>range_fie</th>\n",
              "      <th>wtd_range_fie</th>\n",
              "      <th>std_fie</th>\n",
              "      <th>wtd_std_fie</th>\n",
              "      <th>mean_atomic_radius</th>\n",
              "      <th>wtd_mean_atomic_radius</th>\n",
              "      <th>gmean_atomic_radius</th>\n",
              "      <th>wtd_gmean_atomic_radius</th>\n",
              "      <th>entropy_atomic_radius</th>\n",
              "      <th>wtd_entropy_atomic_radius</th>\n",
              "      <th>range_atomic_radius</th>\n",
              "      <th>wtd_range_atomic_radius</th>\n",
              "      <th>std_atomic_radius</th>\n",
              "      <th>wtd_std_atomic_radius</th>\n",
              "      <th>mean_Density</th>\n",
              "      <th>wtd_mean_Density</th>\n",
              "      <th>gmean_Density</th>\n",
              "      <th>wtd_gmean_Density</th>\n",
              "      <th>entropy_Density</th>\n",
              "      <th>wtd_entropy_Density</th>\n",
              "      <th>range_Density</th>\n",
              "      <th>wtd_range_Density</th>\n",
              "      <th>std_Density</th>\n",
              "      <th>...</th>\n",
              "      <th>wtd_mean_ElectronAffinity</th>\n",
              "      <th>gmean_ElectronAffinity</th>\n",
              "      <th>wtd_gmean_ElectronAffinity</th>\n",
              "      <th>entropy_ElectronAffinity</th>\n",
              "      <th>wtd_entropy_ElectronAffinity</th>\n",
              "      <th>range_ElectronAffinity</th>\n",
              "      <th>wtd_range_ElectronAffinity</th>\n",
              "      <th>std_ElectronAffinity</th>\n",
              "      <th>wtd_std_ElectronAffinity</th>\n",
              "      <th>mean_FusionHeat</th>\n",
              "      <th>wtd_mean_FusionHeat</th>\n",
              "      <th>gmean_FusionHeat</th>\n",
              "      <th>wtd_gmean_FusionHeat</th>\n",
              "      <th>entropy_FusionHeat</th>\n",
              "      <th>wtd_entropy_FusionHeat</th>\n",
              "      <th>range_FusionHeat</th>\n",
              "      <th>wtd_range_FusionHeat</th>\n",
              "      <th>std_FusionHeat</th>\n",
              "      <th>wtd_std_FusionHeat</th>\n",
              "      <th>mean_ThermalConductivity</th>\n",
              "      <th>wtd_mean_ThermalConductivity</th>\n",
              "      <th>gmean_ThermalConductivity</th>\n",
              "      <th>wtd_gmean_ThermalConductivity</th>\n",
              "      <th>entropy_ThermalConductivity</th>\n",
              "      <th>wtd_entropy_ThermalConductivity</th>\n",
              "      <th>range_ThermalConductivity</th>\n",
              "      <th>wtd_range_ThermalConductivity</th>\n",
              "      <th>std_ThermalConductivity</th>\n",
              "      <th>wtd_std_ThermalConductivity</th>\n",
              "      <th>mean_Valence</th>\n",
              "      <th>wtd_mean_Valence</th>\n",
              "      <th>gmean_Valence</th>\n",
              "      <th>wtd_gmean_Valence</th>\n",
              "      <th>entropy_Valence</th>\n",
              "      <th>wtd_entropy_Valence</th>\n",
              "      <th>range_Valence</th>\n",
              "      <th>wtd_range_Valence</th>\n",
              "      <th>std_Valence</th>\n",
              "      <th>wtd_std_Valence</th>\n",
              "      <th>critical_temp</th>\n",
              "    </tr>\n",
              "  </thead>\n",
              "  <tbody>\n",
              "    <tr>\n",
              "      <th>0</th>\n",
              "      <td>4</td>\n",
              "      <td>88.944468</td>\n",
              "      <td>57.862692</td>\n",
              "      <td>66.361592</td>\n",
              "      <td>36.116612</td>\n",
              "      <td>1.181795</td>\n",
              "      <td>1.062396</td>\n",
              "      <td>122.90607</td>\n",
              "      <td>31.794921</td>\n",
              "      <td>51.968828</td>\n",
              "      <td>53.622535</td>\n",
              "      <td>775.425</td>\n",
              "      <td>1010.268571</td>\n",
              "      <td>718.152900</td>\n",
              "      <td>938.016780</td>\n",
              "      <td>1.305967</td>\n",
              "      <td>0.791488</td>\n",
              "      <td>810.6</td>\n",
              "      <td>735.985714</td>\n",
              "      <td>323.811808</td>\n",
              "      <td>355.562967</td>\n",
              "      <td>160.25</td>\n",
              "      <td>105.514286</td>\n",
              "      <td>136.126003</td>\n",
              "      <td>84.528423</td>\n",
              "      <td>1.259244</td>\n",
              "      <td>1.207040</td>\n",
              "      <td>205</td>\n",
              "      <td>42.914286</td>\n",
              "      <td>75.237540</td>\n",
              "      <td>69.235569</td>\n",
              "      <td>4654.35725</td>\n",
              "      <td>2961.502286</td>\n",
              "      <td>724.953211</td>\n",
              "      <td>53.543811</td>\n",
              "      <td>1.033129</td>\n",
              "      <td>0.814598</td>\n",
              "      <td>8958.571</td>\n",
              "      <td>1579.583429</td>\n",
              "      <td>3306.162897</td>\n",
              "      <td>...</td>\n",
              "      <td>111.727143</td>\n",
              "      <td>60.123179</td>\n",
              "      <td>99.414682</td>\n",
              "      <td>1.159687</td>\n",
              "      <td>0.787382</td>\n",
              "      <td>127.05</td>\n",
              "      <td>80.987143</td>\n",
              "      <td>51.433712</td>\n",
              "      <td>42.558396</td>\n",
              "      <td>6.9055</td>\n",
              "      <td>3.846857</td>\n",
              "      <td>3.479475</td>\n",
              "      <td>1.040986</td>\n",
              "      <td>1.088575</td>\n",
              "      <td>0.994998</td>\n",
              "      <td>12.878</td>\n",
              "      <td>1.744571</td>\n",
              "      <td>4.599064</td>\n",
              "      <td>4.666920</td>\n",
              "      <td>107.756645</td>\n",
              "      <td>61.015189</td>\n",
              "      <td>7.062488</td>\n",
              "      <td>0.621979</td>\n",
              "      <td>0.308148</td>\n",
              "      <td>0.262848</td>\n",
              "      <td>399.97342</td>\n",
              "      <td>57.127669</td>\n",
              "      <td>168.854244</td>\n",
              "      <td>138.517163</td>\n",
              "      <td>2.25</td>\n",
              "      <td>2.257143</td>\n",
              "      <td>2.213364</td>\n",
              "      <td>2.219783</td>\n",
              "      <td>1.368922</td>\n",
              "      <td>1.066221</td>\n",
              "      <td>1</td>\n",
              "      <td>1.085714</td>\n",
              "      <td>0.433013</td>\n",
              "      <td>0.437059</td>\n",
              "      <td>29.0</td>\n",
              "    </tr>\n",
              "    <tr>\n",
              "      <th>1</th>\n",
              "      <td>5</td>\n",
              "      <td>92.729214</td>\n",
              "      <td>58.518416</td>\n",
              "      <td>73.132787</td>\n",
              "      <td>36.396602</td>\n",
              "      <td>1.449309</td>\n",
              "      <td>1.057755</td>\n",
              "      <td>122.90607</td>\n",
              "      <td>36.161939</td>\n",
              "      <td>47.094633</td>\n",
              "      <td>53.979870</td>\n",
              "      <td>766.440</td>\n",
              "      <td>1010.612857</td>\n",
              "      <td>720.605511</td>\n",
              "      <td>938.745413</td>\n",
              "      <td>1.544145</td>\n",
              "      <td>0.807078</td>\n",
              "      <td>810.6</td>\n",
              "      <td>743.164286</td>\n",
              "      <td>290.183029</td>\n",
              "      <td>354.963511</td>\n",
              "      <td>161.20</td>\n",
              "      <td>104.971429</td>\n",
              "      <td>141.465215</td>\n",
              "      <td>84.370167</td>\n",
              "      <td>1.508328</td>\n",
              "      <td>1.204115</td>\n",
              "      <td>205</td>\n",
              "      <td>50.571429</td>\n",
              "      <td>67.321319</td>\n",
              "      <td>68.008817</td>\n",
              "      <td>5821.48580</td>\n",
              "      <td>3021.016571</td>\n",
              "      <td>1237.095080</td>\n",
              "      <td>54.095718</td>\n",
              "      <td>1.314442</td>\n",
              "      <td>0.914802</td>\n",
              "      <td>10488.571</td>\n",
              "      <td>1667.383429</td>\n",
              "      <td>3767.403176</td>\n",
              "      <td>...</td>\n",
              "      <td>112.316429</td>\n",
              "      <td>69.833315</td>\n",
              "      <td>101.166398</td>\n",
              "      <td>1.427997</td>\n",
              "      <td>0.838666</td>\n",
              "      <td>127.05</td>\n",
              "      <td>81.207857</td>\n",
              "      <td>49.438167</td>\n",
              "      <td>41.667621</td>\n",
              "      <td>7.7844</td>\n",
              "      <td>3.796857</td>\n",
              "      <td>4.403790</td>\n",
              "      <td>1.035251</td>\n",
              "      <td>1.374977</td>\n",
              "      <td>1.073094</td>\n",
              "      <td>12.878</td>\n",
              "      <td>1.595714</td>\n",
              "      <td>4.473363</td>\n",
              "      <td>4.603000</td>\n",
              "      <td>172.205316</td>\n",
              "      <td>61.372331</td>\n",
              "      <td>16.064228</td>\n",
              "      <td>0.619735</td>\n",
              "      <td>0.847404</td>\n",
              "      <td>0.567706</td>\n",
              "      <td>429.97342</td>\n",
              "      <td>51.413383</td>\n",
              "      <td>198.554600</td>\n",
              "      <td>139.630922</td>\n",
              "      <td>2.00</td>\n",
              "      <td>2.257143</td>\n",
              "      <td>1.888175</td>\n",
              "      <td>2.210679</td>\n",
              "      <td>1.557113</td>\n",
              "      <td>1.047221</td>\n",
              "      <td>2</td>\n",
              "      <td>1.128571</td>\n",
              "      <td>0.632456</td>\n",
              "      <td>0.468606</td>\n",
              "      <td>26.0</td>\n",
              "    </tr>\n",
              "    <tr>\n",
              "      <th>2</th>\n",
              "      <td>4</td>\n",
              "      <td>88.944468</td>\n",
              "      <td>57.885242</td>\n",
              "      <td>66.361592</td>\n",
              "      <td>36.122509</td>\n",
              "      <td>1.181795</td>\n",
              "      <td>0.975980</td>\n",
              "      <td>122.90607</td>\n",
              "      <td>35.741099</td>\n",
              "      <td>51.968828</td>\n",
              "      <td>53.656268</td>\n",
              "      <td>775.425</td>\n",
              "      <td>1010.820000</td>\n",
              "      <td>718.152900</td>\n",
              "      <td>939.009036</td>\n",
              "      <td>1.305967</td>\n",
              "      <td>0.773620</td>\n",
              "      <td>810.6</td>\n",
              "      <td>743.164286</td>\n",
              "      <td>323.811808</td>\n",
              "      <td>354.804183</td>\n",
              "      <td>160.25</td>\n",
              "      <td>104.685714</td>\n",
              "      <td>136.126003</td>\n",
              "      <td>84.214573</td>\n",
              "      <td>1.259244</td>\n",
              "      <td>1.132547</td>\n",
              "      <td>205</td>\n",
              "      <td>49.314286</td>\n",
              "      <td>75.237540</td>\n",
              "      <td>67.797712</td>\n",
              "      <td>4654.35725</td>\n",
              "      <td>2999.159429</td>\n",
              "      <td>724.953211</td>\n",
              "      <td>53.974022</td>\n",
              "      <td>1.033129</td>\n",
              "      <td>0.760305</td>\n",
              "      <td>8958.571</td>\n",
              "      <td>1667.383429</td>\n",
              "      <td>3306.162897</td>\n",
              "      <td>...</td>\n",
              "      <td>112.213571</td>\n",
              "      <td>60.123179</td>\n",
              "      <td>101.082152</td>\n",
              "      <td>1.159687</td>\n",
              "      <td>0.786007</td>\n",
              "      <td>127.05</td>\n",
              "      <td>81.207857</td>\n",
              "      <td>51.433712</td>\n",
              "      <td>41.639878</td>\n",
              "      <td>6.9055</td>\n",
              "      <td>3.822571</td>\n",
              "      <td>3.479475</td>\n",
              "      <td>1.037439</td>\n",
              "      <td>1.088575</td>\n",
              "      <td>0.927479</td>\n",
              "      <td>12.878</td>\n",
              "      <td>1.757143</td>\n",
              "      <td>4.599064</td>\n",
              "      <td>4.649635</td>\n",
              "      <td>107.756645</td>\n",
              "      <td>60.943760</td>\n",
              "      <td>7.062488</td>\n",
              "      <td>0.619095</td>\n",
              "      <td>0.308148</td>\n",
              "      <td>0.250477</td>\n",
              "      <td>399.97342</td>\n",
              "      <td>57.127669</td>\n",
              "      <td>168.854244</td>\n",
              "      <td>138.540613</td>\n",
              "      <td>2.25</td>\n",
              "      <td>2.271429</td>\n",
              "      <td>2.213364</td>\n",
              "      <td>2.232679</td>\n",
              "      <td>1.368922</td>\n",
              "      <td>1.029175</td>\n",
              "      <td>1</td>\n",
              "      <td>1.114286</td>\n",
              "      <td>0.433013</td>\n",
              "      <td>0.444697</td>\n",
              "      <td>19.0</td>\n",
              "    </tr>\n",
              "  </tbody>\n",
              "</table>\n",
              "<p>3 rows × 82 columns</p>\n",
              "</div>\n",
              "      <button class=\"colab-df-convert\" onclick=\"convertToInteractive('df-8bec1b56-f359-47b1-b4cb-c80d835b5e18')\"\n",
              "              title=\"Convert this dataframe to an interactive table.\"\n",
              "              style=\"display:none;\">\n",
              "        \n",
              "  <svg xmlns=\"http://www.w3.org/2000/svg\" height=\"24px\"viewBox=\"0 0 24 24\"\n",
              "       width=\"24px\">\n",
              "    <path d=\"M0 0h24v24H0V0z\" fill=\"none\"/>\n",
              "    <path d=\"M18.56 5.44l.94 2.06.94-2.06 2.06-.94-2.06-.94-.94-2.06-.94 2.06-2.06.94zm-11 1L8.5 8.5l.94-2.06 2.06-.94-2.06-.94L8.5 2.5l-.94 2.06-2.06.94zm10 10l.94 2.06.94-2.06 2.06-.94-2.06-.94-.94-2.06-.94 2.06-2.06.94z\"/><path d=\"M17.41 7.96l-1.37-1.37c-.4-.4-.92-.59-1.43-.59-.52 0-1.04.2-1.43.59L10.3 9.45l-7.72 7.72c-.78.78-.78 2.05 0 2.83L4 21.41c.39.39.9.59 1.41.59.51 0 1.02-.2 1.41-.59l7.78-7.78 2.81-2.81c.8-.78.8-2.07 0-2.86zM5.41 20L4 18.59l7.72-7.72 1.47 1.35L5.41 20z\"/>\n",
              "  </svg>\n",
              "      </button>\n",
              "      \n",
              "  <style>\n",
              "    .colab-df-container {\n",
              "      display:flex;\n",
              "      flex-wrap:wrap;\n",
              "      gap: 12px;\n",
              "    }\n",
              "\n",
              "    .colab-df-convert {\n",
              "      background-color: #E8F0FE;\n",
              "      border: none;\n",
              "      border-radius: 50%;\n",
              "      cursor: pointer;\n",
              "      display: none;\n",
              "      fill: #1967D2;\n",
              "      height: 32px;\n",
              "      padding: 0 0 0 0;\n",
              "      width: 32px;\n",
              "    }\n",
              "\n",
              "    .colab-df-convert:hover {\n",
              "      background-color: #E2EBFA;\n",
              "      box-shadow: 0px 1px 2px rgba(60, 64, 67, 0.3), 0px 1px 3px 1px rgba(60, 64, 67, 0.15);\n",
              "      fill: #174EA6;\n",
              "    }\n",
              "\n",
              "    [theme=dark] .colab-df-convert {\n",
              "      background-color: #3B4455;\n",
              "      fill: #D2E3FC;\n",
              "    }\n",
              "\n",
              "    [theme=dark] .colab-df-convert:hover {\n",
              "      background-color: #434B5C;\n",
              "      box-shadow: 0px 1px 3px 1px rgba(0, 0, 0, 0.15);\n",
              "      filter: drop-shadow(0px 1px 2px rgba(0, 0, 0, 0.3));\n",
              "      fill: #FFFFFF;\n",
              "    }\n",
              "  </style>\n",
              "\n",
              "      <script>\n",
              "        const buttonEl =\n",
              "          document.querySelector('#df-8bec1b56-f359-47b1-b4cb-c80d835b5e18 button.colab-df-convert');\n",
              "        buttonEl.style.display =\n",
              "          google.colab.kernel.accessAllowed ? 'block' : 'none';\n",
              "\n",
              "        async function convertToInteractive(key) {\n",
              "          const element = document.querySelector('#df-8bec1b56-f359-47b1-b4cb-c80d835b5e18');\n",
              "          const dataTable =\n",
              "            await google.colab.kernel.invokeFunction('convertToInteractive',\n",
              "                                                     [key], {});\n",
              "          if (!dataTable) return;\n",
              "\n",
              "          const docLinkHtml = 'Like what you see? Visit the ' +\n",
              "            '<a target=\"_blank\" href=https://colab.research.google.com/notebooks/data_table.ipynb>data table notebook</a>'\n",
              "            + ' to learn more about interactive tables.';\n",
              "          element.innerHTML = '';\n",
              "          dataTable['output_type'] = 'display_data';\n",
              "          await google.colab.output.renderOutput(dataTable, element);\n",
              "          const docLink = document.createElement('div');\n",
              "          docLink.innerHTML = docLinkHtml;\n",
              "          element.appendChild(docLink);\n",
              "        }\n",
              "      </script>\n",
              "    </div>\n",
              "  </div>\n",
              "  "
            ],
            "text/plain": [
              "   number_of_elements  mean_atomic_mass  ...  wtd_std_Valence  critical_temp\n",
              "0                   4         88.944468  ...         0.437059           29.0\n",
              "1                   5         92.729214  ...         0.468606           26.0\n",
              "2                   4         88.944468  ...         0.444697           19.0\n",
              "\n",
              "[3 rows x 82 columns]"
            ]
          },
          "execution_count": 22,
          "metadata": {},
          "output_type": "execute_result"
        }
      ],
      "source": [
        "import requests, io, zipfile\n",
        "filename = \"train.csv\"\n",
        "#Remove \"blob\",  Replace github.com by raw.githubusercontent.com\n",
        "url = \"https://raw.githubusercontent.com/fabnancyuhp/DEEP-LEARNING/main/DATA/superconduct.zip\"\n",
        "r = requests.get(url)\n",
        "z = zipfile.ZipFile(io.BytesIO(r.content))\n",
        "#z.extractall()\n",
        "import pandas as pd\n",
        "dfbis = pd.read_csv(z.open('train.csv'), sep=',')\n",
        "dfbis.head(3)"
      ]
    },
    {
      "cell_type": "markdown",
      "metadata": {
        "id": "KCMb0EpWN6qQ"
      },
      "source": [
        "Here, we define the target and the features. You have the run the cell below."
      ]
    },
    {
      "cell_type": "code",
      "execution_count": null,
      "metadata": {
        "id": "V0jL9O26N6qQ"
      },
      "outputs": [],
      "source": [
        "#X = features, Y = targets\n",
        "X = dfbis.drop(['critical_temp'],axis=1).values\n",
        "Y = dfbis['critical_temp'].values"
      ]
    },
    {
      "cell_type": "markdown",
      "metadata": {
        "id": "JFCwDIraN6qR"
      },
      "source": [
        "1) Split the dataset into a training set and a test set using train_test_split.\n",
        "\n",
        "\n",
        "2) Make a neural network, compile it and fit it with TensorFlow.keras to solve this regression problem. \n",
        "You have to respect the following architecture: \n",
        "* BatchNormalization layer following the input of the network, \n",
        "* 3 hidden Dense layers.\n",
        "* You have to put a Dropout layer with rate 0.1 between the first Dense hidden layer and the second one. \n",
        "* You have to put a Dropout layer with rate 0.1 between the second hidden layer and the last one.\n",
        "\n",
        "You have to train your model with 500 epochs, set verbose=0, and set the batch_size = 10.\n",
        "\n",
        "3) Ev\n",
        "\n",
        "3) How many trainable parameters does your neural network have? Does a BatchNormalization layer yield trainable parameters."
      ]
    },
    {
      "cell_type": "code",
      "execution_count": null,
      "metadata": {
        "id": "PSrq2d2NN6qT"
      },
      "outputs": [],
      "source": [
        "#1)\n",
        "from sklearn.model_selection import train_test_split\n",
        "X_train, X_test, y_train, y_test = train_test_split(X, Y, test_size=0.33, random_state=42)\n",
        "#2)\n",
        "from tensorflow.keras.layers import Dense, Dropout, BatchNormalization, InputLayer\n",
        "from tensorflow.keras.models import Sequential\n",
        "\n",
        "modelreg = Sequential()\n",
        "modelreg.add(InputLayer(input_shape=(X.shape[1],)))\n",
        "modelreg.add(BatchNormalization())\n",
        "modelreg.add(Dense(10,activation='relu'))\n",
        "modelreg.add(Dropout(0.1))\n",
        "modelreg.add(Dense(10,activation='relu'))\n",
        "modelreg.add(Dropout(0.1))\n",
        "modelreg.add(Dense(10,activation='relu'))\n",
        "modelreg.add(Dense(1))\n",
        "\n",
        "modelreg.compile(optimizer='adam',loss='mae',metrics='mae')\n",
        "\n",
        "#we train modelreg\n",
        "modelreg.fit(X_train,y_train,epochs=500,batch_size=10,verbose=0)"
      ]
    },
    {
      "cell_type": "code",
      "execution_count": null,
      "metadata": {
        "id": "fsynuGwiN6qU"
      },
      "outputs": [],
      "source": [
        "modelreg.evaluate(X_test,y_test)"
      ]
    },
    {
      "cell_type": "markdown",
      "metadata": {
        "id": "LK16WWmXYJw9"
      },
      "source": [
        "1) Split the dataset into a training set and a test set using train_test_split."
      ]
    },
    {
      "cell_type": "code",
      "execution_count": null,
      "metadata": {
        "id": "cmcdg2J5ZBe8"
      },
      "outputs": [],
      "source": [
        "#your code her\n",
        "from sklearn.model_selection import train_test_split\n",
        "X_train, X_test, y_train, y_test = train_test_split(X, Y, test_size=0.33, random_state=42)"
      ]
    },
    {
      "cell_type": "markdown",
      "metadata": {
        "id": "j47bFg2xZ08B"
      },
      "source": [
        "2) Make an ANNE with the following architecture:\n",
        "* InputLayer\n",
        "* BatchNormalization()\n",
        "* Dense layer with 10 units and activation='relu'\n",
        "* Dropout with rate=0.1\n",
        "* Dense with 10 units and activation='relu'\n",
        "* Dropout with rate=0.1\n",
        "* Dense with 10 units and activation='relu'\n",
        "* The last Dense layer\n",
        "\n",
        "Compile your model with an adam optimizer, mean absolute error loss and set metrics=['mae']."
      ]
    },
    {
      "cell_type": "code",
      "execution_count": null,
      "metadata": {
        "id": "8p1t68JPanVn"
      },
      "outputs": [],
      "source": [
        "from tensorflow.keras.layers import Dense, Dropout, BatchNormalization, InputLayer\n",
        "from tensorflow.keras.models import Sequential\n",
        "\n",
        "modelreg = Sequential()\n",
        "modelreg.add(InputLayer(input_shape=(X.shape[1],)))\n",
        "modelreg.add(BatchNormalization())\n",
        "modelreg.add(Dense(10,activation='relu'))\n",
        "modelreg.add(Dropout(0.1))\n",
        "modelreg.add(Dense(10,activation='relu'))\n",
        "modelreg.add(Dropout(0.1))\n",
        "modelreg.add(Dense(10,activation='relu'))\n",
        "modelreg.add(Dense(1))\n",
        "\n",
        "modelreg.compile(optimizer='adam',loss='mae',metrics='mae')"
      ]
    },
    {
      "cell_type": "markdown",
      "metadata": {
        "id": "V6xptgFoZk4e"
      },
      "source": [
        "3/ Fit your model with 500 epochs and set validation_split=0.1."
      ]
    },
    {
      "cell_type": "code",
      "execution_count": null,
      "metadata": {
        "colab": {
          "background_save": true
        },
        "id": "IdEUpUPcgKUd"
      },
      "outputs": [],
      "source": [
        "history = modelreg.fit(X_train,y_train,epochs=500,batch_size=10,verbose=0,validation_split=0.1)"
      ]
    },
    {
      "cell_type": "markdown",
      "metadata": {
        "id": "FoVdkbxUgmpP"
      },
      "source": [
        "4) Evaluate your model on the test set."
      ]
    },
    {
      "cell_type": "code",
      "execution_count": null,
      "metadata": {
        "colab": {
          "base_uri": "https://localhost:8080/"
        },
        "id": "qWLtIlbqgtKr",
        "outputId": "e9743566-5241-4656-dd7c-5b28a1f07227"
      },
      "outputs": [
        {
          "name": "stdout",
          "output_type": "stream",
          "text": [
            "220/220 [==============================] - 0s 1ms/step - loss: 9.7068 - mae: 9.7068\n"
          ]
        },
        {
          "data": {
            "text/plain": [
              "[9.706753730773926, 9.706753730773926]"
            ]
          },
          "execution_count": 28,
          "metadata": {},
          "output_type": "execute_result"
        }
      ],
      "source": [
        "modelreg.evaluate(X_test,y_test)"
      ]
    },
    {
      "cell_type": "markdown",
      "metadata": {
        "id": "bAGeSIG2hDzz"
      },
      "source": [
        "5) How many trainable parameters does your neural network have? "
      ]
    },
    {
      "cell_type": "code",
      "execution_count": null,
      "metadata": {
        "colab": {
          "base_uri": "https://localhost:8080/"
        },
        "id": "HBzwR1CyhM6B",
        "outputId": "af2cbb52-56f2-4462-f054-b792501dcbae"
      },
      "outputs": [
        {
          "name": "stdout",
          "output_type": "stream",
          "text": [
            "Model: \"sequential_2\"\n",
            "_________________________________________________________________\n",
            " Layer (type)                Output Shape              Param #   \n",
            "=================================================================\n",
            " batch_normalization_4 (Batc  (None, 81)               324       \n",
            " hNormalization)                                                 \n",
            "                                                                 \n",
            " dense_10 (Dense)            (None, 10)                820       \n",
            "                                                                 \n",
            " dropout_8 (Dropout)         (None, 10)                0         \n",
            "                                                                 \n",
            " dense_11 (Dense)            (None, 10)                110       \n",
            "                                                                 \n",
            " dropout_9 (Dropout)         (None, 10)                0         \n",
            "                                                                 \n",
            " dense_12 (Dense)            (None, 10)                110       \n",
            "                                                                 \n",
            " dense_13 (Dense)            (None, 1)                 11        \n",
            "                                                                 \n",
            "=================================================================\n",
            "Total params: 1,375\n",
            "Trainable params: 1,213\n",
            "Non-trainable params: 162\n",
            "_________________________________________________________________\n"
          ]
        }
      ],
      "source": [
        "modelreg.summary()"
      ]
    },
    {
      "cell_type": "markdown",
      "metadata": {
        "id": "AwtLiLC0l_b4"
      },
      "source": [
        "6) Use your model to predict the critical temperature of X_test[30]."
      ]
    },
    {
      "cell_type": "code",
      "execution_count": null,
      "metadata": {
        "colab": {
          "base_uri": "https://localhost:8080/"
        },
        "id": "9wsYjEBDmVvb",
        "outputId": "6d418608-3cf0-4cd8-ab47-174de266f8ec"
      },
      "outputs": [
        {
          "data": {
            "text/plain": [
              "array([[6.961995]], dtype=float32)"
            ]
          },
          "execution_count": 32,
          "metadata": {},
          "output_type": "execute_result"
        }
      ],
      "source": [
        "supra_to_test = X_test[30]\n",
        "modelreg.predict(X_test[30].reshape(1,81))"
      ]
    },
    {
      "cell_type": "code",
      "execution_count": null,
      "metadata": {
        "colab": {
          "base_uri": "https://localhost:8080/"
        },
        "id": "qrqun749nMPs",
        "outputId": "d25c40df-845b-42b5-fc60-602a31e4997f"
      },
      "outputs": [
        {
          "data": {
            "text/plain": [
              "6.5"
            ]
          },
          "execution_count": 33,
          "metadata": {},
          "output_type": "execute_result"
        }
      ],
      "source": [
        "y_test[30]"
      ]
    }
  ],
  "metadata": {
    "colab": {
      "name": "REGRESSION ANNs on Structured DATA.ipynb",
      "provenance": [],
      "include_colab_link": true
    },
    "kernelspec": {
      "display_name": "Python 3",
      "language": "python",
      "name": "python3"
    },
    "language_info": {
      "codemirror_mode": {
        "name": "ipython",
        "version": 3
      },
      "file_extension": ".py",
      "mimetype": "text/x-python",
      "name": "python",
      "nbconvert_exporter": "python",
      "pygments_lexer": "ipython3",
      "version": "3.7.9"
    }
  },
  "nbformat": 4,
  "nbformat_minor": 0
}