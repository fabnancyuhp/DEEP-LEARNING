{
  "metadata": {
    "kernelspec": {
      "language": "python",
      "display_name": "Python 3",
      "name": "python3"
    },
    "language_info": {
      "name": "python",
      "version": "3.7.9",
      "mimetype": "text/x-python",
      "codemirror_mode": {
        "name": "ipython",
        "version": 3
      },
      "pygments_lexer": "ipython3",
      "nbconvert_exporter": "python",
      "file_extension": ".py"
    },
    "colab": {
      "name": "REGRESSION ANNs on Structured DATA.ipynb",
      "provenance": [],
      "include_colab_link": true
    }
  },
  "nbformat_minor": 0,
  "nbformat": 4,
  "cells": [
    {
      "cell_type": "markdown",
      "metadata": {
        "id": "view-in-github",
        "colab_type": "text"
      },
      "source": [
        "<a href=\"https://colab.research.google.com/github/fabnancyuhp/DEEP-LEARNING/blob/main/NOTEBOOKS/REGRESSION_ANNs_on_Structured_DATA.ipynb\" target=\"_parent\"><img src=\"https://colab.research.google.com/assets/colab-badge.svg\" alt=\"Open In Colab\"/></a>"
      ]
    },
    {
      "cell_type": "markdown",
      "source": [
        "# Red Wine Quality Regression\n",
        "\n",
        "Here we handle a regression problem on Red wine Quality dataset. We import the data from github. We convert all columns in float32 because it makes the dataset more TensorFlow digestible. "
      ],
      "metadata": {
        "id": "ibsEpSBbN6p4"
      }
    },
    {
      "cell_type": "code",
      "source": [
        "import pandas as pd\n",
        "winequality = pd.read_csv(\"https://raw.githubusercontent.com/fabnancyuhp/DEEP-LEARNING/main/DATA/winequality-red.csv\").astype('float32')\n",
        "winequality.head(3) "
      ],
      "metadata": {
        "execution": {
          "iopub.status.busy": "2021-08-19T12:43:51.053164Z",
          "iopub.execute_input": "2021-08-19T12:43:51.053781Z",
          "iopub.status.idle": "2021-08-19T12:43:51.573855Z",
          "shell.execute_reply.started": "2021-08-19T12:43:51.05373Z",
          "shell.execute_reply": "2021-08-19T12:43:51.572705Z"
        },
        "trusted": true,
        "colab": {
          "base_uri": "https://localhost:8080/",
          "height": 205
        },
        "id": "IyRa_MuLN6p5",
        "outputId": "757974c3-5cd4-4749-91d1-be5d3c13f3f9"
      },
      "execution_count": 4,
      "outputs": [
        {
          "output_type": "execute_result",
          "data": {
            "text/html": [
              "\n",
              "  <div id=\"df-a0ed5a44-5464-4446-afb1-c992c07f579f\">\n",
              "    <div class=\"colab-df-container\">\n",
              "      <div>\n",
              "<style scoped>\n",
              "    .dataframe tbody tr th:only-of-type {\n",
              "        vertical-align: middle;\n",
              "    }\n",
              "\n",
              "    .dataframe tbody tr th {\n",
              "        vertical-align: top;\n",
              "    }\n",
              "\n",
              "    .dataframe thead th {\n",
              "        text-align: right;\n",
              "    }\n",
              "</style>\n",
              "<table border=\"1\" class=\"dataframe\">\n",
              "  <thead>\n",
              "    <tr style=\"text-align: right;\">\n",
              "      <th></th>\n",
              "      <th>fixed acidity</th>\n",
              "      <th>volatile acidity</th>\n",
              "      <th>citric acid</th>\n",
              "      <th>residual sugar</th>\n",
              "      <th>chlorides</th>\n",
              "      <th>free sulfur dioxide</th>\n",
              "      <th>total sulfur dioxide</th>\n",
              "      <th>density</th>\n",
              "      <th>pH</th>\n",
              "      <th>sulphates</th>\n",
              "      <th>alcohol</th>\n",
              "      <th>quality</th>\n",
              "    </tr>\n",
              "  </thead>\n",
              "  <tbody>\n",
              "    <tr>\n",
              "      <th>0</th>\n",
              "      <td>7.4</td>\n",
              "      <td>0.70</td>\n",
              "      <td>0.00</td>\n",
              "      <td>1.9</td>\n",
              "      <td>0.076</td>\n",
              "      <td>11.0</td>\n",
              "      <td>34.0</td>\n",
              "      <td>0.9978</td>\n",
              "      <td>3.51</td>\n",
              "      <td>0.56</td>\n",
              "      <td>9.4</td>\n",
              "      <td>5.0</td>\n",
              "    </tr>\n",
              "    <tr>\n",
              "      <th>1</th>\n",
              "      <td>7.8</td>\n",
              "      <td>0.88</td>\n",
              "      <td>0.00</td>\n",
              "      <td>2.6</td>\n",
              "      <td>0.098</td>\n",
              "      <td>25.0</td>\n",
              "      <td>67.0</td>\n",
              "      <td>0.9968</td>\n",
              "      <td>3.20</td>\n",
              "      <td>0.68</td>\n",
              "      <td>9.8</td>\n",
              "      <td>5.0</td>\n",
              "    </tr>\n",
              "    <tr>\n",
              "      <th>2</th>\n",
              "      <td>7.8</td>\n",
              "      <td>0.76</td>\n",
              "      <td>0.04</td>\n",
              "      <td>2.3</td>\n",
              "      <td>0.092</td>\n",
              "      <td>15.0</td>\n",
              "      <td>54.0</td>\n",
              "      <td>0.9970</td>\n",
              "      <td>3.26</td>\n",
              "      <td>0.65</td>\n",
              "      <td>9.8</td>\n",
              "      <td>5.0</td>\n",
              "    </tr>\n",
              "  </tbody>\n",
              "</table>\n",
              "</div>\n",
              "      <button class=\"colab-df-convert\" onclick=\"convertToInteractive('df-a0ed5a44-5464-4446-afb1-c992c07f579f')\"\n",
              "              title=\"Convert this dataframe to an interactive table.\"\n",
              "              style=\"display:none;\">\n",
              "        \n",
              "  <svg xmlns=\"http://www.w3.org/2000/svg\" height=\"24px\"viewBox=\"0 0 24 24\"\n",
              "       width=\"24px\">\n",
              "    <path d=\"M0 0h24v24H0V0z\" fill=\"none\"/>\n",
              "    <path d=\"M18.56 5.44l.94 2.06.94-2.06 2.06-.94-2.06-.94-.94-2.06-.94 2.06-2.06.94zm-11 1L8.5 8.5l.94-2.06 2.06-.94-2.06-.94L8.5 2.5l-.94 2.06-2.06.94zm10 10l.94 2.06.94-2.06 2.06-.94-2.06-.94-.94-2.06-.94 2.06-2.06.94z\"/><path d=\"M17.41 7.96l-1.37-1.37c-.4-.4-.92-.59-1.43-.59-.52 0-1.04.2-1.43.59L10.3 9.45l-7.72 7.72c-.78.78-.78 2.05 0 2.83L4 21.41c.39.39.9.59 1.41.59.51 0 1.02-.2 1.41-.59l7.78-7.78 2.81-2.81c.8-.78.8-2.07 0-2.86zM5.41 20L4 18.59l7.72-7.72 1.47 1.35L5.41 20z\"/>\n",
              "  </svg>\n",
              "      </button>\n",
              "      \n",
              "  <style>\n",
              "    .colab-df-container {\n",
              "      display:flex;\n",
              "      flex-wrap:wrap;\n",
              "      gap: 12px;\n",
              "    }\n",
              "\n",
              "    .colab-df-convert {\n",
              "      background-color: #E8F0FE;\n",
              "      border: none;\n",
              "      border-radius: 50%;\n",
              "      cursor: pointer;\n",
              "      display: none;\n",
              "      fill: #1967D2;\n",
              "      height: 32px;\n",
              "      padding: 0 0 0 0;\n",
              "      width: 32px;\n",
              "    }\n",
              "\n",
              "    .colab-df-convert:hover {\n",
              "      background-color: #E2EBFA;\n",
              "      box-shadow: 0px 1px 2px rgba(60, 64, 67, 0.3), 0px 1px 3px 1px rgba(60, 64, 67, 0.15);\n",
              "      fill: #174EA6;\n",
              "    }\n",
              "\n",
              "    [theme=dark] .colab-df-convert {\n",
              "      background-color: #3B4455;\n",
              "      fill: #D2E3FC;\n",
              "    }\n",
              "\n",
              "    [theme=dark] .colab-df-convert:hover {\n",
              "      background-color: #434B5C;\n",
              "      box-shadow: 0px 1px 3px 1px rgba(0, 0, 0, 0.15);\n",
              "      filter: drop-shadow(0px 1px 2px rgba(0, 0, 0, 0.3));\n",
              "      fill: #FFFFFF;\n",
              "    }\n",
              "  </style>\n",
              "\n",
              "      <script>\n",
              "        const buttonEl =\n",
              "          document.querySelector('#df-a0ed5a44-5464-4446-afb1-c992c07f579f button.colab-df-convert');\n",
              "        buttonEl.style.display =\n",
              "          google.colab.kernel.accessAllowed ? 'block' : 'none';\n",
              "\n",
              "        async function convertToInteractive(key) {\n",
              "          const element = document.querySelector('#df-a0ed5a44-5464-4446-afb1-c992c07f579f');\n",
              "          const dataTable =\n",
              "            await google.colab.kernel.invokeFunction('convertToInteractive',\n",
              "                                                     [key], {});\n",
              "          if (!dataTable) return;\n",
              "\n",
              "          const docLinkHtml = 'Like what you see? Visit the ' +\n",
              "            '<a target=\"_blank\" href=https://colab.research.google.com/notebooks/data_table.ipynb>data table notebook</a>'\n",
              "            + ' to learn more about interactive tables.';\n",
              "          element.innerHTML = '';\n",
              "          dataTable['output_type'] = 'display_data';\n",
              "          await google.colab.output.renderOutput(dataTable, element);\n",
              "          const docLink = document.createElement('div');\n",
              "          docLink.innerHTML = docLinkHtml;\n",
              "          element.appendChild(docLink);\n",
              "        }\n",
              "      </script>\n",
              "    </div>\n",
              "  </div>\n",
              "  "
            ],
            "text/plain": [
              "   fixed acidity  volatile acidity  citric acid  ...  sulphates  alcohol  quality\n",
              "0            7.4              0.70         0.00  ...       0.56      9.4      5.0\n",
              "1            7.8              0.88         0.00  ...       0.68      9.8      5.0\n",
              "2            7.8              0.76         0.04  ...       0.65      9.8      5.0\n",
              "\n",
              "[3 rows x 12 columns]"
            ]
          },
          "metadata": {},
          "execution_count": 4
        }
      ]
    },
    {
      "cell_type": "markdown",
      "source": [
        "We want to predict the wine quality. Then the quality is the target value. The others columns from the dataset are the values of the features. We also split the dataset into the train set and the test set."
      ],
      "metadata": {
        "id": "3mMaudc9N6p7"
      }
    },
    {
      "cell_type": "code",
      "source": [
        "x = winequality.drop(['quality'], axis=1)\n",
        "y = winequality['quality']"
      ],
      "metadata": {
        "execution": {
          "iopub.status.busy": "2021-08-19T12:44:01.400371Z",
          "iopub.execute_input": "2021-08-19T12:44:01.40076Z",
          "iopub.status.idle": "2021-08-19T12:44:01.411326Z",
          "shell.execute_reply.started": "2021-08-19T12:44:01.400724Z",
          "shell.execute_reply": "2021-08-19T12:44:01.410404Z"
        },
        "trusted": true,
        "id": "DiTQMbY9N6p8"
      },
      "execution_count": 5,
      "outputs": []
    },
    {
      "cell_type": "markdown",
      "source": [
        "We display the distinct value of winequality['quality']. Although the target values are integers stored in a float format, we'll make a regression model to predict the quality.  The model we'll build we'll return a float number. We'll add an extra step that rounds the outputs of our model."
      ],
      "metadata": {
        "id": "Dsv5SzzqVXnx"
      }
    },
    {
      "cell_type": "code",
      "source": [
        "winequality['quality'].unique()"
      ],
      "metadata": {
        "colab": {
          "base_uri": "https://localhost:8080/"
        },
        "id": "cZ4a0GKKVije",
        "outputId": "2724382a-11ab-4631-eeff-a88f8bd468ce"
      },
      "execution_count": 23,
      "outputs": [
        {
          "output_type": "execute_result",
          "data": {
            "text/plain": [
              "array([5., 6., 7., 4., 8., 3.], dtype=float32)"
            ]
          },
          "metadata": {},
          "execution_count": 23
        }
      ]
    },
    {
      "cell_type": "markdown",
      "source": [
        "We split the dataset into the train set and the test set."
      ],
      "metadata": {
        "id": "5SNyeL5qi7Yk"
      }
    },
    {
      "cell_type": "code",
      "source": [
        "from sklearn.model_selection import train_test_split\n",
        "x_train, x_test, y_train, y_test = train_test_split(x.values, y.values, test_size=0.2, random_state=42)"
      ],
      "metadata": {
        "id": "Pk8ADh07TP-o"
      },
      "execution_count": 13,
      "outputs": []
    },
    {
      "cell_type": "markdown",
      "source": [
        "## Building the regression model with tensorflow.keras"
      ],
      "metadata": {
        "id": "pFXKG0YwjUl5"
      }
    },
    {
      "cell_type": "markdown",
      "source": [
        "We import the keras.layers and keras.models packages:"
      ],
      "metadata": {
        "id": "JwvAXqdhN6p8"
      }
    },
    {
      "cell_type": "code",
      "source": [
        "from tensorflow.keras.layers import Dense, Dropout, BatchNormalization, InputLayer \n",
        "from tensorflow.keras.models import Sequential"
      ],
      "metadata": {
        "execution": {
          "iopub.status.busy": "2021-08-19T11:49:24.150545Z",
          "iopub.execute_input": "2021-08-19T11:49:24.151364Z",
          "iopub.status.idle": "2021-08-19T11:49:24.159364Z",
          "shell.execute_reply.started": "2021-08-19T11:49:24.151329Z",
          "shell.execute_reply": "2021-08-19T11:49:24.157352Z"
        },
        "trusted": true,
        "id": "_U04NsnfN6p9"
      },
      "execution_count": 7,
      "outputs": []
    },
    {
      "cell_type": "markdown",
      "source": [
        "Now, we are building the neural network and compile the model. You have to notice we import the Adam optimizer to choose the learning rate. The output Dense layer has one unit in the case of a regression problem. We compile the model with the mean absolute error loss and mean absolute error metric."
      ],
      "metadata": {
        "id": "4AZFOxbrN6p9"
      }
    },
    {
      "cell_type": "code",
      "source": [
        "from tensorflow.keras.optimizers import Adam\n",
        "\n",
        "model = Sequential([InputLayer(input_shape=(x.shape[1],))\n",
        "                    ,BatchNormalization()\n",
        "                    ,Dense(100,activation='relu')\n",
        "                    ,Dropout(0.3)\n",
        "                    ,Dense(100,activation='relu')\n",
        "                    ,Dropout(0.3)\n",
        "                    ,BatchNormalization()\n",
        "                    ,Dense(100, activation='relu')\n",
        "                    ,Dropout(0.3)\n",
        "                    ,Dense(12,activation='relu')\n",
        "                    ,Dropout(0.1)\n",
        "                    ,Dense(1)])\n",
        "\n",
        "model.compile(optimizer=Adam(learning_rate=0.001),loss='mae',metrics=['mae'])"
      ],
      "metadata": {
        "execution": {
          "iopub.status.busy": "2021-08-19T11:49:32.834137Z",
          "iopub.execute_input": "2021-08-19T11:49:32.834544Z",
          "iopub.status.idle": "2021-08-19T11:49:32.969914Z",
          "shell.execute_reply.started": "2021-08-19T11:49:32.834508Z",
          "shell.execute_reply": "2021-08-19T11:49:32.969012Z"
        },
        "trusted": true,
        "id": "87LK0jZ0N6p-"
      },
      "execution_count": 14,
      "outputs": []
    },
    {
      "cell_type": "markdown",
      "source": [
        "## Training and evaluating the model"
      ],
      "metadata": {
        "id": "RHhDvcizOVJT"
      }
    },
    {
      "cell_type": "markdown",
      "source": [
        "Now, we launch the training stage with 700 epochs. The number of epochs is defining how much time the whole training set will be passed through the network. We use 10 percent of the training as a validation set."
      ],
      "metadata": {
        "id": "IFym3bQJN6p_"
      }
    },
    {
      "cell_type": "code",
      "source": [
        "history = model.fit(x_train, y_train, epochs=700, verbose=0,validation_split=0.1)"
      ],
      "metadata": {
        "execution": {
          "iopub.status.busy": "2021-08-19T11:49:42.315914Z",
          "iopub.execute_input": "2021-08-19T11:49:42.316531Z",
          "iopub.status.idle": "2021-08-19T11:50:20.64446Z",
          "shell.execute_reply.started": "2021-08-19T11:49:42.316496Z",
          "shell.execute_reply": "2021-08-19T11:50:20.643597Z"
        },
        "trusted": true,
        "id": "XthYELN3N6qA"
      },
      "execution_count": 15,
      "outputs": []
    },
    {
      "cell_type": "markdown",
      "source": [
        "We evaluate the model on the test set:"
      ],
      "metadata": {
        "id": "o_JuZovFPBA8"
      }
    },
    {
      "cell_type": "code",
      "source": [
        "model.evaluate(x_test, y_test)"
      ],
      "metadata": {
        "execution": {
          "iopub.status.busy": "2021-08-19T11:57:05.180598Z",
          "iopub.execute_input": "2021-08-19T11:57:05.181017Z",
          "iopub.status.idle": "2021-08-19T11:57:05.388281Z",
          "shell.execute_reply.started": "2021-08-19T11:57:05.180986Z",
          "shell.execute_reply": "2021-08-19T11:57:05.38751Z"
        },
        "trusted": true,
        "colab": {
          "base_uri": "https://localhost:8080/"
        },
        "id": "Zm6Iwp_2N6qA",
        "outputId": "370d6190-26d5-48fe-bcb6-2f20ec25ece1"
      },
      "execution_count": 16,
      "outputs": [
        {
          "output_type": "stream",
          "name": "stdout",
          "text": [
            "10/10 [==============================] - 0s 2ms/step - loss: 0.4556 - mae: 0.4556\n"
          ]
        },
        {
          "output_type": "execute_result",
          "data": {
            "text/plain": [
              "[0.45556050539016724, 0.45556050539016724]"
            ]
          },
          "metadata": {},
          "execution_count": 16
        }
      ]
    },
    {
      "cell_type": "code",
      "source": [
        "pd.DataFrame(history.history).plot()"
      ],
      "metadata": {
        "execution": {
          "iopub.status.busy": "2021-08-19T11:58:03.129549Z",
          "iopub.execute_input": "2021-08-19T11:58:03.129989Z",
          "iopub.status.idle": "2021-08-19T11:58:03.345373Z",
          "shell.execute_reply.started": "2021-08-19T11:58:03.129954Z",
          "shell.execute_reply": "2021-08-19T11:58:03.3446Z"
        },
        "trusted": true,
        "colab": {
          "base_uri": "https://localhost:8080/",
          "height": 282
        },
        "id": "diIIMMhbN6qB",
        "outputId": "d4fe7416-fd2f-4f7a-d53d-4dfb0271d6c9"
      },
      "execution_count": 17,
      "outputs": [
        {
          "output_type": "execute_result",
          "data": {
            "text/plain": [
              "<matplotlib.axes._subplots.AxesSubplot at 0x7f49ca204d90>"
            ]
          },
          "metadata": {},
          "execution_count": 17
        },
        {
          "output_type": "display_data",
          "data": {
            "image/png": "[encoded data removed]",
            "text/plain": [
              "<Figure size 432x288 with 1 Axes>"
            ]
          },
          "metadata": {
            "needs_background": "light"
          }
        }
      ]
    },
    {
      "cell_type": "markdown",
      "source": [
        "## Making predictions with the model\n",
        "Here, we predict the quality of a new wine from the test set. We reshape to make the vector suitable for the model. You notice we round the predicted value to compare it with the true value."
      ],
      "metadata": {
        "id": "0btFt301PJ0p"
      }
    },
    {
      "cell_type": "code",
      "source": [
        "import numpy as np\n",
        "new_wine = x_test[15]\n",
        "new_wine_reshape = x_test[15].reshape(1,11)\n",
        "pred_model = model.predict(new_wine_reshape)\n",
        "pred_model_bis = np.round(pred_model[0])\n",
        "print(\"Predicted value :\"+str(pred_model_bis))\n",
        "print(\"The true value :\"+str(y_test[15]))"
      ],
      "metadata": {
        "colab": {
          "base_uri": "https://localhost:8080/"
        },
        "id": "kMM-4KkhPK9n",
        "outputId": "e86968d2-cce5-4538-b827-b9e6a54e5aec"
      },
      "execution_count": 21,
      "outputs": [
        {
          "output_type": "stream",
          "name": "stdout",
          "text": [
            "Predicted value :[7.]\n",
            "The true value :7.0\n"
          ]
        }
      ]
    },
    {
      "cell_type": "markdown",
      "source": [
        "# Exercise :Superconductor Regression \n",
        "We want to predict critical_temp from the other variable. First, you have the run the cell below to import and view the head of the dataset."
      ],
      "metadata": {
        "id": "uMoRF1yMN6qO"
      }
    },
    {
      "cell_type": "code",
      "source": [
        "import requests, io, zipfile\n",
        "import numpy as np\n",
        "import matplotlib.pyplot as plt\n",
        "filename = \"train.csv\"\n",
        "#Remove \"blob\",  Replace github.com by raw.githubusercontent.com\n",
        "url = \"https://raw.githubusercontent.com/fabnancyuhp/DEEP-LEARNING/main/DATA/superconduct.zip\"\n",
        "r = requests.get(url)\n",
        "z = zipfile.ZipFile(io.BytesIO(r.content))\n",
        "#z.extractall()\n",
        "import pandas as pd\n",
        "#df = pd.read_csv(filename, sep=',')\n",
        "#df.head(3)\n",
        "dfbis = pd.read_csv(z.open('train.csv'), sep=',')\n",
        "dfbis.head(3)"
      ],
      "metadata": {
        "execution": {
          "iopub.status.busy": "2021-08-24T12:46:57.471462Z",
          "iopub.execute_input": "2021-08-24T12:46:57.472028Z",
          "iopub.status.idle": "2021-08-24T12:46:58.908554Z",
          "shell.execute_reply.started": "2021-08-24T12:46:57.471988Z",
          "shell.execute_reply": "2021-08-24T12:46:58.907509Z"
        },
        "trusted": true,
        "id": "4cJREldbN6qP"
      },
      "execution_count": null,
      "outputs": []
    },
    {
      "cell_type": "markdown",
      "source": [
        "Here, we define the target and the features. You have the run the cell below."
      ],
      "metadata": {
        "id": "KCMb0EpWN6qQ"
      }
    },
    {
      "cell_type": "code",
      "source": [
        "X = dfbis.drop(['critical_temp'],axis=1)\n",
        "Y = dfbis['critical_temp']"
      ],
      "metadata": {
        "execution": {
          "iopub.status.busy": "2021-08-24T12:47:10.021371Z",
          "iopub.execute_input": "2021-08-24T12:47:10.021748Z",
          "iopub.status.idle": "2021-08-24T12:47:10.03185Z",
          "shell.execute_reply.started": "2021-08-24T12:47:10.021715Z",
          "shell.execute_reply": "2021-08-24T12:47:10.030543Z"
        },
        "trusted": true,
        "id": "V0jL9O26N6qQ"
      },
      "execution_count": null,
      "outputs": []
    },
    {
      "cell_type": "markdown",
      "source": [
        "1) Split the dataset into a training set and a test set using train_test_split.\n",
        "\n",
        "\n",
        "2) Make a neural network, compile it and fit it with TensorFlow.keras to solve this regression problem. \n",
        "You have to respect the following architecture: \n",
        "* BatchNormalization layer following the input of the network, \n",
        "* 3 hidden Dense layers.\n",
        "* You have to put a Dropout layer with rate 0.1 between the first Dense hidden layer and the second one. \n",
        "* You have to put a Dropout layer with rate 0.1 between the second hidden layer and the last one.\n",
        "\n",
        "You have to train your model with 500 epochs, set verbose=0, and set the batch_size = 10.\n",
        "\n",
        "3) Ev\n",
        "\n",
        "3) How many trainable parameters does your neural network have? Does a BatchNormalization layer yield trainable parameters."
      ],
      "metadata": {
        "id": "JFCwDIraN6qR"
      }
    },
    {
      "cell_type": "code",
      "source": [
        "#1)\n",
        "from sklearn.model_selection import train_test_split\n",
        "X_train, X_test, y_train, y_test = train_test_split(X, Y, test_size=0.33, random_state=42)\n",
        "#2)\n",
        "from tensorflow.keras.layers import Dense, Dropout, BatchNormalization, InputLayer\n",
        "from tensorflow.keras.models import Sequential\n",
        "\n",
        "modelreg = Sequential()\n",
        "modelreg.add(InputLayer(input_shape=(X.shape[1],)))\n",
        "modelreg.add(BatchNormalization())\n",
        "modelreg.add(Dense(10,activation='relu'))\n",
        "modelreg.add(Dropout(0.1))\n",
        "modelreg.add(Dense(10,activation='relu'))\n",
        "modelreg.add(Dropout(0.1))\n",
        "modelreg.add(Dense(10,activation='relu'))\n",
        "modelreg.add(Dense(1))\n",
        "\n",
        "modelreg.compile(optimizer='adam',loss='mae',metrics='mae')\n",
        "\n",
        "#we train modelreg\n",
        "modelreg.fit(X_train,y_train,epochs=500,batch_size=10,verbose=0)"
      ],
      "metadata": {
        "execution": {
          "iopub.status.busy": "2021-08-24T13:12:09.246342Z",
          "iopub.execute_input": "2021-08-24T13:12:09.246754Z",
          "iopub.status.idle": "2021-08-24T13:24:58.928413Z",
          "shell.execute_reply.started": "2021-08-24T13:12:09.246716Z",
          "shell.execute_reply": "2021-08-24T13:24:58.927205Z"
        },
        "trusted": true,
        "id": "PSrq2d2NN6qT"
      },
      "execution_count": null,
      "outputs": []
    },
    {
      "cell_type": "code",
      "source": [
        "modelreg.evaluate(X_test,y_test)"
      ],
      "metadata": {
        "execution": {
          "iopub.status.busy": "2021-08-24T13:29:34.533802Z",
          "iopub.execute_input": "2021-08-24T13:29:34.534231Z",
          "iopub.status.idle": "2021-08-24T13:29:34.953876Z",
          "shell.execute_reply.started": "2021-08-24T13:29:34.534187Z",
          "shell.execute_reply": "2021-08-24T13:29:34.952889Z"
        },
        "trusted": true,
        "id": "fsynuGwiN6qU"
      },
      "execution_count": null,
      "outputs": []
    },
    {
      "cell_type": "markdown",
      "source": [
        "# Work hour prediction"
      ],
      "metadata": {
        "id": "dvVaGENzVtSR"
      }
    },
    {
      "cell_type": "code",
      "source": [
        "import requests, io, zipfile\n",
        "import numpy as np\n",
        "import matplotlib.pyplot as plt\n",
        "filename = \"train.csv\"\n",
        "#Remove \"blob\",  Replace github.com by raw.githubusercontent.com\n",
        "#url = \"https://raw.githubusercontent.com/fabnancyuhp/DEEP-LEARNING/main/DATA/superconduct.zip\"\n",
        "url = \"https://raw.githubusercontent.com/fabnancyuhp/DEEP-LEARNING/main/DATA/Participants_Data_HPW_1.zip\"\n",
        "r = requests.get(url)\n",
        "z = zipfile.ZipFile(io.BytesIO(r.content))\n",
        "#z.extractall()\n",
        "import pandas as pd\n",
        "#df = pd.read_csv(filename, sep=',')\n",
        "#df.head(3)\n",
        "dfbis = pd.read_csv(z.open('train.csv'), sep=',')\n",
        "dfbis.head(3)"
      ],
      "metadata": {
        "colab": {
          "base_uri": "https://localhost:8080/",
          "height": 311
        },
        "id": "x3qFxsotVxF7",
        "outputId": "da6b31ea-ef2d-480d-c0ad-70360d142aba"
      },
      "execution_count": 17,
      "outputs": [
        {
          "output_type": "execute_result",
          "data": {
            "text/html": [
              "\n",
              "  <div id=\"df-164211f3-ca39-42e0-9bf3-aaac1ccb1798\">\n",
              "    <div class=\"colab-df-container\">\n",
              "      <div>\n",
              "<style scoped>\n",
              "    .dataframe tbody tr th:only-of-type {\n",
              "        vertical-align: middle;\n",
              "    }\n",
              "\n",
              "    .dataframe tbody tr th {\n",
              "        vertical-align: top;\n",
              "    }\n",
              "\n",
              "    .dataframe thead th {\n",
              "        text-align: right;\n",
              "    }\n",
              "</style>\n",
              "<table border=\"1\" class=\"dataframe\">\n",
              "  <thead>\n",
              "    <tr style=\"text-align: right;\">\n",
              "      <th></th>\n",
              "      <th>age</th>\n",
              "      <th>workclass</th>\n",
              "      <th>fnlwgt</th>\n",
              "      <th>education</th>\n",
              "      <th>education-num</th>\n",
              "      <th>marital-status</th>\n",
              "      <th>occupation</th>\n",
              "      <th>relationship</th>\n",
              "      <th>race</th>\n",
              "      <th>sex</th>\n",
              "      <th>capital-gain</th>\n",
              "      <th>capital-loss</th>\n",
              "      <th>hours-per-week</th>\n",
              "      <th>native-country</th>\n",
              "      <th>income</th>\n",
              "    </tr>\n",
              "  </thead>\n",
              "  <tbody>\n",
              "    <tr>\n",
              "      <th>0</th>\n",
              "      <td>52</td>\n",
              "      <td>Private</td>\n",
              "      <td>98926</td>\n",
              "      <td>HS-grad</td>\n",
              "      <td>9</td>\n",
              "      <td>Never-married</td>\n",
              "      <td>Other-service</td>\n",
              "      <td>Unmarried</td>\n",
              "      <td>White</td>\n",
              "      <td>Male</td>\n",
              "      <td>-3</td>\n",
              "      <td>0</td>\n",
              "      <td>44</td>\n",
              "      <td>United-States</td>\n",
              "      <td>&lt;=50K</td>\n",
              "    </tr>\n",
              "    <tr>\n",
              "      <th>1</th>\n",
              "      <td>76</td>\n",
              "      <td>Self-emp-not-inc</td>\n",
              "      <td>132607</td>\n",
              "      <td>Bachelors</td>\n",
              "      <td>12</td>\n",
              "      <td>Married-civ-spouse</td>\n",
              "      <td>Sales</td>\n",
              "      <td>Husband</td>\n",
              "      <td>White</td>\n",
              "      <td>Male</td>\n",
              "      <td>7527</td>\n",
              "      <td>0</td>\n",
              "      <td>44</td>\n",
              "      <td>United-States</td>\n",
              "      <td>&gt;50K</td>\n",
              "    </tr>\n",
              "    <tr>\n",
              "      <th>2</th>\n",
              "      <td>40</td>\n",
              "      <td>Private</td>\n",
              "      <td>243258</td>\n",
              "      <td>Bachelors</td>\n",
              "      <td>13</td>\n",
              "      <td>Married-civ-spouse</td>\n",
              "      <td>Transport-moving</td>\n",
              "      <td>Husband</td>\n",
              "      <td>Amer-Indian-Eskimo</td>\n",
              "      <td>Male</td>\n",
              "      <td>19</td>\n",
              "      <td>0</td>\n",
              "      <td>57</td>\n",
              "      <td>United-States</td>\n",
              "      <td>&gt;50K</td>\n",
              "    </tr>\n",
              "  </tbody>\n",
              "</table>\n",
              "</div>\n",
              "      <button class=\"colab-df-convert\" onclick=\"convertToInteractive('df-164211f3-ca39-42e0-9bf3-aaac1ccb1798')\"\n",
              "              title=\"Convert this dataframe to an interactive table.\"\n",
              "              style=\"display:none;\">\n",
              "        \n",
              "  <svg xmlns=\"http://www.w3.org/2000/svg\" height=\"24px\"viewBox=\"0 0 24 24\"\n",
              "       width=\"24px\">\n",
              "    <path d=\"M0 0h24v24H0V0z\" fill=\"none\"/>\n",
              "    <path d=\"M18.56 5.44l.94 2.06.94-2.06 2.06-.94-2.06-.94-.94-2.06-.94 2.06-2.06.94zm-11 1L8.5 8.5l.94-2.06 2.06-.94-2.06-.94L8.5 2.5l-.94 2.06-2.06.94zm10 10l.94 2.06.94-2.06 2.06-.94-2.06-.94-.94-2.06-.94 2.06-2.06.94z\"/><path d=\"M17.41 7.96l-1.37-1.37c-.4-.4-.92-.59-1.43-.59-.52 0-1.04.2-1.43.59L10.3 9.45l-7.72 7.72c-.78.78-.78 2.05 0 2.83L4 21.41c.39.39.9.59 1.41.59.51 0 1.02-.2 1.41-.59l7.78-7.78 2.81-2.81c.8-.78.8-2.07 0-2.86zM5.41 20L4 18.59l7.72-7.72 1.47 1.35L5.41 20z\"/>\n",
              "  </svg>\n",
              "      </button>\n",
              "      \n",
              "  <style>\n",
              "    .colab-df-container {\n",
              "      display:flex;\n",
              "      flex-wrap:wrap;\n",
              "      gap: 12px;\n",
              "    }\n",
              "\n",
              "    .colab-df-convert {\n",
              "      background-color: #E8F0FE;\n",
              "      border: none;\n",
              "      border-radius: 50%;\n",
              "      cursor: pointer;\n",
              "      display: none;\n",
              "      fill: #1967D2;\n",
              "      height: 32px;\n",
              "      padding: 0 0 0 0;\n",
              "      width: 32px;\n",
              "    }\n",
              "\n",
              "    .colab-df-convert:hover {\n",
              "      background-color: #E2EBFA;\n",
              "      box-shadow: 0px 1px 2px rgba(60, 64, 67, 0.3), 0px 1px 3px 1px rgba(60, 64, 67, 0.15);\n",
              "      fill: #174EA6;\n",
              "    }\n",
              "\n",
              "    [theme=dark] .colab-df-convert {\n",
              "      background-color: #3B4455;\n",
              "      fill: #D2E3FC;\n",
              "    }\n",
              "\n",
              "    [theme=dark] .colab-df-convert:hover {\n",
              "      background-color: #434B5C;\n",
              "      box-shadow: 0px 1px 3px 1px rgba(0, 0, 0, 0.15);\n",
              "      filter: drop-shadow(0px 1px 2px rgba(0, 0, 0, 0.3));\n",
              "      fill: #FFFFFF;\n",
              "    }\n",
              "  </style>\n",
              "\n",
              "      <script>\n",
              "        const buttonEl =\n",
              "          document.querySelector('#df-164211f3-ca39-42e0-9bf3-aaac1ccb1798 button.colab-df-convert');\n",
              "        buttonEl.style.display =\n",
              "          google.colab.kernel.accessAllowed ? 'block' : 'none';\n",
              "\n",
              "        async function convertToInteractive(key) {\n",
              "          const element = document.querySelector('#df-164211f3-ca39-42e0-9bf3-aaac1ccb1798');\n",
              "          const dataTable =\n",
              "            await google.colab.kernel.invokeFunction('convertToInteractive',\n",
              "                                                     [key], {});\n",
              "          if (!dataTable) return;\n",
              "\n",
              "          const docLinkHtml = 'Like what you see? Visit the ' +\n",
              "            '<a target=\"_blank\" href=https://colab.research.google.com/notebooks/data_table.ipynb>data table notebook</a>'\n",
              "            + ' to learn more about interactive tables.';\n",
              "          element.innerHTML = '';\n",
              "          dataTable['output_type'] = 'display_data';\n",
              "          await google.colab.output.renderOutput(dataTable, element);\n",
              "          const docLink = document.createElement('div');\n",
              "          docLink.innerHTML = docLinkHtml;\n",
              "          element.appendChild(docLink);\n",
              "        }\n",
              "      </script>\n",
              "    </div>\n",
              "  </div>\n",
              "  "
            ],
            "text/plain": [
              "   age          workclass  fnlwgt  ... hours-per-week  native-country  income\n",
              "0   52            Private   98926  ...             44   United-States   <=50K\n",
              "1   76   Self-emp-not-inc  132607  ...             44   United-States    >50K\n",
              "2   40            Private  243258  ...             57   United-States    >50K\n",
              "\n",
              "[3 rows x 15 columns]"
            ]
          },
          "metadata": {},
          "execution_count": 17
        }
      ]
    },
    {
      "cell_type": "code",
      "source": [
        "dfbis['workclass'].unique()"
      ],
      "metadata": {
        "colab": {
          "base_uri": "https://localhost:8080/"
        },
        "id": "Ui8F_91fefr6",
        "outputId": "c445dd95-d523-4551-ca59-183d80e97053"
      },
      "execution_count": 19,
      "outputs": [
        {
          "output_type": "execute_result",
          "data": {
            "text/plain": [
              "array([' Private', ' Self-emp-not-inc', ' State-gov', ' Self-emp-inc',\n",
              "       ' Federal-gov', ' Local-gov', ' Never-worked', ' Without-pay'],\n",
              "      dtype=object)"
            ]
          },
          "metadata": {},
          "execution_count": 19
        }
      ]
    },
    {
      "cell_type": "code",
      "source": [
        "dfbis['education'].unique()"
      ],
      "metadata": {
        "colab": {
          "base_uri": "https://localhost:8080/"
        },
        "id": "73gwwOvwe8NX",
        "outputId": "abce20d2-f61b-457c-a3c3-e0d12093ba0a"
      },
      "execution_count": 20,
      "outputs": [
        {
          "output_type": "execute_result",
          "data": {
            "text/plain": [
              "array([' HS-grad', ' Bachelors', ' Masters', ' Some-college', ' 7th-8th',\n",
              "       ' Doctorate', ' Prof-school', ' Assoc-voc', ' Assoc-acdm',\n",
              "       ' 5th-6th', ' 11th', ' 9th', ' 1st-4th', ' 12th', ' 10th',\n",
              "       ' Preschool'], dtype=object)"
            ]
          },
          "metadata": {},
          "execution_count": 20
        }
      ]
    },
    {
      "cell_type": "code",
      "source": [
        "dfbis['occupation'].unique()"
      ],
      "metadata": {
        "colab": {
          "base_uri": "https://localhost:8080/"
        },
        "id": "4Vu1_52Jfvoy",
        "outputId": "2e5a55b6-f67d-484f-a62b-ff53cb2c692b"
      },
      "execution_count": 21,
      "outputs": [
        {
          "output_type": "execute_result",
          "data": {
            "text/plain": [
              "array([' Other-service', ' Sales', ' Transport-moving', ' Prof-specialty',\n",
              "       ' Exec-managerial', ' Adm-clerical', ' Handlers-cleaners',\n",
              "       ' Farming-fishing', ' Craft-repair', ' Protective-serv',\n",
              "       ' Machine-op-inspct', ' Tech-support', ' Priv-house-serv',\n",
              "       ' Armed-Forces'], dtype=object)"
            ]
          },
          "metadata": {},
          "execution_count": 21
        }
      ]
    },
    {
      "cell_type": "code",
      "source": [
        ""
      ],
      "metadata": {
        "id": "ghWJKsrzf6Md"
      },
      "execution_count": null,
      "outputs": []
    }
  ]
}