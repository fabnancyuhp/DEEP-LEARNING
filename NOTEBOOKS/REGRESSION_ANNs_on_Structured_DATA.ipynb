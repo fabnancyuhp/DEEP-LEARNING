{
  "cells": [
    {
      "cell_type": "markdown",
      "metadata": {
        "id": "view-in-github",
        "colab_type": "text"
      },
      "source": [
        "<a href=\"https://colab.research.google.com/github/fabnancyuhp/DEEP-LEARNING/blob/main/NOTEBOOKS/REGRESSION_ANNs_on_Structured_DATA.ipynb\" target=\"_parent\"><img src=\"https://colab.research.google.com/assets/colab-badge.svg\" alt=\"Open In Colab\"/></a>"
      ]
    },
    {
      "cell_type": "markdown",
      "metadata": {
        "id": "ibsEpSBbN6p4"
      },
      "source": [
        "# Example 1 : Red Wine Quality Regression\n",
        "\n",
        "Here we handle a regression problem on Red wine Quality dataset. We import the data from github. We convert all columns in float32 because it makes the dataset more TensorFlow digestible. "
      ]
    },
    {
      "cell_type": "code",
      "execution_count": 1,
      "metadata": {
        "colab": {
          "base_uri": "https://localhost:8080/",
          "height": 205
        },
        "id": "IyRa_MuLN6p5",
        "outputId": "bc522b5d-f1f6-4c6b-99e9-df52e1b39a1c"
      },
      "outputs": [
        {
          "output_type": "execute_result",
          "data": {
            "text/plain": [
              "   fixed acidity  volatile acidity  citric acid  residual sugar  chlorides  \\\n",
              "0            7.4              0.70         0.00             1.9      0.076   \n",
              "1            7.8              0.88         0.00             2.6      0.098   \n",
              "2            7.8              0.76         0.04             2.3      0.092   \n",
              "\n",
              "   free sulfur dioxide  total sulfur dioxide  density    pH  sulphates  \\\n",
              "0                 11.0                  34.0   0.9978  3.51       0.56   \n",
              "1                 25.0                  67.0   0.9968  3.20       0.68   \n",
              "2                 15.0                  54.0   0.9970  3.26       0.65   \n",
              "\n",
              "   alcohol  quality  \n",
              "0      9.4      5.0  \n",
              "1      9.8      5.0  \n",
              "2      9.8      5.0  "
            ],
            "text/html": [
              "\n",
              "  <div id=\"df-98f54014-d81f-4b42-a80f-918053ba5754\">\n",
              "    <div class=\"colab-df-container\">\n",
              "      <div>\n",
              "<style scoped>\n",
              "    .dataframe tbody tr th:only-of-type {\n",
              "        vertical-align: middle;\n",
              "    }\n",
              "\n",
              "    .dataframe tbody tr th {\n",
              "        vertical-align: top;\n",
              "    }\n",
              "\n",
              "    .dataframe thead th {\n",
              "        text-align: right;\n",
              "    }\n",
              "</style>\n",
              "<table border=\"1\" class=\"dataframe\">\n",
              "  <thead>\n",
              "    <tr style=\"text-align: right;\">\n",
              "      <th></th>\n",
              "      <th>fixed acidity</th>\n",
              "      <th>volatile acidity</th>\n",
              "      <th>citric acid</th>\n",
              "      <th>residual sugar</th>\n",
              "      <th>chlorides</th>\n",
              "      <th>free sulfur dioxide</th>\n",
              "      <th>total sulfur dioxide</th>\n",
              "      <th>density</th>\n",
              "      <th>pH</th>\n",
              "      <th>sulphates</th>\n",
              "      <th>alcohol</th>\n",
              "      <th>quality</th>\n",
              "    </tr>\n",
              "  </thead>\n",
              "  <tbody>\n",
              "    <tr>\n",
              "      <th>0</th>\n",
              "      <td>7.4</td>\n",
              "      <td>0.70</td>\n",
              "      <td>0.00</td>\n",
              "      <td>1.9</td>\n",
              "      <td>0.076</td>\n",
              "      <td>11.0</td>\n",
              "      <td>34.0</td>\n",
              "      <td>0.9978</td>\n",
              "      <td>3.51</td>\n",
              "      <td>0.56</td>\n",
              "      <td>9.4</td>\n",
              "      <td>5.0</td>\n",
              "    </tr>\n",
              "    <tr>\n",
              "      <th>1</th>\n",
              "      <td>7.8</td>\n",
              "      <td>0.88</td>\n",
              "      <td>0.00</td>\n",
              "      <td>2.6</td>\n",
              "      <td>0.098</td>\n",
              "      <td>25.0</td>\n",
              "      <td>67.0</td>\n",
              "      <td>0.9968</td>\n",
              "      <td>3.20</td>\n",
              "      <td>0.68</td>\n",
              "      <td>9.8</td>\n",
              "      <td>5.0</td>\n",
              "    </tr>\n",
              "    <tr>\n",
              "      <th>2</th>\n",
              "      <td>7.8</td>\n",
              "      <td>0.76</td>\n",
              "      <td>0.04</td>\n",
              "      <td>2.3</td>\n",
              "      <td>0.092</td>\n",
              "      <td>15.0</td>\n",
              "      <td>54.0</td>\n",
              "      <td>0.9970</td>\n",
              "      <td>3.26</td>\n",
              "      <td>0.65</td>\n",
              "      <td>9.8</td>\n",
              "      <td>5.0</td>\n",
              "    </tr>\n",
              "  </tbody>\n",
              "</table>\n",
              "</div>\n",
              "      <button class=\"colab-df-convert\" onclick=\"convertToInteractive('df-98f54014-d81f-4b42-a80f-918053ba5754')\"\n",
              "              title=\"Convert this dataframe to an interactive table.\"\n",
              "              style=\"display:none;\">\n",
              "        \n",
              "  <svg xmlns=\"http://www.w3.org/2000/svg\" height=\"24px\"viewBox=\"0 0 24 24\"\n",
              "       width=\"24px\">\n",
              "    <path d=\"M0 0h24v24H0V0z\" fill=\"none\"/>\n",
              "    <path d=\"M18.56 5.44l.94 2.06.94-2.06 2.06-.94-2.06-.94-.94-2.06-.94 2.06-2.06.94zm-11 1L8.5 8.5l.94-2.06 2.06-.94-2.06-.94L8.5 2.5l-.94 2.06-2.06.94zm10 10l.94 2.06.94-2.06 2.06-.94-2.06-.94-.94-2.06-.94 2.06-2.06.94z\"/><path d=\"M17.41 7.96l-1.37-1.37c-.4-.4-.92-.59-1.43-.59-.52 0-1.04.2-1.43.59L10.3 9.45l-7.72 7.72c-.78.78-.78 2.05 0 2.83L4 21.41c.39.39.9.59 1.41.59.51 0 1.02-.2 1.41-.59l7.78-7.78 2.81-2.81c.8-.78.8-2.07 0-2.86zM5.41 20L4 18.59l7.72-7.72 1.47 1.35L5.41 20z\"/>\n",
              "  </svg>\n",
              "      </button>\n",
              "      \n",
              "  <style>\n",
              "    .colab-df-container {\n",
              "      display:flex;\n",
              "      flex-wrap:wrap;\n",
              "      gap: 12px;\n",
              "    }\n",
              "\n",
              "    .colab-df-convert {\n",
              "      background-color: #E8F0FE;\n",
              "      border: none;\n",
              "      border-radius: 50%;\n",
              "      cursor: pointer;\n",
              "      display: none;\n",
              "      fill: #1967D2;\n",
              "      height: 32px;\n",
              "      padding: 0 0 0 0;\n",
              "      width: 32px;\n",
              "    }\n",
              "\n",
              "    .colab-df-convert:hover {\n",
              "      background-color: #E2EBFA;\n",
              "      box-shadow: 0px 1px 2px rgba(60, 64, 67, 0.3), 0px 1px 3px 1px rgba(60, 64, 67, 0.15);\n",
              "      fill: #174EA6;\n",
              "    }\n",
              "\n",
              "    [theme=dark] .colab-df-convert {\n",
              "      background-color: #3B4455;\n",
              "      fill: #D2E3FC;\n",
              "    }\n",
              "\n",
              "    [theme=dark] .colab-df-convert:hover {\n",
              "      background-color: #434B5C;\n",
              "      box-shadow: 0px 1px 3px 1px rgba(0, 0, 0, 0.15);\n",
              "      filter: drop-shadow(0px 1px 2px rgba(0, 0, 0, 0.3));\n",
              "      fill: #FFFFFF;\n",
              "    }\n",
              "  </style>\n",
              "\n",
              "      <script>\n",
              "        const buttonEl =\n",
              "          document.querySelector('#df-98f54014-d81f-4b42-a80f-918053ba5754 button.colab-df-convert');\n",
              "        buttonEl.style.display =\n",
              "          google.colab.kernel.accessAllowed ? 'block' : 'none';\n",
              "\n",
              "        async function convertToInteractive(key) {\n",
              "          const element = document.querySelector('#df-98f54014-d81f-4b42-a80f-918053ba5754');\n",
              "          const dataTable =\n",
              "            await google.colab.kernel.invokeFunction('convertToInteractive',\n",
              "                                                     [key], {});\n",
              "          if (!dataTable) return;\n",
              "\n",
              "          const docLinkHtml = 'Like what you see? Visit the ' +\n",
              "            '<a target=\"_blank\" href=https://colab.research.google.com/notebooks/data_table.ipynb>data table notebook</a>'\n",
              "            + ' to learn more about interactive tables.';\n",
              "          element.innerHTML = '';\n",
              "          dataTable['output_type'] = 'display_data';\n",
              "          await google.colab.output.renderOutput(dataTable, element);\n",
              "          const docLink = document.createElement('div');\n",
              "          docLink.innerHTML = docLinkHtml;\n",
              "          element.appendChild(docLink);\n",
              "        }\n",
              "      </script>\n",
              "    </div>\n",
              "  </div>\n",
              "  "
            ]
          },
          "metadata": {},
          "execution_count": 1
        }
      ],
      "source": [
        "import pandas as pd\n",
        "winequality = pd.read_csv(\"https://raw.githubusercontent.com/fabnancyuhp/DEEP-LEARNING/main/DATA/winequality-red.csv\").astype('float32')\n",
        "winequality.head(3) "
      ]
    },
    {
      "cell_type": "markdown",
      "metadata": {
        "id": "3mMaudc9N6p7"
      },
      "source": [
        "We want to predict the wine quality. Then the quality is the target value. The others columns from the dataset are the values of the features. We also split the dataset into the train set and the test set."
      ]
    },
    {
      "cell_type": "code",
      "execution_count": 2,
      "metadata": {
        "id": "DiTQMbY9N6p8"
      },
      "outputs": [],
      "source": [
        "x = winequality.drop(['quality'], axis=1)\n",
        "y = winequality['quality']"
      ]
    },
    {
      "cell_type": "markdown",
      "metadata": {
        "id": "Dsv5SzzqVXnx"
      },
      "source": [
        "We display the distinct value of winequality['quality']. Although the target values are integers stored in a float format, we'll make a regression model to predict the quality.  The model we'll build we'll return a float number. We'll add an extra step that rounds the outputs of our model."
      ]
    },
    {
      "cell_type": "code",
      "execution_count": 3,
      "metadata": {
        "colab": {
          "base_uri": "https://localhost:8080/"
        },
        "id": "cZ4a0GKKVije",
        "outputId": "8018cbd5-ce44-4e90-dd17-2f4ca5454902"
      },
      "outputs": [
        {
          "output_type": "execute_result",
          "data": {
            "text/plain": [
              "array([5., 6., 7., 4., 8., 3.], dtype=float32)"
            ]
          },
          "metadata": {},
          "execution_count": 3
        }
      ],
      "source": [
        "winequality['quality'].unique()"
      ]
    },
    {
      "cell_type": "markdown",
      "metadata": {
        "id": "5SNyeL5qi7Yk"
      },
      "source": [
        "We split the dataset into the train set and the test set."
      ]
    },
    {
      "cell_type": "code",
      "execution_count": 4,
      "metadata": {
        "id": "Pk8ADh07TP-o"
      },
      "outputs": [],
      "source": [
        "from sklearn.model_selection import train_test_split\n",
        "x_train, x_test, y_train, y_test = train_test_split(x.values, y.values, test_size=0.2, random_state=42)"
      ]
    },
    {
      "cell_type": "markdown",
      "metadata": {
        "id": "pFXKG0YwjUl5"
      },
      "source": [
        "## Building the regression model with tensorflow.keras"
      ]
    },
    {
      "cell_type": "markdown",
      "metadata": {
        "id": "JwvAXqdhN6p8"
      },
      "source": [
        "We import the keras.layers and keras.models packages:"
      ]
    },
    {
      "cell_type": "code",
      "execution_count": 5,
      "metadata": {
        "id": "_U04NsnfN6p9"
      },
      "outputs": [],
      "source": [
        "from tensorflow.keras.layers import Dense, Dropout, BatchNormalization, InputLayer \n",
        "from tensorflow.keras.models import Sequential"
      ]
    },
    {
      "cell_type": "markdown",
      "metadata": {
        "id": "4AZFOxbrN6p9"
      },
      "source": [
        "Now, we are building the neural network and compile the model. You have to notice we import the Adam optimizer to choose the learning rate. The output Dense layer has one unit in the case of a regression problem. We compile the model with the mean absolute error loss and mean absolute error metric."
      ]
    },
    {
      "cell_type": "code",
      "execution_count": 12,
      "metadata": {
        "id": "87LK0jZ0N6p-"
      },
      "outputs": [],
      "source": [
        "from tensorflow.keras.optimizers import Adam\n",
        "\n",
        "model = Sequential([InputLayer(input_shape=(x.shape[1],))\n",
        "                    ,BatchNormalization()\n",
        "                    ,Dense(100,activation='relu')\n",
        "                    ,Dropout(0.3)\n",
        "                    ,Dense(100,activation='relu')\n",
        "                    ,Dropout(0.3)\n",
        "                    ,BatchNormalization()\n",
        "                    ,Dense(100, activation='relu')\n",
        "                    ,Dropout(0.3)\n",
        "                    ,Dense(12,activation='relu')\n",
        "                    ,Dropout(0.1)\n",
        "                    ,Dense(1)])\n",
        "\n",
        "model.compile(optimizer=Adam(learning_rate=0.001),loss='mae',metrics=['mae'])"
      ]
    },
    {
      "cell_type": "markdown",
      "metadata": {
        "id": "RHhDvcizOVJT"
      },
      "source": [
        "## Training and evaluating the model"
      ]
    },
    {
      "cell_type": "markdown",
      "metadata": {
        "id": "IFym3bQJN6p_"
      },
      "source": [
        "Now, we launch the training stage with 700 epochs. The number of epochs is defining how much time the whole training set will be passed through the network. We use 10 percent of the training as a validation set."
      ]
    },
    {
      "cell_type": "code",
      "execution_count": 13,
      "metadata": {
        "id": "XthYELN3N6qA",
        "outputId": "f473b18b-378e-4b82-d3ba-08daad256be0",
        "colab": {
          "base_uri": "https://localhost:8080/"
        }
      },
      "outputs": [
        {
          "output_type": "stream",
          "name": "stdout",
          "text": [
            "Epoch 165: early stopping\n"
          ]
        }
      ],
      "source": [
        "from tensorflow.keras.callbacks import EarlyStopping\n",
        "early_stopping = EarlyStopping(monitor=\"val_loss\",patience=25,verbose=2)\n",
        "\n",
        "history = model.fit(x_train, y_train, epochs=700,verbose=0,validation_split=0.1,callbacks=[early_stopping])"
      ]
    },
    {
      "cell_type": "markdown",
      "metadata": {
        "id": "o_JuZovFPBA8"
      },
      "source": [
        "We evaluate the model on the test set:"
      ]
    },
    {
      "cell_type": "code",
      "execution_count": 14,
      "metadata": {
        "colab": {
          "base_uri": "https://localhost:8080/"
        },
        "id": "Zm6Iwp_2N6qA",
        "outputId": "b7cdad3b-bbc8-4d1f-bb02-50b83e54296e"
      },
      "outputs": [
        {
          "output_type": "stream",
          "name": "stdout",
          "text": [
            "10/10 [==============================] - 0s 2ms/step - loss: 0.5430 - mae: 0.5430\n"
          ]
        },
        {
          "output_type": "execute_result",
          "data": {
            "text/plain": [
              "[0.5429996252059937, 0.5429996252059937]"
            ]
          },
          "metadata": {},
          "execution_count": 14
        }
      ],
      "source": [
        "model.evaluate(x_test, y_test)"
      ]
    },
    {
      "cell_type": "markdown",
      "metadata": {
        "id": "sfCy376MX0zG"
      },
      "source": [
        "We display the model training history."
      ]
    },
    {
      "cell_type": "code",
      "execution_count": 15,
      "metadata": {
        "colab": {
          "base_uri": "https://localhost:8080/",
          "height": 282
        },
        "id": "diIIMMhbN6qB",
        "outputId": "891ffe13-7cb9-4ee6-dd39-2a05b0829cdc"
      },
      "outputs": [
        {
          "output_type": "execute_result",
          "data": {
            "text/plain": [
              "<matplotlib.axes._subplots.AxesSubplot at 0x7f5b7bdbbdf0>"
            ]
          },
          "metadata": {},
          "execution_count": 15
        },
        {
          "output_type": "display_data",
          "data": {
            "text/plain": [
              "<Figure size 432x288 with 1 Axes>"
            ],
            "image/png": "[encoded data removed]"
          },
          "metadata": {
            "needs_background": "light"
          }
        }
      ],
      "source": [
        "pd.DataFrame(history.history).plot()"
      ]
    },
    {
      "cell_type": "markdown",
      "metadata": {
        "id": "0btFt301PJ0p"
      },
      "source": [
        "## Making predictions with the model\n",
        "Here, we predict the quality of a new wine from the test set. We reshape to make the vector suitable for the model. You notice we round the predicted value to compare it with the true value."
      ]
    },
    {
      "cell_type": "code",
      "execution_count": 16,
      "metadata": {
        "colab": {
          "base_uri": "https://localhost:8080/"
        },
        "id": "kMM-4KkhPK9n",
        "outputId": "f57b7906-6cd8-45ef-d232-218dc7a0e08a"
      },
      "outputs": [
        {
          "output_type": "stream",
          "name": "stdout",
          "text": [
            "1/1 [==============================] - 0s 100ms/step\n",
            "Predicted value :[6.]\n",
            "The true value :7.0\n"
          ]
        }
      ],
      "source": [
        "import numpy as np\n",
        "new_wine = x_test[15]\n",
        "new_wine_reshape = x_test[15].reshape(1,11)\n",
        "pred_model = model.predict(new_wine_reshape)\n",
        "pred_model_bis = np.round(pred_model[0])\n",
        "print(\"Predicted value :\"+str(pred_model_bis))\n",
        "print(\"The true value :\"+str(y_test[15]))"
      ]
    },
    {
      "cell_type": "markdown",
      "metadata": {
        "id": "qbJxxDsirbq9"
      },
      "source": [
        "# Example : Regression on California housing dataset\n",
        "We build an ANN to predict the median house value for California districts, expressed in hundreds of thousands of dollars. The predictive attributes are:\n",
        "* MedInc        median income in block group\n",
        "* HouseAge      median house age in block group\n",
        "* AveRooms      average number of rooms per household\n",
        "* AveBedrms     average number of bedrooms per household\n",
        "* Population    block group population\n",
        "* AveOccup      average number of household members\n",
        "* Latitude      block group latitude\n",
        "* Longitude     block group longitude "
      ]
    },
    {
      "cell_type": "code",
      "execution_count": 17,
      "metadata": {
        "colab": {
          "base_uri": "https://localhost:8080/",
          "height": 143
        },
        "id": "O_GW4mSMrcIs",
        "outputId": "834c14c7-5a20-48ab-d73c-bcfdae49931e"
      },
      "outputs": [
        {
          "output_type": "execute_result",
          "data": {
            "text/plain": [
              "   MedInc  HouseAge  AveRooms  AveBedrms  Population  AveOccup  Latitude  \\\n",
              "0  8.3252      41.0  6.984127   1.023810       322.0  2.555556     37.88   \n",
              "1  8.3014      21.0  6.238137   0.971880      2401.0  2.109842     37.86   \n",
              "2  7.2574      52.0  8.288136   1.073446       496.0  2.802260     37.85   \n",
              "\n",
              "   Longitude  MedHouseVal  \n",
              "0    -122.23        4.526  \n",
              "1    -122.22        3.585  \n",
              "2    -122.24        3.521  "
            ],
            "text/html": [
              "\n",
              "  <div id=\"df-7154642b-41e2-4846-8e96-6498d9caa5e1\">\n",
              "    <div class=\"colab-df-container\">\n",
              "      <div>\n",
              "<style scoped>\n",
              "    .dataframe tbody tr th:only-of-type {\n",
              "        vertical-align: middle;\n",
              "    }\n",
              "\n",
              "    .dataframe tbody tr th {\n",
              "        vertical-align: top;\n",
              "    }\n",
              "\n",
              "    .dataframe thead th {\n",
              "        text-align: right;\n",
              "    }\n",
              "</style>\n",
              "<table border=\"1\" class=\"dataframe\">\n",
              "  <thead>\n",
              "    <tr style=\"text-align: right;\">\n",
              "      <th></th>\n",
              "      <th>MedInc</th>\n",
              "      <th>HouseAge</th>\n",
              "      <th>AveRooms</th>\n",
              "      <th>AveBedrms</th>\n",
              "      <th>Population</th>\n",
              "      <th>AveOccup</th>\n",
              "      <th>Latitude</th>\n",
              "      <th>Longitude</th>\n",
              "      <th>MedHouseVal</th>\n",
              "    </tr>\n",
              "  </thead>\n",
              "  <tbody>\n",
              "    <tr>\n",
              "      <th>0</th>\n",
              "      <td>8.3252</td>\n",
              "      <td>41.0</td>\n",
              "      <td>6.984127</td>\n",
              "      <td>1.023810</td>\n",
              "      <td>322.0</td>\n",
              "      <td>2.555556</td>\n",
              "      <td>37.88</td>\n",
              "      <td>-122.23</td>\n",
              "      <td>4.526</td>\n",
              "    </tr>\n",
              "    <tr>\n",
              "      <th>1</th>\n",
              "      <td>8.3014</td>\n",
              "      <td>21.0</td>\n",
              "      <td>6.238137</td>\n",
              "      <td>0.971880</td>\n",
              "      <td>2401.0</td>\n",
              "      <td>2.109842</td>\n",
              "      <td>37.86</td>\n",
              "      <td>-122.22</td>\n",
              "      <td>3.585</td>\n",
              "    </tr>\n",
              "    <tr>\n",
              "      <th>2</th>\n",
              "      <td>7.2574</td>\n",
              "      <td>52.0</td>\n",
              "      <td>8.288136</td>\n",
              "      <td>1.073446</td>\n",
              "      <td>496.0</td>\n",
              "      <td>2.802260</td>\n",
              "      <td>37.85</td>\n",
              "      <td>-122.24</td>\n",
              "      <td>3.521</td>\n",
              "    </tr>\n",
              "  </tbody>\n",
              "</table>\n",
              "</div>\n",
              "      <button class=\"colab-df-convert\" onclick=\"convertToInteractive('df-7154642b-41e2-4846-8e96-6498d9caa5e1')\"\n",
              "              title=\"Convert this dataframe to an interactive table.\"\n",
              "              style=\"display:none;\">\n",
              "        \n",
              "  <svg xmlns=\"http://www.w3.org/2000/svg\" height=\"24px\"viewBox=\"0 0 24 24\"\n",
              "       width=\"24px\">\n",
              "    <path d=\"M0 0h24v24H0V0z\" fill=\"none\"/>\n",
              "    <path d=\"M18.56 5.44l.94 2.06.94-2.06 2.06-.94-2.06-.94-.94-2.06-.94 2.06-2.06.94zm-11 1L8.5 8.5l.94-2.06 2.06-.94-2.06-.94L8.5 2.5l-.94 2.06-2.06.94zm10 10l.94 2.06.94-2.06 2.06-.94-2.06-.94-.94-2.06-.94 2.06-2.06.94z\"/><path d=\"M17.41 7.96l-1.37-1.37c-.4-.4-.92-.59-1.43-.59-.52 0-1.04.2-1.43.59L10.3 9.45l-7.72 7.72c-.78.78-.78 2.05 0 2.83L4 21.41c.39.39.9.59 1.41.59.51 0 1.02-.2 1.41-.59l7.78-7.78 2.81-2.81c.8-.78.8-2.07 0-2.86zM5.41 20L4 18.59l7.72-7.72 1.47 1.35L5.41 20z\"/>\n",
              "  </svg>\n",
              "      </button>\n",
              "      \n",
              "  <style>\n",
              "    .colab-df-container {\n",
              "      display:flex;\n",
              "      flex-wrap:wrap;\n",
              "      gap: 12px;\n",
              "    }\n",
              "\n",
              "    .colab-df-convert {\n",
              "      background-color: #E8F0FE;\n",
              "      border: none;\n",
              "      border-radius: 50%;\n",
              "      cursor: pointer;\n",
              "      display: none;\n",
              "      fill: #1967D2;\n",
              "      height: 32px;\n",
              "      padding: 0 0 0 0;\n",
              "      width: 32px;\n",
              "    }\n",
              "\n",
              "    .colab-df-convert:hover {\n",
              "      background-color: #E2EBFA;\n",
              "      box-shadow: 0px 1px 2px rgba(60, 64, 67, 0.3), 0px 1px 3px 1px rgba(60, 64, 67, 0.15);\n",
              "      fill: #174EA6;\n",
              "    }\n",
              "\n",
              "    [theme=dark] .colab-df-convert {\n",
              "      background-color: #3B4455;\n",
              "      fill: #D2E3FC;\n",
              "    }\n",
              "\n",
              "    [theme=dark] .colab-df-convert:hover {\n",
              "      background-color: #434B5C;\n",
              "      box-shadow: 0px 1px 3px 1px rgba(0, 0, 0, 0.15);\n",
              "      filter: drop-shadow(0px 1px 2px rgba(0, 0, 0, 0.3));\n",
              "      fill: #FFFFFF;\n",
              "    }\n",
              "  </style>\n",
              "\n",
              "      <script>\n",
              "        const buttonEl =\n",
              "          document.querySelector('#df-7154642b-41e2-4846-8e96-6498d9caa5e1 button.colab-df-convert');\n",
              "        buttonEl.style.display =\n",
              "          google.colab.kernel.accessAllowed ? 'block' : 'none';\n",
              "\n",
              "        async function convertToInteractive(key) {\n",
              "          const element = document.querySelector('#df-7154642b-41e2-4846-8e96-6498d9caa5e1');\n",
              "          const dataTable =\n",
              "            await google.colab.kernel.invokeFunction('convertToInteractive',\n",
              "                                                     [key], {});\n",
              "          if (!dataTable) return;\n",
              "\n",
              "          const docLinkHtml = 'Like what you see? Visit the ' +\n",
              "            '<a target=\"_blank\" href=https://colab.research.google.com/notebooks/data_table.ipynb>data table notebook</a>'\n",
              "            + ' to learn more about interactive tables.';\n",
              "          element.innerHTML = '';\n",
              "          dataTable['output_type'] = 'display_data';\n",
              "          await google.colab.output.renderOutput(dataTable, element);\n",
              "          const docLink = document.createElement('div');\n",
              "          docLink.innerHTML = docLinkHtml;\n",
              "          element.appendChild(docLink);\n",
              "        }\n",
              "      </script>\n",
              "    </div>\n",
              "  </div>\n",
              "  "
            ]
          },
          "metadata": {},
          "execution_count": 17
        }
      ],
      "source": [
        "import pandas as pd\n",
        "url = \"https://raw.githubusercontent.com/fabnancyuhp/DEEP-LEARNING/main/DATA/california_housing%20(1).csv\"\n",
        "housing = pd.read_csv(url)\n",
        "housing.head(3)"
      ]
    },
    {
      "cell_type": "markdown",
      "source": [
        "**We split features from labels**. We also get ride of Latitude,Longitude attributes."
      ],
      "metadata": {
        "id": "8cQYti4KIHmt"
      }
    },
    {
      "cell_type": "code",
      "source": [
        "X = housing.drop(['MedHouseVal','Latitude','Longitude'],axis=1).values\n",
        "Y = housing['MedHouseVal'].values"
      ],
      "metadata": {
        "id": "z7AXA1b7ISRF"
      },
      "execution_count": 18,
      "outputs": []
    },
    {
      "cell_type": "markdown",
      "source": [
        "**We split the data into training and test sets.**"
      ],
      "metadata": {
        "id": "1MR_DKoCJWmH"
      }
    },
    {
      "cell_type": "code",
      "source": [
        "from sklearn.model_selection import train_test_split\n",
        "X_train, X_test, y_train, y_test = train_test_split(X, Y, test_size=0.2, random_state=42)"
      ],
      "metadata": {
        "id": "PH6aIiT4Jm0B"
      },
      "execution_count": 19,
      "outputs": []
    },
    {
      "cell_type": "markdown",
      "source": [
        "## Build Keras Sequential regression models:\n",
        "We build three models and evaluate them over the test set.\n",
        "\n",
        "**First model**"
      ],
      "metadata": {
        "id": "89mGe9RrKYDT"
      }
    },
    {
      "cell_type": "code",
      "source": [
        "from tensorflow.keras.layers import Dense,BatchNormalization, Dropout\n",
        "from tensorflow.keras.models import Sequential\n",
        "\n",
        "model_1 = Sequential()\n",
        "model_1.add(BatchNormalization())\n",
        "model_1.add(Dense(13, input_shape=(X.shape[1],), kernel_initializer='normal', activation='relu'))\n",
        "model_1.add(BatchNormalization())\n",
        "model_1.add(Dense(6, kernel_initializer='normal', activation='relu'))\n",
        "model_1.add(BatchNormalization())\n",
        "model_1.add(Dense(1, kernel_initializer='normal'))\n",
        "\n",
        "model_1.compile(loss='mean_squared_error', optimizer='adam')\n",
        "history = model_1.fit(X_train,y_train,validation_split=0.1,epochs=60,verbose=0)\n",
        "model_1.evaluate(X_test,y_test)"
      ],
      "metadata": {
        "colab": {
          "base_uri": "https://localhost:8080/"
        },
        "id": "-6fjTG4wK3bB",
        "outputId": "2911847a-caf3-441c-9870-23eaadb7024d"
      },
      "execution_count": 20,
      "outputs": [
        {
          "output_type": "stream",
          "name": "stdout",
          "text": [
            "129/129 [==============================] - 0s 2ms/step - loss: 0.6112\n"
          ]
        },
        {
          "output_type": "execute_result",
          "data": {
            "text/plain": [
              "0.6111732721328735"
            ]
          },
          "metadata": {},
          "execution_count": 20
        }
      ]
    },
    {
      "cell_type": "markdown",
      "source": [
        "**Second model**"
      ],
      "metadata": {
        "id": "li6oviaGdHYw"
      }
    },
    {
      "cell_type": "code",
      "source": [
        "from tensorflow.keras.layers import Dense,BatchNormalization, Dropout\n",
        "from tensorflow.keras.models import Sequential\n",
        "\n",
        "model_2=Sequential()\n",
        "model_2.add(BatchNormalization())\n",
        "model_2.add(Dense(16,input_shape=(X.shape[1],),activation='relu'))\n",
        "model_2.add(BatchNormalization())\n",
        "model_2.add(Dense(8,activation='relu'))\n",
        "model_2.add(BatchNormalization())\n",
        "model_2.add(Dense(4,activation='relu'))\n",
        "model_2.add(Dense(1,activation='linear'))\n",
        "model_2.compile(loss='mean_squared_error',optimizer='adam')\n",
        "\n",
        "history = model_2.fit(X_train,y_train,epochs=60,validation_split=0.1,verbose=0)\n",
        "model_2.evaluate(X_test,y_test)"
      ],
      "metadata": {
        "colab": {
          "base_uri": "https://localhost:8080/"
        },
        "id": "jmHDXY9LV8Wj",
        "outputId": "ba7dc76c-1481-450b-cba7-0e94cfe664ed"
      },
      "execution_count": 21,
      "outputs": [
        {
          "output_type": "stream",
          "name": "stdout",
          "text": [
            "129/129 [==============================] - 0s 3ms/step - loss: 0.5743\n"
          ]
        },
        {
          "output_type": "execute_result",
          "data": {
            "text/plain": [
              "0.5743415951728821"
            ]
          },
          "metadata": {},
          "execution_count": 21
        }
      ]
    },
    {
      "cell_type": "markdown",
      "source": [
        "**Third model**"
      ],
      "metadata": {
        "id": "pNY5ZofUeS6z"
      }
    },
    {
      "cell_type": "code",
      "source": [
        "model_3=Sequential()\n",
        "model_3.add(BatchNormalization())\n",
        "model_3.add(Dense(64,input_shape=(X.shape[1],),activation='relu'))\n",
        "model_3.add(BatchNormalization())\n",
        "model_3.add(Dense(32,activation='relu'))\n",
        "model_3.add(BatchNormalization())\n",
        "model_3.add(Dense(16,activation='relu'))\n",
        "model_3.add(BatchNormalization())\n",
        "model_3.add(Dense(1,activation='linear'))\n",
        "model_3.compile(loss='mean_squared_error',optimizer='adam')\n",
        "#mean_absolute_percentage_error\n",
        "#'mean_squared_error'\n",
        "history = model_3.fit(X_train,y_train,epochs=70,validation_split=0.1,verbose=0)\n",
        "model_3.evaluate(X_test,y_test)"
      ],
      "metadata": {
        "colab": {
          "base_uri": "https://localhost:8080/"
        },
        "id": "JVna3ky6WZ2O",
        "outputId": "3f9fb83b-0c58-496f-92c9-6bcd182e76ff"
      },
      "execution_count": 22,
      "outputs": [
        {
          "output_type": "stream",
          "name": "stdout",
          "text": [
            "129/129 [==============================] - 0s 2ms/step - loss: 0.5937\n"
          ]
        },
        {
          "output_type": "execute_result",
          "data": {
            "text/plain": [
              "0.5937271118164062"
            ]
          },
          "metadata": {},
          "execution_count": 22
        }
      ]
    },
    {
      "cell_type": "markdown",
      "source": [
        "## Predict with the models"
      ],
      "metadata": {
        "id": "dwhX9CFWf-k2"
      }
    },
    {
      "cell_type": "code",
      "source": [
        "x_to_pred = X_test[1998]\n",
        "pred1 = model_1.predict(x_to_pred.reshape(1,6))\n",
        "pred2 = model_2.predict(x_to_pred.reshape(1,6))\n",
        "pred3 = model_3.predict(x_to_pred.reshape(1,6))\n",
        "pred1,pred2,pred3\n",
        "\n",
        "print(\"Prediction with model_1 :\"+str(pred1[0][0]))\n",
        "print(\"Prediction with model_2 :\"+str(pred2[0][0]))\n",
        "print(\"Prediction with model_3 :\"+str(pred3[0][0]))\n",
        "print(\"The true value :\"+str(y_test[1998]))"
      ],
      "metadata": {
        "colab": {
          "base_uri": "https://localhost:8080/"
        },
        "id": "GDIW8pQSgOvG",
        "outputId": "3da8c1b3-6a55-4590-8bfe-a32ab8dc2ed8"
      },
      "execution_count": 23,
      "outputs": [
        {
          "output_type": "stream",
          "name": "stdout",
          "text": [
            "1/1 [==============================] - 0s 81ms/step\n",
            "1/1 [==============================] - 0s 84ms/step\n",
            "1/1 [==============================] - 0s 95ms/step\n",
            "Prediction with model_1 :1.9654127\n",
            "Prediction with model_2 :2.114187\n",
            "Prediction with model_3 :2.0136895\n",
            "The true value :2.464\n"
          ]
        }
      ]
    },
    {
      "cell_type": "markdown",
      "metadata": {
        "id": "uMoRF1yMN6qO"
      },
      "source": [
        "# Exercise 1:Superconductors critical temperature prediction\n",
        "The critical temperature for superconductors is the temperature at which the electrical resistivity of a metal drops to zero. \n",
        "**In this exercise, you have to build a model that predicts the critical temperature of superconductors**. First, you have the run the cell below to import and view the head of the dataset. Since the critical temperature is a continuous variable, we are in a regression problem."
      ]
    },
    {
      "cell_type": "code",
      "execution_count": 24,
      "metadata": {
        "colab": {
          "base_uri": "https://localhost:8080/",
          "height": 237
        },
        "id": "4cJREldbN6qP",
        "outputId": "e06610ca-b577-4de6-eeff-edeeff3152b0"
      },
      "outputs": [
        {
          "output_type": "execute_result",
          "data": {
            "text/plain": [
              "   number_of_elements  mean_atomic_mass  wtd_mean_atomic_mass  \\\n",
              "0                   4         88.944468             57.862692   \n",
              "1                   5         92.729214             58.518416   \n",
              "2                   4         88.944468             57.885242   \n",
              "\n",
              "   gmean_atomic_mass  wtd_gmean_atomic_mass  entropy_atomic_mass  \\\n",
              "0          66.361592              36.116612             1.181795   \n",
              "1          73.132787              36.396602             1.449309   \n",
              "2          66.361592              36.122509             1.181795   \n",
              "\n",
              "   wtd_entropy_atomic_mass  range_atomic_mass  wtd_range_atomic_mass  \\\n",
              "0                 1.062396          122.90607              31.794921   \n",
              "1                 1.057755          122.90607              36.161939   \n",
              "2                 0.975980          122.90607              35.741099   \n",
              "\n",
              "   std_atomic_mass  ...  wtd_mean_Valence  gmean_Valence  wtd_gmean_Valence  \\\n",
              "0        51.968828  ...          2.257143       2.213364           2.219783   \n",
              "1        47.094633  ...          2.257143       1.888175           2.210679   \n",
              "2        51.968828  ...          2.271429       2.213364           2.232679   \n",
              "\n",
              "   entropy_Valence  wtd_entropy_Valence  range_Valence  wtd_range_Valence  \\\n",
              "0         1.368922             1.066221              1           1.085714   \n",
              "1         1.557113             1.047221              2           1.128571   \n",
              "2         1.368922             1.029175              1           1.114286   \n",
              "\n",
              "   std_Valence  wtd_std_Valence  critical_temp  \n",
              "0     0.433013         0.437059           29.0  \n",
              "1     0.632456         0.468606           26.0  \n",
              "2     0.433013         0.444697           19.0  \n",
              "\n",
              "[3 rows x 82 columns]"
            ],
            "text/html": [
              "\n",
              "  <div id=\"df-e28dc361-e61f-4f34-aae2-1e950680b8a2\">\n",
              "    <div class=\"colab-df-container\">\n",
              "      <div>\n",
              "<style scoped>\n",
              "    .dataframe tbody tr th:only-of-type {\n",
              "        vertical-align: middle;\n",
              "    }\n",
              "\n",
              "    .dataframe tbody tr th {\n",
              "        vertical-align: top;\n",
              "    }\n",
              "\n",
              "    .dataframe thead th {\n",
              "        text-align: right;\n",
              "    }\n",
              "</style>\n",
              "<table border=\"1\" class=\"dataframe\">\n",
              "  <thead>\n",
              "    <tr style=\"text-align: right;\">\n",
              "      <th></th>\n",
              "      <th>number_of_elements</th>\n",
              "      <th>mean_atomic_mass</th>\n",
              "      <th>wtd_mean_atomic_mass</th>\n",
              "      <th>gmean_atomic_mass</th>\n",
              "      <th>wtd_gmean_atomic_mass</th>\n",
              "      <th>entropy_atomic_mass</th>\n",
              "      <th>wtd_entropy_atomic_mass</th>\n",
              "      <th>range_atomic_mass</th>\n",
              "      <th>wtd_range_atomic_mass</th>\n",
              "      <th>std_atomic_mass</th>\n",
              "      <th>...</th>\n",
              "      <th>wtd_mean_Valence</th>\n",
              "      <th>gmean_Valence</th>\n",
              "      <th>wtd_gmean_Valence</th>\n",
              "      <th>entropy_Valence</th>\n",
              "      <th>wtd_entropy_Valence</th>\n",
              "      <th>range_Valence</th>\n",
              "      <th>wtd_range_Valence</th>\n",
              "      <th>std_Valence</th>\n",
              "      <th>wtd_std_Valence</th>\n",
              "      <th>critical_temp</th>\n",
              "    </tr>\n",
              "  </thead>\n",
              "  <tbody>\n",
              "    <tr>\n",
              "      <th>0</th>\n",
              "      <td>4</td>\n",
              "      <td>88.944468</td>\n",
              "      <td>57.862692</td>\n",
              "      <td>66.361592</td>\n",
              "      <td>36.116612</td>\n",
              "      <td>1.181795</td>\n",
              "      <td>1.062396</td>\n",
              "      <td>122.90607</td>\n",
              "      <td>31.794921</td>\n",
              "      <td>51.968828</td>\n",
              "      <td>...</td>\n",
              "      <td>2.257143</td>\n",
              "      <td>2.213364</td>\n",
              "      <td>2.219783</td>\n",
              "      <td>1.368922</td>\n",
              "      <td>1.066221</td>\n",
              "      <td>1</td>\n",
              "      <td>1.085714</td>\n",
              "      <td>0.433013</td>\n",
              "      <td>0.437059</td>\n",
              "      <td>29.0</td>\n",
              "    </tr>\n",
              "    <tr>\n",
              "      <th>1</th>\n",
              "      <td>5</td>\n",
              "      <td>92.729214</td>\n",
              "      <td>58.518416</td>\n",
              "      <td>73.132787</td>\n",
              "      <td>36.396602</td>\n",
              "      <td>1.449309</td>\n",
              "      <td>1.057755</td>\n",
              "      <td>122.90607</td>\n",
              "      <td>36.161939</td>\n",
              "      <td>47.094633</td>\n",
              "      <td>...</td>\n",
              "      <td>2.257143</td>\n",
              "      <td>1.888175</td>\n",
              "      <td>2.210679</td>\n",
              "      <td>1.557113</td>\n",
              "      <td>1.047221</td>\n",
              "      <td>2</td>\n",
              "      <td>1.128571</td>\n",
              "      <td>0.632456</td>\n",
              "      <td>0.468606</td>\n",
              "      <td>26.0</td>\n",
              "    </tr>\n",
              "    <tr>\n",
              "      <th>2</th>\n",
              "      <td>4</td>\n",
              "      <td>88.944468</td>\n",
              "      <td>57.885242</td>\n",
              "      <td>66.361592</td>\n",
              "      <td>36.122509</td>\n",
              "      <td>1.181795</td>\n",
              "      <td>0.975980</td>\n",
              "      <td>122.90607</td>\n",
              "      <td>35.741099</td>\n",
              "      <td>51.968828</td>\n",
              "      <td>...</td>\n",
              "      <td>2.271429</td>\n",
              "      <td>2.213364</td>\n",
              "      <td>2.232679</td>\n",
              "      <td>1.368922</td>\n",
              "      <td>1.029175</td>\n",
              "      <td>1</td>\n",
              "      <td>1.114286</td>\n",
              "      <td>0.433013</td>\n",
              "      <td>0.444697</td>\n",
              "      <td>19.0</td>\n",
              "    </tr>\n",
              "  </tbody>\n",
              "</table>\n",
              "<p>3 rows × 82 columns</p>\n",
              "</div>\n",
              "      <button class=\"colab-df-convert\" onclick=\"convertToInteractive('df-e28dc361-e61f-4f34-aae2-1e950680b8a2')\"\n",
              "              title=\"Convert this dataframe to an interactive table.\"\n",
              "              style=\"display:none;\">\n",
              "        \n",
              "  <svg xmlns=\"http://www.w3.org/2000/svg\" height=\"24px\"viewBox=\"0 0 24 24\"\n",
              "       width=\"24px\">\n",
              "    <path d=\"M0 0h24v24H0V0z\" fill=\"none\"/>\n",
              "    <path d=\"M18.56 5.44l.94 2.06.94-2.06 2.06-.94-2.06-.94-.94-2.06-.94 2.06-2.06.94zm-11 1L8.5 8.5l.94-2.06 2.06-.94-2.06-.94L8.5 2.5l-.94 2.06-2.06.94zm10 10l.94 2.06.94-2.06 2.06-.94-2.06-.94-.94-2.06-.94 2.06-2.06.94z\"/><path d=\"M17.41 7.96l-1.37-1.37c-.4-.4-.92-.59-1.43-.59-.52 0-1.04.2-1.43.59L10.3 9.45l-7.72 7.72c-.78.78-.78 2.05 0 2.83L4 21.41c.39.39.9.59 1.41.59.51 0 1.02-.2 1.41-.59l7.78-7.78 2.81-2.81c.8-.78.8-2.07 0-2.86zM5.41 20L4 18.59l7.72-7.72 1.47 1.35L5.41 20z\"/>\n",
              "  </svg>\n",
              "      </button>\n",
              "      \n",
              "  <style>\n",
              "    .colab-df-container {\n",
              "      display:flex;\n",
              "      flex-wrap:wrap;\n",
              "      gap: 12px;\n",
              "    }\n",
              "\n",
              "    .colab-df-convert {\n",
              "      background-color: #E8F0FE;\n",
              "      border: none;\n",
              "      border-radius: 50%;\n",
              "      cursor: pointer;\n",
              "      display: none;\n",
              "      fill: #1967D2;\n",
              "      height: 32px;\n",
              "      padding: 0 0 0 0;\n",
              "      width: 32px;\n",
              "    }\n",
              "\n",
              "    .colab-df-convert:hover {\n",
              "      background-color: #E2EBFA;\n",
              "      box-shadow: 0px 1px 2px rgba(60, 64, 67, 0.3), 0px 1px 3px 1px rgba(60, 64, 67, 0.15);\n",
              "      fill: #174EA6;\n",
              "    }\n",
              "\n",
              "    [theme=dark] .colab-df-convert {\n",
              "      background-color: #3B4455;\n",
              "      fill: #D2E3FC;\n",
              "    }\n",
              "\n",
              "    [theme=dark] .colab-df-convert:hover {\n",
              "      background-color: #434B5C;\n",
              "      box-shadow: 0px 1px 3px 1px rgba(0, 0, 0, 0.15);\n",
              "      filter: drop-shadow(0px 1px 2px rgba(0, 0, 0, 0.3));\n",
              "      fill: #FFFFFF;\n",
              "    }\n",
              "  </style>\n",
              "\n",
              "      <script>\n",
              "        const buttonEl =\n",
              "          document.querySelector('#df-e28dc361-e61f-4f34-aae2-1e950680b8a2 button.colab-df-convert');\n",
              "        buttonEl.style.display =\n",
              "          google.colab.kernel.accessAllowed ? 'block' : 'none';\n",
              "\n",
              "        async function convertToInteractive(key) {\n",
              "          const element = document.querySelector('#df-e28dc361-e61f-4f34-aae2-1e950680b8a2');\n",
              "          const dataTable =\n",
              "            await google.colab.kernel.invokeFunction('convertToInteractive',\n",
              "                                                     [key], {});\n",
              "          if (!dataTable) return;\n",
              "\n",
              "          const docLinkHtml = 'Like what you see? Visit the ' +\n",
              "            '<a target=\"_blank\" href=https://colab.research.google.com/notebooks/data_table.ipynb>data table notebook</a>'\n",
              "            + ' to learn more about interactive tables.';\n",
              "          element.innerHTML = '';\n",
              "          dataTable['output_type'] = 'display_data';\n",
              "          await google.colab.output.renderOutput(dataTable, element);\n",
              "          const docLink = document.createElement('div');\n",
              "          docLink.innerHTML = docLinkHtml;\n",
              "          element.appendChild(docLink);\n",
              "        }\n",
              "      </script>\n",
              "    </div>\n",
              "  </div>\n",
              "  "
            ]
          },
          "metadata": {},
          "execution_count": 24
        }
      ],
      "source": [
        "import requests, io, zipfile\n",
        "filename = \"train.csv\"\n",
        "#Remove \"blob\",  Replace github.com by raw.githubusercontent.com\n",
        "url = \"https://raw.githubusercontent.com/fabnancyuhp/DEEP-LEARNING/main/DATA/superconduct.zip\"\n",
        "r = requests.get(url)\n",
        "z = zipfile.ZipFile(io.BytesIO(r.content))\n",
        "#z.extractall()\n",
        "import pandas as pd\n",
        "dfbis = pd.read_csv(z.open('train.csv'), sep=',')\n",
        "dfbis.head(3)"
      ]
    },
    {
      "cell_type": "markdown",
      "metadata": {
        "id": "KCMb0EpWN6qQ"
      },
      "source": [
        "Here, we define the target and the features. You have the run the cell below."
      ]
    },
    {
      "cell_type": "code",
      "execution_count": 25,
      "metadata": {
        "id": "V0jL9O26N6qQ"
      },
      "outputs": [],
      "source": [
        "#X = features, Y = targets\n",
        "X = dfbis.drop(['critical_temp'],axis=1).values\n",
        "Y = dfbis['critical_temp'].values"
      ]
    },
    {
      "cell_type": "markdown",
      "metadata": {
        "id": "LK16WWmXYJw9"
      },
      "source": [
        "1) Split the dataset into a training set and a test set using train_test_split."
      ]
    },
    {
      "cell_type": "code",
      "execution_count": null,
      "metadata": {
        "id": "cmcdg2J5ZBe8"
      },
      "outputs": [],
      "source": [
        "#your code her\n",
        "from sklearn.model_selection import train_test_split\n",
        "X_train, X_test, y_train, y_test = "
      ]
    },
    {
      "cell_type": "markdown",
      "metadata": {
        "id": "j47bFg2xZ08B"
      },
      "source": [
        "2) Make an ANNE with the following architecture:\n",
        "* InputLayer\n",
        "* BatchNormalization()\n",
        "* Dense layer with 10 units and activation='relu'\n",
        "* Dropout with rate=0.1\n",
        "* Dense with 10 units and activation='relu'\n",
        "* Dropout with rate=0.1\n",
        "* Dense with 10 units and activation='relu'\n",
        "* The last Dense layer\n",
        "\n",
        "Compile your model with an adam optimizer, mean absolute error loss and set metrics=['mae']."
      ]
    },
    {
      "cell_type": "code",
      "execution_count": null,
      "metadata": {
        "id": "8p1t68JPanVn"
      },
      "outputs": [],
      "source": [
        "from tensorflow.keras.layers import Dense, Dropout, BatchNormalization, InputLayer\n",
        "from tensorflow.keras.models import Sequential\n",
        "\n",
        "modelreg = Sequential()\n"
      ]
    },
    {
      "cell_type": "markdown",
      "metadata": {
        "id": "V6xptgFoZk4e"
      },
      "source": [
        "3/ Fit your model with 500 epochs and set validation_split=0.1."
      ]
    },
    {
      "cell_type": "code",
      "execution_count": null,
      "metadata": {
        "colab": {
          "background_save": true
        },
        "id": "IdEUpUPcgKUd"
      },
      "outputs": [],
      "source": []
    },
    {
      "cell_type": "markdown",
      "metadata": {
        "id": "FoVdkbxUgmpP"
      },
      "source": [
        "4) Evaluate your model on the test set."
      ]
    },
    {
      "cell_type": "code",
      "execution_count": null,
      "metadata": {
        "id": "qWLtIlbqgtKr"
      },
      "outputs": [],
      "source": []
    },
    {
      "cell_type": "markdown",
      "metadata": {
        "id": "bAGeSIG2hDzz"
      },
      "source": [
        "5) How many trainable parameters does your neural network have? "
      ]
    },
    {
      "cell_type": "code",
      "execution_count": null,
      "metadata": {
        "id": "HBzwR1CyhM6B"
      },
      "outputs": [],
      "source": []
    },
    {
      "cell_type": "markdown",
      "metadata": {
        "id": "AwtLiLC0l_b4"
      },
      "source": [
        "6) Use your model to predict the critical temperature of X_test[30]."
      ]
    },
    {
      "cell_type": "code",
      "execution_count": null,
      "metadata": {
        "id": "9wsYjEBDmVvb"
      },
      "outputs": [],
      "source": [
        "supra_to_test = X_test[30]"
      ]
    }
  ],
  "metadata": {
    "colab": {
      "name": "REGRESSION ANNs on Structured DATA.ipynb",
      "provenance": [],
      "include_colab_link": true
    },
    "kernelspec": {
      "display_name": "Python 3",
      "language": "python",
      "name": "python3"
    },
    "language_info": {
      "codemirror_mode": {
        "name": "ipython",
        "version": 3
      },
      "file_extension": ".py",
      "mimetype": "text/x-python",
      "name": "python",
      "nbconvert_exporter": "python",
      "pygments_lexer": "ipython3",
      "version": "3.7.9"
    },
    "accelerator": "GPU"
  },
  "nbformat": 4,
  "nbformat_minor": 0
}