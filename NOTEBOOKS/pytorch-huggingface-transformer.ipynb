{
  "cells": [
    {
      "cell_type": "markdown",
      "metadata": {
        "id": "view-in-github",
        "colab_type": "text"
      },
      "source": [
        "<a href=\"https://colab.research.google.com/github/fabnancyuhp/DEEP-LEARNING/blob/main/NOTEBOOKS/pytorch-huggingface-transformer.ipynb\" target=\"_parent\"><img src=\"https://colab.research.google.com/assets/colab-badge.svg\" alt=\"Open In Colab\"/></a>"
      ]
    },
    {
      "cell_type": "markdown",
      "metadata": {
        "id": "_POOYKNNbv6_"
      },
      "source": [
        "# Introduction\n",
        "ref : https://www.thepythoncode.com/article/finetuning-bert-using-huggingface-transformers-python<br>\n",
        "In this notebook we use the **transformers library**. **Transformers library** is designed by Hugging-face. Hugging Face is an NLP-focused startup with a large open-source community. **Transformers** is a python-based library that exposes an API to use many well-known transformer architectures, such as BERT, RoBERTa, GPT-2 or DistilBERT.<br><br>\n",
        "In this chapter we use the BERT hugging-face model to classify email as spam or not spam. BERT is a bidirectional transformer pretrained using a combination of masked language modeling objective and next sentence prediction on a large corpus comprising the Toronto Book Corpus and Wikipedia.<br><br>\n",
        "**In this notebook, we show how to fine-tune a PyTorch HuggingFace transformer.**"
      ]
    },
    {
      "cell_type": "markdown",
      "metadata": {
        "id": "5z9badOUbv7M"
      },
      "source": [
        "# Functions for preprossesing text data.\n",
        "\n",
        "In this section, we give some functions for cleaning text data:\n",
        "* One function to remove HTML tags\n",
        "* One function to remove URLs\n",
        "* One function to remove emails\n",
        "\n",
        "Theoretically, It is not necessarily good to clean the text when we practice text mining with HuggingFace transformers. But in this notebook, I decided to clean a bit the text data."
      ]
    },
    {
      "cell_type": "code",
      "execution_count": 2,
      "metadata": {
        "execution": {
          "iopub.execute_input": "2021-11-02T14:53:57.685623Z",
          "iopub.status.busy": "2021-11-02T14:53:57.685221Z",
          "iopub.status.idle": "2021-11-02T14:53:57.714661Z",
          "shell.execute_reply": "2021-11-02T14:53:57.713888Z",
          "shell.execute_reply.started": "2021-11-02T14:53:57.685524Z"
        },
        "id": "J9dKBBBubv7P"
      },
      "outputs": [],
      "source": [
        "import re\n",
        "\n",
        "def remove_html(data):\n",
        "    html_tag=re.compile(r'<.*?>')\n",
        "    data=html_tag.sub(r'',data)\n",
        "    return data\n",
        "\n",
        "def _remove_urls(x):\n",
        "    return re.sub(r'(http|https|ftp|ssh)://([\\w_-]+(?:(?:\\.[\\w_-]+)+))([\\w.,@?^=%&:/~+#-]*[\\w@?^=%&/~+#-])?', '' , x)\n",
        "\n",
        "def _remove_emails(x):\n",
        "    return re.sub(r'([a-z0-9+._-]+@[a-z0-9+._-]+\\.[a-z0-9+_-]+)',\"\", x)"
      ]
    },
    {
      "cell_type": "markdown",
      "metadata": {
        "id": "VRM9oPjibv7U"
      },
      "source": [
        "# Fine-tuning in PyTorch with the Trainer API\n",
        "In this section, we fine-tune a **BERT** model from hugging-face with **PyTorch**. We use a BERT case model to detect spam emails. First, we import the dataset. The emails text are stored in the email column. The label column is equal to 0 for the valid emails and to 1 for the spams. Run the cell below to create the email dataset:\n",
        "\n",
        "## Dataset creation\n",
        "* We first import the data as a pandas dataset\n",
        "* Secondly, we convert the pandas dataset into a hugging-face dataset\n",
        "* Last, we split the hugging-face dataset into a training set and a test set"
      ]
    },
    {
      "cell_type": "code",
      "execution_count": 3,
      "metadata": {
        "execution": {
          "iopub.execute_input": "2021-11-02T15:05:09.655381Z",
          "iopub.status.busy": "2021-11-02T15:05:09.654548Z",
          "iopub.status.idle": "2021-11-02T15:05:10.689895Z",
          "shell.execute_reply": "2021-11-02T15:05:10.689044Z",
          "shell.execute_reply.started": "2021-11-02T15:05:09.655342Z"
        },
        "id": "pBwu-8kBbv7W"
      },
      "outputs": [],
      "source": [
        "import pandas as pd\n",
        "spam_ham = pd.read_csv(\"https://raw.githubusercontent.com/fabnancyuhp/DEEP-LEARNING/main/DATA/spam_ornot_spam.csv\")\n",
        "spam_ham['email'] = spam_ham['email'].apply(lambda x:remove_html(str(x)))\n",
        "spam_ham['email'] = spam_ham['email'].apply(lambda x:_remove_urls(str(x)))\n",
        "spam_ham['email'] = spam_ham['email'].apply(lambda x:_remove_emails(str(x)))\n",
        "spam_ham.head()\n",
        "\n",
        "spam_ham['email'] = spam_ham['email'].apply(lambda x:' '.join(x.split()[0:512]))"
      ]
    },
    {
      "cell_type": "code",
      "execution_count": null,
      "metadata": {
        "execution": {
          "iopub.execute_input": "2021-11-02T15:05:13.016197Z",
          "iopub.status.busy": "2021-11-02T15:05:13.015386Z",
          "iopub.status.idle": "2021-11-02T15:05:13.019393Z",
          "shell.execute_reply": "2021-11-02T15:05:13.018825Z",
          "shell.execute_reply.started": "2021-11-02T15:05:13.016147Z"
        },
        "id": "9hnQLby4bv7a"
      },
      "outputs": [],
      "source": [
        "#import os\n",
        "#os.environ[\"WANDB_DISABLED\"] = \"true\""
      ]
    },
    {
      "cell_type": "code",
      "execution_count": 6,
      "metadata": {
        "execution": {
          "iopub.execute_input": "2021-11-02T15:06:43.595709Z",
          "iopub.status.busy": "2021-11-02T15:06:43.594978Z",
          "iopub.status.idle": "2021-11-02T15:06:43.617715Z",
          "shell.execute_reply": "2021-11-02T15:06:43.616845Z",
          "shell.execute_reply.started": "2021-11-02T15:06:43.595674Z"
        },
        "id": "su34CP0Gbv7b",
        "outputId": "31d929c0-97b5-4444-c4d9-ae48edd2a342",
        "colab": {
          "base_uri": "https://localhost:8080/"
        }
      },
      "outputs": [
        {
          "output_type": "execute_result",
          "data": {
            "text/plain": [
              "DatasetDict({\n",
              "    train: Dataset({\n",
              "        features: ['email', 'label'],\n",
              "        num_rows: 2550\n",
              "    })\n",
              "    test: Dataset({\n",
              "        features: ['email', 'label'],\n",
              "        num_rows: 450\n",
              "    })\n",
              "})"
            ]
          },
          "metadata": {},
          "execution_count": 6
        }
      ],
      "source": [
        "#!pip install datasets\n",
        "from datasets import load_dataset\n",
        "from datasets import Dataset\n",
        "from datasets import DatasetDict\n",
        "\n",
        "# Secondly, we convert the pandas dataset into a hugging-face dataset\n",
        "dataset = Dataset.from_pandas(spam_ham)\n",
        "\n",
        "# Last, we split the hugging-face dataset into a training set and a test set\n",
        "dataset_train_test = dataset.train_test_split(test_size=0.15)\n",
        "dataset_train_test"
      ]
    },
    {
      "cell_type": "markdown",
      "metadata": {
        "id": "iOQ7aWnZbv7d"
      },
      "source": [
        "## Tokenization and vectorization of the text\n",
        "Remind that our goal is to fine-tune a BERT cased model from the hugging-face hub. A hugging-face model has two components:\n",
        "* the tokenizer component is responsable for the text vectorization\n",
        "* the model component is a pre-trained transformer that takes the tokenizer output as an input\n",
        "\n",
        "The tokenizer and model should always be paired. In the cell below we:\n",
        "* we import the tokenizer designed for the bert-cased model\n",
        "* We vectorize the texts from the emails  "
      ]
    },
    {
      "cell_type": "code",
      "execution_count": 8,
      "metadata": {
        "execution": {
          "iopub.execute_input": "2021-11-02T15:07:35.730887Z",
          "iopub.status.busy": "2021-11-02T15:07:35.729918Z",
          "iopub.status.idle": "2021-11-02T15:07:39.901851Z",
          "shell.execute_reply": "2021-11-02T15:07:39.900719Z",
          "shell.execute_reply.started": "2021-11-02T15:07:35.730777Z"
        },
        "id": "A6ocRRvwbv7e",
        "outputId": "5cee6644-8702-467c-ab33-e6275667a7fb",
        "colab": {
          "base_uri": "https://localhost:8080/",
          "height": 81,
          "referenced_widgets": [
            "2127abcd6fdf417b85094008cdc3448f",
            "25db4f8b9a99471bb6bebb2fe0118585",
            "38c43215fef34958ab6398f76fc3b72a",
            "83fc0d6e4d934e8da352a66092d168d6",
            "7a2b40743ae74ca78048e47ad5dd7104",
            "235ebc6828534abfb1df43d6de767cf8",
            "2b8a68ca9c7f4032a33e39a31fc1c60b",
            "4c2f13e776c54e41b0fd142faca71b23",
            "fa7ccab82bb94353ae6b886351529fce",
            "ed2f8800408c46e39612ad5ac95788ae",
            "beb250c3ef3846399eb5b51db8ab4eab",
            "d8d9b985fa424c828f7f1bd33d84b902",
            "0586bd427214494388f412dfabf9a05c",
            "98465d9743534454b46b2a1c443efef3",
            "09ee7d826f684580b8877ee3b23799bd",
            "f1066cc099e64205a7ed8dcc4b34cb26",
            "3eeed9166017490894b7977ee4edb050",
            "835772ad50f345af8f183d959e143f02",
            "eb228f9e1db140ed8d93ba0e14c952ca",
            "d8a93502512940249db69ed5e0ef5e45",
            "5813f9b5a7e54a8399faa4228859b029",
            "1493a385de024795a489a7d35f0e7353"
          ]
        }
      },
      "outputs": [
        {
          "output_type": "display_data",
          "data": {
            "text/plain": [
              "  0%|          | 0/3 [00:00<?, ?ba/s]"
            ],
            "application/vnd.jupyter.widget-view+json": {
              "version_major": 2,
              "version_minor": 0,
              "model_id": "2127abcd6fdf417b85094008cdc3448f"
            }
          },
          "metadata": {}
        },
        {
          "output_type": "display_data",
          "data": {
            "text/plain": [
              "  0%|          | 0/1 [00:00<?, ?ba/s]"
            ],
            "application/vnd.jupyter.widget-view+json": {
              "version_major": 2,
              "version_minor": 0,
              "model_id": "d8d9b985fa424c828f7f1bd33d84b902"
            }
          },
          "metadata": {}
        }
      ],
      "source": [
        "# We import the tokenizer designed for the bert-cased model\n",
        "#!pip install transformers\n",
        "from transformers import AutoTokenizer\n",
        "tokenizer = AutoTokenizer.from_pretrained(\"bert-base-cased\")\n",
        "\n",
        "# We vectorize the texts from the emails\n",
        "def tokenize_function(examples):\n",
        "    return tokenizer(examples[\"email\"], padding=\"max_length\", truncation=True)\n",
        "\n",
        "tokenized_datasets = dataset_train_test.map(tokenize_function, batched=True)"
      ]
    },
    {
      "cell_type": "code",
      "execution_count": 9,
      "metadata": {
        "execution": {
          "iopub.execute_input": "2021-11-02T15:07:45.191551Z",
          "iopub.status.busy": "2021-11-02T15:07:45.191219Z",
          "iopub.status.idle": "2021-11-02T15:07:45.1977Z",
          "shell.execute_reply": "2021-11-02T15:07:45.196844Z",
          "shell.execute_reply.started": "2021-11-02T15:07:45.191516Z"
        },
        "id": "lEUlYBO3bv7g",
        "outputId": "e42b063e-dcd1-463a-98d2-099de28ee546",
        "colab": {
          "base_uri": "https://localhost:8080/"
        }
      },
      "outputs": [
        {
          "output_type": "execute_result",
          "data": {
            "text/plain": [
              "DatasetDict({\n",
              "    train: Dataset({\n",
              "        features: ['email', 'label', 'input_ids', 'token_type_ids', 'attention_mask'],\n",
              "        num_rows: 2550\n",
              "    })\n",
              "    test: Dataset({\n",
              "        features: ['email', 'label', 'input_ids', 'token_type_ids', 'attention_mask'],\n",
              "        num_rows: 450\n",
              "    })\n",
              "})"
            ]
          },
          "metadata": {},
          "execution_count": 9
        }
      ],
      "source": [
        "tokenized_datasets"
      ]
    },
    {
      "cell_type": "markdown",
      "metadata": {
        "id": "blZPfGatbv7h"
      },
      "source": [
        "attention_mask,  input_ids, token_type_ids are vectors features made by the bert-cased tokenizer from the email feature. The bert-cased model uses these features and the label feature during the training stage we will implement later. We get the training set and the test set from the hugging-face dataset tokenized_datasets."
      ]
    },
    {
      "cell_type": "code",
      "execution_count": 10,
      "metadata": {
        "execution": {
          "iopub.execute_input": "2021-11-02T15:14:20.625582Z",
          "iopub.status.busy": "2021-11-02T15:14:20.625268Z",
          "iopub.status.idle": "2021-11-02T15:14:20.630695Z",
          "shell.execute_reply": "2021-11-02T15:14:20.629739Z",
          "shell.execute_reply.started": "2021-11-02T15:14:20.625548Z"
        },
        "id": "y09Jwywmbv7i"
      },
      "outputs": [],
      "source": [
        "train_set = tokenized_datasets['train']\n",
        "test_set = tokenized_datasets['test']"
      ]
    },
    {
      "cell_type": "markdown",
      "metadata": {
        "id": "H8J8zeUBbv7j"
      },
      "source": [
        "## Training stage with PyTorch Trainer\n",
        "* We have to load the transfromer model we want to use. \n",
        "* We have to set the TrainingArguments\n",
        "* We set the Trainer \n",
        "\n",
        "**We load the transfromer model we want to use**<br>\n",
        "The model we load is paired with the tokenizer we loaded earlier in this exemple. The model in the cell below is a Pytorch model. In the case of a pretrained pytorch model we use AutoModelForSequenceClassification instead of TFAutoModelForSequenceClassification.  "
      ]
    },
    {
      "cell_type": "code",
      "execution_count": 12,
      "metadata": {
        "execution": {
          "iopub.execute_input": "2021-11-02T15:22:11.275524Z",
          "iopub.status.busy": "2021-11-02T15:22:11.274775Z",
          "iopub.status.idle": "2021-11-02T15:22:30.887907Z",
          "shell.execute_reply": "2021-11-02T15:22:30.88715Z",
          "shell.execute_reply.started": "2021-11-02T15:22:11.275485Z"
        },
        "id": "sYvwKjJEbv7l",
        "outputId": "6af6ddc6-bc3c-4a28-f9a6-fdf4f33a175c",
        "colab": {
          "base_uri": "https://localhost:8080/",
          "height": 156,
          "referenced_widgets": [
            "44e7ccffdda84816abe42d35d8bdf080",
            "a22c1ddc3145456e9a93293c67dab479",
            "42ba065df358472e85606e656746f10f",
            "ed40bcb1c9d4491d8a83f8f9067c9abe",
            "3e98bc7c8c0c4f63b1996fbbf92778da",
            "c918f1e0065046f9bc4298741a660468",
            "d9e21e1cf2304790bd8cb2801bbd773d",
            "28b1352ae7ea4bccad810542f0a2edd8",
            "9f25cd5dd84141b1bc98a2c04ca32cf9",
            "49537d911ddf4c08959b72cfa5748b5a",
            "7d10cedce45140768159a6d0cec6d9c2"
          ]
        }
      },
      "outputs": [
        {
          "output_type": "display_data",
          "data": {
            "text/plain": [
              "Downloading:   0%|          | 0.00/436M [00:00<?, ?B/s]"
            ],
            "application/vnd.jupyter.widget-view+json": {
              "version_major": 2,
              "version_minor": 0,
              "model_id": "44e7ccffdda84816abe42d35d8bdf080"
            }
          },
          "metadata": {}
        },
        {
          "output_type": "stream",
          "name": "stderr",
          "text": [
            "Some weights of the model checkpoint at bert-base-cased were not used when initializing BertForSequenceClassification: ['cls.predictions.transform.dense.weight', 'cls.seq_relationship.bias', 'cls.predictions.transform.dense.bias', 'cls.predictions.bias', 'cls.predictions.decoder.weight', 'cls.predictions.transform.LayerNorm.weight', 'cls.predictions.transform.LayerNorm.bias', 'cls.seq_relationship.weight']\n",
            "- This IS expected if you are initializing BertForSequenceClassification from the checkpoint of a model trained on another task or with another architecture (e.g. initializing a BertForSequenceClassification model from a BertForPreTraining model).\n",
            "- This IS NOT expected if you are initializing BertForSequenceClassification from the checkpoint of a model that you expect to be exactly identical (initializing a BertForSequenceClassification model from a BertForSequenceClassification model).\n",
            "Some weights of BertForSequenceClassification were not initialized from the model checkpoint at bert-base-cased and are newly initialized: ['classifier.weight', 'classifier.bias']\n",
            "You should probably TRAIN this model on a down-stream task to be able to use it for predictions and inference.\n"
          ]
        }
      ],
      "source": [
        "#We have to load the transfromer model we want to use. Model is a Pytorch model.\n",
        "from transformers import AutoModelForSequenceClassification\n",
        "\n",
        "model = AutoModelForSequenceClassification.from_pretrained(\"bert-base-cased\", num_labels=2)"
      ]
    },
    {
      "cell_type": "code",
      "execution_count": 11,
      "metadata": {
        "execution": {
          "iopub.execute_input": "2021-11-02T15:22:49.615146Z",
          "iopub.status.busy": "2021-11-02T15:22:49.614846Z",
          "iopub.status.idle": "2021-11-02T15:22:49.637641Z",
          "shell.execute_reply": "2021-11-02T15:22:49.636758Z",
          "shell.execute_reply.started": "2021-11-02T15:22:49.615112Z"
        },
        "id": "M_6H9AzPbv7m"
      },
      "outputs": [],
      "source": [
        "#We have to set the TrainingArguments\n",
        "from transformers import TrainingArguments\n",
        "\n",
        "training_args = TrainingArguments(\"test_trainer\")\n",
        "          #num_train_epochs=3,              # total number of training epochs\n",
        "          #per_device_train_batch_size=16,  # 16 batch size per device during training\n",
        "          #per_device_eval_batch_size=20,   #20\n",
        "          #output_dir='./results',\n",
        "          #weight_decay=0.01)"
      ]
    },
    {
      "cell_type": "markdown",
      "metadata": {
        "id": "feVWjK34bv7p"
      },
      "source": [
        "**We set the Trainer and begin the training stage with Trainer.train().**<br>\n",
        "The Trainer object takes some arguments such that:\n",
        "* model : a huggingface pretrained PyTorch model\n",
        "* args : a TrainingArguments defined earlier \n",
        "* train_dataset : a huggingface dataset made from a huggingface tokenizer step  \n",
        "\n",
        "The target value of a huggingface dataset used by the Trainer should always be named label else the Train API doesn't work."
      ]
    },
    {
      "cell_type": "code",
      "execution_count": 13,
      "metadata": {
        "id": "VlXajJ7bbv7q",
        "outputId": "c65f2266-13e3-4d00-bba0-0b9b54d19861",
        "colab": {
          "base_uri": "https://localhost:8080/",
          "height": 509
        }
      },
      "outputs": [
        {
          "output_type": "stream",
          "name": "stderr",
          "text": [
            "/usr/local/lib/python3.8/dist-packages/transformers/optimization.py:306: FutureWarning: This implementation of AdamW is deprecated and will be removed in a future version. Use the PyTorch implementation torch.optim.AdamW instead, or set `no_deprecation_warning=True` to disable this warning\n",
            "  warnings.warn(\n",
            "***** Running training *****\n",
            "  Num examples = 2550\n",
            "  Num Epochs = 3\n",
            "  Instantaneous batch size per device = 8\n",
            "  Total train batch size (w. parallel, distributed & accumulation) = 8\n",
            "  Gradient Accumulation steps = 1\n",
            "  Total optimization steps = 957\n",
            "  Number of trainable parameters = 108311810\n",
            "The following columns in the training set don't have a corresponding argument in `BertForSequenceClassification.forward` and have been ignored: email. If email are not expected by `BertForSequenceClassification.forward`,  you can safely ignore this message.\n"
          ]
        },
        {
          "output_type": "display_data",
          "data": {
            "text/plain": [
              "<IPython.core.display.HTML object>"
            ],
            "text/html": [
              "\n",
              "    <div>\n",
              "      \n",
              "      <progress value='957' max='957' style='width:300px; height:20px; vertical-align: middle;'></progress>\n",
              "      [957/957 11:55, Epoch 3/3]\n",
              "    </div>\n",
              "    <table border=\"1\" class=\"dataframe\">\n",
              "  <thead>\n",
              " <tr style=\"text-align: left;\">\n",
              "      <th>Step</th>\n",
              "      <th>Training Loss</th>\n",
              "    </tr>\n",
              "  </thead>\n",
              "  <tbody>\n",
              "    <tr>\n",
              "      <td>500</td>\n",
              "      <td>0.141200</td>\n",
              "    </tr>\n",
              "  </tbody>\n",
              "</table><p>"
            ]
          },
          "metadata": {}
        },
        {
          "output_type": "stream",
          "name": "stderr",
          "text": [
            "Saving model checkpoint to test_trainer/checkpoint-500\n",
            "Configuration saved in test_trainer/checkpoint-500/config.json\n",
            "Model weights saved in test_trainer/checkpoint-500/pytorch_model.bin\n",
            "\n",
            "\n",
            "Training completed. Do not forget to share your model on huggingface.co/models =)\n",
            "\n",
            "\n"
          ]
        },
        {
          "output_type": "execute_result",
          "data": {
            "text/plain": [
              "TrainOutput(global_step=957, training_loss=0.08209533701371499, metrics={'train_runtime': 719.4182, 'train_samples_per_second': 10.634, 'train_steps_per_second': 1.33, 'total_flos': 2012799573504000.0, 'train_loss': 0.08209533701371499, 'epoch': 3.0})"
            ]
          },
          "metadata": {},
          "execution_count": 13
        }
      ],
      "source": [
        "#We set the Trainer and begin the training stage with Trainer.train().\n",
        "#import torch\n",
        "#torch.cuda.empty_cache()\n",
        "\n",
        "from transformers import Trainer\n",
        "\n",
        "trainer = Trainer(model=model,args=training_args,train_dataset=train_set)\n",
        "trainer.train()"
      ]
    },
    {
      "cell_type": "markdown",
      "metadata": {
        "id": "nRP1yp6Hbv7r"
      },
      "source": [
        "Now we save the tokenizer and the pytorch model model."
      ]
    },
    {
      "cell_type": "code",
      "execution_count": 20,
      "metadata": {
        "id": "vkmpj6ahbv7s",
        "outputId": "a92b6eab-3186-4cbd-ebc1-5047aca57a9d",
        "colab": {
          "base_uri": "https://localhost:8080/"
        }
      },
      "outputs": [
        {
          "output_type": "stream",
          "name": "stderr",
          "text": [
            "Configuration saved in ./config.json\n",
            "Model weights saved in ./pytorch_model.bin\n",
            "tokenizer config file saved in ./tokenizer_config.json\n",
            "Special tokens file saved in ./special_tokens_map.json\n"
          ]
        },
        {
          "output_type": "execute_result",
          "data": {
            "text/plain": [
              "transformers.models.bert.modeling_bert.BertForSequenceClassification"
            ]
          },
          "metadata": {},
          "execution_count": 20
        }
      ],
      "source": [
        "model.save_pretrained(\"./\")\n",
        "tokenizer.save_pretrained(\"./\")\n",
        "#model2 = AutoModelForSequenceClassification.from_pretrained(\"./\")\n",
        "#model2.to(\"cuda\")\n",
        "#type(model2)"
      ]
    },
    {
      "cell_type": "markdown",
      "metadata": {
        "id": "OFDB27Lhbv7t"
      },
      "source": [
        "## Apply the PyTorch fine-tuned model on a new text\n",
        "Now, we try the model on the following email : "
      ]
    },
    {
      "cell_type": "code",
      "execution_count": 21,
      "metadata": {
        "execution": {
          "iopub.execute_input": "2021-11-02T15:30:24.360973Z",
          "iopub.status.busy": "2021-11-02T15:30:24.360678Z",
          "iopub.status.idle": "2021-11-02T15:30:24.36607Z",
          "shell.execute_reply": "2021-11-02T15:30:24.365436Z",
          "shell.execute_reply.started": "2021-11-02T15:30:24.360946Z"
        },
        "id": "ruMi_opXbv7u"
      },
      "outputs": [],
      "source": [
        "email_test = \"\"\"martin a posted tassos papadopoulos the greek sculptor behind \n",
        "                the plan judged that the limestone of mount kerdylio NUMBER \n",
        "                miles east of salonika and not far from the mount athos monastic \n",
        "                community was ideal for the patriotic sculpture as well as alexander s \n",
        "                granite features NUMBER ft high and NUMBER ft wide a museum a restored \n",
        "                amphitheatre and car park for admiring crowds are planned so is \n",
        "                this mountain limestone or granite if it s limestone it ll weather \n",
        "                pretty fast yahoo groups sponsor NUMBER dvds free s p join now URL \n",
        "                to unsubscribe from this group send an email to forteana unsubscribe \n",
        "                URL your use of yahoo groups is subject to URL\"\"\""
      ]
    },
    {
      "cell_type": "markdown",
      "metadata": {
        "id": "kk7TsUn4bv7u"
      },
      "source": [
        "After the Trainer step, model is a fine-tuned transformer model. Then, we can apply model on a new email. We have to\n",
        "* vectorize the new email\n",
        "* Apply the pytorch on the vectorized new text \n",
        "* use softmax function to get a PyTorch tensor probability vector\n",
        "* convert the previous PyTorch tensor into a numpy array"
      ]
    },
    {
      "cell_type": "code",
      "execution_count": 22,
      "metadata": {
        "id": "F3Lo_pVDbv7v",
        "outputId": "2512f913-c883-454c-c411-05dc3eca04eb",
        "colab": {
          "base_uri": "https://localhost:8080/",
          "height": 53
        }
      },
      "outputs": [
        {
          "output_type": "stream",
          "name": "stdout",
          "text": [
            "proba=[[9.9979872e-01 2.0136077e-04]]\n"
          ]
        },
        {
          "output_type": "execute_result",
          "data": {
            "text/plain": [
              "'email valid'"
            ],
            "application/vnd.google.colaboratory.intrinsic+json": {
              "type": "string"
            }
          },
          "metadata": {},
          "execution_count": 22
        }
      ],
      "source": [
        "token_input = tokenizer(email_test, padding=\"max_length\", truncation=True,return_tensors=\"pt\").to(\"cuda\")\n",
        "#outputs = model(**token_input) #model is a PyTorch model\n",
        "#probs = outputs[0].softmax(1)  #  \n",
        "probs = model(**token_input)[0].softmax(1).cpu().detach().numpy()\n",
        "print(\"proba=\"+ str(probs))\n",
        "target_names = ['email valid','spam']\n",
        "target_names[probs.argmax()]"
      ]
    },
    {
      "cell_type": "code",
      "source": [
        "#model2.to(\"cuda\")\n",
        "#model2(**token_input)[0].softmax(1).cpu().detach().numpy()"
      ],
      "metadata": {
        "id": "xE3MxM9Qfp6r",
        "outputId": "c3b92595-871d-40e7-9d83-2b6402c6a28d",
        "colab": {
          "base_uri": "https://localhost:8080/"
        }
      },
      "execution_count": 27,
      "outputs": [
        {
          "output_type": "execute_result",
          "data": {
            "text/plain": [
              "array([[9.9970847e-01, 2.9152594e-04]], dtype=float32)"
            ]
          },
          "metadata": {},
          "execution_count": 27
        }
      ]
    },
    {
      "cell_type": "markdown",
      "metadata": {
        "id": "TVOJBWFgbv7w"
      },
      "source": [
        "## Prediction on the test set with the fine-tuned model\n",
        "A huggingFace PyTorch is GPU-memory consuming. When we want to predict on a whole dataset with it, we have to clean the memory with the gc package (garbage collection).<br><br>\n",
        "In the above cell, we do a loop over the whole dataset.  At each step of this loop we call the tokenizer and the model. At each step of the loop, We also convert a PyTorch tensor object into a numpy array to release some GPU memory.<br><br>\n",
        "**CUDA** (or Compute Unified Device Architecture) is a parallel computing platform and application programming interface (API) that allows software to use certain types of graphics processing unit (GPU) for general purpose processing.<br><br>\n",
        "\n",
        "Y_test_proba in the above cell is a list of numpy probability vectors."
      ]
    },
    {
      "cell_type": "code",
      "execution_count": 28,
      "metadata": {
        "id": "shdjftOxbv7x"
      },
      "outputs": [],
      "source": [
        "Y_true = test_set['label']\n",
        "Y_test_email = test_set['email']\n",
        "\n",
        "import gc\n",
        "\n",
        "Y_test_proba = []\n",
        "\n",
        "for email in test_set['email']:\n",
        "    token_output = tokenizer(email, padding=\"max_length\", truncation=True,return_tensors=\"pt\").to(\"cuda\")\n",
        "    Y_test_proba.append(model(**token_output)[0].softmax(1).cpu().detach().numpy())\n",
        "    del token_output\n",
        "    gc.collect()"
      ]
    },
    {
      "cell_type": "markdown",
      "metadata": {
        "id": "5fxA_Ly9bv7y"
      },
      "source": [
        "Now we use the np.argmax function to compute the predicted classes of the test set:"
      ]
    },
    {
      "cell_type": "code",
      "source": [
        "import numpy as np\n",
        "y_pred = [np.argmax(vect) for vect in Y_test_proba]"
      ],
      "metadata": {
        "id": "y93PtVemhw9l"
      },
      "execution_count": 34,
      "outputs": []
    },
    {
      "cell_type": "markdown",
      "metadata": {
        "id": "I-TGiXlmbv7z"
      },
      "source": [
        "# EXERCICE : PyTorch Huggingface TRANSFORMER OVER fetch_20newsgroups\n",
        "In this exercice, we fine-tune a hugging face bert model over the fetch_20newsgroups dataset. We have to understand the fetch_20newsgroups dataset as a first step. You have to run the cell bellow to create the dataset. The cell execution could take a while. "
      ]
    },
    {
      "cell_type": "code",
      "execution_count": null,
      "metadata": {
        "execution": {
          "iopub.execute_input": "2021-11-03T14:30:35.658327Z",
          "iopub.status.busy": "2021-11-03T14:30:35.657782Z",
          "iopub.status.idle": "2021-11-03T14:30:37.675036Z",
          "shell.execute_reply": "2021-11-03T14:30:37.674345Z",
          "shell.execute_reply.started": "2021-11-03T14:30:35.658288Z"
        },
        "id": "SCkmfeZ-bv7z"
      },
      "outputs": [],
      "source": [
        "from sklearn.datasets import fetch_20newsgroups\n",
        "\n",
        "categories = ['alt.atheism','comp.graphics','comp.os.ms-windows.misc','comp.sys.ibm.pc.hardware',\\\n",
        "              'comp.sys.mac.hardware','comp.windows.x','misc.forsale','rec.autos','rec.motorcycles',\\\n",
        "              'comp.sys.mac.hardware','comp.windows.x','misc.forsale','rec.autos','rec.motorcycles',\\\n",
        "              'rec.sport.baseball','rec.sport.hockey','sci.crypt','sci.electronics','sci.med','sci.space',\\\n",
        "              'soc.religion.christian','talk.politics.guns','talk.politics.mideast','talk.politics.misc','talk.religion.misc']\n",
        "\n",
        "dataset = fetch_20newsgroups(remove=('headers', 'footers', 'quotes'),categories=categories)\n",
        "\n",
        "import numpy as np\n",
        "import pandas as pd\n",
        "len(dataset['target_names'])\n",
        "target_values_to_target_labels = dict(zip(range(0,len(dataset['target_names'])),dataset['target_names']))\n",
        "\n",
        "target_values = dataset.target.tolist()\n",
        "target_labels = [target_values_to_target_labels[o] for o in target_values]\n",
        "\n",
        "dataset_fetch_20newsgroups = pd.DataFrame({'text':dataset.data,'target_labels':target_labels})\n",
        "\n",
        "target_class_to_encoder = dict(zip(dataset_fetch_20newsgroups['target_labels'].unique().tolist(),list(range(0,len(dataset_fetch_20newsgroups['target_labels'].unique())))))\n",
        "\n",
        "dataset_fetch_20newsgroups['class_encoded'] = dataset_fetch_20newsgroups['target_labels'].apply(lambda x:target_class_to_encoder[x])\n",
        "dataset_fetch_20newsgroups.head()"
      ]
    },
    {
      "cell_type": "markdown",
      "metadata": {
        "id": "Wa9dOz8Obv70"
      },
      "source": [
        "Here we show some texts labeled rec.autos:"
      ]
    },
    {
      "cell_type": "code",
      "execution_count": null,
      "metadata": {
        "execution": {
          "iopub.execute_input": "2021-11-03T09:19:43.634813Z",
          "iopub.status.busy": "2021-11-03T09:19:43.634295Z",
          "iopub.status.idle": "2021-11-03T09:19:43.647057Z",
          "shell.execute_reply": "2021-11-03T09:19:43.646462Z",
          "shell.execute_reply.started": "2021-11-03T09:19:43.634774Z"
        },
        "id": "atLvGBVxbv72"
      },
      "outputs": [],
      "source": [
        "dataset_fetch_20newsgroups.loc[dataset_fetch_20newsgroups['target_labels']=='rec.autos']['text'].reset_index().iloc[3,1]"
      ]
    },
    {
      "cell_type": "code",
      "execution_count": null,
      "metadata": {
        "execution": {
          "iopub.execute_input": "2021-11-03T09:20:19.06199Z",
          "iopub.status.busy": "2021-11-03T09:20:19.061441Z",
          "iopub.status.idle": "2021-11-03T09:20:19.074168Z",
          "shell.execute_reply": "2021-11-03T09:20:19.073459Z",
          "shell.execute_reply.started": "2021-11-03T09:20:19.061949Z"
        },
        "id": "6zFIMe3Fbv72"
      },
      "outputs": [],
      "source": [
        "dataset_fetch_20newsgroups.loc[dataset_fetch_20newsgroups['target_labels']=='rec.autos']['text'].reset_index().iloc[10,1]"
      ]
    },
    {
      "cell_type": "markdown",
      "metadata": {
        "id": "u__bGWIRbv73"
      },
      "source": [
        "1) Remove the URL, the email addresses and the html tags from the column 'text' of the dataset_fetch_20newsgroups dataset. You can use the functions defined  below."
      ]
    },
    {
      "cell_type": "code",
      "execution_count": null,
      "metadata": {
        "execution": {
          "iopub.execute_input": "2021-11-03T14:30:46.237643Z",
          "iopub.status.busy": "2021-11-03T14:30:46.237376Z",
          "iopub.status.idle": "2021-11-03T14:30:46.243759Z",
          "shell.execute_reply": "2021-11-03T14:30:46.243036Z",
          "shell.execute_reply.started": "2021-11-03T14:30:46.237612Z"
        },
        "id": "C7M7RMjPbv74"
      },
      "outputs": [],
      "source": [
        "import re\n",
        "\n",
        "def remove_html(data):\n",
        "    html_tag=re.compile(r'<.*?>')\n",
        "    data=html_tag.sub(r'',data)\n",
        "    return data\n",
        "\n",
        "def _remove_urls(x):\n",
        "    return re.sub(r'(http|https|ftp|ssh)://([\\w_-]+(?:(?:\\.[\\w_-]+)+))([\\w.,@?^=%&:/~+#-]*[\\w@?^=%&/~+#-])?', '' , x)\n",
        "\n",
        "def _remove_emails(x):\n",
        "    return re.sub(r'([a-z0-9+._-]+@[a-z0-9+._-]+\\.[a-z0-9+_-]+)',\"\", x)\n",
        "\n",
        "def remove_url(data):\n",
        "    url_clean= re.compile(r\"https://\\S+|www\\.\\S+\")\n",
        "    data=url_clean.sub(r'',data)\n",
        "    return data\n",
        "\n",
        "def remove_skip_line(x):\n",
        "    return re.sub(r'\\r?\\n|\\\\|\\r/g',\" \", x)"
      ]
    },
    {
      "cell_type": "code",
      "execution_count": null,
      "metadata": {
        "execution": {
          "iopub.execute_input": "2021-11-03T14:30:51.839811Z",
          "iopub.status.busy": "2021-11-03T14:30:51.839239Z",
          "iopub.status.idle": "2021-11-03T14:30:54.051024Z",
          "shell.execute_reply": "2021-11-03T14:30:54.050239Z",
          "shell.execute_reply.started": "2021-11-03T14:30:51.839754Z"
        },
        "id": "QHhI8PNcbv75"
      },
      "outputs": [],
      "source": [
        "dataset_fetch_20newsgroups['text'] = dataset_fetch_20newsgroups['text'].apply(lambda x:remove_html(str(x)))\n",
        "#your code here"
      ]
    },
    {
      "cell_type": "markdown",
      "metadata": {
        "id": "XWLF72aGbv76"
      },
      "source": [
        "2) In this exercise, we show how to fine-tune a bert-model with the Trainer API. Behind the scene, the Trainer API works with PyTorch.<br>\n",
        "The Trainer API takes a PyTorch hugging-face model as an input and some arguments such that \n",
        "* the number of epochs, \n",
        "* the weight decay, \n",
        "* the fact to load the best model during the training stage\n",
        "* ...\n"
      ]
    },
    {
      "cell_type": "code",
      "execution_count": null,
      "metadata": {
        "execution": {
          "iopub.execute_input": "2021-11-03T14:30:59.226999Z",
          "iopub.status.busy": "2021-11-03T14:30:59.226429Z",
          "iopub.status.idle": "2021-11-03T14:30:59.230838Z",
          "shell.execute_reply": "2021-11-03T14:30:59.229977Z",
          "shell.execute_reply.started": "2021-11-03T14:30:59.22696Z"
        },
        "id": "Iw_THrPabv78"
      },
      "outputs": [],
      "source": [
        "#import os\n",
        "#os.environ[\"WANDB_DISABLED\"] = \"true\""
      ]
    },
    {
      "cell_type": "markdown",
      "metadata": {
        "id": "ohviQSbZbv78"
      },
      "source": [
        "The Trainer API takes also a **hugging-face dataset** as an input. As As a consequence, we have to convert the pandas dataset dataset_fetch_20newsgroups into a hugging-face dataset.<br>\n",
        "The target value of a hugging-face dataset should always be named label else the Train API doesn't work. \n",
        "* rename the 'class_encoded' column of dataset_fetch_20newsgroups into label. \n",
        "* After that, you have to convert the dataset_fetch_20newsgroups into a huggin-face dataset using Dataset.from_pandas method. Call this hugging-face dataset dataset_fetch_20_for_Trainer_API."
      ]
    },
    {
      "cell_type": "code",
      "execution_count": null,
      "metadata": {
        "execution": {
          "iopub.execute_input": "2021-11-03T14:31:06.322545Z",
          "iopub.status.busy": "2021-11-03T14:31:06.322282Z",
          "iopub.status.idle": "2021-11-03T14:31:11.841392Z",
          "shell.execute_reply": "2021-11-03T14:31:11.840708Z",
          "shell.execute_reply.started": "2021-11-03T14:31:06.322515Z"
        },
        "id": "9TASoJ7Sbv79"
      },
      "outputs": [],
      "source": [
        "#your code here\n",
        "#we rename ''class_encoded' 'label'  'class_encoded'\n",
        "dataset_fetch_20newsgroups = \n",
        "\n",
        "\n",
        "from datasets import Dataset\n",
        "#convert dataset_fetch_20newsgroups into a hugging-face dataset\n",
        "dataset_fetch_20_for_Trainer_API = "
      ]
    },
    {
      "cell_type": "markdown",
      "metadata": {
        "id": "TKlMZRxBbv8L"
      },
      "source": [
        "3) Split dataset_fetch_20_for_Trainer_API into a train set and a test set. Set the parameter test_size=0.15. In this question, you have to call the train_test_split method for a hugging-face dataset. In this question, we don't use the train_test_split from sklearn."
      ]
    },
    {
      "cell_type": "code",
      "execution_count": null,
      "metadata": {
        "execution": {
          "iopub.execute_input": "2021-11-03T14:31:18.575461Z",
          "iopub.status.busy": "2021-11-03T14:31:18.575174Z",
          "iopub.status.idle": "2021-11-03T14:31:18.593933Z",
          "shell.execute_reply": "2021-11-03T14:31:18.593203Z",
          "shell.execute_reply.started": "2021-11-03T14:31:18.575432Z"
        },
        "id": "dp0CmjbWbv8L"
      },
      "outputs": [],
      "source": [
        "#we create the training and the test dataset. the test_size is 15% of the whole dataset\n",
        "train_test_dataset = dataset_fetch_20_for_Trainer_API.train_test_split(test_size=0.15)"
      ]
    },
    {
      "cell_type": "markdown",
      "metadata": {
        "id": "EOD8xIfobv8M"
      },
      "source": [
        "4) the goal of this exercise is to fin-tuned a Bert cased model with Train API. To preprocess our data, we will need a tokenizer. A tokenizer splits the data in tokens (these can be characters, words, part of words). For this task, we are using the tokenizer from the pre-trained model we selected (bert-base-cased).<br>\n",
        "* Import the tokenizer designed for the bert-base-case model from hugging-face hub. Call this tokenizer tokenizer.\n",
        "* Use the tokenizer you've just imported to preprocess dataset_fetch_20_for_Trainer_API. Store the preprocessed dataset into train_test_dataset_tokenize.\n",
        "* Extract the training set from train_test_dataset_tokenize into train_dataset.\n",
        "* Extract the test set from train_test_dataset_tokenize into test_dataset."
      ]
    },
    {
      "cell_type": "code",
      "execution_count": null,
      "metadata": {
        "execution": {
          "iopub.execute_input": "2021-11-03T14:31:27.083629Z",
          "iopub.status.busy": "2021-11-03T14:31:27.08335Z",
          "iopub.status.idle": "2021-11-03T14:31:42.555264Z",
          "shell.execute_reply": "2021-11-03T14:31:42.554544Z",
          "shell.execute_reply.started": "2021-11-03T14:31:27.083597Z"
        },
        "id": "MQVHwhQIbv8M"
      },
      "outputs": [],
      "source": [
        "#we call the tokenizer from the huggingface hub. After that \n",
        "from transformers import AutoTokenizer\n",
        "#complet the code\n",
        "tokenizer = \n"
      ]
    },
    {
      "cell_type": "markdown",
      "metadata": {
        "id": "7zpKFDc_bv8N"
      },
      "source": [
        "The most importants features made during the tokenize step  are 'attention_mask', 'input_ids', 'label', 'token_type_ids'. Now, we don't need the text feature anymore. As a consequence, you could remove the text columns from train_dataset and  test_datasetlater."
      ]
    },
    {
      "cell_type": "markdown",
      "metadata": {
        "id": "sO0GFNivbv8N"
      },
      "source": [
        "5) Call the transformer model paired with the tokenizer. We have to set num_labels=20 since we have 20 classes in the label. This transformer model should be suitable with PyTorch, then we have to use AutoModelForSequenceClassification in this case. Call this transformer model."
      ]
    },
    {
      "cell_type": "code",
      "execution_count": null,
      "metadata": {
        "execution": {
          "iopub.execute_input": "2021-11-03T14:31:42.557295Z",
          "iopub.status.busy": "2021-11-03T14:31:42.556886Z",
          "iopub.status.idle": "2021-11-03T14:32:12.885616Z",
          "shell.execute_reply": "2021-11-03T14:32:12.884424Z",
          "shell.execute_reply.started": "2021-11-03T14:31:42.557256Z"
        },
        "id": "ifpwtnaWbv8O"
      },
      "outputs": [],
      "source": [
        "#we call the transformer model paired with the tokenizer. We have to set num_labels to \n",
        "from transformers import AutoModelForSequenceClassification\n",
        "\n",
        "#complet the code\n",
        "model = "
      ]
    },
    {
      "cell_type": "markdown",
      "metadata": {
        "id": "uksiblwAbv8P"
      },
      "source": [
        "6) The Trainer API uses some training arguments we call with a TrainingArguments object. You can use the default configuration with TrainingArguments(\"test_trainer\"). Else, you can set the following arguments:\n",
        "* num_train_epochs\n",
        "* weight_decay=0.01\n",
        "* load_best_model_at_end"
      ]
    },
    {
      "cell_type": "code",
      "execution_count": null,
      "metadata": {
        "execution": {
          "iopub.execute_input": "2021-11-03T14:32:44.241385Z",
          "iopub.status.busy": "2021-11-03T14:32:44.240966Z",
          "iopub.status.idle": "2021-11-03T14:32:44.29769Z",
          "shell.execute_reply": "2021-11-03T14:32:44.296736Z",
          "shell.execute_reply.started": "2021-11-03T14:32:44.241345Z"
        },
        "id": "1fzZ6FgWbv8P"
      },
      "outputs": [],
      "source": [
        "#we set up the TrainingArguments\n",
        "from transformers import TrainingArguments\n",
        "\n",
        "training_args = "
      ]
    },
    {
      "cell_type": "markdown",
      "metadata": {
        "id": "JUqLvTMebv8Q"
      },
      "source": [
        "7) Call the Trainer API with your model, the arguments you defined in question 6 and train_dataset from question 4. Train your model and test it with test_dataset from question 4."
      ]
    },
    {
      "cell_type": "code",
      "execution_count": null,
      "metadata": {
        "execution": {
          "iopub.execute_input": "2021-11-03T14:32:47.716948Z",
          "iopub.status.busy": "2021-11-03T14:32:47.714135Z",
          "iopub.status.idle": "2021-11-03T15:06:25.546874Z",
          "shell.execute_reply": "2021-11-03T15:06:25.546145Z",
          "shell.execute_reply.started": "2021-11-03T14:32:47.716902Z"
        },
        "id": "OnWywgqXbv8R"
      },
      "outputs": [],
      "source": [
        "from transformers import Trainer\n",
        "\n",
        "#complet the code\n",
        "trainer = \n",
        "\n",
        "#code to train the model\n"
      ]
    },
    {
      "cell_type": "markdown",
      "metadata": {
        "id": "mByLAmFybv8R"
      },
      "source": [
        "8) In this question we test our fine-tune model on a new text. To achieve this purpose, we have to tokenize this new text with the tokenizer we defined in the question 4. After that we have to apply our model to this preprocessed text to get a probability vector modelized stored in a torch.Tensor object."
      ]
    },
    {
      "cell_type": "code",
      "execution_count": null,
      "metadata": {
        "execution": {
          "iopub.execute_input": "2021-11-03T15:11:29.117339Z",
          "iopub.status.busy": "2021-11-03T15:11:29.117076Z",
          "iopub.status.idle": "2021-11-03T15:11:29.12231Z",
          "shell.execute_reply": "2021-11-03T15:11:29.121516Z",
          "shell.execute_reply.started": "2021-11-03T15:11:29.117309Z"
        },
        "id": "aCBvyDgPbv8S"
      },
      "outputs": [],
      "source": [
        "text = \"\"\"\n",
        "The first thing is first. \n",
        "If you purchase a Macbook, you should not encounter performance issues that will prevent you from learning to code efficiently.\n",
        "However, in the off chance that you have to deal with a slow computer, you will need to make some adjustments. \n",
        "Having too many background apps running in the background is one of the most common causes. \n",
        "The same can be said about a lack of drive storage. \n",
        "For that, it helps if you uninstall xcode and other unnecessary applications, as well as temporary system junk like caches and old backups.\n",
        "\"\"\""
      ]
    },
    {
      "cell_type": "code",
      "execution_count": null,
      "metadata": {
        "execution": {
          "iopub.execute_input": "2021-11-03T15:12:19.513513Z",
          "iopub.status.busy": "2021-11-03T15:12:19.513266Z",
          "iopub.status.idle": "2021-11-03T15:12:19.521268Z",
          "shell.execute_reply": "2021-11-03T15:12:19.52051Z",
          "shell.execute_reply.started": "2021-11-03T15:12:19.513485Z"
        },
        "id": "OWjvxTdabv8T"
      },
      "outputs": [],
      "source": [
        "#tokenize this new text \n",
        "token_input = tokenizer(text, padding=\"max_length\", truncation=True,return_tensors=\"pt\").to(\"cuda\")"
      ]
    },
    {
      "cell_type": "markdown",
      "metadata": {
        "id": "Z4e1Eo-Kbv8T"
      },
      "source": [
        "In the above cell we apply the model on the tokenized text and we get a probability vector modelized with a torch.Tensor object "
      ]
    },
    {
      "cell_type": "code",
      "execution_count": null,
      "metadata": {
        "execution": {
          "iopub.execute_input": "2021-11-03T15:14:20.813637Z",
          "iopub.status.busy": "2021-11-03T15:14:20.813361Z",
          "iopub.status.idle": "2021-11-03T15:14:20.848882Z",
          "shell.execute_reply": "2021-11-03T15:14:20.848025Z",
          "shell.execute_reply.started": "2021-11-03T15:14:20.813606Z"
        },
        "id": "EBiETdzVbv8T"
      },
      "outputs": [],
      "source": [
        "probs = model(**token_input)[0].softmax(1)\n",
        "probs,type(probs)"
      ]
    },
    {
      "cell_type": "markdown",
      "metadata": {
        "id": "6hprruiObv8U"
      },
      "source": [
        "Here, we convert the torch.Tensor object into a numpy object. Since the torch.Tensor probe is attached to a cuda device (in fact attached to GPU memory), we path it through the CPU memory and convert it into a numpy object."
      ]
    },
    {
      "cell_type": "code",
      "execution_count": null,
      "metadata": {
        "execution": {
          "iopub.execute_input": "2021-11-03T15:33:33.748205Z",
          "iopub.status.busy": "2021-11-03T15:33:33.747916Z",
          "iopub.status.idle": "2021-11-03T15:33:33.758111Z",
          "shell.execute_reply": "2021-11-03T15:33:33.75722Z",
          "shell.execute_reply.started": "2021-11-03T15:33:33.748175Z"
        },
        "id": "gCiwDI2pbv8V"
      },
      "outputs": [],
      "source": [
        "probs_numpy = probs.cpu().detach().numpy()\n",
        "probs_numpy,type(probs_numpy)"
      ]
    },
    {
      "cell_type": "markdown",
      "metadata": {
        "id": "QumowVK-bv8a"
      },
      "source": [
        "Here, we create a python dictionary to convert an encoded class into a class name."
      ]
    },
    {
      "cell_type": "code",
      "execution_count": null,
      "metadata": {
        "execution": {
          "iopub.execute_input": "2021-11-03T15:47:38.336229Z",
          "iopub.status.busy": "2021-11-03T15:47:38.3356Z",
          "iopub.status.idle": "2021-11-03T15:47:38.342873Z",
          "shell.execute_reply": "2021-11-03T15:47:38.3421Z",
          "shell.execute_reply.started": "2021-11-03T15:47:38.336193Z"
        },
        "id": "VHn9Epcebv8b"
      },
      "outputs": [],
      "source": [
        "encoder_to_class_name = dict(zip(list(range(0,len(dataset_fetch_20newsgroups['target_labels'].unique()))),dataset_fetch_20newsgroups['target_labels'].unique().tolist()))"
      ]
    },
    {
      "cell_type": "markdown",
      "metadata": {
        "id": "23cAglFkbv8b"
      },
      "source": [
        "In a last step, we display the predicted class of the new text. We use the numpy.argmax function."
      ]
    },
    {
      "cell_type": "code",
      "execution_count": null,
      "metadata": {
        "execution": {
          "iopub.execute_input": "2021-11-03T16:04:02.586442Z",
          "iopub.status.busy": "2021-11-03T16:04:02.586185Z",
          "iopub.status.idle": "2021-11-03T16:04:02.594411Z",
          "shell.execute_reply": "2021-11-03T16:04:02.59368Z",
          "shell.execute_reply.started": "2021-11-03T16:04:02.586413Z"
        },
        "id": "HLRUNtw5bv8c"
      },
      "outputs": [],
      "source": [
        "encoder_to_class_name[np.argmax(probs_numpy)]"
      ]
    },
    {
      "cell_type": "markdown",
      "metadata": {
        "id": "YnG8utkDbv8c"
      },
      "source": [
        "9) In this part we explain how to predict the classes of a whole test dataset. A huggingFace PyTorch is GPU-memory consuming. When we want to predict on a whole dataset with it, we have to clean the memory with the gc package (garbage collection).<br><br>\n",
        "In the above cell, we do a loop over the whole dataset.  At each step of this loop we call the tokenizer and the model. At each step of the loop, We also convert a PyTorch tensor object into a numpy array to release some GPU memory.<br><br>\n",
        "**CUDA** (or Compute Unified Device Architecture) is a parallel computing platform and application programming interface (API) that allows software to use certain types of graphics processing unit (GPU) for general purpose processing.<br><br>\n",
        "\n",
        "Y_test_proba in the above cell is a list of numpy probability vectors."
      ]
    },
    {
      "cell_type": "code",
      "execution_count": null,
      "metadata": {
        "execution": {
          "iopub.execute_input": "2021-11-03T16:17:10.821429Z",
          "iopub.status.busy": "2021-11-03T16:17:10.82089Z",
          "iopub.status.idle": "2021-11-03T16:22:31.958444Z",
          "shell.execute_reply": "2021-11-03T16:22:31.957629Z",
          "shell.execute_reply.started": "2021-11-03T16:17:10.82139Z"
        },
        "id": "edj0dVN3bv8d"
      },
      "outputs": [],
      "source": [
        "Y_true = test_dataset['label']\n",
        "Y_test_email = test_dataset['text']\n",
        "\n",
        "import gc\n",
        "\n",
        "Y_test_proba = []\n",
        "\n",
        "for text in test_dataset['text']:\n",
        "    token_output = tokenizer(text, padding=\"max_length\", truncation=True,return_tensors=\"pt\").to(\"cuda\")\n",
        "    Y_test_proba.append(model(**token_output)[0].softmax(1).cpu().detach().numpy())\n",
        "    del token_output\n",
        "    gc.collect()"
      ]
    },
    {
      "cell_type": "code",
      "execution_count": null,
      "metadata": {
        "execution": {
          "iopub.execute_input": "2021-11-03T16:25:58.410135Z",
          "iopub.status.busy": "2021-11-03T16:25:58.409882Z",
          "iopub.status.idle": "2021-11-03T16:25:58.421414Z",
          "shell.execute_reply": "2021-11-03T16:25:58.420702Z",
          "shell.execute_reply.started": "2021-11-03T16:25:58.410105Z"
        },
        "id": "7z4Fkh9bbv8e"
      },
      "outputs": [],
      "source": [
        "import numpy as np\n",
        "y_pred = [np.argmax(vect_proba) for vect_proba in Y_test_proba]"
      ]
    },
    {
      "cell_type": "markdown",
      "metadata": {
        "id": "FT78r-sGbv8f"
      },
      "source": [
        "We comput the accuracy score:"
      ]
    },
    {
      "cell_type": "code",
      "execution_count": null,
      "metadata": {
        "execution": {
          "iopub.execute_input": "2021-11-03T16:26:19.9682Z",
          "iopub.status.busy": "2021-11-03T16:26:19.967949Z",
          "iopub.status.idle": "2021-11-03T16:26:19.979188Z",
          "shell.execute_reply": "2021-11-03T16:26:19.978223Z",
          "shell.execute_reply.started": "2021-11-03T16:26:19.968171Z"
        },
        "id": "_1EfxEbzbv8g"
      },
      "outputs": [],
      "source": [
        "from sklearn.metrics import accuracy_score\n",
        "accuracy_score(Y_true,y_pred)"
      ]
    }
  ],
  "metadata": {
    "kernelspec": {
      "display_name": "Python 3",
      "language": "python",
      "name": "python3"
    },
    "language_info": {
      "codemirror_mode": {
        "name": "ipython",
        "version": 3
      },
      "file_extension": ".py",
      "mimetype": "text/x-python",
      "name": "python",
      "nbconvert_exporter": "python",
      "pygments_lexer": "ipython3",
      "version": "3.9.5"
    },
    "colab": {
      "name": "pytorch-huggingface-transformer.ipynb",
      "provenance": [],
      "include_colab_link": true
    },
    "accelerator": "GPU",
    "gpuClass": "standard",
    "widgets": {
      "application/vnd.jupyter.widget-state+json": {
        "2127abcd6fdf417b85094008cdc3448f": {
          "model_module": "@jupyter-widgets/controls",
          "model_name": "HBoxModel",
          "model_module_version": "1.5.0",
          "state": {
            "_dom_classes": [],
            "_model_module": "@jupyter-widgets/controls",
            "_model_module_version": "1.5.0",
            "_model_name": "HBoxModel",
            "_view_count": null,
            "_view_module": "@jupyter-widgets/controls",
            "_view_module_version": "1.5.0",
            "_view_name": "HBoxView",
            "box_style": "",
            "children": [
              "IPY_MODEL_25db4f8b9a99471bb6bebb2fe0118585",
              "IPY_MODEL_38c43215fef34958ab6398f76fc3b72a",
              "IPY_MODEL_83fc0d6e4d934e8da352a66092d168d6"
            ],
            "layout": "IPY_MODEL_7a2b40743ae74ca78048e47ad5dd7104"
          }
        },
        "25db4f8b9a99471bb6bebb2fe0118585": {
          "model_module": "@jupyter-widgets/controls",
          "model_name": "HTMLModel",
          "model_module_version": "1.5.0",
          "state": {
            "_dom_classes": [],
            "_model_module": "@jupyter-widgets/controls",
            "_model_module_version": "1.5.0",
            "_model_name": "HTMLModel",
            "_view_count": null,
            "_view_module": "@jupyter-widgets/controls",
            "_view_module_version": "1.5.0",
            "_view_name": "HTMLView",
            "description": "",
            "description_tooltip": null,
            "layout": "IPY_MODEL_235ebc6828534abfb1df43d6de767cf8",
            "placeholder": "​",
            "style": "IPY_MODEL_2b8a68ca9c7f4032a33e39a31fc1c60b",
            "value": "100%"
          }
        },
        "38c43215fef34958ab6398f76fc3b72a": {
          "model_module": "@jupyter-widgets/controls",
          "model_name": "FloatProgressModel",
          "model_module_version": "1.5.0",
          "state": {
            "_dom_classes": [],
            "_model_module": "@jupyter-widgets/controls",
            "_model_module_version": "1.5.0",
            "_model_name": "FloatProgressModel",
            "_view_count": null,
            "_view_module": "@jupyter-widgets/controls",
            "_view_module_version": "1.5.0",
            "_view_name": "ProgressView",
            "bar_style": "success",
            "description": "",
            "description_tooltip": null,
            "layout": "IPY_MODEL_4c2f13e776c54e41b0fd142faca71b23",
            "max": 3,
            "min": 0,
            "orientation": "horizontal",
            "style": "IPY_MODEL_fa7ccab82bb94353ae6b886351529fce",
            "value": 3
          }
        },
        "83fc0d6e4d934e8da352a66092d168d6": {
          "model_module": "@jupyter-widgets/controls",
          "model_name": "HTMLModel",
          "model_module_version": "1.5.0",
          "state": {
            "_dom_classes": [],
            "_model_module": "@jupyter-widgets/controls",
            "_model_module_version": "1.5.0",
            "_model_name": "HTMLModel",
            "_view_count": null,
            "_view_module": "@jupyter-widgets/controls",
            "_view_module_version": "1.5.0",
            "_view_name": "HTMLView",
            "description": "",
            "description_tooltip": null,
            "layout": "IPY_MODEL_ed2f8800408c46e39612ad5ac95788ae",
            "placeholder": "​",
            "style": "IPY_MODEL_beb250c3ef3846399eb5b51db8ab4eab",
            "value": " 3/3 [00:02&lt;00:00,  1.40ba/s]"
          }
        },
        "7a2b40743ae74ca78048e47ad5dd7104": {
          "model_module": "@jupyter-widgets/base",
          "model_name": "LayoutModel",
          "model_module_version": "1.2.0",
          "state": {
            "_model_module": "@jupyter-widgets/base",
            "_model_module_version": "1.2.0",
            "_model_name": "LayoutModel",
            "_view_count": null,
            "_view_module": "@jupyter-widgets/base",
            "_view_module_version": "1.2.0",
            "_view_name": "LayoutView",
            "align_content": null,
            "align_items": null,
            "align_self": null,
            "border": null,
            "bottom": null,
            "display": null,
            "flex": null,
            "flex_flow": null,
            "grid_area": null,
            "grid_auto_columns": null,
            "grid_auto_flow": null,
            "grid_auto_rows": null,
            "grid_column": null,
            "grid_gap": null,
            "grid_row": null,
            "grid_template_areas": null,
            "grid_template_columns": null,
            "grid_template_rows": null,
            "height": null,
            "justify_content": null,
            "justify_items": null,
            "left": null,
            "margin": null,
            "max_height": null,
            "max_width": null,
            "min_height": null,
            "min_width": null,
            "object_fit": null,
            "object_position": null,
            "order": null,
            "overflow": null,
            "overflow_x": null,
            "overflow_y": null,
            "padding": null,
            "right": null,
            "top": null,
            "visibility": null,
            "width": null
          }
        },
        "235ebc6828534abfb1df43d6de767cf8": {
          "model_module": "@jupyter-widgets/base",
          "model_name": "LayoutModel",
          "model_module_version": "1.2.0",
          "state": {
            "_model_module": "@jupyter-widgets/base",
            "_model_module_version": "1.2.0",
            "_model_name": "LayoutModel",
            "_view_count": null,
            "_view_module": "@jupyter-widgets/base",
            "_view_module_version": "1.2.0",
            "_view_name": "LayoutView",
            "align_content": null,
            "align_items": null,
            "align_self": null,
            "border": null,
            "bottom": null,
            "display": null,
            "flex": null,
            "flex_flow": null,
            "grid_area": null,
            "grid_auto_columns": null,
            "grid_auto_flow": null,
            "grid_auto_rows": null,
            "grid_column": null,
            "grid_gap": null,
            "grid_row": null,
            "grid_template_areas": null,
            "grid_template_columns": null,
            "grid_template_rows": null,
            "height": null,
            "justify_content": null,
            "justify_items": null,
            "left": null,
            "margin": null,
            "max_height": null,
            "max_width": null,
            "min_height": null,
            "min_width": null,
            "object_fit": null,
            "object_position": null,
            "order": null,
            "overflow": null,
            "overflow_x": null,
            "overflow_y": null,
            "padding": null,
            "right": null,
            "top": null,
            "visibility": null,
            "width": null
          }
        },
        "2b8a68ca9c7f4032a33e39a31fc1c60b": {
          "model_module": "@jupyter-widgets/controls",
          "model_name": "DescriptionStyleModel",
          "model_module_version": "1.5.0",
          "state": {
            "_model_module": "@jupyter-widgets/controls",
            "_model_module_version": "1.5.0",
            "_model_name": "DescriptionStyleModel",
            "_view_count": null,
            "_view_module": "@jupyter-widgets/base",
            "_view_module_version": "1.2.0",
            "_view_name": "StyleView",
            "description_width": ""
          }
        },
        "4c2f13e776c54e41b0fd142faca71b23": {
          "model_module": "@jupyter-widgets/base",
          "model_name": "LayoutModel",
          "model_module_version": "1.2.0",
          "state": {
            "_model_module": "@jupyter-widgets/base",
            "_model_module_version": "1.2.0",
            "_model_name": "LayoutModel",
            "_view_count": null,
            "_view_module": "@jupyter-widgets/base",
            "_view_module_version": "1.2.0",
            "_view_name": "LayoutView",
            "align_content": null,
            "align_items": null,
            "align_self": null,
            "border": null,
            "bottom": null,
            "display": null,
            "flex": null,
            "flex_flow": null,
            "grid_area": null,
            "grid_auto_columns": null,
            "grid_auto_flow": null,
            "grid_auto_rows": null,
            "grid_column": null,
            "grid_gap": null,
            "grid_row": null,
            "grid_template_areas": null,
            "grid_template_columns": null,
            "grid_template_rows": null,
            "height": null,
            "justify_content": null,
            "justify_items": null,
            "left": null,
            "margin": null,
            "max_height": null,
            "max_width": null,
            "min_height": null,
            "min_width": null,
            "object_fit": null,
            "object_position": null,
            "order": null,
            "overflow": null,
            "overflow_x": null,
            "overflow_y": null,
            "padding": null,
            "right": null,
            "top": null,
            "visibility": null,
            "width": null
          }
        },
        "fa7ccab82bb94353ae6b886351529fce": {
          "model_module": "@jupyter-widgets/controls",
          "model_name": "ProgressStyleModel",
          "model_module_version": "1.5.0",
          "state": {
            "_model_module": "@jupyter-widgets/controls",
            "_model_module_version": "1.5.0",
            "_model_name": "ProgressStyleModel",
            "_view_count": null,
            "_view_module": "@jupyter-widgets/base",
            "_view_module_version": "1.2.0",
            "_view_name": "StyleView",
            "bar_color": null,
            "description_width": ""
          }
        },
        "ed2f8800408c46e39612ad5ac95788ae": {
          "model_module": "@jupyter-widgets/base",
          "model_name": "LayoutModel",
          "model_module_version": "1.2.0",
          "state": {
            "_model_module": "@jupyter-widgets/base",
            "_model_module_version": "1.2.0",
            "_model_name": "LayoutModel",
            "_view_count": null,
            "_view_module": "@jupyter-widgets/base",
            "_view_module_version": "1.2.0",
            "_view_name": "LayoutView",
            "align_content": null,
            "align_items": null,
            "align_self": null,
            "border": null,
            "bottom": null,
            "display": null,
            "flex": null,
            "flex_flow": null,
            "grid_area": null,
            "grid_auto_columns": null,
            "grid_auto_flow": null,
            "grid_auto_rows": null,
            "grid_column": null,
            "grid_gap": null,
            "grid_row": null,
            "grid_template_areas": null,
            "grid_template_columns": null,
            "grid_template_rows": null,
            "height": null,
            "justify_content": null,
            "justify_items": null,
            "left": null,
            "margin": null,
            "max_height": null,
            "max_width": null,
            "min_height": null,
            "min_width": null,
            "object_fit": null,
            "object_position": null,
            "order": null,
            "overflow": null,
            "overflow_x": null,
            "overflow_y": null,
            "padding": null,
            "right": null,
            "top": null,
            "visibility": null,
            "width": null
          }
        },
        "beb250c3ef3846399eb5b51db8ab4eab": {
          "model_module": "@jupyter-widgets/controls",
          "model_name": "DescriptionStyleModel",
          "model_module_version": "1.5.0",
          "state": {
            "_model_module": "@jupyter-widgets/controls",
            "_model_module_version": "1.5.0",
            "_model_name": "DescriptionStyleModel",
            "_view_count": null,
            "_view_module": "@jupyter-widgets/base",
            "_view_module_version": "1.2.0",
            "_view_name": "StyleView",
            "description_width": ""
          }
        },
        "d8d9b985fa424c828f7f1bd33d84b902": {
          "model_module": "@jupyter-widgets/controls",
          "model_name": "HBoxModel",
          "model_module_version": "1.5.0",
          "state": {
            "_dom_classes": [],
            "_model_module": "@jupyter-widgets/controls",
            "_model_module_version": "1.5.0",
            "_model_name": "HBoxModel",
            "_view_count": null,
            "_view_module": "@jupyter-widgets/controls",
            "_view_module_version": "1.5.0",
            "_view_name": "HBoxView",
            "box_style": "",
            "children": [
              "IPY_MODEL_0586bd427214494388f412dfabf9a05c",
              "IPY_MODEL_98465d9743534454b46b2a1c443efef3",
              "IPY_MODEL_09ee7d826f684580b8877ee3b23799bd"
            ],
            "layout": "IPY_MODEL_f1066cc099e64205a7ed8dcc4b34cb26"
          }
        },
        "0586bd427214494388f412dfabf9a05c": {
          "model_module": "@jupyter-widgets/controls",
          "model_name": "HTMLModel",
          "model_module_version": "1.5.0",
          "state": {
            "_dom_classes": [],
            "_model_module": "@jupyter-widgets/controls",
            "_model_module_version": "1.5.0",
            "_model_name": "HTMLModel",
            "_view_count": null,
            "_view_module": "@jupyter-widgets/controls",
            "_view_module_version": "1.5.0",
            "_view_name": "HTMLView",
            "description": "",
            "description_tooltip": null,
            "layout": "IPY_MODEL_3eeed9166017490894b7977ee4edb050",
            "placeholder": "​",
            "style": "IPY_MODEL_835772ad50f345af8f183d959e143f02",
            "value": "100%"
          }
        },
        "98465d9743534454b46b2a1c443efef3": {
          "model_module": "@jupyter-widgets/controls",
          "model_name": "FloatProgressModel",
          "model_module_version": "1.5.0",
          "state": {
            "_dom_classes": [],
            "_model_module": "@jupyter-widgets/controls",
            "_model_module_version": "1.5.0",
            "_model_name": "FloatProgressModel",
            "_view_count": null,
            "_view_module": "@jupyter-widgets/controls",
            "_view_module_version": "1.5.0",
            "_view_name": "ProgressView",
            "bar_style": "success",
            "description": "",
            "description_tooltip": null,
            "layout": "IPY_MODEL_eb228f9e1db140ed8d93ba0e14c952ca",
            "max": 1,
            "min": 0,
            "orientation": "horizontal",
            "style": "IPY_MODEL_d8a93502512940249db69ed5e0ef5e45",
            "value": 1
          }
        },
        "09ee7d826f684580b8877ee3b23799bd": {
          "model_module": "@jupyter-widgets/controls",
          "model_name": "HTMLModel",
          "model_module_version": "1.5.0",
          "state": {
            "_dom_classes": [],
            "_model_module": "@jupyter-widgets/controls",
            "_model_module_version": "1.5.0",
            "_model_name": "HTMLModel",
            "_view_count": null,
            "_view_module": "@jupyter-widgets/controls",
            "_view_module_version": "1.5.0",
            "_view_name": "HTMLView",
            "description": "",
            "description_tooltip": null,
            "layout": "IPY_MODEL_5813f9b5a7e54a8399faa4228859b029",
            "placeholder": "​",
            "style": "IPY_MODEL_1493a385de024795a489a7d35f0e7353",
            "value": " 1/1 [00:00&lt;00:00,  2.44ba/s]"
          }
        },
        "f1066cc099e64205a7ed8dcc4b34cb26": {
          "model_module": "@jupyter-widgets/base",
          "model_name": "LayoutModel",
          "model_module_version": "1.2.0",
          "state": {
            "_model_module": "@jupyter-widgets/base",
            "_model_module_version": "1.2.0",
            "_model_name": "LayoutModel",
            "_view_count": null,
            "_view_module": "@jupyter-widgets/base",
            "_view_module_version": "1.2.0",
            "_view_name": "LayoutView",
            "align_content": null,
            "align_items": null,
            "align_self": null,
            "border": null,
            "bottom": null,
            "display": null,
            "flex": null,
            "flex_flow": null,
            "grid_area": null,
            "grid_auto_columns": null,
            "grid_auto_flow": null,
            "grid_auto_rows": null,
            "grid_column": null,
            "grid_gap": null,
            "grid_row": null,
            "grid_template_areas": null,
            "grid_template_columns": null,
            "grid_template_rows": null,
            "height": null,
            "justify_content": null,
            "justify_items": null,
            "left": null,
            "margin": null,
            "max_height": null,
            "max_width": null,
            "min_height": null,
            "min_width": null,
            "object_fit": null,
            "object_position": null,
            "order": null,
            "overflow": null,
            "overflow_x": null,
            "overflow_y": null,
            "padding": null,
            "right": null,
            "top": null,
            "visibility": null,
            "width": null
          }
        },
        "3eeed9166017490894b7977ee4edb050": {
          "model_module": "@jupyter-widgets/base",
          "model_name": "LayoutModel",
          "model_module_version": "1.2.0",
          "state": {
            "_model_module": "@jupyter-widgets/base",
            "_model_module_version": "1.2.0",
            "_model_name": "LayoutModel",
            "_view_count": null,
            "_view_module": "@jupyter-widgets/base",
            "_view_module_version": "1.2.0",
            "_view_name": "LayoutView",
            "align_content": null,
            "align_items": null,
            "align_self": null,
            "border": null,
            "bottom": null,
            "display": null,
            "flex": null,
            "flex_flow": null,
            "grid_area": null,
            "grid_auto_columns": null,
            "grid_auto_flow": null,
            "grid_auto_rows": null,
            "grid_column": null,
            "grid_gap": null,
            "grid_row": null,
            "grid_template_areas": null,
            "grid_template_columns": null,
            "grid_template_rows": null,
            "height": null,
            "justify_content": null,
            "justify_items": null,
            "left": null,
            "margin": null,
            "max_height": null,
            "max_width": null,
            "min_height": null,
            "min_width": null,
            "object_fit": null,
            "object_position": null,
            "order": null,
            "overflow": null,
            "overflow_x": null,
            "overflow_y": null,
            "padding": null,
            "right": null,
            "top": null,
            "visibility": null,
            "width": null
          }
        },
        "835772ad50f345af8f183d959e143f02": {
          "model_module": "@jupyter-widgets/controls",
          "model_name": "DescriptionStyleModel",
          "model_module_version": "1.5.0",
          "state": {
            "_model_module": "@jupyter-widgets/controls",
            "_model_module_version": "1.5.0",
            "_model_name": "DescriptionStyleModel",
            "_view_count": null,
            "_view_module": "@jupyter-widgets/base",
            "_view_module_version": "1.2.0",
            "_view_name": "StyleView",
            "description_width": ""
          }
        },
        "eb228f9e1db140ed8d93ba0e14c952ca": {
          "model_module": "@jupyter-widgets/base",
          "model_name": "LayoutModel",
          "model_module_version": "1.2.0",
          "state": {
            "_model_module": "@jupyter-widgets/base",
            "_model_module_version": "1.2.0",
            "_model_name": "LayoutModel",
            "_view_count": null,
            "_view_module": "@jupyter-widgets/base",
            "_view_module_version": "1.2.0",
            "_view_name": "LayoutView",
            "align_content": null,
            "align_items": null,
            "align_self": null,
            "border": null,
            "bottom": null,
            "display": null,
            "flex": null,
            "flex_flow": null,
            "grid_area": null,
            "grid_auto_columns": null,
            "grid_auto_flow": null,
            "grid_auto_rows": null,
            "grid_column": null,
            "grid_gap": null,
            "grid_row": null,
            "grid_template_areas": null,
            "grid_template_columns": null,
            "grid_template_rows": null,
            "height": null,
            "justify_content": null,
            "justify_items": null,
            "left": null,
            "margin": null,
            "max_height": null,
            "max_width": null,
            "min_height": null,
            "min_width": null,
            "object_fit": null,
            "object_position": null,
            "order": null,
            "overflow": null,
            "overflow_x": null,
            "overflow_y": null,
            "padding": null,
            "right": null,
            "top": null,
            "visibility": null,
            "width": null
          }
        },
        "d8a93502512940249db69ed5e0ef5e45": {
          "model_module": "@jupyter-widgets/controls",
          "model_name": "ProgressStyleModel",
          "model_module_version": "1.5.0",
          "state": {
            "_model_module": "@jupyter-widgets/controls",
            "_model_module_version": "1.5.0",
            "_model_name": "ProgressStyleModel",
            "_view_count": null,
            "_view_module": "@jupyter-widgets/base",
            "_view_module_version": "1.2.0",
            "_view_name": "StyleView",
            "bar_color": null,
            "description_width": ""
          }
        },
        "5813f9b5a7e54a8399faa4228859b029": {
          "model_module": "@jupyter-widgets/base",
          "model_name": "LayoutModel",
          "model_module_version": "1.2.0",
          "state": {
            "_model_module": "@jupyter-widgets/base",
            "_model_module_version": "1.2.0",
            "_model_name": "LayoutModel",
            "_view_count": null,
            "_view_module": "@jupyter-widgets/base",
            "_view_module_version": "1.2.0",
            "_view_name": "LayoutView",
            "align_content": null,
            "align_items": null,
            "align_self": null,
            "border": null,
            "bottom": null,
            "display": null,
            "flex": null,
            "flex_flow": null,
            "grid_area": null,
            "grid_auto_columns": null,
            "grid_auto_flow": null,
            "grid_auto_rows": null,
            "grid_column": null,
            "grid_gap": null,
            "grid_row": null,
            "grid_template_areas": null,
            "grid_template_columns": null,
            "grid_template_rows": null,
            "height": null,
            "justify_content": null,
            "justify_items": null,
            "left": null,
            "margin": null,
            "max_height": null,
            "max_width": null,
            "min_height": null,
            "min_width": null,
            "object_fit": null,
            "object_position": null,
            "order": null,
            "overflow": null,
            "overflow_x": null,
            "overflow_y": null,
            "padding": null,
            "right": null,
            "top": null,
            "visibility": null,
            "width": null
          }
        },
        "1493a385de024795a489a7d35f0e7353": {
          "model_module": "@jupyter-widgets/controls",
          "model_name": "DescriptionStyleModel",
          "model_module_version": "1.5.0",
          "state": {
            "_model_module": "@jupyter-widgets/controls",
            "_model_module_version": "1.5.0",
            "_model_name": "DescriptionStyleModel",
            "_view_count": null,
            "_view_module": "@jupyter-widgets/base",
            "_view_module_version": "1.2.0",
            "_view_name": "StyleView",
            "description_width": ""
          }
        },
        "44e7ccffdda84816abe42d35d8bdf080": {
          "model_module": "@jupyter-widgets/controls",
          "model_name": "HBoxModel",
          "model_module_version": "1.5.0",
          "state": {
            "_dom_classes": [],
            "_model_module": "@jupyter-widgets/controls",
            "_model_module_version": "1.5.0",
            "_model_name": "HBoxModel",
            "_view_count": null,
            "_view_module": "@jupyter-widgets/controls",
            "_view_module_version": "1.5.0",
            "_view_name": "HBoxView",
            "box_style": "",
            "children": [
              "IPY_MODEL_a22c1ddc3145456e9a93293c67dab479",
              "IPY_MODEL_42ba065df358472e85606e656746f10f",
              "IPY_MODEL_ed40bcb1c9d4491d8a83f8f9067c9abe"
            ],
            "layout": "IPY_MODEL_3e98bc7c8c0c4f63b1996fbbf92778da"
          }
        },
        "a22c1ddc3145456e9a93293c67dab479": {
          "model_module": "@jupyter-widgets/controls",
          "model_name": "HTMLModel",
          "model_module_version": "1.5.0",
          "state": {
            "_dom_classes": [],
            "_model_module": "@jupyter-widgets/controls",
            "_model_module_version": "1.5.0",
            "_model_name": "HTMLModel",
            "_view_count": null,
            "_view_module": "@jupyter-widgets/controls",
            "_view_module_version": "1.5.0",
            "_view_name": "HTMLView",
            "description": "",
            "description_tooltip": null,
            "layout": "IPY_MODEL_c918f1e0065046f9bc4298741a660468",
            "placeholder": "​",
            "style": "IPY_MODEL_d9e21e1cf2304790bd8cb2801bbd773d",
            "value": "Downloading: 100%"
          }
        },
        "42ba065df358472e85606e656746f10f": {
          "model_module": "@jupyter-widgets/controls",
          "model_name": "FloatProgressModel",
          "model_module_version": "1.5.0",
          "state": {
            "_dom_classes": [],
            "_model_module": "@jupyter-widgets/controls",
            "_model_module_version": "1.5.0",
            "_model_name": "FloatProgressModel",
            "_view_count": null,
            "_view_module": "@jupyter-widgets/controls",
            "_view_module_version": "1.5.0",
            "_view_name": "ProgressView",
            "bar_style": "success",
            "description": "",
            "description_tooltip": null,
            "layout": "IPY_MODEL_28b1352ae7ea4bccad810542f0a2edd8",
            "max": 435779157,
            "min": 0,
            "orientation": "horizontal",
            "style": "IPY_MODEL_9f25cd5dd84141b1bc98a2c04ca32cf9",
            "value": 435779157
          }
        },
        "ed40bcb1c9d4491d8a83f8f9067c9abe": {
          "model_module": "@jupyter-widgets/controls",
          "model_name": "HTMLModel",
          "model_module_version": "1.5.0",
          "state": {
            "_dom_classes": [],
            "_model_module": "@jupyter-widgets/controls",
            "_model_module_version": "1.5.0",
            "_model_name": "HTMLModel",
            "_view_count": null,
            "_view_module": "@jupyter-widgets/controls",
            "_view_module_version": "1.5.0",
            "_view_name": "HTMLView",
            "description": "",
            "description_tooltip": null,
            "layout": "IPY_MODEL_49537d911ddf4c08959b72cfa5748b5a",
            "placeholder": "​",
            "style": "IPY_MODEL_7d10cedce45140768159a6d0cec6d9c2",
            "value": " 436M/436M [00:05&lt;00:00, 75.3MB/s]"
          }
        },
        "3e98bc7c8c0c4f63b1996fbbf92778da": {
          "model_module": "@jupyter-widgets/base",
          "model_name": "LayoutModel",
          "model_module_version": "1.2.0",
          "state": {
            "_model_module": "@jupyter-widgets/base",
            "_model_module_version": "1.2.0",
            "_model_name": "LayoutModel",
            "_view_count": null,
            "_view_module": "@jupyter-widgets/base",
            "_view_module_version": "1.2.0",
            "_view_name": "LayoutView",
            "align_content": null,
            "align_items": null,
            "align_self": null,
            "border": null,
            "bottom": null,
            "display": null,
            "flex": null,
            "flex_flow": null,
            "grid_area": null,
            "grid_auto_columns": null,
            "grid_auto_flow": null,
            "grid_auto_rows": null,
            "grid_column": null,
            "grid_gap": null,
            "grid_row": null,
            "grid_template_areas": null,
            "grid_template_columns": null,
            "grid_template_rows": null,
            "height": null,
            "justify_content": null,
            "justify_items": null,
            "left": null,
            "margin": null,
            "max_height": null,
            "max_width": null,
            "min_height": null,
            "min_width": null,
            "object_fit": null,
            "object_position": null,
            "order": null,
            "overflow": null,
            "overflow_x": null,
            "overflow_y": null,
            "padding": null,
            "right": null,
            "top": null,
            "visibility": null,
            "width": null
          }
        },
        "c918f1e0065046f9bc4298741a660468": {
          "model_module": "@jupyter-widgets/base",
          "model_name": "LayoutModel",
          "model_module_version": "1.2.0",
          "state": {
            "_model_module": "@jupyter-widgets/base",
            "_model_module_version": "1.2.0",
            "_model_name": "LayoutModel",
            "_view_count": null,
            "_view_module": "@jupyter-widgets/base",
            "_view_module_version": "1.2.0",
            "_view_name": "LayoutView",
            "align_content": null,
            "align_items": null,
            "align_self": null,
            "border": null,
            "bottom": null,
            "display": null,
            "flex": null,
            "flex_flow": null,
            "grid_area": null,
            "grid_auto_columns": null,
            "grid_auto_flow": null,
            "grid_auto_rows": null,
            "grid_column": null,
            "grid_gap": null,
            "grid_row": null,
            "grid_template_areas": null,
            "grid_template_columns": null,
            "grid_template_rows": null,
            "height": null,
            "justify_content": null,
            "justify_items": null,
            "left": null,
            "margin": null,
            "max_height": null,
            "max_width": null,
            "min_height": null,
            "min_width": null,
            "object_fit": null,
            "object_position": null,
            "order": null,
            "overflow": null,
            "overflow_x": null,
            "overflow_y": null,
            "padding": null,
            "right": null,
            "top": null,
            "visibility": null,
            "width": null
          }
        },
        "d9e21e1cf2304790bd8cb2801bbd773d": {
          "model_module": "@jupyter-widgets/controls",
          "model_name": "DescriptionStyleModel",
          "model_module_version": "1.5.0",
          "state": {
            "_model_module": "@jupyter-widgets/controls",
            "_model_module_version": "1.5.0",
            "_model_name": "DescriptionStyleModel",
            "_view_count": null,
            "_view_module": "@jupyter-widgets/base",
            "_view_module_version": "1.2.0",
            "_view_name": "StyleView",
            "description_width": ""
          }
        },
        "28b1352ae7ea4bccad810542f0a2edd8": {
          "model_module": "@jupyter-widgets/base",
          "model_name": "LayoutModel",
          "model_module_version": "1.2.0",
          "state": {
            "_model_module": "@jupyter-widgets/base",
            "_model_module_version": "1.2.0",
            "_model_name": "LayoutModel",
            "_view_count": null,
            "_view_module": "@jupyter-widgets/base",
            "_view_module_version": "1.2.0",
            "_view_name": "LayoutView",
            "align_content": null,
            "align_items": null,
            "align_self": null,
            "border": null,
            "bottom": null,
            "display": null,
            "flex": null,
            "flex_flow": null,
            "grid_area": null,
            "grid_auto_columns": null,
            "grid_auto_flow": null,
            "grid_auto_rows": null,
            "grid_column": null,
            "grid_gap": null,
            "grid_row": null,
            "grid_template_areas": null,
            "grid_template_columns": null,
            "grid_template_rows": null,
            "height": null,
            "justify_content": null,
            "justify_items": null,
            "left": null,
            "margin": null,
            "max_height": null,
            "max_width": null,
            "min_height": null,
            "min_width": null,
            "object_fit": null,
            "object_position": null,
            "order": null,
            "overflow": null,
            "overflow_x": null,
            "overflow_y": null,
            "padding": null,
            "right": null,
            "top": null,
            "visibility": null,
            "width": null
          }
        },
        "9f25cd5dd84141b1bc98a2c04ca32cf9": {
          "model_module": "@jupyter-widgets/controls",
          "model_name": "ProgressStyleModel",
          "model_module_version": "1.5.0",
          "state": {
            "_model_module": "@jupyter-widgets/controls",
            "_model_module_version": "1.5.0",
            "_model_name": "ProgressStyleModel",
            "_view_count": null,
            "_view_module": "@jupyter-widgets/base",
            "_view_module_version": "1.2.0",
            "_view_name": "StyleView",
            "bar_color": null,
            "description_width": ""
          }
        },
        "49537d911ddf4c08959b72cfa5748b5a": {
          "model_module": "@jupyter-widgets/base",
          "model_name": "LayoutModel",
          "model_module_version": "1.2.0",
          "state": {
            "_model_module": "@jupyter-widgets/base",
            "_model_module_version": "1.2.0",
            "_model_name": "LayoutModel",
            "_view_count": null,
            "_view_module": "@jupyter-widgets/base",
            "_view_module_version": "1.2.0",
            "_view_name": "LayoutView",
            "align_content": null,
            "align_items": null,
            "align_self": null,
            "border": null,
            "bottom": null,
            "display": null,
            "flex": null,
            "flex_flow": null,
            "grid_area": null,
            "grid_auto_columns": null,
            "grid_auto_flow": null,
            "grid_auto_rows": null,
            "grid_column": null,
            "grid_gap": null,
            "grid_row": null,
            "grid_template_areas": null,
            "grid_template_columns": null,
            "grid_template_rows": null,
            "height": null,
            "justify_content": null,
            "justify_items": null,
            "left": null,
            "margin": null,
            "max_height": null,
            "max_width": null,
            "min_height": null,
            "min_width": null,
            "object_fit": null,
            "object_position": null,
            "order": null,
            "overflow": null,
            "overflow_x": null,
            "overflow_y": null,
            "padding": null,
            "right": null,
            "top": null,
            "visibility": null,
            "width": null
          }
        },
        "7d10cedce45140768159a6d0cec6d9c2": {
          "model_module": "@jupyter-widgets/controls",
          "model_name": "DescriptionStyleModel",
          "model_module_version": "1.5.0",
          "state": {
            "_model_module": "@jupyter-widgets/controls",
            "_model_module_version": "1.5.0",
            "_model_name": "DescriptionStyleModel",
            "_view_count": null,
            "_view_module": "@jupyter-widgets/base",
            "_view_module_version": "1.2.0",
            "_view_name": "StyleView",
            "description_width": ""
          }
        }
      }
    }
  },
  "nbformat": 4,
  "nbformat_minor": 0
}