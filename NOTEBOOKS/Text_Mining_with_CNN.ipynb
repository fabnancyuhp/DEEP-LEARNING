{
  "metadata": {
    "kernelspec": {
      "language": "python",
      "display_name": "Python 3",
      "name": "python3"
    },
    "language_info": {
      "pygments_lexer": "ipython3",
      "nbconvert_exporter": "python",
      "version": "3.6.4",
      "file_extension": ".py",
      "codemirror_mode": {
        "name": "ipython",
        "version": 3
      },
      "name": "python",
      "mimetype": "text/x-python"
    },
    "colab": {
      "name": "Text-Mining-with-CNN.ipynb",
      "provenance": [],
      "include_colab_link": true
    },
    "accelerator": "GPU"
  },
  "nbformat_minor": 0,
  "nbformat": 4,
  "cells": [
    {
      "cell_type": "markdown",
      "metadata": {
        "id": "view-in-github",
        "colab_type": "text"
      },
      "source": [
        "<a href=\"https://colab.research.google.com/github/fabnancyuhp/DEEP-LEARNING/blob/main/NOTEBOOKS/Text_Mining_with_CNN.ipynb\" target=\"_parent\"><img src=\"https://colab.research.google.com/assets/colab-badge.svg\" alt=\"Open In Colab\"/></a>"
      ]
    },
    {
      "cell_type": "markdown",
      "source": [
        "\n",
        "In this notebook, we solve some text mining problem with Convolutional Neural Networks. In the context of text mining CNN are made of the following layers:\n",
        "* conv1 Convolutional Layer\n",
        "* pool1 Pooling Layer\n",
        "* Embedding\n",
        "* Dense : Fully Connected Layer"
      ],
      "metadata": {
        "id": "o6Oa3nz6jRPJ"
      }
    },
    {
      "cell_type": "markdown",
      "source": [
        "# Sentiments prediction of movie reviews with a CNN\n",
        "In this case, we use a CNN to learn and predict whether a movie review is positive or negative. We first import the dataset in the cell below"
      ],
      "metadata": {
        "execution": {
          "iopub.status.busy": "2021-11-28T09:54:54.085226Z",
          "iopub.execute_input": "2021-11-28T09:54:54.086249Z",
          "iopub.status.idle": "2021-11-28T09:55:01.990562Z",
          "shell.execute_reply.started": "2021-11-28T09:54:54.086175Z",
          "shell.execute_reply": "2021-11-28T09:55:01.989414Z"
        },
        "id": "7DMZNEg3jRPU"
      }
    },
    {
      "cell_type": "code",
      "source": [
        "#IMBD.to_pickle(\"./IMBD.pkl\",compression='bz2')\n",
        "import pandas as pd\n",
        "#file = \"https://raw.githubusercontent.com/fabnancyuhp/DEEP-LEARNING/main/DATA/IMDB.pkl\"\n",
        "file = \"https://raw.githubusercontent.com/fabnancyuhp/DEEP-LEARNING/main/DATA/IMBD.parquet\"\n",
        "#IMDB = pd.read_pickle(file,compression='bz2')\n",
        "IMDB = pd.read_parquet(file)\n",
        "IMDB.head(4)"
      ],
      "metadata": {
        "execution": {
          "iopub.status.busy": "2021-12-01T08:08:00.911586Z",
          "iopub.execute_input": "2021-12-01T08:08:00.911825Z",
          "iopub.status.idle": "2021-12-01T08:08:04.499239Z",
          "shell.execute_reply.started": "2021-12-01T08:08:00.911793Z",
          "shell.execute_reply": "2021-12-01T08:08:04.498558Z"
        },
        "trusted": true,
        "colab": {
          "base_uri": "https://localhost:8080/",
          "height": 175
        },
        "id": "GF7jFKyRjRPX",
        "outputId": "dd5e20c4-cfb1-4086-86eb-1e4741ff66b0"
      },
      "execution_count": 1,
      "outputs": [
        {
          "output_type": "execute_result",
          "data": {
            "text/plain": [
              "                                                  review sentiment\n",
              "36191  If you like stupid jokes and a terribly predic...  negative\n",
              "28616  Three young movie theater employees are given ...  negative\n",
              "18130  The best bond game made of all systems. It was...  positive\n",
              "29373  Nicolas Roeg ? He directed the classic superna...  negative"
            ],
            "text/html": [
              "\n",
              "  <div id=\"df-2902c178-60a3-44f9-8c98-3639cdcea28d\">\n",
              "    <div class=\"colab-df-container\">\n",
              "      <div>\n",
              "<style scoped>\n",
              "    .dataframe tbody tr th:only-of-type {\n",
              "        vertical-align: middle;\n",
              "    }\n",
              "\n",
              "    .dataframe tbody tr th {\n",
              "        vertical-align: top;\n",
              "    }\n",
              "\n",
              "    .dataframe thead th {\n",
              "        text-align: right;\n",
              "    }\n",
              "</style>\n",
              "<table border=\"1\" class=\"dataframe\">\n",
              "  <thead>\n",
              "    <tr style=\"text-align: right;\">\n",
              "      <th></th>\n",
              "      <th>review</th>\n",
              "      <th>sentiment</th>\n",
              "    </tr>\n",
              "  </thead>\n",
              "  <tbody>\n",
              "    <tr>\n",
              "      <th>36191</th>\n",
              "      <td>If you like stupid jokes and a terribly predic...</td>\n",
              "      <td>negative</td>\n",
              "    </tr>\n",
              "    <tr>\n",
              "      <th>28616</th>\n",
              "      <td>Three young movie theater employees are given ...</td>\n",
              "      <td>negative</td>\n",
              "    </tr>\n",
              "    <tr>\n",
              "      <th>18130</th>\n",
              "      <td>The best bond game made of all systems. It was...</td>\n",
              "      <td>positive</td>\n",
              "    </tr>\n",
              "    <tr>\n",
              "      <th>29373</th>\n",
              "      <td>Nicolas Roeg ? He directed the classic superna...</td>\n",
              "      <td>negative</td>\n",
              "    </tr>\n",
              "  </tbody>\n",
              "</table>\n",
              "</div>\n",
              "      <button class=\"colab-df-convert\" onclick=\"convertToInteractive('df-2902c178-60a3-44f9-8c98-3639cdcea28d')\"\n",
              "              title=\"Convert this dataframe to an interactive table.\"\n",
              "              style=\"display:none;\">\n",
              "        \n",
              "  <svg xmlns=\"http://www.w3.org/2000/svg\" height=\"24px\"viewBox=\"0 0 24 24\"\n",
              "       width=\"24px\">\n",
              "    <path d=\"M0 0h24v24H0V0z\" fill=\"none\"/>\n",
              "    <path d=\"M18.56 5.44l.94 2.06.94-2.06 2.06-.94-2.06-.94-.94-2.06-.94 2.06-2.06.94zm-11 1L8.5 8.5l.94-2.06 2.06-.94-2.06-.94L8.5 2.5l-.94 2.06-2.06.94zm10 10l.94 2.06.94-2.06 2.06-.94-2.06-.94-.94-2.06-.94 2.06-2.06.94z\"/><path d=\"M17.41 7.96l-1.37-1.37c-.4-.4-.92-.59-1.43-.59-.52 0-1.04.2-1.43.59L10.3 9.45l-7.72 7.72c-.78.78-.78 2.05 0 2.83L4 21.41c.39.39.9.59 1.41.59.51 0 1.02-.2 1.41-.59l7.78-7.78 2.81-2.81c.8-.78.8-2.07 0-2.86zM5.41 20L4 18.59l7.72-7.72 1.47 1.35L5.41 20z\"/>\n",
              "  </svg>\n",
              "      </button>\n",
              "      \n",
              "  <style>\n",
              "    .colab-df-container {\n",
              "      display:flex;\n",
              "      flex-wrap:wrap;\n",
              "      gap: 12px;\n",
              "    }\n",
              "\n",
              "    .colab-df-convert {\n",
              "      background-color: #E8F0FE;\n",
              "      border: none;\n",
              "      border-radius: 50%;\n",
              "      cursor: pointer;\n",
              "      display: none;\n",
              "      fill: #1967D2;\n",
              "      height: 32px;\n",
              "      padding: 0 0 0 0;\n",
              "      width: 32px;\n",
              "    }\n",
              "\n",
              "    .colab-df-convert:hover {\n",
              "      background-color: #E2EBFA;\n",
              "      box-shadow: 0px 1px 2px rgba(60, 64, 67, 0.3), 0px 1px 3px 1px rgba(60, 64, 67, 0.15);\n",
              "      fill: #174EA6;\n",
              "    }\n",
              "\n",
              "    [theme=dark] .colab-df-convert {\n",
              "      background-color: #3B4455;\n",
              "      fill: #D2E3FC;\n",
              "    }\n",
              "\n",
              "    [theme=dark] .colab-df-convert:hover {\n",
              "      background-color: #434B5C;\n",
              "      box-shadow: 0px 1px 3px 1px rgba(0, 0, 0, 0.15);\n",
              "      filter: drop-shadow(0px 1px 2px rgba(0, 0, 0, 0.3));\n",
              "      fill: #FFFFFF;\n",
              "    }\n",
              "  </style>\n",
              "\n",
              "      <script>\n",
              "        const buttonEl =\n",
              "          document.querySelector('#df-2902c178-60a3-44f9-8c98-3639cdcea28d button.colab-df-convert');\n",
              "        buttonEl.style.display =\n",
              "          google.colab.kernel.accessAllowed ? 'block' : 'none';\n",
              "\n",
              "        async function convertToInteractive(key) {\n",
              "          const element = document.querySelector('#df-2902c178-60a3-44f9-8c98-3639cdcea28d');\n",
              "          const dataTable =\n",
              "            await google.colab.kernel.invokeFunction('convertToInteractive',\n",
              "                                                     [key], {});\n",
              "          if (!dataTable) return;\n",
              "\n",
              "          const docLinkHtml = 'Like what you see? Visit the ' +\n",
              "            '<a target=\"_blank\" href=https://colab.research.google.com/notebooks/data_table.ipynb>data table notebook</a>'\n",
              "            + ' to learn more about interactive tables.';\n",
              "          element.innerHTML = '';\n",
              "          dataTable['output_type'] = 'display_data';\n",
              "          await google.colab.output.renderOutput(dataTable, element);\n",
              "          const docLink = document.createElement('div');\n",
              "          docLink.innerHTML = docLinkHtml;\n",
              "          element.appendChild(docLink);\n",
              "        }\n",
              "      </script>\n",
              "    </div>\n",
              "  </div>\n",
              "  "
            ]
          },
          "metadata": {},
          "execution_count": 1
        }
      ]
    },
    {
      "cell_type": "code",
      "source": [
        "!python --version"
      ],
      "metadata": {
        "colab": {
          "base_uri": "https://localhost:8080/"
        },
        "id": "p32XsnKiXguc",
        "outputId": "54202098-913c-4036-e4e6-9dcfbdf42888"
      },
      "execution_count": null,
      "outputs": [
        {
          "output_type": "stream",
          "name": "stdout",
          "text": [
            "Python 3.7.12\n"
          ]
        }
      ]
    },
    {
      "cell_type": "markdown",
      "source": [
        "We randomly choose a review and display it."
      ],
      "metadata": {
        "id": "qFT1x8aOfokY"
      }
    },
    {
      "cell_type": "code",
      "source": [
        "import numpy as np\n",
        "np.random.randint(0,IMDB.shape[0])\n",
        "IMDB.iloc[np.random.randint(0,IMDB.shape[0]),:].values"
      ],
      "metadata": {
        "execution": {
          "iopub.status.busy": "2021-11-30T15:40:28.234639Z",
          "iopub.execute_input": "2021-11-30T15:40:28.234932Z",
          "iopub.status.idle": "2021-11-30T15:40:28.241948Z",
          "shell.execute_reply.started": "2021-11-30T15:40:28.234897Z",
          "shell.execute_reply": "2021-11-30T15:40:28.24131Z"
        },
        "trusted": true,
        "colab": {
          "base_uri": "https://localhost:8080/"
        },
        "id": "FZ5oBtrDjRPZ",
        "outputId": "888c6e2d-cf9e-4636-97e3-6eb2080f0380"
      },
      "execution_count": 2,
      "outputs": [
        {
          "output_type": "execute_result",
          "data": {
            "text/plain": [
              "array([\"Yep, lots of shouting, screaming, cheering, arguing, celebrating, fist clinching, high fiving & fighting. You have a general idea as to why, but can never be 100% certain. A naval knowledge would be an advantage for the finer points, but then you'd probably spot the many flaws. Not an awful film & Hackman & Washington are their usual brilliant, but the plot was one you could peg pretty early on. I'm still waiting to see a submarine film where people get on with each other & don't argue, but then you probably wouldn't have a film.<br /><br />4/10\",\n",
              "       'negative'], dtype=object)"
            ]
          },
          "metadata": {},
          "execution_count": 2
        }
      ]
    },
    {
      "cell_type": "markdown",
      "source": [
        "## Fisrt step : texts preprocessing\n",
        "We clean the reviews texts :\n",
        "* We remove punctuations\n",
        "* we remove html tags and URL tags\n",
        "* we remove Emojis\n",
        "\n",
        "In this case we decided to clean the texts, but, it is not necessarily a good idea to do such a thing. After cleaning the texts, we lower case the texts."
      ],
      "metadata": {
        "id": "CsQTCEHbjRPb"
      }
    },
    {
      "cell_type": "code",
      "source": [
        "import re\n",
        "def clean_text(data):\n",
        "    html_tag=re.compile(r'<.*?>')\n",
        "    data=html_tag.sub(r'',data)\n",
        "    punct_tag=re.compile(r'[^\\w\\s]')\n",
        "    data=punct_tag.sub(r'',data)\n",
        "    url_clean= re.compile(r\"https://\\S+|www\\.\\S+\")\n",
        "    data=url_clean.sub(r'',data)\n",
        "    emoji_clean= re.compile(\"[\"\n",
        "                           u\"\\U0001F600-\\U0001F64F\"  # emoticons\n",
        "                           u\"\\U0001F300-\\U0001F5FF\"  # symbols & pictographs\n",
        "                           u\"\\U0001F680-\\U0001F6FF\"  # transport & map symbols\n",
        "                           u\"\\U0001F1E0-\\U0001F1FF\"  # flags (iOS)\n",
        "                           u\"\\U00002702-\\U000027B0\"\n",
        "                           u\"\\U000024C2-\\U0001F251\"\n",
        "                           \"]+\", flags=re.UNICODE)\n",
        "    data=emoji_clean.sub(r'',data)\n",
        "    return data"
      ],
      "metadata": {
        "execution": {
          "iopub.status.busy": "2021-12-03T15:13:40.287821Z",
          "iopub.execute_input": "2021-12-03T15:13:40.288417Z",
          "iopub.status.idle": "2021-12-03T15:13:40.315118Z",
          "shell.execute_reply.started": "2021-12-03T15:13:40.288344Z",
          "shell.execute_reply": "2021-12-03T15:13:40.314444Z"
        },
        "trusted": true,
        "id": "Fk0tF6p7jRPc"
      },
      "execution_count": 3,
      "outputs": []
    },
    {
      "cell_type": "code",
      "source": [
        "IMDB['review'] = IMDB['review'].apply(lambda x:clean_text(x).lower())"
      ],
      "metadata": {
        "id": "w4nOAxD5jRPe"
      },
      "execution_count": 4,
      "outputs": []
    },
    {
      "cell_type": "markdown",
      "source": [
        "## Step 2: Encoding target values\n",
        "We use the LabelEncoder from sklearn to encode the sentiment column. We store the encoding in a new column called encoded_target. There are only 2 values in the sentiment column positive and negative."
      ],
      "metadata": {
        "id": "NWZiNmaGjRPg"
      }
    },
    {
      "cell_type": "code",
      "source": [
        "from sklearn.preprocessing import LabelEncoder\n",
        "le = LabelEncoder()\n",
        "le.fit(IMDB['sentiment'].unique())\n",
        "\n",
        "IMDB['encoded_target'] = IMDB['sentiment'] = le.transform(IMDB['sentiment'])"
      ],
      "metadata": {
        "execution": {
          "iopub.status.busy": "2021-12-01T08:09:35.345389Z",
          "iopub.execute_input": "2021-12-01T08:09:35.345878Z",
          "iopub.status.idle": "2021-12-01T08:09:36.054336Z",
          "shell.execute_reply.started": "2021-12-01T08:09:35.345832Z",
          "shell.execute_reply": "2021-12-01T08:09:36.053627Z"
        },
        "trusted": true,
        "id": "VvqlW9kvjRPh"
      },
      "execution_count": 5,
      "outputs": []
    },
    {
      "cell_type": "markdown",
      "source": [
        "## Step 3 : Vectorizing the texts\n",
        "In this step, we vectorize the text. We Tokenize IMDB['review'] using TensorFlow.keras. We store the result in X. We also compute the vocabulary size of the tokenization."
      ],
      "metadata": {
        "id": "fngR9iAujRPj"
      }
    },
    {
      "cell_type": "code",
      "source": [
        "from tensorflow.keras.preprocessing.text import Tokenizer\n",
        "\n",
        "X_token = [d.split() for d in list(IMDB['review'])]\n",
        "tokenizer = Tokenizer()\n",
        "tokenizer.fit_on_texts(X_token)\n",
        "X = tokenizer.texts_to_sequences(X_token)\n",
        "\n",
        "vocab_size = len(tokenizer.word_index)+1"
      ],
      "metadata": {
        "execution": {
          "iopub.status.busy": "2021-12-01T08:09:55.4063Z",
          "iopub.execute_input": "2021-12-01T08:09:55.406583Z",
          "iopub.status.idle": "2021-12-01T08:10:13.630171Z",
          "shell.execute_reply.started": "2021-12-01T08:09:55.406551Z",
          "shell.execute_reply": "2021-12-01T08:10:13.629372Z"
        },
        "trusted": true,
        "id": "c_pje0d8jRPk"
      },
      "execution_count": 8,
      "outputs": []
    },
    {
      "cell_type": "markdown",
      "source": [
        "We study the length of text data. We draw a histogram of the size (count of words) of the reviews."
      ],
      "metadata": {
        "id": "0XeIQjzOjRPl"
      }
    },
    {
      "cell_type": "code",
      "source": [
        "import matplotlib.pyplot as plt\n",
        "plt.hist([len(x) for x in X],bins=400)\n",
        "plt.show()"
      ],
      "metadata": {
        "execution": {
          "iopub.status.busy": "2021-12-01T08:11:13.815071Z",
          "iopub.execute_input": "2021-12-01T08:11:13.815335Z",
          "iopub.status.idle": "2021-12-01T08:11:15.394061Z",
          "shell.execute_reply.started": "2021-12-01T08:11:13.815302Z",
          "shell.execute_reply": "2021-12-01T08:11:15.393338Z"
        },
        "trusted": true,
        "colab": {
          "base_uri": "https://localhost:8080/",
          "height": 269
        },
        "id": "mQjinoZ-jRPm",
        "outputId": "b0f0a54c-18d4-498b-fa5e-13955f1500d2"
      },
      "execution_count": 7,
      "outputs": [
        {
          "output_type": "display_data",
          "data": {
            "text/plain": [
              "<Figure size 432x288 with 1 Axes>"
            ],
            "image/png": "[encoded data removed]"
          },
          "metadata": {
            "needs_background": "light"
          }
        }
      ]
    },
    {
      "cell_type": "markdown",
      "source": [
        "Most of the texts are less than 300 words long. Then, we truncate all texts which have more than 300 words using pad_sequences. After we run the cell below, all texts are modelized in  300 components vectors."
      ],
      "metadata": {
        "id": "4ieWVpsTjRPn"
      }
    },
    {
      "cell_type": "code",
      "source": [
        "from tensorflow.keras.preprocessing.sequence import pad_sequences\n",
        "\n",
        "max_lenght = 300\n",
        "\n",
        "X_pad = pad_sequences(X,maxlen=300,padding='post')\n",
        "X_pad"
      ],
      "metadata": {
        "execution": {
          "iopub.status.busy": "2021-12-01T08:11:26.207119Z",
          "iopub.execute_input": "2021-12-01T08:11:26.207368Z",
          "iopub.status.idle": "2021-12-01T08:11:28.21805Z",
          "shell.execute_reply.started": "2021-12-01T08:11:26.20734Z",
          "shell.execute_reply": "2021-12-01T08:11:28.217359Z"
        },
        "trusted": true,
        "colab": {
          "base_uri": "https://localhost:8080/"
        },
        "id": "BneFmwQ3jRPo",
        "outputId": "1e632af6-ba9d-496c-d28d-9ee91611ab7f"
      },
      "execution_count": 9,
      "outputs": [
        {
          "output_type": "execute_result",
          "data": {
            "text/plain": [
              "array([[  44,   21,   36, ...,    0,    0,    0],\n",
              "       [ 280,  182,   16, ...,    0,    0,    0],\n",
              "       [   1,  115, 1371, ...,    0,    0,    0],\n",
              "       ...,\n",
              "       [   1, 9306,    4, ...,   53,  121, 5918],\n",
              "       [  10,   18,    6, ...,    0,    0,    0],\n",
              "       [   9,  549,   63, ...,    0,    0,    0]], dtype=int32)"
            ]
          },
          "metadata": {},
          "execution_count": 9
        }
      ]
    },
    {
      "cell_type": "markdown",
      "source": [
        "## Splitting the dataset into a training set and a test set\n",
        "We use the train_test_split method to make a training set and a test set."
      ],
      "metadata": {
        "id": "Gy8R5zbNjRPp"
      }
    },
    {
      "cell_type": "code",
      "source": [
        "from sklearn.model_selection import train_test_split\n",
        "X_train, X_test, y_train, y_test = train_test_split(X_pad,IMDB['encoded_target'].values,test_size=0.20, random_state=42)"
      ],
      "metadata": {
        "execution": {
          "iopub.status.busy": "2021-12-01T08:11:35.13888Z",
          "iopub.execute_input": "2021-12-01T08:11:35.139549Z",
          "iopub.status.idle": "2021-12-01T08:11:35.20484Z",
          "shell.execute_reply.started": "2021-12-01T08:11:35.139486Z",
          "shell.execute_reply": "2021-12-01T08:11:35.204099Z"
        },
        "trusted": true,
        "id": "vOMIRgkQjRPq"
      },
      "execution_count": 10,
      "outputs": []
    },
    {
      "cell_type": "markdown",
      "source": [
        "## Building the CNN with tensorflow.keras\n",
        "We want to predict the fake newsWe build a model with the following layers:\n",
        "* an Embedding layer with input_dim=len(tokenizer.word_index)+1, input_length=300. Since we want the dimension of the dense embedding is 100, we have to set output_dim=100.\n",
        "* a Conv1D layer with 128 filters and kernel_size=5\n",
        "* a GlobalMaxPooling1D() layer\n",
        "* a Dense layer with 10 units and relu activation\n",
        "* a Dense layer. Since we have only 2 classes (positive,negative), in the last dense layer we choose the sigmoid activation function.\n",
        "\n",
        "We compile this model with an adam optimizer, a binary_crossentropy loss function and the accuracy metric. After,We fit the model."
      ],
      "metadata": {
        "id": "bsZPlt_sjRPr"
      }
    },
    {
      "cell_type": "code",
      "source": [
        "from tensorflow.keras.models import Sequential\n",
        "from tensorflow.keras.layers import Dense, Embedding, Conv1D, GlobalMaxPooling1D\n",
        "\n",
        "embedding_dim = 100\n",
        "vocab_size = vocab_size = len(tokenizer.word_index)+1\n",
        "#max_lenght = 300\n",
        "\n",
        "model_cnn = Sequential()\n",
        "model_cnn.add(Embedding(input_dim= vocab_size, output_dim=embedding_dim, input_length=max_lenght))\n",
        "model_cnn.add(Conv1D(128, 5, activation='relu'))\n",
        "model_cnn.add(GlobalMaxPooling1D())\n",
        "model_cnn.add(Dense(10, activation='relu'))\n",
        "model_cnn.add(Dense(1, activation='sigmoid'))\n",
        "\n",
        "model_cnn.compile(optimizer='adam',loss='binary_crossentropy',metrics=['accuracy'])"
      ],
      "metadata": {
        "execution": {
          "iopub.status.busy": "2021-11-30T14:49:56.874929Z",
          "iopub.execute_input": "2021-11-30T14:49:56.875217Z",
          "iopub.status.idle": "2021-11-30T14:49:57.078785Z",
          "shell.execute_reply.started": "2021-11-30T14:49:56.875187Z",
          "shell.execute_reply": "2021-11-30T14:49:57.078179Z"
        },
        "trusted": true,
        "id": "pBVr6lkrjRPs"
      },
      "execution_count": 11,
      "outputs": []
    },
    {
      "cell_type": "code",
      "source": [
        "model_cnn.summary()"
      ],
      "metadata": {
        "execution": {
          "iopub.status.busy": "2021-11-30T14:51:45.947192Z",
          "iopub.execute_input": "2021-11-30T14:51:45.948018Z",
          "iopub.status.idle": "2021-11-30T14:51:45.956418Z",
          "shell.execute_reply.started": "2021-11-30T14:51:45.947978Z",
          "shell.execute_reply": "2021-11-30T14:51:45.955735Z"
        },
        "trusted": true,
        "colab": {
          "base_uri": "https://localhost:8080/"
        },
        "id": "WO_gkDB1jRPt",
        "outputId": "91d87488-103d-4d56-e24e-ddfeaea6b6b3"
      },
      "execution_count": 12,
      "outputs": [
        {
          "output_type": "stream",
          "name": "stdout",
          "text": [
            "Model: \"sequential\"\n",
            "_________________________________________________________________\n",
            " Layer (type)                Output Shape              Param #   \n",
            "=================================================================\n",
            " embedding (Embedding)       (None, 300, 100)          20782100  \n",
            "                                                                 \n",
            " conv1d (Conv1D)             (None, 296, 128)          64128     \n",
            "                                                                 \n",
            " global_max_pooling1d (Globa  (None, 128)              0         \n",
            " lMaxPooling1D)                                                  \n",
            "                                                                 \n",
            " dense (Dense)               (None, 10)                1290      \n",
            "                                                                 \n",
            " dense_1 (Dense)             (None, 1)                 11        \n",
            "                                                                 \n",
            "=================================================================\n",
            "Total params: 20,847,529\n",
            "Trainable params: 20,847,529\n",
            "Non-trainable params: 0\n",
            "_________________________________________________________________\n"
          ]
        }
      ]
    },
    {
      "cell_type": "markdown",
      "source": [
        "Here, we fit the model with 10 epochs and use 10% of the train set as a validation set."
      ],
      "metadata": {
        "id": "phzEuD9FjRPu"
      }
    },
    {
      "cell_type": "code",
      "source": [
        "history = model_cnn.fit(X_train, y_train,epochs=5,validation_split=0.1)"
      ],
      "metadata": {
        "execution": {
          "iopub.status.busy": "2021-11-30T15:13:17.883178Z",
          "iopub.execute_input": "2021-11-30T15:13:17.883682Z",
          "iopub.status.idle": "2021-11-30T15:31:13.921921Z",
          "shell.execute_reply.started": "2021-11-30T15:13:17.883639Z",
          "shell.execute_reply": "2021-11-30T15:31:13.921075Z"
        },
        "trusted": true,
        "colab": {
          "base_uri": "https://localhost:8080/"
        },
        "id": "gcBJDKv1jRPu",
        "outputId": "7b71a576-ab0b-4f02-9677-b7e149d8f854"
      },
      "execution_count": 13,
      "outputs": [
        {
          "output_type": "stream",
          "name": "stdout",
          "text": [
            "Epoch 1/5\n",
            "1013/1013 [==============================] - 24s 15ms/step - loss: 0.3670 - accuracy: 0.8285 - val_loss: 0.2627 - val_accuracy: 0.8928\n",
            "Epoch 2/5\n",
            "1013/1013 [==============================] - 16s 16ms/step - loss: 0.1261 - accuracy: 0.9561 - val_loss: 0.2427 - val_accuracy: 0.9097\n",
            "Epoch 3/5\n",
            "1013/1013 [==============================] - 15s 15ms/step - loss: 0.0187 - accuracy: 0.9965 - val_loss: 0.2896 - val_accuracy: 0.9033\n",
            "Epoch 4/5\n",
            "1013/1013 [==============================] - 15s 15ms/step - loss: 0.0027 - accuracy: 0.9997 - val_loss: 0.3230 - val_accuracy: 0.9056\n",
            "Epoch 5/5\n",
            "1013/1013 [==============================] - 16s 15ms/step - loss: 3.3634e-04 - accuracy: 1.0000 - val_loss: 0.3391 - val_accuracy: 0.9083\n"
          ]
        }
      ]
    },
    {
      "cell_type": "markdown",
      "source": [
        "We evaluate the model over the test set."
      ],
      "metadata": {
        "id": "yGJo1ScFnlPa"
      }
    },
    {
      "cell_type": "code",
      "source": [
        "model_cnn.evaluate(X_test,y_test)"
      ],
      "metadata": {
        "colab": {
          "base_uri": "https://localhost:8080/"
        },
        "id": "vT23uI2xnaZs",
        "outputId": "d60e8048-6292-4d04-b284-513b8fff0123"
      },
      "execution_count": 14,
      "outputs": [
        {
          "output_type": "stream",
          "name": "stdout",
          "text": [
            "282/282 [==============================] - 1s 3ms/step - loss: 0.3580 - accuracy: 0.8981\n"
          ]
        },
        {
          "output_type": "execute_result",
          "data": {
            "text/plain": [
              "[0.35795971751213074, 0.89811110496521]"
            ]
          },
          "metadata": {},
          "execution_count": 14
        }
      ]
    },
    {
      "cell_type": "markdown",
      "source": [
        "## Trying the model on a new text\n",
        "In this section, we try the model we've just fit in the previous section on a new text. \n",
        "* First, we preprocess the text as we did at the beginning of this example.\n",
        "* Second step, we vectorize with the tokenizer we use earlier in this example and the pad_sequence object"
      ],
      "metadata": {
        "id": "_bHSyBjWjRPv"
      }
    },
    {
      "cell_type": "code",
      "source": [
        "from tensorflow.keras.preprocessing.sequence import pad_sequences\n",
        "\n",
        "\n",
        "new_text = \"An absoloutely wonderful film that works on several levels. \\\n",
        "It's a story about a great architect, a son seeking his father, \\\n",
        "about very loving relationships, and about loss. It's also a great \\\n",
        "flm about architecture.<br /><br />Very intelligent and very moving. A real treat.\"\n",
        "\n",
        "def handle_text(text):\n",
        "    text_handle = clean_text(text)\n",
        "    text_handle = [text_handle.split()]\n",
        "    text_handle = tokenizer.texts_to_sequences(text_handle)\n",
        "    text_handle = pad_sequences(text_handle,maxlen=300,padding='post')\n",
        "    return(text_handle)\n",
        "    \n",
        "new_text_preprocessed = handle_text(new_text)"
      ],
      "metadata": {
        "execution": {
          "iopub.status.busy": "2021-11-30T15:58:54.829152Z",
          "iopub.execute_input": "2021-11-30T15:58:54.829567Z",
          "iopub.status.idle": "2021-11-30T15:58:54.837143Z",
          "shell.execute_reply.started": "2021-11-30T15:58:54.829534Z",
          "shell.execute_reply": "2021-11-30T15:58:54.836344Z"
        },
        "trusted": true,
        "id": "Jyl7b8S4jRPw"
      },
      "execution_count": 15,
      "outputs": []
    },
    {
      "cell_type": "markdown",
      "source": [
        "Now, we use the cnn_model to make a prediction. Then, we use the le.inverse_transform to layout the class of this new text."
      ],
      "metadata": {
        "id": "K3RkYfwrjRPw"
      }
    },
    {
      "cell_type": "code",
      "source": [
        "proba_of_one = model_cnn.predict(new_text_preprocessed)[0][0]\n",
        "if proba_of_one>0.5:\n",
        "  print(le.inverse_transform([1]))\n",
        "else:\n",
        "  print(le.inverse_transform([0]))\n"
      ],
      "metadata": {
        "execution": {
          "iopub.status.busy": "2021-11-30T16:06:27.885979Z",
          "iopub.execute_input": "2021-11-30T16:06:27.886296Z",
          "iopub.status.idle": "2021-11-30T16:06:27.968726Z",
          "shell.execute_reply.started": "2021-11-30T16:06:27.886259Z",
          "shell.execute_reply": "2021-11-30T16:06:27.967773Z"
        },
        "trusted": true,
        "colab": {
          "base_uri": "https://localhost:8080/"
        },
        "id": "V4d6uQL3jRPx",
        "outputId": "aa02c50a-a6d8-4afa-98b1-b3ab4be52314"
      },
      "execution_count": 16,
      "outputs": [
        {
          "output_type": "stream",
          "name": "stdout",
          "text": [
            "1/1 [==============================] - 0s 96ms/step\n",
            "['positive']\n"
          ]
        }
      ]
    },
    {
      "cell_type": "markdown",
      "source": [
        "## Designing a more complex CNN\n",
        "Here, we design a CNN with several convolutional layers  and several pooling layers. The last pooling layer yields a tensor with a (None, 37, 512) shape . As a consequence, After the last pooling layer we have to put a flatten layer to make the tensor adapted to a dense layer.  "
      ],
      "metadata": {
        "id": "jrID_c9rjRPy"
      }
    },
    {
      "cell_type": "code",
      "source": [
        "from tensorflow.keras.layers import Dense, Embedding, Conv1D, MaxPooling1D, Flatten, Dropout\n",
        "from tensorflow.keras.models import Sequential\n",
        "\n",
        "\n",
        "embedding_dim = 100\n",
        "vocab_size = len(tokenizer.word_index)+1\n",
        "\n",
        "CNN_COMPLEX = Sequential()\n",
        "CNN_COMPLEX.add(Embedding(input_dim= vocab_size, output_dim=embedding_dim, input_length=max_lenght))\n",
        "CNN_COMPLEX.add(Conv1D(128, 7, activation='relu',padding='same'))\n",
        "CNN_COMPLEX.add(MaxPooling1D())\n",
        "CNN_COMPLEX.add(Conv1D(256, 5, activation='relu',padding='same'))\n",
        "CNN_COMPLEX.add(MaxPooling1D())\n",
        "CNN_COMPLEX.add(Conv1D(512, 3, activation='relu',padding='same'))\n",
        "CNN_COMPLEX.add(MaxPooling1D())\n",
        "CNN_COMPLEX.add(Flatten())\n",
        "CNN_COMPLEX.add(Dense(128, activation='relu'))\n",
        "CNN_COMPLEX.add(Dropout(0.5))\n",
        "CNN_COMPLEX.add(Dense(1, activation='sigmoid'))\n",
        "\n",
        "\n",
        "CNN_COMPLEX.compile(optimizer='adam',loss='binary_crossentropy',metrics=['accuracy'])"
      ],
      "metadata": {
        "execution": {
          "iopub.status.busy": "2021-12-01T08:12:36.14477Z",
          "iopub.execute_input": "2021-12-01T08:12:36.145168Z",
          "iopub.status.idle": "2021-12-01T08:12:36.268482Z",
          "shell.execute_reply.started": "2021-12-01T08:12:36.14513Z",
          "shell.execute_reply": "2021-12-01T08:12:36.26782Z"
        },
        "trusted": true,
        "id": "lukcIZ05jRPy"
      },
      "execution_count": 17,
      "outputs": []
    },
    {
      "cell_type": "code",
      "source": [
        "CNN_COMPLEX.fit(X_train, y_train,epochs=5,validation_split=0.1)"
      ],
      "metadata": {
        "execution": {
          "iopub.status.busy": "2021-12-01T08:15:07.919085Z",
          "iopub.execute_input": "2021-12-01T08:15:07.919361Z",
          "iopub.status.idle": "2021-12-01T08:18:30.599446Z",
          "shell.execute_reply.started": "2021-12-01T08:15:07.919331Z",
          "shell.execute_reply": "2021-12-01T08:18:30.597471Z"
        },
        "trusted": true,
        "colab": {
          "base_uri": "https://localhost:8080/"
        },
        "id": "00ySRC2QjRP0",
        "outputId": "7f89061a-2792-4f59-b3c2-6526c61fcf55"
      },
      "execution_count": 18,
      "outputs": [
        {
          "output_type": "stream",
          "name": "stdout",
          "text": [
            "Epoch 1/5\n",
            "1013/1013 [==============================] - 22s 21ms/step - loss: 0.3598 - accuracy: 0.8280 - val_loss: 0.2579 - val_accuracy: 0.8994\n",
            "Epoch 2/5\n",
            "1013/1013 [==============================] - 21s 21ms/step - loss: 0.1224 - accuracy: 0.9574 - val_loss: 0.2889 - val_accuracy: 0.9000\n",
            "Epoch 3/5\n",
            "1013/1013 [==============================] - 21s 21ms/step - loss: 0.0341 - accuracy: 0.9893 - val_loss: 0.5624 - val_accuracy: 0.8767\n",
            "Epoch 4/5\n",
            "1013/1013 [==============================] - 21s 21ms/step - loss: 0.0210 - accuracy: 0.9933 - val_loss: 0.4986 - val_accuracy: 0.8850\n",
            "Epoch 5/5\n",
            "1013/1013 [==============================] - 21s 21ms/step - loss: 0.0149 - accuracy: 0.9953 - val_loss: 0.6161 - val_accuracy: 0.8867\n"
          ]
        },
        {
          "output_type": "execute_result",
          "data": {
            "text/plain": [
              "<keras.callbacks.History at 0x7f52c263cac0>"
            ]
          },
          "metadata": {},
          "execution_count": 18
        }
      ]
    },
    {
      "cell_type": "code",
      "source": [
        "CNN_COMPLEX.summary()"
      ],
      "metadata": {
        "execution": {
          "iopub.status.busy": "2021-12-01T08:32:08.068536Z",
          "iopub.execute_input": "2021-12-01T08:32:08.069307Z",
          "iopub.status.idle": "2021-12-01T08:32:08.082014Z",
          "shell.execute_reply.started": "2021-12-01T08:32:08.069263Z",
          "shell.execute_reply": "2021-12-01T08:32:08.081197Z"
        },
        "trusted": true,
        "colab": {
          "base_uri": "https://localhost:8080/"
        },
        "id": "rJelTx-NjRP2",
        "outputId": "f0782a37-b73d-44d2-e174-585b62ae0bf0"
      },
      "execution_count": 19,
      "outputs": [
        {
          "output_type": "stream",
          "name": "stdout",
          "text": [
            "Model: \"sequential_1\"\n",
            "_________________________________________________________________\n",
            " Layer (type)                Output Shape              Param #   \n",
            "=================================================================\n",
            " embedding_1 (Embedding)     (None, 300, 100)          20782100  \n",
            "                                                                 \n",
            " conv1d_1 (Conv1D)           (None, 300, 128)          89728     \n",
            "                                                                 \n",
            " max_pooling1d (MaxPooling1D  (None, 150, 128)         0         \n",
            " )                                                               \n",
            "                                                                 \n",
            " conv1d_2 (Conv1D)           (None, 150, 256)          164096    \n",
            "                                                                 \n",
            " max_pooling1d_1 (MaxPooling  (None, 75, 256)          0         \n",
            " 1D)                                                             \n",
            "                                                                 \n",
            " conv1d_3 (Conv1D)           (None, 75, 512)           393728    \n",
            "                                                                 \n",
            " max_pooling1d_2 (MaxPooling  (None, 37, 512)          0         \n",
            " 1D)                                                             \n",
            "                                                                 \n",
            " flatten (Flatten)           (None, 18944)             0         \n",
            "                                                                 \n",
            " dense_2 (Dense)             (None, 128)               2424960   \n",
            "                                                                 \n",
            " dropout (Dropout)           (None, 128)               0         \n",
            "                                                                 \n",
            " dense_3 (Dense)             (None, 1)                 129       \n",
            "                                                                 \n",
            "=================================================================\n",
            "Total params: 23,854,741\n",
            "Trainable params: 23,854,741\n",
            "Non-trainable params: 0\n",
            "_________________________________________________________________\n"
          ]
        }
      ]
    },
    {
      "cell_type": "markdown",
      "source": [
        "# Exercice : reviews of fine foods\n",
        "The dataset here consists of reviews of fine foods from amazon. We want to predict how does a customer feel about a product ordered from amazon using the review he made about the product.<br>\n",
        "Run the cell below to import the dataset. There are three columns in that dataset : \n",
        "* Score is a rating between 1 and 5 of the product\n",
        "* Summary are short reviews of the products\n",
        "* Text are reviews of the products\n",
        "\n",
        "Our goal is to predict the Score from the Summary and the Text."
      ],
      "metadata": {
        "id": "geAT94C7jRP3"
      }
    },
    {
      "cell_type": "code",
      "source": [
        "import pandas as pd\n",
        "#file = \"https://raw.githubusercontent.com/fabnancyuhp/DEEP-LEARNING/main/DATA/fodd_review.pkl\"\n",
        "file = \"https://raw.githubusercontent.com/fabnancyuhp/DEEP-LEARNING/main/DATA/food_reviews.parquet\"\n",
        "food_reviews = pd.read_parquet(file)\n",
        "food_reviews.head(3)"
      ],
      "metadata": {
        "execution": {
          "iopub.status.busy": "2021-12-03T15:53:53.965753Z",
          "iopub.execute_input": "2021-12-03T15:53:53.966552Z",
          "iopub.status.idle": "2021-12-03T15:53:54.795918Z",
          "shell.execute_reply.started": "2021-12-03T15:53:53.966511Z",
          "shell.execute_reply": "2021-12-03T15:53:54.795046Z"
        },
        "trusted": true,
        "colab": {
          "base_uri": "https://localhost:8080/",
          "height": 143
        },
        "id": "At7rcb2SjRP4",
        "outputId": "d3317ad4-ac86-4ba3-858a-f8d7f89264b8"
      },
      "execution_count": 20,
      "outputs": [
        {
          "output_type": "execute_result",
          "data": {
            "text/plain": [
              "    index  Score                    Summary  \\\n",
              "0   18588      5      Great at any strength   \n",
              "1   18638      5          Nearly Miraculous   \n",
              "2  509912      5  Great flavor combinations   \n",
              "\n",
              "                                                Text  \n",
              "0  This is not my favorite Peet's coffee blend, b...  \n",
              "1  I don't usually bother with reviews, but these...  \n",
              "2  Great, healthy snack.  The combination of frui...  "
            ],
            "text/html": [
              "\n",
              "  <div id=\"df-1b60eaa7-97ff-4731-8616-894a5bd76526\">\n",
              "    <div class=\"colab-df-container\">\n",
              "      <div>\n",
              "<style scoped>\n",
              "    .dataframe tbody tr th:only-of-type {\n",
              "        vertical-align: middle;\n",
              "    }\n",
              "\n",
              "    .dataframe tbody tr th {\n",
              "        vertical-align: top;\n",
              "    }\n",
              "\n",
              "    .dataframe thead th {\n",
              "        text-align: right;\n",
              "    }\n",
              "</style>\n",
              "<table border=\"1\" class=\"dataframe\">\n",
              "  <thead>\n",
              "    <tr style=\"text-align: right;\">\n",
              "      <th></th>\n",
              "      <th>index</th>\n",
              "      <th>Score</th>\n",
              "      <th>Summary</th>\n",
              "      <th>Text</th>\n",
              "    </tr>\n",
              "  </thead>\n",
              "  <tbody>\n",
              "    <tr>\n",
              "      <th>0</th>\n",
              "      <td>18588</td>\n",
              "      <td>5</td>\n",
              "      <td>Great at any strength</td>\n",
              "      <td>This is not my favorite Peet's coffee blend, b...</td>\n",
              "    </tr>\n",
              "    <tr>\n",
              "      <th>1</th>\n",
              "      <td>18638</td>\n",
              "      <td>5</td>\n",
              "      <td>Nearly Miraculous</td>\n",
              "      <td>I don't usually bother with reviews, but these...</td>\n",
              "    </tr>\n",
              "    <tr>\n",
              "      <th>2</th>\n",
              "      <td>509912</td>\n",
              "      <td>5</td>\n",
              "      <td>Great flavor combinations</td>\n",
              "      <td>Great, healthy snack.  The combination of frui...</td>\n",
              "    </tr>\n",
              "  </tbody>\n",
              "</table>\n",
              "</div>\n",
              "      <button class=\"colab-df-convert\" onclick=\"convertToInteractive('df-1b60eaa7-97ff-4731-8616-894a5bd76526')\"\n",
              "              title=\"Convert this dataframe to an interactive table.\"\n",
              "              style=\"display:none;\">\n",
              "        \n",
              "  <svg xmlns=\"http://www.w3.org/2000/svg\" height=\"24px\"viewBox=\"0 0 24 24\"\n",
              "       width=\"24px\">\n",
              "    <path d=\"M0 0h24v24H0V0z\" fill=\"none\"/>\n",
              "    <path d=\"M18.56 5.44l.94 2.06.94-2.06 2.06-.94-2.06-.94-.94-2.06-.94 2.06-2.06.94zm-11 1L8.5 8.5l.94-2.06 2.06-.94-2.06-.94L8.5 2.5l-.94 2.06-2.06.94zm10 10l.94 2.06.94-2.06 2.06-.94-2.06-.94-.94-2.06-.94 2.06-2.06.94z\"/><path d=\"M17.41 7.96l-1.37-1.37c-.4-.4-.92-.59-1.43-.59-.52 0-1.04.2-1.43.59L10.3 9.45l-7.72 7.72c-.78.78-.78 2.05 0 2.83L4 21.41c.39.39.9.59 1.41.59.51 0 1.02-.2 1.41-.59l7.78-7.78 2.81-2.81c.8-.78.8-2.07 0-2.86zM5.41 20L4 18.59l7.72-7.72 1.47 1.35L5.41 20z\"/>\n",
              "  </svg>\n",
              "      </button>\n",
              "      \n",
              "  <style>\n",
              "    .colab-df-container {\n",
              "      display:flex;\n",
              "      flex-wrap:wrap;\n",
              "      gap: 12px;\n",
              "    }\n",
              "\n",
              "    .colab-df-convert {\n",
              "      background-color: #E8F0FE;\n",
              "      border: none;\n",
              "      border-radius: 50%;\n",
              "      cursor: pointer;\n",
              "      display: none;\n",
              "      fill: #1967D2;\n",
              "      height: 32px;\n",
              "      padding: 0 0 0 0;\n",
              "      width: 32px;\n",
              "    }\n",
              "\n",
              "    .colab-df-convert:hover {\n",
              "      background-color: #E2EBFA;\n",
              "      box-shadow: 0px 1px 2px rgba(60, 64, 67, 0.3), 0px 1px 3px 1px rgba(60, 64, 67, 0.15);\n",
              "      fill: #174EA6;\n",
              "    }\n",
              "\n",
              "    [theme=dark] .colab-df-convert {\n",
              "      background-color: #3B4455;\n",
              "      fill: #D2E3FC;\n",
              "    }\n",
              "\n",
              "    [theme=dark] .colab-df-convert:hover {\n",
              "      background-color: #434B5C;\n",
              "      box-shadow: 0px 1px 3px 1px rgba(0, 0, 0, 0.15);\n",
              "      filter: drop-shadow(0px 1px 2px rgba(0, 0, 0, 0.3));\n",
              "      fill: #FFFFFF;\n",
              "    }\n",
              "  </style>\n",
              "\n",
              "      <script>\n",
              "        const buttonEl =\n",
              "          document.querySelector('#df-1b60eaa7-97ff-4731-8616-894a5bd76526 button.colab-df-convert');\n",
              "        buttonEl.style.display =\n",
              "          google.colab.kernel.accessAllowed ? 'block' : 'none';\n",
              "\n",
              "        async function convertToInteractive(key) {\n",
              "          const element = document.querySelector('#df-1b60eaa7-97ff-4731-8616-894a5bd76526');\n",
              "          const dataTable =\n",
              "            await google.colab.kernel.invokeFunction('convertToInteractive',\n",
              "                                                     [key], {});\n",
              "          if (!dataTable) return;\n",
              "\n",
              "          const docLinkHtml = 'Like what you see? Visit the ' +\n",
              "            '<a target=\"_blank\" href=https://colab.research.google.com/notebooks/data_table.ipynb>data table notebook</a>'\n",
              "            + ' to learn more about interactive tables.';\n",
              "          element.innerHTML = '';\n",
              "          dataTable['output_type'] = 'display_data';\n",
              "          await google.colab.output.renderOutput(dataTable, element);\n",
              "          const docLink = document.createElement('div');\n",
              "          docLink.innerHTML = docLinkHtml;\n",
              "          element.appendChild(docLink);\n",
              "        }\n",
              "      </script>\n",
              "    </div>\n",
              "  </div>\n",
              "  "
            ]
          },
          "metadata": {},
          "execution_count": 20
        }
      ]
    },
    {
      "cell_type": "markdown",
      "source": [
        "1/ How many distinct values are there in the Score column?"
      ],
      "metadata": {
        "execution": {
          "iopub.status.busy": "2021-12-01T09:12:13.971213Z",
          "iopub.execute_input": "2021-12-01T09:12:13.971584Z",
          "iopub.status.idle": "2021-12-01T09:12:13.985092Z",
          "shell.execute_reply.started": "2021-12-01T09:12:13.97154Z",
          "shell.execute_reply": "2021-12-01T09:12:13.984395Z"
        },
        "id": "QH9q1GmDjRP5"
      }
    },
    {
      "cell_type": "code",
      "source": [],
      "metadata": {
        "execution": {
          "iopub.status.busy": "2021-12-03T15:21:16.248411Z",
          "iopub.execute_input": "2021-12-03T15:21:16.249041Z",
          "iopub.status.idle": "2021-12-03T15:21:16.261554Z",
          "shell.execute_reply.started": "2021-12-03T15:21:16.249003Z",
          "shell.execute_reply": "2021-12-03T15:21:16.260849Z"
        },
        "trusted": true,
        "id": "eKUu5AfMjRP7"
      },
      "execution_count": null,
      "outputs": []
    },
    {
      "cell_type": "markdown",
      "source": [
        "2/ Concat the column Summary and the column Text. Store the result in new column called whole_text."
      ],
      "metadata": {
        "id": "8zGA948vjRP8"
      }
    },
    {
      "cell_type": "code",
      "source": [
        "food_reviews['whole_text'] = "
      ],
      "metadata": {
        "execution": {
          "iopub.status.busy": "2021-12-03T15:21:18.929112Z",
          "iopub.execute_input": "2021-12-03T15:21:18.929421Z",
          "iopub.status.idle": "2021-12-03T15:21:19.127384Z",
          "shell.execute_reply.started": "2021-12-03T15:21:18.929386Z",
          "shell.execute_reply": "2021-12-03T15:21:19.126655Z"
        },
        "trusted": true,
        "id": "1miSUSaLjRP9"
      },
      "execution_count": null,
      "outputs": []
    },
    {
      "cell_type": "markdown",
      "source": [
        "3/ Clean food_reviews['whole_text'] column using the clean_text function we defined in the text preprocessing step of the IMDB example.  "
      ],
      "metadata": {
        "execution": {
          "iopub.status.busy": "2021-12-01T10:50:03.579888Z",
          "iopub.execute_input": "2021-12-01T10:50:03.580866Z",
          "iopub.status.idle": "2021-12-01T10:50:03.588487Z",
          "shell.execute_reply.started": "2021-12-01T10:50:03.580797Z",
          "shell.execute_reply": "2021-12-01T10:50:03.587796Z"
        },
        "id": "jnYMYiIujRP-"
      }
    },
    {
      "cell_type": "code",
      "source": [
        "food_reviews['whole_text'] = "
      ],
      "metadata": {
        "execution": {
          "iopub.status.busy": "2021-12-03T15:21:33.644247Z",
          "iopub.execute_input": "2021-12-03T15:21:33.644516Z",
          "iopub.status.idle": "2021-12-03T15:21:41.685906Z",
          "shell.execute_reply.started": "2021-12-03T15:21:33.644486Z",
          "shell.execute_reply": "2021-12-03T15:21:41.685075Z"
        },
        "trusted": true,
        "id": "fWIqT-8MjRP-"
      },
      "execution_count": null,
      "outputs": []
    },
    {
      "cell_type": "markdown",
      "source": [
        "4/ Vectorizing the texts from food_reviews['whole_text'] as we did in the Step 3 (Vectorizing the texts) from the previous example. You have to apply a Tokenizer object and a pad_sequences object. Store the result in X."
      ],
      "metadata": {
        "id": "uidceY09jRP_"
      }
    },
    {
      "cell_type": "code",
      "source": [
        "from tensorflow.keras.preprocessing.text import Tokenizer\n",
        "\n",
        "X_token = [d.split() for d in list(food_reviews['whole_text'])]\n",
        "tokenizer = Tokenizer()\n",
        "\n",
        "\n",
        "#vocab_size = len(tokenizer.word_index)+1"
      ],
      "metadata": {
        "execution": {
          "iopub.status.busy": "2021-12-03T15:21:43.523776Z",
          "iopub.execute_input": "2021-12-03T15:21:43.524488Z",
          "iopub.status.idle": "2021-12-03T15:22:04.445016Z",
          "shell.execute_reply.started": "2021-12-03T15:21:43.52445Z",
          "shell.execute_reply": "2021-12-03T15:22:04.444224Z"
        },
        "trusted": true,
        "id": "IlnuXVcTjRQA"
      },
      "execution_count": null,
      "outputs": []
    },
    {
      "cell_type": "markdown",
      "source": [
        "We can choose a lot of values for the maxlen parameter of the pad_sequences object. We choose maxlen=150 and padding='post'."
      ],
      "metadata": {
        "id": "eXh1BIE7jRQB"
      }
    },
    {
      "cell_type": "code",
      "source": [
        "from tensorflow.keras.preprocessing.sequence import pad_sequences\n",
        "\n",
        "max_lenght = 150\n",
        "\n",
        "X = "
      ],
      "metadata": {
        "execution": {
          "iopub.status.busy": "2021-12-03T15:22:44.069718Z",
          "iopub.execute_input": "2021-12-03T15:22:44.070556Z",
          "iopub.status.idle": "2021-12-03T15:22:46.886297Z",
          "shell.execute_reply.started": "2021-12-03T15:22:44.070509Z",
          "shell.execute_reply": "2021-12-03T15:22:46.885588Z"
        },
        "trusted": true,
        "id": "QQyRsUTRjRQC"
      },
      "execution_count": null,
      "outputs": []
    },
    {
      "cell_type": "markdown",
      "source": [
        "5/  Use labelencoder from sklearn to encode food_reviews['Score']. Store the result in Y."
      ],
      "metadata": {
        "id": "_28b7FxMjRQC"
      }
    },
    {
      "cell_type": "code",
      "source": [
        "from sklearn.preprocessing import LabelEncoder\n",
        "#from tensorflow.keras.utils import to_categorical\n",
        "\n",
        "le = LabelEncoder()\n",
        "\n",
        "#Y = "
      ],
      "metadata": {
        "execution": {
          "iopub.status.busy": "2021-12-03T15:26:07.090226Z",
          "iopub.execute_input": "2021-12-03T15:26:07.091059Z",
          "iopub.status.idle": "2021-12-03T15:26:07.658589Z",
          "shell.execute_reply.started": "2021-12-03T15:26:07.091002Z",
          "shell.execute_reply": "2021-12-03T15:26:07.65782Z"
        },
        "trusted": true,
        "id": "6hiRrAKnjRQE"
      },
      "execution_count": null,
      "outputs": []
    },
    {
      "cell_type": "markdown",
      "source": [
        "6/ Split X and Y in a training set and a test set. The vectorization X was made in question 4 and Y was made in question 5."
      ],
      "metadata": {
        "id": "MNkqbvXxjRQF"
      }
    },
    {
      "cell_type": "code",
      "source": [
        "\n",
        "from sklearn.model_selection import train_test_split\n",
        "X_train, X_test, y_train, y_test = train_test_split(X,Y,test_size=0.33, random_state=42)"
      ],
      "metadata": {
        "execution": {
          "iopub.status.busy": "2021-12-03T15:26:14.041727Z",
          "iopub.execute_input": "2021-12-03T15:26:14.042421Z",
          "iopub.status.idle": "2021-12-03T15:26:14.173875Z",
          "shell.execute_reply.started": "2021-12-03T15:26:14.042382Z",
          "shell.execute_reply": "2021-12-03T15:26:14.171934Z"
        },
        "trusted": true,
        "id": "XgIz3O7cjRQF"
      },
      "execution_count": null,
      "outputs": []
    },
    {
      "cell_type": "markdown",
      "source": [
        "7/The goal of this question is to retake the CNN we built in the section Building the CNN with tensorflow.keras and make few changes on it:\n",
        "* you have to change a bit the last dense layer\n",
        "* you have to compile your neural network with a different loss function\n",
        "\n",
        "Fit the model with 5 epochs and validation_split=0.1."
      ],
      "metadata": {
        "id": "LdtDQOUijRQG"
      }
    },
    {
      "cell_type": "code",
      "source": [
        "from tensorflow.keras.models import Sequential\n",
        "from tensorflow.keras.layers import Dense, Embedding, Conv1D, GlobalMaxPooling1D\n",
        "\n",
        "embedding_dim = 100\n",
        "vocab_size = len(tokenizer.word_index)+1"
      ],
      "metadata": {
        "execution": {
          "iopub.status.busy": "2021-12-03T15:34:35.286039Z",
          "iopub.execute_input": "2021-12-03T15:34:35.286935Z",
          "iopub.status.idle": "2021-12-03T15:34:35.333506Z",
          "shell.execute_reply.started": "2021-12-03T15:34:35.286886Z",
          "shell.execute_reply": "2021-12-03T15:34:35.332838Z"
        },
        "trusted": true,
        "id": "AopguNXjjRQH"
      },
      "execution_count": null,
      "outputs": []
    },
    {
      "cell_type": "code",
      "source": [],
      "metadata": {
        "execution": {
          "iopub.status.busy": "2021-12-03T15:34:47.606359Z",
          "iopub.execute_input": "2021-12-03T15:34:47.606608Z",
          "iopub.status.idle": "2021-12-03T15:41:10.13936Z",
          "shell.execute_reply.started": "2021-12-03T15:34:47.606579Z",
          "shell.execute_reply": "2021-12-03T15:41:10.138645Z"
        },
        "trusted": true,
        "id": "s4gbifdgjRQH"
      },
      "execution_count": null,
      "outputs": []
    },
    {
      "cell_type": "markdown",
      "source": [
        "8/ Evaluate your model over the test set."
      ],
      "metadata": {
        "id": "wo1Gpw8ofR2_"
      }
    },
    {
      "cell_type": "code",
      "source": [],
      "metadata": {
        "id": "4sZ_1kYDfXmY"
      },
      "execution_count": null,
      "outputs": []
    },
    {
      "cell_type": "markdown",
      "source": [
        "9/ Try the model you built in the previous question on the text in the above cell. You have to use handle_food_revi to preprocess the new text."
      ],
      "metadata": {
        "id": "DZr8w1sajRQI"
      }
    },
    {
      "cell_type": "code",
      "source": [
        "new_text = \"Dogs love them, My dogs love these!  They get extremely excited\\\n",
        "when they know they're about to get one.  Two of the three dogs we have are\\\n",
        "four years old and their teeth are really clean.  My older six year old still\\\n",
        "has some buildup but these do help her go a little longer between cleanings.\"\n",
        "\n",
        "from tensorflow.keras.preprocessing.sequence import pad_sequences\n",
        "\n",
        "def handle_food_review(text):\n",
        "    text_handle = clean_text(text)\n",
        "    text_handle = [text_handle.split()]\n",
        "    text_handle = tokenizer.texts_to_sequences(text_handle)\n",
        "    text_handle = pad_sequences(text_handle,maxlen=150,padding='post')\n",
        "    return(text_handle)\n",
        "\n",
        "#handle_food_review(new_text)"
      ],
      "metadata": {
        "execution": {
          "iopub.status.busy": "2021-12-03T16:18:02.742737Z",
          "iopub.execute_input": "2021-12-03T16:18:02.743339Z",
          "iopub.status.idle": "2021-12-03T16:18:02.752361Z",
          "shell.execute_reply.started": "2021-12-03T16:18:02.7433Z",
          "shell.execute_reply": "2021-12-03T16:18:02.751646Z"
        },
        "trusted": true,
        "id": "2SxTjFXgjRQJ"
      },
      "execution_count": null,
      "outputs": []
    },
    {
      "cell_type": "code",
      "source": [],
      "metadata": {
        "execution": {
          "iopub.status.busy": "2021-12-03T16:21:24.94288Z",
          "iopub.execute_input": "2021-12-03T16:21:24.943427Z",
          "iopub.status.idle": "2021-12-03T16:21:24.988325Z",
          "shell.execute_reply.started": "2021-12-03T16:21:24.94339Z",
          "shell.execute_reply": "2021-12-03T16:21:24.987635Z"
        },
        "trusted": true,
        "id": "ArNvJ3QEjRQJ"
      },
      "execution_count": null,
      "outputs": []
    },
    {
      "cell_type": "markdown",
      "source": [
        "10/ Build a CNN with the following layers:\n",
        "* an Embedding layer with output_dim=100\n",
        "* a Dropout with rate = 0.1\n",
        "* a SeparableConv1D with 70 filters, kernel_size of 5, a relu activation and padding='same'\n",
        "* a SeparableConv1D with 70 filters, kernel_size of 5, a relu activation and padding='same'\n",
        "* MaxPooling1D()\n",
        "* a SeparableConv1D with 140 filters, kernel_size of 5, a relu activation and padding='same'\n",
        "* a SeparableConv1D with 140 filters, kernel_size of 5, a relu activation and padding='same'\n",
        "* a GlobalAveragePooling1D()\n",
        "* a Dropout with rate = 0.1\n",
        "* a last Dense layer\n",
        "\n",
        "compile your model with optimizer='adam' , loss='sparse_categorical_crossentropy' and metrics=['accuracy']. Train your model with 6 epochs and validation_split=0.1"
      ],
      "metadata": {
        "id": "CLyNbYBrjRQK"
      }
    },
    {
      "cell_type": "code",
      "source": [
        "from tensorflow.python.keras.layers import Dense, Dropout, Embedding, SeparableConv1D\n",
        "from tensorflow.python.keras.layers import MaxPooling1D,GlobalAveragePooling1D\n",
        "from tensorflow.keras.models import Sequential\n",
        "\n",
        "embedding_dim = 100\n",
        "vocab_size = len(tokenizer.word_index)+1\n",
        "\n",
        "model_elab = Sequential()\n"
      ],
      "metadata": {
        "execution": {
          "iopub.status.busy": "2021-12-03T17:17:05.739214Z",
          "iopub.execute_input": "2021-12-03T17:17:05.739849Z",
          "iopub.status.idle": "2021-12-03T17:17:05.77286Z",
          "shell.execute_reply.started": "2021-12-03T17:17:05.739784Z",
          "shell.execute_reply": "2021-12-03T17:17:05.772199Z"
        },
        "trusted": true,
        "id": "pWBi0pwljRQL"
      },
      "execution_count": null,
      "outputs": []
    }
  ]
}