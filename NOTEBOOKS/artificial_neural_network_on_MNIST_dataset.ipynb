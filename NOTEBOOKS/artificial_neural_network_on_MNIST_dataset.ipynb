{
  "metadata": {
    "kernelspec": {
      "language": "python",
      "display_name": "Python 3",
      "name": "python3"
    },
    "language_info": {
      "name": "python",
      "version": "3.7.9",
      "mimetype": "text/x-python",
      "codemirror_mode": {
        "name": "ipython",
        "version": 3
      },
      "pygments_lexer": "ipython3",
      "nbconvert_exporter": "python",
      "file_extension": ".py"
    },
    "colab": {
      "name": "artificial-neural-network  on MNIST dataset.ipynb",
      "provenance": [],
      "include_colab_link": true
    }
  },
  "nbformat_minor": 0,
  "nbformat": 4,
  "cells": [
    {
      "cell_type": "markdown",
      "metadata": {
        "id": "view-in-github",
        "colab_type": "text"
      },
      "source": [
        "<a href=\"https://colab.research.google.com/github/fabnancyuhp/DEEP-LEARNING/blob/main/NOTEBOOKS/artificial_neural_network_on_MNIST_dataset.ipynb\" target=\"_parent\"><img src=\"https://colab.research.google.com/assets/colab-badge.svg\" alt=\"Open In Colab\"/></a>"
      ]
    },
    {
      "cell_type": "markdown",
      "source": [
        "# Exemple : image classification on Fashion-MNIST dataset\n",
        "Fashion-MNIST is a dataset of Zalando's article images—consisting of a training set of 60,000 examples and a test set of 10,000 examples. Each example is a 28x28 grayscale image, associated with a label from 10 classes. Each example is assigned to one of the following labels:  T-shirt/top, Trouser, Pullover, Dress, Coat, Sandal, Shirt, Sneaker, Bag, Ankle boot.<br><br>\n",
        "In this example, we build a neural network to classify images as fashion articles. \n"
      ],
      "metadata": {
        "execution": {
          "iopub.status.busy": "2021-08-08T13:29:03.628099Z",
          "iopub.execute_input": "2021-08-08T13:29:03.629286Z",
          "iopub.status.idle": "2021-08-08T13:29:03.635403Z",
          "shell.execute_reply.started": "2021-08-08T13:29:03.629137Z",
          "shell.execute_reply": "2021-08-08T13:29:03.63449Z"
        },
        "id": "_GvUOzn6kuPP"
      }
    },
    {
      "cell_type": "markdown",
      "source": [
        "https://www.kaggle.com/songulerdem/car-sales-forecast-with-multi-layer-perceptron"
      ],
      "metadata": {
        "id": "jZQKK0dWo0wT"
      }
    },
    {
      "cell_type": "markdown",
      "source": [
        "## Load Dataset\n",
        "Run the cell below to load the Fashion-MNIST dataset."
      ],
      "metadata": {
        "id": "IUmKJpjBivhk"
      }
    },
    {
      "cell_type": "code",
      "source": [
        "from tensorflow.keras.datasets import fashion_mnist \n",
        "(x_train, y_train), (x_test, y_test) = fashion_mnist.load_data()"
      ],
      "metadata": {
        "execution": {
          "iopub.status.busy": "2021-08-08T14:55:42.941758Z",
          "iopub.execute_input": "2021-08-08T14:55:42.942173Z",
          "iopub.status.idle": "2021-08-08T14:55:43.44146Z",
          "shell.execute_reply.started": "2021-08-08T14:55:42.942137Z",
          "shell.execute_reply": "2021-08-08T14:55:43.440445Z"
        },
        "trusted": true,
        "id": "PYOzebNukuPP"
      },
      "execution_count": 46,
      "outputs": []
    },
    {
      "cell_type": "markdown",
      "source": [
        "Here, we create a dictionary of the articles."
      ],
      "metadata": {
        "id": "OddxCb02BGH9"
      }
    },
    {
      "cell_type": "code",
      "source": [
        "codes_to_articles = {0:'T-shirt/top',1:'Trouser',2:'Pullover',3:'Dress',4:'Coat',5:'Sandal',6:'Shirt',7:'Sneaker',8:'Bag',9:'Ankle boot'}"
      ],
      "metadata": {
        "id": "v-XCaF0BBbFG"
      },
      "execution_count": 2,
      "outputs": []
    },
    {
      "cell_type": "markdown",
      "source": [
        "We display the shape of the training set and the test set. The train set has 60 000 images of shape (28,28). The test set has 10 000 images of shape (28,28). "
      ],
      "metadata": {
        "id": "wuMdewpCDjq7"
      }
    },
    {
      "cell_type": "code",
      "source": [
        "print(\"shape of train set:\"+str(x_train.shape))\n",
        "print(\"shape of test set:\"+str(x_test.shape))\n",
        "\n",
        "train_image_25 = x_train[25]\n",
        "print(\"shape of train_image_25 :\"+str(x_train[25].shape))"
      ],
      "metadata": {
        "colab": {
          "base_uri": "https://localhost:8080/"
        },
        "id": "2nNzKbOvD1_X",
        "outputId": "fdcbbd5b-261d-4804-8a07-071bb530a68f"
      },
      "execution_count": 3,
      "outputs": [
        {
          "output_type": "stream",
          "name": "stdout",
          "text": [
            "shape of train set:(60000, 28, 28)\n",
            "shape of test set:(10000, 28, 28)\n",
            "shape of train_image_25 :(28, 28)\n"
          ]
        }
      ]
    },
    {
      "cell_type": "markdown",
      "source": [
        "We plot the image 25:"
      ],
      "metadata": {
        "id": "ocRGDqh_FRr0"
      }
    },
    {
      "cell_type": "code",
      "source": [
        "import matplotlib.pyplot as plt\n",
        "plt.figure(figsize=(2,2))\n",
        "plt.imshow(x_train[25])\n",
        "plt.title(codes_to_articles[y_train[25]])"
      ],
      "metadata": {
        "execution": {
          "iopub.status.busy": "2021-08-08T14:55:53.712752Z",
          "iopub.execute_input": "2021-08-08T14:55:53.713176Z",
          "iopub.status.idle": "2021-08-08T14:55:53.892846Z",
          "shell.execute_reply.started": "2021-08-08T14:55:53.713139Z",
          "shell.execute_reply": "2021-08-08T14:55:53.891809Z"
        },
        "trusted": true,
        "colab": {
          "base_uri": "https://localhost:8080/",
          "height": 190
        },
        "id": "c_M2tCRPkuPQ",
        "outputId": "b2a3fe51-5068-433f-e7a7-060c14b88e88"
      },
      "execution_count": 5,
      "outputs": [
        {
          "output_type": "execute_result",
          "data": {
            "text/plain": [
              "Text(0.5, 1.0, 'Dress')"
            ]
          },
          "metadata": {},
          "execution_count": 5
        },
        {
          "output_type": "display_data",
          "data": {
            "image/png": "[encoded data removed]",
            "text/plain": [
              "<Figure size 144x144 with 1 Axes>"
            ]
          },
          "metadata": {
            "needs_background": "light"
          }
        }
      ]
    },
    {
      "cell_type": "markdown",
      "source": [
        "We plot 9 images from the training set:"
      ],
      "metadata": {
        "id": "3_aTz4hML0fw"
      }
    },
    {
      "cell_type": "code",
      "source": [
        "import matplotlib.pyplot as plt\n",
        "#i = 0\n",
        "plt.figure(figsize=(20,40))\n",
        "for i in range(0,9):\n",
        "  plt.subplot(1,10,i+1)\n",
        "  plt.imshow(x_train[i])\n",
        "  plt.title(codes_to_articles[y_train[i]])\n",
        "  plt.axis(\"off\")"
      ],
      "metadata": {
        "colab": {
          "base_uri": "https://localhost:8080/",
          "height": 141
        },
        "id": "sS_iQmGML1BM",
        "outputId": "4801787d-e476-49db-8656-b568d59f41ea"
      },
      "execution_count": 41,
      "outputs": [
        {
          "output_type": "display_data",
          "data": {
            "image/png": "[encoded data removed]",
            "text/plain": [
              "<Figure size 1440x2880 with 9 Axes>"
            ]
          },
          "metadata": {
            "needs_background": "light"
          }
        }
      ]
    },
    {
      "cell_type": "markdown",
      "source": [
        "## Flatten layer\n",
        "Flatten is used to flatten the input. For example, if flatten is applied to layer having input shape as (batch_size, 28,28), then the output shape of the layer will be (batch_size,28*28). "
      ],
      "metadata": {
        "id": "TuftsYxxQCUO"
      }
    },
    {
      "cell_type": "code",
      "source": [
        "from tensorflow.keras.layers import Flatten\n",
        "\n",
        "print(\"shape before: \"+str(x_train[25].shape))\n",
        "X_output = Flatten()(x_train[25].reshape(1,28,28))\n",
        "X_output.shape"
      ],
      "metadata": {
        "colab": {
          "base_uri": "https://localhost:8080/"
        },
        "id": "eV60elrwRD4d",
        "outputId": "731b9cb1-59c6-44c7-c384-334dd38f2268"
      },
      "execution_count": 6,
      "outputs": [
        {
          "output_type": "stream",
          "name": "stdout",
          "text": [
            "shape before: (28, 28)\n"
          ]
        },
        {
          "output_type": "execute_result",
          "data": {
            "text/plain": [
              "TensorShape([1, 784])"
            ]
          },
          "metadata": {},
          "execution_count": 6
        }
      ]
    },
    {
      "cell_type": "markdown",
      "source": [
        "## Define model\n",
        "In Tensorflow.Keras, you assemble layers to build models. A model is (usually) a graph of layers. The most common type of model is a stack of layers: the sequential model.<br><br> \n",
        "In this section we build an ANN (artificial neural network) with the following layers\n",
        "* an Input layer\n",
        "* a Flatten layer\n",
        "* a Dense layer with 128 units and activation='relu'\n",
        "* a Dense layer with 10 units and acitvation='sofmax'\n",
        "\n",
        "The last layer is a Dense one with 10 units and a softmax activation since we have 10 classes. This last layer outputs a probability vector."
      ],
      "metadata": {
        "id": "MjQhDZIrkHGm"
      }
    },
    {
      "cell_type": "code",
      "source": [
        "from tensorflow.keras.layers import Dense, Flatten, InputLayer\n",
        "from tensorflow.keras.models import Sequential\n",
        "\n",
        "model_1 = Sequential()\n",
        "model_1.add(InputLayer(input_shape=(28,28)))\n",
        "model_1.add(Flatten())\n",
        "model_1.add(Dense(128,activation='relu'))\n",
        "model_1.add(Dense(10,activation='softmax'))"
      ],
      "metadata": {
        "id": "S51Gl2nWQJB8"
      },
      "execution_count": 7,
      "outputs": []
    },
    {
      "cell_type": "markdown",
      "source": [
        "We can build the same ANN without InputLayer and let the first layer to have the input_shape. Keras will add a input for the model behind the scene."
      ],
      "metadata": {
        "id": "XbsGB7obv7Lq"
      }
    },
    {
      "cell_type": "code",
      "source": [
        "from tensorflow.keras.layers import Dense, Flatten\n",
        "from tensorflow.keras.models import Sequential\n",
        "\n",
        "model_2= Sequential()\n",
        "model_2.add(Flatten(input_shape=(28,28)))\n",
        "model_2.add(Dense(128,activation='relu'))\n",
        "model_2.add(Dense(10,activation='softmax'))"
      ],
      "metadata": {
        "id": "NsV7yAaywUqx"
      },
      "execution_count": 34,
      "outputs": []
    },
    {
      "cell_type": "markdown",
      "source": [
        "Once we have defined the ANN, we have to compile it. During the compile stage, we define:\n",
        "* the loss of the model\n",
        "* the optimizer for the gradient descent \n",
        "* the metric"
      ],
      "metadata": {
        "id": "nBHLabEnx5Ud"
      }
    },
    {
      "cell_type": "code",
      "source": [
        "model_1.compile(optimizer='adam',loss='categorical_crossentropy',metrics=['accuracy'])"
      ],
      "metadata": {
        "id": "WCXLDoVc0FV7"
      },
      "execution_count": 9,
      "outputs": []
    },
    {
      "cell_type": "markdown",
      "source": [
        "## Convert y_train and y_test to binary class matrix\n",
        "tf.keras.utils.to_categorical converts a class vector (integers) to binary class matrix. "
      ],
      "metadata": {
        "id": "zYWDpSef1NPL"
      }
    },
    {
      "cell_type": "code",
      "source": [
        "from tensorflow.keras.utils import to_categorical\n",
        "y_train_cat = to_categorical(y_train,num_classes=10)\n",
        "y_test_cat = to_categorical(y_test,num_classes=10)\n",
        "y_train_cat"
      ],
      "metadata": {
        "id": "pyrSZulf12vZ"
      },
      "execution_count": 14,
      "outputs": []
    },
    {
      "cell_type": "markdown",
      "source": [
        "## normalizing data\n",
        "In the Fashion-MNIST dataset 28x28 pixels are used to modelized each image. The pixel values are in the range of 0 to 255 for each. It’s good practice to work with normalized data. We standardize the pixel values to the [0, 1] range by devising each pixel value by 255."
      ],
      "metadata": {
        "id": "O4MMt2QWl-th"
      }
    },
    {
      "cell_type": "code",
      "source": [
        "x_train_norm = x_train/255\n",
        "x_test_norm = x_test/255"
      ],
      "metadata": {
        "id": "ksRXNCzol9N6"
      },
      "execution_count": 13,
      "outputs": []
    },
    {
      "cell_type": "markdown",
      "source": [
        "## Fit the model and evaluate it\n",
        "We fit the model_1 with 10 epochs and validation_split=0.1."
      ],
      "metadata": {
        "id": "ZMzlyO000VUm"
      }
    },
    {
      "cell_type": "code",
      "source": [
        "model_1.fit(x_train_norm,y_train_cat,epochs=10,validation_split=0.1)"
      ],
      "metadata": {
        "id": "IqnmzAy80gB7"
      },
      "execution_count": 16,
      "outputs": []
    },
    {
      "cell_type": "markdown",
      "source": [
        "Now, we can evaluate the model on the test set:"
      ],
      "metadata": {
        "id": "e03T7g33oGvE"
      }
    },
    {
      "cell_type": "code",
      "source": [
        "model_1.evaluate(x_test_norm,y_test_cat)"
      ],
      "metadata": {
        "colab": {
          "base_uri": "https://localhost:8080/"
        },
        "id": "t6eM7PAgpNAq",
        "outputId": "80138f94-d27e-4d51-d731-033625a6cd87"
      },
      "execution_count": 17,
      "outputs": [
        {
          "output_type": "stream",
          "name": "stdout",
          "text": [
            "313/313 [==============================] - 1s 3ms/step - loss: 0.3510 - accuracy: 0.8795\n"
          ]
        },
        {
          "output_type": "execute_result",
          "data": {
            "text/plain": [
              "[0.35103997588157654, 0.8794999718666077]"
            ]
          },
          "metadata": {},
          "execution_count": 17
        }
      ]
    },
    {
      "cell_type": "markdown",
      "source": [
        "We save the model in h5 format:"
      ],
      "metadata": {
        "id": "pCU9dBiCpirV"
      }
    },
    {
      "cell_type": "code",
      "source": [
        "model_1.save(\"./model_1.h5\")"
      ],
      "metadata": {
        "id": "Y_SrxIdLr5Rs"
      },
      "execution_count": 18,
      "outputs": []
    },
    {
      "cell_type": "markdown",
      "source": [
        "## Trying the model with a new image\n",
        "First we plot the image we will pass to the model: it's a Coat. "
      ],
      "metadata": {
        "id": "wY8h4gIpsBbT"
      }
    },
    {
      "cell_type": "code",
      "source": [
        "new_image = x_test[50]\n",
        "import matplotlib.pyplot as plt\n",
        "plt.imshow(new_image)"
      ],
      "metadata": {
        "colab": {
          "base_uri": "https://localhost:8080/",
          "height": 282
        },
        "id": "oI0MdRJ3uxR1",
        "outputId": "96a313f3-c8e2-4826-db3e-5cd683b0f9c9"
      },
      "execution_count": 22,
      "outputs": [
        {
          "output_type": "execute_result",
          "data": {
            "text/plain": [
              "<matplotlib.image.AxesImage at 0x7f4c5ff889d0>"
            ]
          },
          "metadata": {},
          "execution_count": 22
        },
        {
          "output_type": "display_data",
          "data": {
            "image/png": "[encoded data removed]",
            "text/plain": [
              "<Figure size 432x288 with 1 Axes>"
            ]
          },
          "metadata": {
            "needs_background": "light"
          }
        }
      ]
    },
    {
      "cell_type": "markdown",
      "source": [
        "We preprocess the image : we normalize and reshape the image we will pass to the model."
      ],
      "metadata": {
        "id": "IdF3R_KX7dCS"
      }
    },
    {
      "cell_type": "code",
      "source": [
        "new_image = x_test[50]/255\n",
        "new_image = new_image.reshape(1,28,28)\n",
        "true_label = y_test[50]"
      ],
      "metadata": {
        "id": "4HdJV9yGs13H"
      },
      "execution_count": 32,
      "outputs": []
    },
    {
      "cell_type": "markdown",
      "source": [
        "We create a probability vector with the .predict method."
      ],
      "metadata": {
        "id": "zRpzPTT890mp"
      }
    },
    {
      "cell_type": "code",
      "source": [
        "vect_proba = model_1.predict(new_image)\n",
        "vect_proba"
      ],
      "metadata": {
        "colab": {
          "base_uri": "https://localhost:8080/"
        },
        "id": "rA4_ABlu-Lyd",
        "outputId": "39cf2a78-f08f-4eff-f2b9-be180381be9a"
      },
      "execution_count": 29,
      "outputs": [
        {
          "output_type": "execute_result",
          "data": {
            "text/plain": [
              "array([[1.0660829e-04, 6.7404990e-06, 3.6417544e-02, 2.9443548e-08,\n",
              "        7.9127234e-01, 5.8475950e-14, 1.7219192e-01, 1.2243681e-09,\n",
              "        2.9631690e-06, 1.8088770e-06]], dtype=float32)"
            ]
          },
          "metadata": {},
          "execution_count": 29
        }
      ]
    },
    {
      "cell_type": "markdown",
      "source": [
        "We display the predicted classe :"
      ],
      "metadata": {
        "id": "X1JTZZa1_Ox4"
      }
    },
    {
      "cell_type": "code",
      "source": [
        "import numpy as np\n",
        "codes_to_articles[np.argmax(vect_proba)]"
      ],
      "metadata": {
        "colab": {
          "base_uri": "https://localhost:8080/",
          "height": 35
        },
        "id": "w5Hi5fVJ_IyA",
        "outputId": "cc961180-c4ce-4dfe-ffa7-0f34ddea95ea"
      },
      "execution_count": 31,
      "outputs": [
        {
          "output_type": "execute_result",
          "data": {
            "application/vnd.google.colaboratory.intrinsic+json": {
              "type": "string"
            },
            "text/plain": [
              "'Coat'"
            ]
          },
          "metadata": {},
          "execution_count": 31
        }
      ]
    },
    {
      "cell_type": "markdown",
      "source": [
        "## Build an other model\n",
        "In this section we build an ANN (artificial neural network) with the following layers\n",
        "\n",
        "* a Flatten layer\n",
        "* a BatchNormalization layer\n",
        "* a Dense layer with 65 units and activation='relu'\n",
        "* a Dropout layer with rate 0.2\n",
        "* a Dense layer with 20 units and activation='relu'\n",
        "* a Dropout layer with rate 0.1 \n",
        "* a Dense layer with 10 units and acitvation='sofmax'\n",
        "\n",
        "We fit the model with 20 epochs and validation_splits=0.1."
      ],
      "metadata": {
        "id": "b5lj0o2qDCbV"
      }
    },
    {
      "cell_type": "code",
      "source": [
        "from tensorflow.keras.layers import Dense,InputLayer, BatchNormalization, Flatten, Dropout\n",
        "from tensorflow.keras.models import Sequential\n",
        "\n",
        "model_3 = Sequential()\n",
        "model_3.add(Flatten(input_shape=(28,28)))\n",
        "model_3.add(BatchNormalization())\n",
        "model_3.add(Dense(100,activation='relu'))\n",
        "model_3.add(Dropout(0.2))\n",
        "model_3.add(Dense(20,activation='relu'))\n",
        "model_3.add(Dropout(0.1))\n",
        "model_3.add(Dense(10,activation='softmax'))\n",
        "\n",
        "model_3.compile(optimizer='adam',loss='categorical_crossentropy',metrics=['accuracy'])\n",
        "model_3.fit(x_train_norm,y_train_cat,epochs=20,validation_split=0.1)\n",
        "model_3.evaluate(x_test_norm,y_test_cat)"
      ],
      "metadata": {
        "id": "fENEsqLKEcPV"
      },
      "execution_count": 43,
      "outputs": []
    },
    {
      "cell_type": "markdown",
      "source": [
        "# Exercice : digits prediction\n",
        "The MNIST database (Modified National Institute of Standards and Technology database) is a large database of handwritten digits consisting of a training set of 60,000 examples and a test set of 10,000 examples. Each example is a 28x28 grayscale image.<br><br>\n",
        "The goal of this exercise is to build a model able to predict the digits on an image. Run the cell below to load the data. Before doing this exercise, you should read the example.\n",
        "\n",
        "\n"
      ],
      "metadata": {
        "id": "aZ-vZ36bM77U"
      }
    },
    {
      "cell_type": "code",
      "source": [
        "import numpy as np\n",
        "from tensorflow.keras.datasets import mnist \n",
        "(x_train, y_train), (x_test, y_test) = mnist.load_data()\n",
        "\n",
        "x_train = x_train[np.isin(y_train,[0,1,2,3,4,5])]\n",
        "y_train = y_train[np.isin(y_train,[0,1,2,3,4,5])]\n",
        "x_test = x_test[np.isin(y_test,[0,1,2,3,4,5])]\n",
        "y_test = y_test[np.isin(y_test,[0,1,2,3,4,5])]"
      ],
      "metadata": {
        "colab": {
          "base_uri": "https://localhost:8080/"
        },
        "id": "PN04-J81s07h",
        "outputId": "844ffedb-eaaf-487c-d485-a3f37f6fb22a"
      },
      "execution_count": 1,
      "outputs": [
        {
          "output_type": "stream",
          "name": "stdout",
          "text": [
            "Downloading data from https://storage.googleapis.com/tensorflow/tf-keras-datasets/mnist.npz\n",
            "11493376/11490434 [==============================] - 0s 0us/step\n",
            "11501568/11490434 [==============================] - 0s 0us/step\n"
          ]
        }
      ]
    },
    {
      "cell_type": "markdown",
      "source": [
        "1/ How many distinct classes are there in the dataset? Plot an image of each class."
      ],
      "metadata": {
        "id": "s_IKRcabV2ZI"
      }
    },
    {
      "cell_type": "code",
      "source": [
        "#how many distinct classes are there in the dataset?\n",
        "import numpy as np"
      ],
      "metadata": {
        "colab": {
          "base_uri": "https://localhost:8080/"
        },
        "id": "K5sYJiO5vjiA",
        "outputId": "77e14a6a-fc33-4e9a-b5ea-c6c5e876a413"
      },
      "execution_count": 2,
      "outputs": [
        {
          "output_type": "execute_result",
          "data": {
            "text/plain": [
              "array([0, 1, 2, 3, 4, 5], dtype=uint8)"
            ]
          },
          "metadata": {},
          "execution_count": 2
        }
      ]
    },
    {
      "cell_type": "code",
      "source": [
        "#Plot an image of each class\n",
        "import matplotlib.pyplot as plt\n",
        "for cla in np.unique(y_train):\n",
        "  plt.subplot(1,6,cla+1)\n",
        "  x_sel = x_train[y_train==cla][0]\n",
        "  plt.imshow(x_sel)"
      ],
      "metadata": {
        "colab": {
          "base_uri": "https://localhost:8080/",
          "height": 99
        },
        "id": "9QZ_v-yzv_jI",
        "outputId": "1b9e0537-ae8b-4904-91a6-a3c19fa0031b"
      },
      "execution_count": 7,
      "outputs": [
        {
          "output_type": "display_data",
          "data": {
            "image/png": "[encoded data removed]",
            "text/plain": [
              "<Figure size 432x288 with 6 Axes>"
            ]
          },
          "metadata": {
            "needs_background": "light"
          }
        }
      ]
    },
    {
      "cell_type": "markdown",
      "source": [
        "2/ What is the shape of x_train? What is the batch size of x_train? What is the shape of x_train[5]? What is the digit of x_train[5]? Plot x_train[5]."
      ],
      "metadata": {
        "id": "MfeTDgf5xEL7"
      }
    },
    {
      "cell_type": "code",
      "source": [
        ""
      ],
      "metadata": {
        "id": "3hMwVrh3xuwQ"
      },
      "execution_count": 46,
      "outputs": []
    },
    {
      "cell_type": "markdown",
      "source": [
        "3/ Standardize the images of the training and test set. Store the result in x_train stand and x_test stand. We standardize the pixel values to the [0, 1] range by devising each pixel value by 255."
      ],
      "metadata": {
        "id": "epVfK9djzLeF"
      }
    },
    {
      "cell_type": "code",
      "source": [
        "x_train_stand = \n",
        "x_test_stand = "
      ],
      "metadata": {
        "id": "2UDKx1g5z-XY"
      },
      "execution_count": 14,
      "outputs": []
    },
    {
      "cell_type": "markdown",
      "source": [
        "4/ Convert y_train and y_test to binary class matrix.\n",
        "use tf.keras.utils.to_categorical with num_classes = 6. Store the results into y_train_class and y_test_class."
      ],
      "metadata": {
        "id": "9NdwNDK00jx8"
      }
    },
    {
      "cell_type": "code",
      "source": [
        "from tensorflow.keras.utils import to_categorical\n",
        "y_train_class = \n",
        "y_test_class = "
      ],
      "metadata": {
        "id": "zDNgHWGo00U_"
      },
      "execution_count": 16,
      "outputs": []
    },
    {
      "cell_type": "markdown",
      "source": [
        "5/ Build an ANN (artificial neural network) called ANN_1 with the following layers\n",
        "* a Flatten layer with input_shape=(28,28)\n",
        "* a Dense layer with 60 units and activation='relu'\n",
        "* a Dense layer with 20 units and activation='relu'\n",
        "* the last Dense layer. The number of units is equal to the number of classes. The activation function should be properly chosen."
      ],
      "metadata": {
        "id": "qa1oIPg-23_l"
      }
    },
    {
      "cell_type": "code",
      "source": [
        "from tensorflow.keras.layers import Dense, Flatten\n",
        "from tensorflow.keras.models import Sequential\n",
        "\n",
        "ANN_1 = Sequential()"
      ],
      "metadata": {
        "id": "sOnCLa2U6qaa"
      },
      "execution_count": 20,
      "outputs": []
    },
    {
      "cell_type": "markdown",
      "source": [
        "Compile ANN with: a SGD optimizer, a categorical_crossentropy loss, and metrics=['accuracy']."
      ],
      "metadata": {
        "id": "N26oTOFe782v"
      }
    },
    {
      "cell_type": "code",
      "source": [
        ""
      ],
      "metadata": {
        "id": "MGpxAjnJ9MV1"
      },
      "execution_count": 25,
      "outputs": []
    },
    {
      "cell_type": "markdown",
      "source": [
        "6/ Fit ANN_1 with epochs=15 and validation_split=0.07. For this purpose you have to use x_train_stand,y_train_class. "
      ],
      "metadata": {
        "id": "0c0MRPVT-Np8"
      }
    },
    {
      "cell_type": "code",
      "source": [
        ""
      ],
      "metadata": {
        "id": "3jB8so1b-ga1"
      },
      "execution_count": 46,
      "outputs": []
    },
    {
      "cell_type": "markdown",
      "source": [
        "Evaluate ANN_1 over the test set."
      ],
      "metadata": {
        "id": "ZIn6mbsxBXkc"
      }
    },
    {
      "cell_type": "code",
      "source": [
        ""
      ],
      "metadata": {
        "id": "lgM597UKBdXJ"
      },
      "execution_count": 46,
      "outputs": []
    },
    {
      "cell_type": "markdown",
      "source": [
        "7/ Now, we use your ANN_1 model to predict the class of the following image:"
      ],
      "metadata": {
        "id": "5-a-6TS5B7vr"
      }
    },
    {
      "cell_type": "code",
      "source": [
        "import matplotlib.pyplot as plt\n",
        "plt.imshow(x_train[1998])"
      ],
      "metadata": {
        "colab": {
          "base_uri": "https://localhost:8080/",
          "height": 282
        },
        "id": "QfDYj_uNCMEi",
        "outputId": "5a2a268f-90c7-4532-849b-e1e639392462"
      },
      "execution_count": 28,
      "outputs": [
        {
          "output_type": "execute_result",
          "data": {
            "text/plain": [
              "<matplotlib.image.AxesImage at 0x7f149f911910>"
            ]
          },
          "metadata": {},
          "execution_count": 28
        },
        {
          "output_type": "display_data",
          "data": {
            "image/png": "[encoded data removed]",
            "text/plain": [
              "<Figure size 432x288 with 1 Axes>"
            ]
          },
          "metadata": {
            "needs_background": "light"
          }
        }
      ]
    },
    {
      "cell_type": "code",
      "source": [
        "image_to_predict = x_train[1998]/255\n",
        "image_to_predict = image_to_predict.reshape(1,28,28)"
      ],
      "metadata": {
        "id": "2R4yMfKlE409"
      },
      "execution_count": 29,
      "outputs": []
    },
    {
      "cell_type": "markdown",
      "source": [
        "Pass image_to_predict to your model and display the predicted class."
      ],
      "metadata": {
        "id": "h8qQzTbbFMi9"
      }
    },
    {
      "cell_type": "code",
      "source": [
        "import numpy as np\n"
      ],
      "metadata": {
        "id": "nf-lozSlFi13"
      },
      "execution_count": 47,
      "outputs": []
    },
    {
      "cell_type": "markdown",
      "source": [
        "8/ \n",
        "In this question we build an other ANN with the following layers\n",
        "\n",
        "* a Flatten layer\n",
        "* a BatchNormalization layer\n",
        "* a Dense layer with 70 units and activation='relu'\n",
        "* a Dropout layer with rate = 0.2\n",
        "* a Dense layer with 50 units and activation='relu'\n",
        "* a Dropout layer with rate 0.1 \n",
        "* a Dense layer with 15 units and activation='relu'\n",
        "* a dropout layer with rate 0.1\n",
        "* a Dense layer with 6 units and acitvation='sofmax'\n",
        "\n",
        "Compile this model with: an adam optimizer, a categorical_crossentropy loss, and metrics=['accuracy']. Don't fit this model."
      ],
      "metadata": {
        "id": "RS7hOL9nLLNk"
      }
    },
    {
      "cell_type": "code",
      "source": [
        "from tensorflow.keras.layers import Dense, Flatten, Dropout, BatchNormalization\n",
        "from tensorflow.keras.models import Sequential"
      ],
      "metadata": {
        "id": "v9AsXdrfM6P9"
      },
      "execution_count": 44,
      "outputs": []
    },
    {
      "cell_type": "markdown",
      "source": [
        "# RGB images in numpy\n"
      ],
      "metadata": {
        "id": "uhw2591skuPZ"
      }
    },
    {
      "cell_type": "markdown",
      "source": [
        "So far we dealt with grayscale images. Most of the time, we deal with RGB images. In this section, we explain how an RGB image is modeled in numpy."
      ],
      "metadata": {
        "id": "YleP1kgSkuPa"
      }
    },
    {
      "cell_type": "code",
      "source": [
        "import requests, io\n",
        "import numpy as np\n",
        "import matplotlib.pyplot as plt\n",
        "import h5py\n",
        "#Remove \"blob\",  Replace github.com by raw.githubusercontent.com\n",
        "url = \"https://raw.githubusercontent.com/fabnancyuhp/DEEP-LEARNING/main/DATA/test_catvnoncat.h5\"\n",
        "r = requests.get(url)\n",
        "hf = h5py.File(io.BytesIO(r.content),'r')\n",
        "test_set_x_orig = np.array(hf[\"test_set_x\"][:]) # your test set features\n",
        "test_set_y_orig = np.array(hf[\"test_set_y\"][:])"
      ],
      "metadata": {
        "execution": {
          "iopub.status.busy": "2021-08-24T14:12:56.253717Z",
          "iopub.execute_input": "2021-08-24T14:12:56.254294Z",
          "iopub.status.idle": "2021-08-24T14:12:56.558792Z",
          "shell.execute_reply.started": "2021-08-24T14:12:56.25424Z",
          "shell.execute_reply": "2021-08-24T14:12:56.557677Z"
        },
        "trusted": true,
        "id": "mXOVMETAkuPa"
      },
      "execution_count": 40,
      "outputs": []
    },
    {
      "cell_type": "markdown",
      "source": [
        "We display a picture. The shape of each picture is (64,64,3)."
      ],
      "metadata": {
        "id": "LLL7C1TrkuPb"
      }
    },
    {
      "cell_type": "code",
      "source": [
        "index = 15\n",
        "plt.imshow(test_set_x_orig[index])\n",
        "\n",
        "print(\"the shape of each picture is: \"+ str(test_set_x_orig[index].shape))"
      ],
      "metadata": {
        "execution": {
          "iopub.status.busy": "2021-08-22T13:36:57.286586Z",
          "iopub.execute_input": "2021-08-22T13:36:57.287014Z",
          "iopub.status.idle": "2021-08-22T13:36:57.469089Z",
          "shell.execute_reply.started": "2021-08-22T13:36:57.286979Z",
          "shell.execute_reply": "2021-08-22T13:36:57.468184Z"
        },
        "trusted": true,
        "colab": {
          "base_uri": "https://localhost:8080/",
          "height": 285
        },
        "id": "ofwbehDykuPc",
        "outputId": "576f28d0-3190-46ee-9b83-77690c2aec46"
      },
      "execution_count": 42,
      "outputs": [
        {
          "output_type": "stream",
          "name": "stdout",
          "text": [
            "the shape of each picture is: (64, 64, 3)\n"
          ]
        },
        {
          "output_type": "display_data",
          "data": {
            "image/png": "[encoded data removed]",
            "text/plain": [
              "<Figure size 432x288 with 1 Axes>"
            ]
          },
          "metadata": {
            "needs_background": "light"
          }
        }
      ]
    },
    {
      "cell_type": "markdown",
      "source": [
        "Actually, in this example, a picture is a NumPy object with 3 channels. Each channel is a Numpy object. In other words, a picture is a stack of the 3 channels. We display the 3 channels. We notice each channel is a picture.  "
      ],
      "metadata": {
        "id": "rKYg0LILkuPc"
      }
    },
    {
      "cell_type": "code",
      "source": [
        "f, axarr = plt.subplots(1,3)\n",
        "axarr[0].imshow(test_set_x_orig[index][:,:,0])\n",
        "axarr[1].imshow(test_set_x_orig[index][:,:,1])\n",
        "axarr[2].imshow(test_set_x_orig[index][:,:,2])"
      ],
      "metadata": {
        "execution": {
          "iopub.status.busy": "2021-08-22T14:23:09.117395Z",
          "iopub.execute_input": "2021-08-22T14:23:09.117747Z",
          "iopub.status.idle": "2021-08-22T14:23:09.4555Z",
          "shell.execute_reply.started": "2021-08-22T14:23:09.117714Z",
          "shell.execute_reply": "2021-08-22T14:23:09.454555Z"
        },
        "trusted": true,
        "colab": {
          "base_uri": "https://localhost:8080/",
          "height": 167
        },
        "id": "JTV252CykuPd",
        "outputId": "2103e85b-eddb-4bfd-cfde-2085d4503651"
      },
      "execution_count": 41,
      "outputs": [
        {
          "output_type": "execute_result",
          "data": {
            "text/plain": [
              "<matplotlib.image.AxesImage at 0x7f14a37325d0>"
            ]
          },
          "metadata": {},
          "execution_count": 41
        },
        {
          "output_type": "display_data",
          "data": {
            "image/png": "[encoded data removed]",
            "text/plain": [
              "<Figure size 432x288 with 3 Axes>"
            ]
          },
          "metadata": {
            "needs_background": "light"
          }
        }
      ]
    }
  ]
}