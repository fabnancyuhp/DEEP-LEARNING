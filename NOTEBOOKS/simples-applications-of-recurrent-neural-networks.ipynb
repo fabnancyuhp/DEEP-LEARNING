{
  "cells": [
    {
      "cell_type": "markdown",
      "metadata": {
        "id": "view-in-github",
        "colab_type": "text"
      },
      "source": [
        "<a href=\"https://colab.research.google.com/github/fabnancyuhp/DEEP-LEARNING/blob/main/NOTEBOOKS/simples-applications-of-recurrent-neural-networks.ipynb\" target=\"_parent\"><img src=\"https://colab.research.google.com/assets/colab-badge.svg\" alt=\"Open In Colab\"/></a>"
      ]
    },
    {
      "cell_type": "markdown",
      "metadata": {
        "collapsed": false,
        "id": "TsIx-R6acOfx"
      },
      "source": [
        "# Example : Gender Prediction by using names with LSTMs.\n",
        "In this example, we predict the gender of a name using an LSTM. LSTM stands Long short-term memory. LSTM is the most popular Recurrent Neural network. There is no duplicate in this database.  you have to import the data executing the cell below. There are 2 columns in this dataset : Name and Gender."
      ]
    },
    {
      "cell_type": "code",
      "execution_count": 1,
      "metadata": {
        "execution": {
          "iopub.execute_input": "2021-11-18T09:00:59.748001Z",
          "iopub.status.busy": "2021-11-18T09:00:59.747372Z",
          "iopub.status.idle": "2021-11-18T09:01:00.265913Z",
          "shell.execute_reply": "2021-11-18T09:01:00.264919Z",
          "shell.execute_reply.started": "2021-11-18T09:00:59.747844Z"
        },
        "trusted": true,
        "id": "9_wub4tdcOf2",
        "outputId": "e605200d-4f81-4372-ee11-d6f5b8d7914e",
        "colab": {
          "base_uri": "https://localhost:8080/",
          "height": 143
        }
      },
      "outputs": [
        {
          "output_type": "execute_result",
          "data": {
            "text/plain": [
              "        Name Gender\n",
              "92451  Tauno      M\n",
              "11925  Beuna      F\n",
              "72008  Nevan      M"
            ],
            "text/html": [
              "\n",
              "  <div id=\"df-f52baf40-7fdb-4388-977c-7d30c36eae6f\">\n",
              "    <div class=\"colab-df-container\">\n",
              "      <div>\n",
              "<style scoped>\n",
              "    .dataframe tbody tr th:only-of-type {\n",
              "        vertical-align: middle;\n",
              "    }\n",
              "\n",
              "    .dataframe tbody tr th {\n",
              "        vertical-align: top;\n",
              "    }\n",
              "\n",
              "    .dataframe thead th {\n",
              "        text-align: right;\n",
              "    }\n",
              "</style>\n",
              "<table border=\"1\" class=\"dataframe\">\n",
              "  <thead>\n",
              "    <tr style=\"text-align: right;\">\n",
              "      <th></th>\n",
              "      <th>Name</th>\n",
              "      <th>Gender</th>\n",
              "    </tr>\n",
              "  </thead>\n",
              "  <tbody>\n",
              "    <tr>\n",
              "      <th>92451</th>\n",
              "      <td>Tauno</td>\n",
              "      <td>M</td>\n",
              "    </tr>\n",
              "    <tr>\n",
              "      <th>11925</th>\n",
              "      <td>Beuna</td>\n",
              "      <td>F</td>\n",
              "    </tr>\n",
              "    <tr>\n",
              "      <th>72008</th>\n",
              "      <td>Nevan</td>\n",
              "      <td>M</td>\n",
              "    </tr>\n",
              "  </tbody>\n",
              "</table>\n",
              "</div>\n",
              "      <button class=\"colab-df-convert\" onclick=\"convertToInteractive('df-f52baf40-7fdb-4388-977c-7d30c36eae6f')\"\n",
              "              title=\"Convert this dataframe to an interactive table.\"\n",
              "              style=\"display:none;\">\n",
              "        \n",
              "  <svg xmlns=\"http://www.w3.org/2000/svg\" height=\"24px\"viewBox=\"0 0 24 24\"\n",
              "       width=\"24px\">\n",
              "    <path d=\"M0 0h24v24H0V0z\" fill=\"none\"/>\n",
              "    <path d=\"M18.56 5.44l.94 2.06.94-2.06 2.06-.94-2.06-.94-.94-2.06-.94 2.06-2.06.94zm-11 1L8.5 8.5l.94-2.06 2.06-.94-2.06-.94L8.5 2.5l-.94 2.06-2.06.94zm10 10l.94 2.06.94-2.06 2.06-.94-2.06-.94-.94-2.06-.94 2.06-2.06.94z\"/><path d=\"M17.41 7.96l-1.37-1.37c-.4-.4-.92-.59-1.43-.59-.52 0-1.04.2-1.43.59L10.3 9.45l-7.72 7.72c-.78.78-.78 2.05 0 2.83L4 21.41c.39.39.9.59 1.41.59.51 0 1.02-.2 1.41-.59l7.78-7.78 2.81-2.81c.8-.78.8-2.07 0-2.86zM5.41 20L4 18.59l7.72-7.72 1.47 1.35L5.41 20z\"/>\n",
              "  </svg>\n",
              "      </button>\n",
              "      \n",
              "  <style>\n",
              "    .colab-df-container {\n",
              "      display:flex;\n",
              "      flex-wrap:wrap;\n",
              "      gap: 12px;\n",
              "    }\n",
              "\n",
              "    .colab-df-convert {\n",
              "      background-color: #E8F0FE;\n",
              "      border: none;\n",
              "      border-radius: 50%;\n",
              "      cursor: pointer;\n",
              "      display: none;\n",
              "      fill: #1967D2;\n",
              "      height: 32px;\n",
              "      padding: 0 0 0 0;\n",
              "      width: 32px;\n",
              "    }\n",
              "\n",
              "    .colab-df-convert:hover {\n",
              "      background-color: #E2EBFA;\n",
              "      box-shadow: 0px 1px 2px rgba(60, 64, 67, 0.3), 0px 1px 3px 1px rgba(60, 64, 67, 0.15);\n",
              "      fill: #174EA6;\n",
              "    }\n",
              "\n",
              "    [theme=dark] .colab-df-convert {\n",
              "      background-color: #3B4455;\n",
              "      fill: #D2E3FC;\n",
              "    }\n",
              "\n",
              "    [theme=dark] .colab-df-convert:hover {\n",
              "      background-color: #434B5C;\n",
              "      box-shadow: 0px 1px 3px 1px rgba(0, 0, 0, 0.15);\n",
              "      filter: drop-shadow(0px 1px 2px rgba(0, 0, 0, 0.3));\n",
              "      fill: #FFFFFF;\n",
              "    }\n",
              "  </style>\n",
              "\n",
              "      <script>\n",
              "        const buttonEl =\n",
              "          document.querySelector('#df-f52baf40-7fdb-4388-977c-7d30c36eae6f button.colab-df-convert');\n",
              "        buttonEl.style.display =\n",
              "          google.colab.kernel.accessAllowed ? 'block' : 'none';\n",
              "\n",
              "        async function convertToInteractive(key) {\n",
              "          const element = document.querySelector('#df-f52baf40-7fdb-4388-977c-7d30c36eae6f');\n",
              "          const dataTable =\n",
              "            await google.colab.kernel.invokeFunction('convertToInteractive',\n",
              "                                                     [key], {});\n",
              "          if (!dataTable) return;\n",
              "\n",
              "          const docLinkHtml = 'Like what you see? Visit the ' +\n",
              "            '<a target=\"_blank\" href=https://colab.research.google.com/notebooks/data_table.ipynb>data table notebook</a>'\n",
              "            + ' to learn more about interactive tables.';\n",
              "          element.innerHTML = '';\n",
              "          dataTable['output_type'] = 'display_data';\n",
              "          await google.colab.output.renderOutput(dataTable, element);\n",
              "          const docLink = document.createElement('div');\n",
              "          docLink.innerHTML = docLinkHtml;\n",
              "          element.appendChild(docLink);\n",
              "        }\n",
              "      </script>\n",
              "    </div>\n",
              "  </div>\n",
              "  "
            ]
          },
          "metadata": {},
          "execution_count": 1
        }
      ],
      "source": [
        "import pandas as pd\n",
        "data = pd.read_csv(\"https://raw.githubusercontent.com/fabnancyuhp/DEEP-LEARNING/main/DATA/baby_names.csv\")\n",
        "data = data.sample(frac=1,random_state=1998)\n",
        "data.head(3)"
      ]
    },
    {
      "cell_type": "markdown",
      "metadata": {
        "collapsed": false,
        "id": "FSQTV36lcOf6"
      },
      "source": [
        "**Fist step:** We convert the names in lowercase."
      ]
    },
    {
      "cell_type": "code",
      "execution_count": 2,
      "metadata": {
        "execution": {
          "iopub.execute_input": "2021-11-18T09:01:34.317280Z",
          "iopub.status.busy": "2021-11-18T09:01:34.316667Z",
          "iopub.status.idle": "2021-11-18T09:01:34.410459Z",
          "shell.execute_reply": "2021-11-18T09:01:34.409090Z",
          "shell.execute_reply.started": "2021-11-18T09:01:34.317215Z"
        },
        "trusted": true,
        "id": "mbe1cVkmcOf8"
      },
      "outputs": [],
      "source": [
        "data['Name'] = data['Name'].apply(lambda x:x.lower())"
      ]
    },
    {
      "cell_type": "markdown",
      "metadata": {
        "collapsed": false,
        "id": "Ms1OxLrEcOf-"
      },
      "source": [
        "**Second step: encode the Gender.**<br>\n",
        "Since we want to predict the gender of name. For this purpose we have to encode the gender : 0 for F and 1 for M. To encode we can use labelencoder but in this notebook we encode with a shortcut."
      ]
    },
    {
      "cell_type": "code",
      "execution_count": 3,
      "metadata": {
        "execution": {
          "iopub.execute_input": "2021-11-18T09:01:39.660243Z",
          "iopub.status.busy": "2021-11-18T09:01:39.659927Z",
          "iopub.status.idle": "2021-11-18T09:01:39.964955Z",
          "shell.execute_reply": "2021-11-18T09:01:39.964134Z",
          "shell.execute_reply.started": "2021-11-18T09:01:39.660212Z"
        },
        "trusted": true,
        "id": "3bgNz72scOgA",
        "outputId": "1ff4c171-e718-4545-a3e7-fd38a9fdf12f",
        "colab": {
          "base_uri": "https://localhost:8080/",
          "height": 112
        }
      },
      "outputs": [
        {
          "output_type": "execute_result",
          "data": {
            "text/plain": [
              "        Name  Gender\n",
              "92451  tauno       1\n",
              "11925  beuna       0"
            ],
            "text/html": [
              "\n",
              "  <div id=\"df-02249d06-08eb-45be-81e7-3f37a357e04e\">\n",
              "    <div class=\"colab-df-container\">\n",
              "      <div>\n",
              "<style scoped>\n",
              "    .dataframe tbody tr th:only-of-type {\n",
              "        vertical-align: middle;\n",
              "    }\n",
              "\n",
              "    .dataframe tbody tr th {\n",
              "        vertical-align: top;\n",
              "    }\n",
              "\n",
              "    .dataframe thead th {\n",
              "        text-align: right;\n",
              "    }\n",
              "</style>\n",
              "<table border=\"1\" class=\"dataframe\">\n",
              "  <thead>\n",
              "    <tr style=\"text-align: right;\">\n",
              "      <th></th>\n",
              "      <th>Name</th>\n",
              "      <th>Gender</th>\n",
              "    </tr>\n",
              "  </thead>\n",
              "  <tbody>\n",
              "    <tr>\n",
              "      <th>92451</th>\n",
              "      <td>tauno</td>\n",
              "      <td>1</td>\n",
              "    </tr>\n",
              "    <tr>\n",
              "      <th>11925</th>\n",
              "      <td>beuna</td>\n",
              "      <td>0</td>\n",
              "    </tr>\n",
              "  </tbody>\n",
              "</table>\n",
              "</div>\n",
              "      <button class=\"colab-df-convert\" onclick=\"convertToInteractive('df-02249d06-08eb-45be-81e7-3f37a357e04e')\"\n",
              "              title=\"Convert this dataframe to an interactive table.\"\n",
              "              style=\"display:none;\">\n",
              "        \n",
              "  <svg xmlns=\"http://www.w3.org/2000/svg\" height=\"24px\"viewBox=\"0 0 24 24\"\n",
              "       width=\"24px\">\n",
              "    <path d=\"M0 0h24v24H0V0z\" fill=\"none\"/>\n",
              "    <path d=\"M18.56 5.44l.94 2.06.94-2.06 2.06-.94-2.06-.94-.94-2.06-.94 2.06-2.06.94zm-11 1L8.5 8.5l.94-2.06 2.06-.94-2.06-.94L8.5 2.5l-.94 2.06-2.06.94zm10 10l.94 2.06.94-2.06 2.06-.94-2.06-.94-.94-2.06-.94 2.06-2.06.94z\"/><path d=\"M17.41 7.96l-1.37-1.37c-.4-.4-.92-.59-1.43-.59-.52 0-1.04.2-1.43.59L10.3 9.45l-7.72 7.72c-.78.78-.78 2.05 0 2.83L4 21.41c.39.39.9.59 1.41.59.51 0 1.02-.2 1.41-.59l7.78-7.78 2.81-2.81c.8-.78.8-2.07 0-2.86zM5.41 20L4 18.59l7.72-7.72 1.47 1.35L5.41 20z\"/>\n",
              "  </svg>\n",
              "      </button>\n",
              "      \n",
              "  <style>\n",
              "    .colab-df-container {\n",
              "      display:flex;\n",
              "      flex-wrap:wrap;\n",
              "      gap: 12px;\n",
              "    }\n",
              "\n",
              "    .colab-df-convert {\n",
              "      background-color: #E8F0FE;\n",
              "      border: none;\n",
              "      border-radius: 50%;\n",
              "      cursor: pointer;\n",
              "      display: none;\n",
              "      fill: #1967D2;\n",
              "      height: 32px;\n",
              "      padding: 0 0 0 0;\n",
              "      width: 32px;\n",
              "    }\n",
              "\n",
              "    .colab-df-convert:hover {\n",
              "      background-color: #E2EBFA;\n",
              "      box-shadow: 0px 1px 2px rgba(60, 64, 67, 0.3), 0px 1px 3px 1px rgba(60, 64, 67, 0.15);\n",
              "      fill: #174EA6;\n",
              "    }\n",
              "\n",
              "    [theme=dark] .colab-df-convert {\n",
              "      background-color: #3B4455;\n",
              "      fill: #D2E3FC;\n",
              "    }\n",
              "\n",
              "    [theme=dark] .colab-df-convert:hover {\n",
              "      background-color: #434B5C;\n",
              "      box-shadow: 0px 1px 3px 1px rgba(0, 0, 0, 0.15);\n",
              "      filter: drop-shadow(0px 1px 2px rgba(0, 0, 0, 0.3));\n",
              "      fill: #FFFFFF;\n",
              "    }\n",
              "  </style>\n",
              "\n",
              "      <script>\n",
              "        const buttonEl =\n",
              "          document.querySelector('#df-02249d06-08eb-45be-81e7-3f37a357e04e button.colab-df-convert');\n",
              "        buttonEl.style.display =\n",
              "          google.colab.kernel.accessAllowed ? 'block' : 'none';\n",
              "\n",
              "        async function convertToInteractive(key) {\n",
              "          const element = document.querySelector('#df-02249d06-08eb-45be-81e7-3f37a357e04e');\n",
              "          const dataTable =\n",
              "            await google.colab.kernel.invokeFunction('convertToInteractive',\n",
              "                                                     [key], {});\n",
              "          if (!dataTable) return;\n",
              "\n",
              "          const docLinkHtml = 'Like what you see? Visit the ' +\n",
              "            '<a target=\"_blank\" href=https://colab.research.google.com/notebooks/data_table.ipynb>data table notebook</a>'\n",
              "            + ' to learn more about interactive tables.';\n",
              "          element.innerHTML = '';\n",
              "          dataTable['output_type'] = 'display_data';\n",
              "          await google.colab.output.renderOutput(dataTable, element);\n",
              "          const docLink = document.createElement('div');\n",
              "          docLink.innerHTML = docLinkHtml;\n",
              "          element.appendChild(docLink);\n",
              "        }\n",
              "      </script>\n",
              "    </div>\n",
              "  </div>\n",
              "  "
            ]
          },
          "metadata": {},
          "execution_count": 3
        }
      ],
      "source": [
        "data['Gender'] = data.astype('category').Gender.cat.codes\n",
        "data.head(2)"
      ]
    },
    {
      "cell_type": "markdown",
      "metadata": {
        "collapsed": false,
        "id": "b3L02DXocOgB"
      },
      "source": [
        "**Third step : encode the letters of each name.**<br>\n",
        "Encode the letter of each name means we make a focus on the neural network input. When the LSTM deals with the name  Tauno using the  notations of the course, we have:\n",
        "* $X^{<1>}$ is a vector representation of the letter t\n",
        "* $X^{<2>}$ is a vector representation of the letter a\n",
        "* .... $X^{<5>}$ is vector representation of the letter o\n",
        "\n",
        "Now we have to encode the letters of each name. The above steps allow us to apply an embedding layer as a vector representation."
      ]
    },
    {
      "cell_type": "code",
      "execution_count": 4,
      "metadata": {
        "execution": {
          "iopub.execute_input": "2021-11-18T09:01:45.673569Z",
          "iopub.status.busy": "2021-11-18T09:01:45.673244Z",
          "iopub.status.idle": "2021-11-18T09:01:46.002541Z",
          "shell.execute_reply": "2021-11-18T09:01:46.001359Z",
          "shell.execute_reply.started": "2021-11-18T09:01:45.673538Z"
        },
        "trusted": true,
        "id": "7UtgXuSvcOgE",
        "outputId": "945620e1-6f7e-4e01-f288-23d3b76a8be3",
        "colab": {
          "base_uri": "https://localhost:8080/",
          "height": 175
        }
      },
      "outputs": [
        {
          "output_type": "execute_result",
          "data": {
            "text/plain": [
              "                                               Name  Gender\n",
              "92451                           [20, 1, 21, 14, 15]       1\n",
              "11925                             [2, 5, 21, 14, 1]       0\n",
              "72008                            [14, 5, 22, 1, 14]       1\n",
              "6379   [1, 14, 14, 1, 3, 1, 20, 8, 5, 18, 9, 14, 5]       0"
            ],
            "text/html": [
              "\n",
              "  <div id=\"df-24e44dc9-0643-4549-b94b-a2b0ded23a24\">\n",
              "    <div class=\"colab-df-container\">\n",
              "      <div>\n",
              "<style scoped>\n",
              "    .dataframe tbody tr th:only-of-type {\n",
              "        vertical-align: middle;\n",
              "    }\n",
              "\n",
              "    .dataframe tbody tr th {\n",
              "        vertical-align: top;\n",
              "    }\n",
              "\n",
              "    .dataframe thead th {\n",
              "        text-align: right;\n",
              "    }\n",
              "</style>\n",
              "<table border=\"1\" class=\"dataframe\">\n",
              "  <thead>\n",
              "    <tr style=\"text-align: right;\">\n",
              "      <th></th>\n",
              "      <th>Name</th>\n",
              "      <th>Gender</th>\n",
              "    </tr>\n",
              "  </thead>\n",
              "  <tbody>\n",
              "    <tr>\n",
              "      <th>92451</th>\n",
              "      <td>[20, 1, 21, 14, 15]</td>\n",
              "      <td>1</td>\n",
              "    </tr>\n",
              "    <tr>\n",
              "      <th>11925</th>\n",
              "      <td>[2, 5, 21, 14, 1]</td>\n",
              "      <td>0</td>\n",
              "    </tr>\n",
              "    <tr>\n",
              "      <th>72008</th>\n",
              "      <td>[14, 5, 22, 1, 14]</td>\n",
              "      <td>1</td>\n",
              "    </tr>\n",
              "    <tr>\n",
              "      <th>6379</th>\n",
              "      <td>[1, 14, 14, 1, 3, 1, 20, 8, 5, 18, 9, 14, 5]</td>\n",
              "      <td>0</td>\n",
              "    </tr>\n",
              "  </tbody>\n",
              "</table>\n",
              "</div>\n",
              "      <button class=\"colab-df-convert\" onclick=\"convertToInteractive('df-24e44dc9-0643-4549-b94b-a2b0ded23a24')\"\n",
              "              title=\"Convert this dataframe to an interactive table.\"\n",
              "              style=\"display:none;\">\n",
              "        \n",
              "  <svg xmlns=\"http://www.w3.org/2000/svg\" height=\"24px\"viewBox=\"0 0 24 24\"\n",
              "       width=\"24px\">\n",
              "    <path d=\"M0 0h24v24H0V0z\" fill=\"none\"/>\n",
              "    <path d=\"M18.56 5.44l.94 2.06.94-2.06 2.06-.94-2.06-.94-.94-2.06-.94 2.06-2.06.94zm-11 1L8.5 8.5l.94-2.06 2.06-.94-2.06-.94L8.5 2.5l-.94 2.06-2.06.94zm10 10l.94 2.06.94-2.06 2.06-.94-2.06-.94-.94-2.06-.94 2.06-2.06.94z\"/><path d=\"M17.41 7.96l-1.37-1.37c-.4-.4-.92-.59-1.43-.59-.52 0-1.04.2-1.43.59L10.3 9.45l-7.72 7.72c-.78.78-.78 2.05 0 2.83L4 21.41c.39.39.9.59 1.41.59.51 0 1.02-.2 1.41-.59l7.78-7.78 2.81-2.81c.8-.78.8-2.07 0-2.86zM5.41 20L4 18.59l7.72-7.72 1.47 1.35L5.41 20z\"/>\n",
              "  </svg>\n",
              "      </button>\n",
              "      \n",
              "  <style>\n",
              "    .colab-df-container {\n",
              "      display:flex;\n",
              "      flex-wrap:wrap;\n",
              "      gap: 12px;\n",
              "    }\n",
              "\n",
              "    .colab-df-convert {\n",
              "      background-color: #E8F0FE;\n",
              "      border: none;\n",
              "      border-radius: 50%;\n",
              "      cursor: pointer;\n",
              "      display: none;\n",
              "      fill: #1967D2;\n",
              "      height: 32px;\n",
              "      padding: 0 0 0 0;\n",
              "      width: 32px;\n",
              "    }\n",
              "\n",
              "    .colab-df-convert:hover {\n",
              "      background-color: #E2EBFA;\n",
              "      box-shadow: 0px 1px 2px rgba(60, 64, 67, 0.3), 0px 1px 3px 1px rgba(60, 64, 67, 0.15);\n",
              "      fill: #174EA6;\n",
              "    }\n",
              "\n",
              "    [theme=dark] .colab-df-convert {\n",
              "      background-color: #3B4455;\n",
              "      fill: #D2E3FC;\n",
              "    }\n",
              "\n",
              "    [theme=dark] .colab-df-convert:hover {\n",
              "      background-color: #434B5C;\n",
              "      box-shadow: 0px 1px 3px 1px rgba(0, 0, 0, 0.15);\n",
              "      filter: drop-shadow(0px 1px 2px rgba(0, 0, 0, 0.3));\n",
              "      fill: #FFFFFF;\n",
              "    }\n",
              "  </style>\n",
              "\n",
              "      <script>\n",
              "        const buttonEl =\n",
              "          document.querySelector('#df-24e44dc9-0643-4549-b94b-a2b0ded23a24 button.colab-df-convert');\n",
              "        buttonEl.style.display =\n",
              "          google.colab.kernel.accessAllowed ? 'block' : 'none';\n",
              "\n",
              "        async function convertToInteractive(key) {\n",
              "          const element = document.querySelector('#df-24e44dc9-0643-4549-b94b-a2b0ded23a24');\n",
              "          const dataTable =\n",
              "            await google.colab.kernel.invokeFunction('convertToInteractive',\n",
              "                                                     [key], {});\n",
              "          if (!dataTable) return;\n",
              "\n",
              "          const docLinkHtml = 'Like what you see? Visit the ' +\n",
              "            '<a target=\"_blank\" href=https://colab.research.google.com/notebooks/data_table.ipynb>data table notebook</a>'\n",
              "            + ' to learn more about interactive tables.';\n",
              "          element.innerHTML = '';\n",
              "          dataTable['output_type'] = 'display_data';\n",
              "          await google.colab.output.renderOutput(dataTable, element);\n",
              "          const docLink = document.createElement('div');\n",
              "          docLink.innerHTML = docLinkHtml;\n",
              "          element.appendChild(docLink);\n",
              "        }\n",
              "      </script>\n",
              "    </div>\n",
              "  </div>\n",
              "  "
            ]
          },
          "metadata": {},
          "execution_count": 4
        }
      ],
      "source": [
        "#we get the alphabet\n",
        "import string\n",
        "letters = list(string.ascii_lowercase)\n",
        "vocab = dict(zip(letters,range(1,27)))\n",
        "\n",
        "#we create the reverse vocabulary\n",
        "r_vocab = dict(zip(range(1,27),letters))\n",
        "\n",
        "def letter_to_number(nom):\n",
        "    return([vocab[l] for l in list(nom)])\n",
        "\n",
        "data['Name'] = data['Name'].apply(lambda x:letter_to_number(x))\n",
        "data.head(4)"
      ]
    },
    {
      "cell_type": "code",
      "execution_count": null,
      "metadata": {
        "execution": {
          "iopub.execute_input": "2021-11-16T16:00:01.732408Z",
          "iopub.status.busy": "2021-11-16T16:00:01.732138Z",
          "iopub.status.idle": "2021-11-16T16:00:01.738078Z",
          "shell.execute_reply": "2021-11-16T16:00:01.737184Z",
          "shell.execute_reply.started": "2021-11-16T16:00:01.732381Z"
        },
        "trusted": true,
        "id": "IzZkfXb6cOgI",
        "outputId": "e7f4ab76-c374-490c-ad5a-790e5f321d41",
        "colab": {
          "base_uri": "https://localhost:8080/"
        }
      },
      "outputs": [
        {
          "output_type": "stream",
          "name": "stdout",
          "text": [
            "{'a': 1, 'b': 2, 'c': 3, 'd': 4, 'e': 5, 'f': 6, 'g': 7, 'h': 8, 'i': 9, 'j': 10, 'k': 11, 'l': 12, 'm': 13, 'n': 14, 'o': 15, 'p': 16, 'q': 17, 'r': 18, 's': 19, 't': 20, 'u': 21, 'v': 22, 'w': 23, 'x': 24, 'y': 25, 'z': 26}\n"
          ]
        }
      ],
      "source": [
        "print(vocab)"
      ]
    },
    {
      "cell_type": "code",
      "execution_count": 5,
      "metadata": {
        "execution": {
          "iopub.execute_input": "2021-11-16T16:00:06.611342Z",
          "iopub.status.busy": "2021-11-16T16:00:06.61056Z",
          "iopub.status.idle": "2021-11-16T16:00:06.617184Z",
          "shell.execute_reply": "2021-11-16T16:00:06.61618Z",
          "shell.execute_reply.started": "2021-11-16T16:00:06.611303Z"
        },
        "trusted": true,
        "id": "34-9SV9DcOgK",
        "outputId": "534bbdb9-586a-4e6b-ee57-9b37add4e5b4",
        "colab": {
          "base_uri": "https://localhost:8080/"
        }
      },
      "outputs": [
        {
          "output_type": "execute_result",
          "data": {
            "text/plain": [
              "[13, 1, 18, 3]"
            ]
          },
          "metadata": {},
          "execution_count": 5
        }
      ],
      "source": [
        "letter_to_number('marc')"
      ]
    },
    {
      "cell_type": "markdown",
      "metadata": {
        "collapsed": false,
        "id": "lMFXM-rncOgL"
      },
      "source": [
        "Now, we notice the lengths of the encoded names are imbalanced. The input size of an LSTM should be constant. We build a histogram of the name length to visualize the size distribution of the names. We choose a maximum size of 10."
      ]
    },
    {
      "cell_type": "code",
      "execution_count": 6,
      "metadata": {
        "execution": {
          "iopub.execute_input": "2021-11-16T16:00:08.15379Z",
          "iopub.status.busy": "2021-11-16T16:00:08.152955Z",
          "iopub.status.idle": "2021-11-16T16:00:08.999799Z",
          "shell.execute_reply": "2021-11-16T16:00:08.998915Z",
          "shell.execute_reply.started": "2021-11-16T16:00:08.15375Z"
        },
        "trusted": true,
        "id": "j8akRXqocOgN",
        "outputId": "98d053db-641e-4cd0-bfc8-667bea00e7ae",
        "colab": {
          "base_uri": "https://localhost:8080/",
          "height": 386
        }
      },
      "outputs": [
        {
          "output_type": "execute_result",
          "data": {
            "text/plain": [
              "(array([  210.,  1285.,     0.,  6465., 18430.,     0., 29254., 26185.,\n",
              "            0., 14132.,  5414.,     0.,  1706.,   587.,     0.,   216.,\n",
              "          131.,     0.,    62.,    33.]),\n",
              " array([ 2.  ,  2.65,  3.3 ,  3.95,  4.6 ,  5.25,  5.9 ,  6.55,  7.2 ,\n",
              "         7.85,  8.5 ,  9.15,  9.8 , 10.45, 11.1 , 11.75, 12.4 , 13.05,\n",
              "        13.7 , 14.35, 15.  ]),\n",
              " <a list of 20 Patch objects>)"
            ]
          },
          "metadata": {},
          "execution_count": 6
        },
        {
          "output_type": "display_data",
          "data": {
            "text/plain": [
              "<Figure size 432x288 with 1 Axes>"
            ],
            "image/png": "[encoded data removed]"
          },
          "metadata": {
            "needs_background": "light"
          }
        }
      ],
      "source": [
        "names_length = [len(nom) for nom in data['Name'].values]\n",
        "\n",
        "import matplotlib.pyplot as plt\n",
        "plt.hist(names_length,bins=20)"
      ]
    },
    {
      "cell_type": "markdown",
      "metadata": {
        "collapsed": false,
        "id": "itRDUZzocOgP"
      },
      "source": [
        "**Fourth step: Pad variable length sequences with 0 values.**<br>\n",
        "We want to make all the names list the same size using the Keras **pad_sequences** function."
      ]
    },
    {
      "cell_type": "code",
      "execution_count": 7,
      "metadata": {
        "execution": {
          "iopub.execute_input": "2021-11-18T09:01:53.641909Z",
          "iopub.status.busy": "2021-11-18T09:01:53.641583Z",
          "iopub.status.idle": "2021-11-18T09:02:00.243477Z",
          "shell.execute_reply": "2021-11-18T09:02:00.242259Z",
          "shell.execute_reply.started": "2021-11-18T09:01:53.641876Z"
        },
        "trusted": true,
        "id": "vQHewhPYcOgQ",
        "outputId": "ca56f9be-9c8c-4800-98bf-7175e2f881ff",
        "colab": {
          "base_uri": "https://localhost:8080/"
        }
      },
      "outputs": [
        {
          "output_type": "execute_result",
          "data": {
            "text/plain": [
              "array([[20,  1, 21, 14, 15,  0,  0,  0,  0,  0],\n",
              "       [ 2,  5, 21, 14,  1,  0,  0,  0,  0,  0],\n",
              "       [14,  5, 22,  1, 14,  0,  0,  0,  0,  0],\n",
              "       [ 1,  3,  1, 20,  8,  5, 18,  9, 14,  5]], dtype=int32)"
            ]
          },
          "metadata": {},
          "execution_count": 7
        }
      ],
      "source": [
        "from tensorflow.keras.preprocessing.sequence import pad_sequences\n",
        "\n",
        "X = pad_sequences(data['Name'].values,maxlen=10, padding='post')\n",
        "X[0:4]"
      ]
    },
    {
      "cell_type": "markdown",
      "metadata": {
        "collapsed": false,
        "id": "qsdpfb_hcOgS"
      },
      "source": [
        "**Fifth step: We create the target values Y.**"
      ]
    },
    {
      "cell_type": "code",
      "execution_count": 9,
      "metadata": {
        "execution": {
          "iopub.execute_input": "2021-11-18T09:02:02.139708Z",
          "iopub.status.busy": "2021-11-18T09:02:02.139399Z",
          "iopub.status.idle": "2021-11-18T09:02:02.144880Z",
          "shell.execute_reply": "2021-11-18T09:02:02.143692Z",
          "shell.execute_reply.started": "2021-11-18T09:02:02.139675Z"
        },
        "trusted": true,
        "id": "uRGL5eLycOgU"
      },
      "outputs": [],
      "source": [
        "Y = data['Gender'].values"
      ]
    },
    {
      "cell_type": "markdown",
      "metadata": {
        "collapsed": false,
        "id": "cFLziaZGcOgV"
      },
      "source": [
        "**Sixth step:** we split the X,Y into training set and test set using sklearn.model_selection.train_test_split."
      ]
    },
    {
      "cell_type": "code",
      "execution_count": 10,
      "metadata": {
        "execution": {
          "iopub.execute_input": "2021-11-18T09:02:05.756247Z",
          "iopub.status.busy": "2021-11-18T09:02:05.755937Z",
          "iopub.status.idle": "2021-11-18T09:02:06.436226Z",
          "shell.execute_reply": "2021-11-18T09:02:06.435264Z",
          "shell.execute_reply.started": "2021-11-18T09:02:05.756209Z"
        },
        "trusted": true,
        "id": "63_37tgRcOgW"
      },
      "outputs": [],
      "source": [
        "from sklearn.model_selection import train_test_split\n",
        "X_train, X_test, y_train, y_test = train_test_split(X, Y, test_size=0.33, random_state=42)"
      ]
    },
    {
      "cell_type": "markdown",
      "metadata": {
        "collapsed": false,
        "id": "okVGcc6NcOgY"
      },
      "source": [
        "**Seventh step: We set up  3 differents LSTMs**\n",
        "* one with a single LSTM layer\n",
        "* one with 2 LSTM layers\n",
        "* one with a Bidirectional LSTM\n",
        "In this step, we compile and fit each model."
      ]
    },
    {
      "cell_type": "markdown",
      "metadata": {
        "collapsed": false,
        "id": "C38hvTCocOgZ"
      },
      "source": [
        "Here, we define a neural network with a single LSTM layer: \n",
        "* Since we use pad_sequences with a maxlen=10, the Input layer should have the shape=(10,) earlier in this example.\n",
        "* The embedding layer produce outputs dense vectors with 5 components (output_dim=5)\n",
        "* Units=32 in the first LSTM layer means this layer outputs a 32 sized vector.\n",
        "\n",
        "input_dim in the Embedding Layer is the size of the vocabulary."
      ]
    },
    {
      "cell_type": "code",
      "execution_count": 11,
      "metadata": {
        "execution": {
          "iopub.execute_input": "2021-11-16T16:26:14.562084Z",
          "iopub.status.busy": "2021-11-16T16:26:14.561419Z",
          "iopub.status.idle": "2021-11-16T16:26:14.805615Z",
          "shell.execute_reply": "2021-11-16T16:26:14.80485Z",
          "shell.execute_reply.started": "2021-11-16T16:26:14.562036Z"
        },
        "trusted": true,
        "id": "YL0FjwZmcOga"
      },
      "outputs": [],
      "source": [
        "from tensorflow.keras.layers import Input, Embedding, Dense, LSTM\n",
        "from tensorflow.keras.models import Sequential\n",
        "\n",
        "vocabsize = len(vocab)+1\n",
        "\n",
        "LSTM_SINGLE = Sequential([Input(shape=(10,)),Embedding(input_dim=vocabsize,output_dim=5),\\\n",
        "                          LSTM(units=40),Dense(1,activation='sigmoid')])"
      ]
    },
    {
      "cell_type": "markdown",
      "metadata": {
        "collapsed": false,
        "execution": {
          "iopub.execute_input": "2021-11-16T16:00:29.227334Z",
          "iopub.status.busy": "2021-11-16T16:00:29.227053Z",
          "iopub.status.idle": "2021-11-16T16:00:29.23346Z",
          "shell.execute_reply": "2021-11-16T16:00:29.232707Z",
          "shell.execute_reply.started": "2021-11-16T16:00:29.227301Z"
        },
        "id": "GeGHqE_hcOgb"
      },
      "source": [
        "We compile the LSTM SINGLE model using an adam optimizer, a binary_crossentropy loss and we set metrics=['accuracy']. Then, we fit it with 20 epochs and batch_size=256."
      ]
    },
    {
      "cell_type": "code",
      "execution_count": 12,
      "metadata": {
        "execution": {
          "iopub.execute_input": "2021-11-16T16:33:20.551154Z",
          "iopub.status.busy": "2021-11-16T16:33:20.550233Z",
          "iopub.status.idle": "2021-11-16T16:34:37.953302Z",
          "shell.execute_reply": "2021-11-16T16:34:37.95234Z",
          "shell.execute_reply.started": "2021-11-16T16:33:20.551089Z"
        },
        "trusted": true,
        "id": "6ZjT5skHcOgb",
        "outputId": "9983941e-0989-4937-8444-c4a3ef4b8d5c",
        "colab": {
          "base_uri": "https://localhost:8080/"
        }
      },
      "outputs": [
        {
          "output_type": "stream",
          "name": "stdout",
          "text": [
            "Epoch 1/20\n",
            "273/273 [==============================] - 8s 18ms/step - loss: 0.6055 - accuracy: 0.6674\n",
            "Epoch 2/20\n",
            "273/273 [==============================] - 5s 18ms/step - loss: 0.5394 - accuracy: 0.7339\n",
            "Epoch 3/20\n",
            "273/273 [==============================] - 5s 18ms/step - loss: 0.5209 - accuracy: 0.7468\n",
            "Epoch 4/20\n",
            "273/273 [==============================] - 5s 18ms/step - loss: 0.5132 - accuracy: 0.7515\n",
            "Epoch 5/20\n",
            "273/273 [==============================] - 5s 18ms/step - loss: 0.5032 - accuracy: 0.7569\n",
            "Epoch 6/20\n",
            "273/273 [==============================] - 5s 18ms/step - loss: 0.4867 - accuracy: 0.7660\n",
            "Epoch 7/20\n",
            "273/273 [==============================] - 5s 18ms/step - loss: 0.4700 - accuracy: 0.7774\n",
            "Epoch 8/20\n",
            "273/273 [==============================] - 5s 18ms/step - loss: 0.4610 - accuracy: 0.7820\n",
            "Epoch 9/20\n",
            "273/273 [==============================] - 5s 18ms/step - loss: 0.4564 - accuracy: 0.7833\n",
            "Epoch 10/20\n",
            "273/273 [==============================] - 5s 18ms/step - loss: 0.4529 - accuracy: 0.7864\n",
            "Epoch 11/20\n",
            "273/273 [==============================] - 5s 18ms/step - loss: 0.4504 - accuracy: 0.7876\n",
            "Epoch 12/20\n",
            "273/273 [==============================] - 5s 18ms/step - loss: 0.4486 - accuracy: 0.7886\n",
            "Epoch 13/20\n",
            "273/273 [==============================] - 5s 19ms/step - loss: 0.4478 - accuracy: 0.7897\n",
            "Epoch 14/20\n",
            "273/273 [==============================] - 5s 19ms/step - loss: 0.4457 - accuracy: 0.7905\n",
            "Epoch 15/20\n",
            "273/273 [==============================] - 5s 19ms/step - loss: 0.4441 - accuracy: 0.7914\n",
            "Epoch 16/20\n",
            "273/273 [==============================] - 5s 18ms/step - loss: 0.4426 - accuracy: 0.7924\n",
            "Epoch 17/20\n",
            "273/273 [==============================] - 5s 18ms/step - loss: 0.4418 - accuracy: 0.7931\n",
            "Epoch 18/20\n",
            "273/273 [==============================] - 5s 18ms/step - loss: 0.4400 - accuracy: 0.7942\n",
            "Epoch 19/20\n",
            "273/273 [==============================] - 5s 19ms/step - loss: 0.4384 - accuracy: 0.7953\n",
            "Epoch 20/20\n",
            "273/273 [==============================] - 5s 18ms/step - loss: 0.4380 - accuracy: 0.7953\n"
          ]
        }
      ],
      "source": [
        "LSTM_SINGLE.compile(optimizer='adam',loss='binary_crossentropy',metrics=['accuracy'])\n",
        "his = LSTM_SINGLE.fit(X_train,y_train,epochs=20,batch_size=256)"
      ]
    },
    {
      "cell_type": "markdown",
      "metadata": {
        "collapsed": false,
        "id": "kwWNJVpicOgd"
      },
      "source": [
        "Now, we evaluate LSTM SINGLE on the test set:"
      ]
    },
    {
      "cell_type": "code",
      "execution_count": 13,
      "metadata": {
        "execution": {
          "iopub.execute_input": "2021-11-16T16:39:08.654571Z",
          "iopub.status.busy": "2021-11-16T16:39:08.654091Z",
          "iopub.status.idle": "2021-11-16T16:39:12.771104Z",
          "shell.execute_reply": "2021-11-16T16:39:12.770195Z",
          "shell.execute_reply.started": "2021-11-16T16:39:08.654533Z"
        },
        "trusted": true,
        "id": "HyvDJlehcOgd",
        "outputId": "a4bc1c1a-d708-407d-b223-9e332b68b721",
        "colab": {
          "base_uri": "https://localhost:8080/"
        }
      },
      "outputs": [
        {
          "output_type": "stream",
          "name": "stdout",
          "text": [
            "1074/1074 [==============================] - 4s 3ms/step - loss: 0.4430 - accuracy: 0.7935\n"
          ]
        },
        {
          "output_type": "execute_result",
          "data": {
            "text/plain": [
              "[0.4429696202278137, 0.793520987033844]"
            ]
          },
          "metadata": {},
          "execution_count": 13
        }
      ],
      "source": [
        "LSTM_SINGLE.evaluate(X_test,y_test)"
      ]
    },
    {
      "cell_type": "markdown",
      "metadata": {
        "collapsed": false,
        "id": "cnSoouKKcOge"
      },
      "source": [
        "Now, we create a neural network with 2 LSTM layers:\n",
        "* Since we use pad_sequences with a maxlen=10, the Input layer should have the shape=(10,) earlier in this example.\n",
        "* The embedding layer produce outputs dense vectors with 5 components (output_dim=5)\n",
        "* Units=32 in the first LSTM layer means this layer outputs a 32 sized vector. Since, we have a second LSTM layer, we should set return_sequences=True.\n",
        "* Units=64 in the first LSTM layer means this layer outputs a 64 sized vector\n",
        "* Since we solve a classification problem with 2 classes, the last layer is a dense layer with sigmoid activation function."
      ]
    },
    {
      "cell_type": "code",
      "execution_count": 14,
      "metadata": {
        "execution": {
          "iopub.execute_input": "2021-11-16T16:46:47.247149Z",
          "iopub.status.busy": "2021-11-16T16:46:47.246808Z",
          "iopub.status.idle": "2021-11-16T16:46:47.724436Z",
          "shell.execute_reply": "2021-11-16T16:46:47.723673Z",
          "shell.execute_reply.started": "2021-11-16T16:46:47.247107Z"
        },
        "trusted": true,
        "id": "zQRuy3-acOgf"
      },
      "outputs": [],
      "source": [
        "from tensorflow.keras.layers import Input, Embedding, Dense, LSTM\n",
        "from tensorflow.keras.models import Sequential\n",
        "\n",
        "vocabsize = len(vocab)+1\n",
        "\n",
        "LSTM_TWO_LSTM = Sequential([Input(shape=(10,)),Embedding(input_dim=vocabsize,output_dim=5),\\\n",
        "                            LSTM(units=32,return_sequences=True),LSTM(units=64),\\\n",
        "                            Dense(1,activation='sigmoid')])"
      ]
    },
    {
      "cell_type": "markdown",
      "metadata": {
        "collapsed": false,
        "id": "CW_qBryQcOgg"
      },
      "source": [
        "We compile the LSTM SINGLE model using an adam optimizer, a binary_crossentropy loss and we set metrics=['accuracy']. Then, we fit it with 15 epochs and batch_size=256."
      ]
    },
    {
      "cell_type": "code",
      "execution_count": 15,
      "metadata": {
        "execution": {
          "iopub.execute_input": "2021-11-16T16:48:49.618591Z",
          "iopub.status.busy": "2021-11-16T16:48:49.618076Z",
          "iopub.status.idle": "2021-11-16T16:50:56.329265Z",
          "shell.execute_reply": "2021-11-16T16:50:56.328293Z",
          "shell.execute_reply.started": "2021-11-16T16:48:49.61856Z"
        },
        "trusted": true,
        "id": "xKhbqL56cOgh",
        "outputId": "55d763fd-390d-4179-b632-7a434237624a",
        "colab": {
          "base_uri": "https://localhost:8080/"
        }
      },
      "outputs": [
        {
          "output_type": "stream",
          "name": "stdout",
          "text": [
            "Epoch 1/15\n",
            "273/273 [==============================] - 16s 44ms/step - loss: 0.5929 - accuracy: 0.6794\n",
            "Epoch 2/15\n",
            "273/273 [==============================] - 12s 43ms/step - loss: 0.5246 - accuracy: 0.7450\n",
            "Epoch 3/15\n",
            "273/273 [==============================] - 12s 43ms/step - loss: 0.5094 - accuracy: 0.7523\n",
            "Epoch 4/15\n",
            "273/273 [==============================] - 12s 43ms/step - loss: 0.4814 - accuracy: 0.7689\n",
            "Epoch 5/15\n",
            "273/273 [==============================] - 12s 43ms/step - loss: 0.4646 - accuracy: 0.7794\n",
            "Epoch 6/15\n",
            "273/273 [==============================] - 15s 54ms/step - loss: 0.4590 - accuracy: 0.7822\n",
            "Epoch 7/15\n",
            "273/273 [==============================] - 12s 43ms/step - loss: 0.4550 - accuracy: 0.7838\n",
            "Epoch 8/15\n",
            "273/273 [==============================] - 12s 43ms/step - loss: 0.4509 - accuracy: 0.7870\n",
            "Epoch 9/15\n",
            "273/273 [==============================] - 12s 43ms/step - loss: 0.4492 - accuracy: 0.7887\n",
            "Epoch 10/15\n",
            "273/273 [==============================] - 12s 44ms/step - loss: 0.4476 - accuracy: 0.7885\n",
            "Epoch 11/15\n",
            "273/273 [==============================] - 12s 43ms/step - loss: 0.4458 - accuracy: 0.7887\n",
            "Epoch 12/15\n",
            "273/273 [==============================] - 12s 43ms/step - loss: 0.4437 - accuracy: 0.7906\n",
            "Epoch 13/15\n",
            "273/273 [==============================] - 12s 43ms/step - loss: 0.4420 - accuracy: 0.7922\n",
            "Epoch 14/15\n",
            "273/273 [==============================] - 12s 43ms/step - loss: 0.4403 - accuracy: 0.7927\n",
            "Epoch 15/15\n",
            "273/273 [==============================] - 12s 43ms/step - loss: 0.4377 - accuracy: 0.7944\n"
          ]
        }
      ],
      "source": [
        "LSTM_TWO_LSTM.compile(optimizer='adam',loss='binary_crossentropy',metrics=['accuracy'])\n",
        "his = LSTM_TWO_LSTM.fit(X_train,y_train,epochs=15,batch_size=256)"
      ]
    },
    {
      "cell_type": "markdown",
      "metadata": {
        "collapsed": false,
        "id": "LMogHjBCcOgh"
      },
      "source": [
        "Here, we define a neural network with a single bidirectional LSTM layer: \n",
        "* Since we use pad_sequences with a maxlen=10, the Input layer should have the shape=(10,) earlier in this example.\n",
        "* The embedding layer produce outputs dense vectors with 5 components (output_dim=5)\n",
        "* Units=32 in the first LSTM layer means this layer outputs a 32 sized vector."
      ]
    },
    {
      "cell_type": "code",
      "execution_count": 16,
      "metadata": {
        "execution": {
          "iopub.execute_input": "2021-11-18T09:02:20.315987Z",
          "iopub.status.busy": "2021-11-18T09:02:20.315461Z",
          "iopub.status.idle": "2021-11-18T09:02:20.978048Z",
          "shell.execute_reply": "2021-11-18T09:02:20.977129Z",
          "shell.execute_reply.started": "2021-11-18T09:02:20.315951Z"
        },
        "trusted": true,
        "id": "9B8SGuPDcOgi"
      },
      "outputs": [],
      "source": [
        "from tensorflow.keras.layers import Dense, LSTM, Bidirectional, Input, Embedding\n",
        "from tensorflow.keras.models import Sequential\n",
        "\n",
        "vocabsize = len(vocab)+1\n",
        "\n",
        "NAME_BIDIRECT = Sequential([Input(shape=(10,)),Embedding(input_dim=vocabsize,output_dim=5),\\\n",
        "                           Bidirectional(LSTM(units=32)),Dense(1,activation='sigmoid')])"
      ]
    },
    {
      "cell_type": "code",
      "execution_count": 17,
      "metadata": {
        "execution": {
          "iopub.execute_input": "2021-11-18T09:03:51.782532Z",
          "iopub.status.busy": "2021-11-18T09:03:51.782183Z",
          "iopub.status.idle": "2021-11-18T09:05:16.472703Z",
          "shell.execute_reply": "2021-11-18T09:05:16.471984Z",
          "shell.execute_reply.started": "2021-11-18T09:03:51.782499Z"
        },
        "trusted": true,
        "id": "4gfKHutjcOgj",
        "outputId": "ad511f4a-7c76-44ee-eafc-85c250755fd2",
        "colab": {
          "base_uri": "https://localhost:8080/"
        }
      },
      "outputs": [
        {
          "output_type": "stream",
          "name": "stdout",
          "text": [
            "Epoch 1/15\n",
            "273/273 [==============================] - 9s 19ms/step - loss: 0.5731 - accuracy: 0.6988\n",
            "Epoch 2/15\n",
            "273/273 [==============================] - 5s 19ms/step - loss: 0.5158 - accuracy: 0.7516\n",
            "Epoch 3/15\n",
            "273/273 [==============================] - 5s 20ms/step - loss: 0.5122 - accuracy: 0.7539\n",
            "Epoch 4/15\n",
            "273/273 [==============================] - 8s 30ms/step - loss: 0.5066 - accuracy: 0.7570\n",
            "Epoch 5/15\n",
            "273/273 [==============================] - 5s 19ms/step - loss: 0.5025 - accuracy: 0.7582\n",
            "Epoch 6/15\n",
            "273/273 [==============================] - 5s 19ms/step - loss: 0.4965 - accuracy: 0.7614\n",
            "Epoch 7/15\n",
            "273/273 [==============================] - 5s 19ms/step - loss: 0.4765 - accuracy: 0.7713\n",
            "Epoch 8/15\n",
            "273/273 [==============================] - 5s 19ms/step - loss: 0.4650 - accuracy: 0.7784\n",
            "Epoch 9/15\n",
            "273/273 [==============================] - 5s 19ms/step - loss: 0.4583 - accuracy: 0.7834\n",
            "Epoch 10/15\n",
            "273/273 [==============================] - 5s 19ms/step - loss: 0.4551 - accuracy: 0.7839\n",
            "Epoch 11/15\n",
            "273/273 [==============================] - 5s 19ms/step - loss: 0.4529 - accuracy: 0.7854\n",
            "Epoch 12/15\n",
            "273/273 [==============================] - 5s 19ms/step - loss: 0.4502 - accuracy: 0.7869\n",
            "Epoch 13/15\n",
            "273/273 [==============================] - 5s 19ms/step - loss: 0.4483 - accuracy: 0.7874\n",
            "Epoch 14/15\n",
            "273/273 [==============================] - 5s 19ms/step - loss: 0.4468 - accuracy: 0.7893\n",
            "Epoch 15/15\n",
            "273/273 [==============================] - 5s 19ms/step - loss: 0.4449 - accuracy: 0.7897\n"
          ]
        }
      ],
      "source": [
        "NAME_BIDIRECT.compile(optimizer='adam',loss='binary_crossentropy',metrics=['accuracy'])\n",
        "his = NAME_BIDIRECT.fit(X_train,y_train,epochs=15,batch_size=256)"
      ]
    },
    {
      "cell_type": "markdown",
      "metadata": {
        "collapsed": false,
        "id": "OF5Ez5p7cOgk"
      },
      "source": [
        "**Eighth step : we use the model LSTM_SINGLE to predict the gender of new names.**<br>\n",
        "We test LSTM_SINGLE model with some new names. mmy_model.predict returns the probability of the tested name is masculine."
      ]
    },
    {
      "cell_type": "code",
      "execution_count": 18,
      "metadata": {
        "execution": {
          "iopub.execute_input": "2021-11-16T16:56:28.059303Z",
          "iopub.status.busy": "2021-11-16T16:56:28.058932Z",
          "iopub.status.idle": "2021-11-16T16:56:28.692347Z",
          "shell.execute_reply": "2021-11-16T16:56:28.691504Z",
          "shell.execute_reply.started": "2021-11-16T16:56:28.059266Z"
        },
        "trusted": true,
        "id": "xJpHeyI5cOgk",
        "outputId": "c492a41d-c2f7-4da0-bfc8-d3c4eb27d59e",
        "colab": {
          "base_uri": "https://localhost:8080/"
        }
      },
      "outputs": [
        {
          "output_type": "stream",
          "name": "stdout",
          "text": [
            "1/1 [==============================] - 1s 552ms/step\n",
            "Linda is probably a feminine name\n",
            "1/1 [==============================] - 0s 23ms/step\n",
            "Brian is probably a masculine name\n",
            "1/1 [==============================] - 0s 26ms/step\n",
            "Fabien is probably a masculine name\n"
          ]
        },
        {
          "output_type": "execute_result",
          "data": {
            "text/plain": [
              "(array([[0.10648333]], dtype=float32),\n",
              " array([[0.65963435]], dtype=float32),\n",
              " array([[0.7089906]], dtype=float32))"
            ]
          },
          "metadata": {},
          "execution_count": 18
        }
      ],
      "source": [
        "import numpy as np\n",
        "from tensorflow.keras.preprocessing.sequence import pad_sequences\n",
        "def input_name_to_test(nom):\n",
        "    new_nom=nom.lower()\n",
        "    new_nom=[vocab[l] for l in list(new_nom)]\n",
        "    new_nom=pad_sequences(np.array([new_nom]),maxlen=10, padding='post')\n",
        "    probability_masc = LSTM_SINGLE.predict(new_nom)\n",
        "    if probability_masc<0.5:\n",
        "        print(nom+\" is probably a feminine name\")\n",
        "    else:\n",
        "        print(nom+\" is probably a masculine name\")\n",
        "    return(probability_masc)\n",
        "\n",
        "input_name_to_test('Linda'), input_name_to_test('Brian'), input_name_to_test('Fabien')"
      ]
    },
    {
      "cell_type": "markdown",
      "metadata": {
        "collapsed": false,
        "id": "bVHQNRBHcOgl"
      },
      "source": [
        "# Exercice : Country prediction of cities\n",
        "In this exercice, our goal is to predict the country of cities from France, Germany and Italy. Run, the cell below to create the database of cities names. In this database, there are 2 columns : Country, City. "
      ]
    },
    {
      "cell_type": "code",
      "execution_count": 19,
      "metadata": {
        "execution": {
          "iopub.execute_input": "2021-11-17T13:26:36.364071Z",
          "iopub.status.busy": "2021-11-17T13:26:36.363406Z",
          "iopub.status.idle": "2021-11-17T13:26:37.068827Z",
          "shell.execute_reply": "2021-11-17T13:26:37.068006Z",
          "shell.execute_reply.started": "2021-11-17T13:26:36.364034Z"
        },
        "trusted": true,
        "id": "WhwPMHuNcOgm",
        "outputId": "15236512-8116-49c5-acd4-3deed2f8b74a",
        "colab": {
          "base_uri": "https://localhost:8080/",
          "height": 206
        }
      },
      "outputs": [
        {
          "output_type": "execute_result",
          "data": {
            "text/plain": [
              "      Country                     City\n",
              "75230      it                  matigge\n",
              "64373      ge                  trekhvi\n",
              "46457      fr  saint-cheron-des-champs\n",
              "75955      it              montedoglio\n",
              "81169      it              saracinesco"
            ],
            "text/html": [
              "\n",
              "  <div id=\"df-7ae8f140-2364-46cc-9411-895b07eeabb3\">\n",
              "    <div class=\"colab-df-container\">\n",
              "      <div>\n",
              "<style scoped>\n",
              "    .dataframe tbody tr th:only-of-type {\n",
              "        vertical-align: middle;\n",
              "    }\n",
              "\n",
              "    .dataframe tbody tr th {\n",
              "        vertical-align: top;\n",
              "    }\n",
              "\n",
              "    .dataframe thead th {\n",
              "        text-align: right;\n",
              "    }\n",
              "</style>\n",
              "<table border=\"1\" class=\"dataframe\">\n",
              "  <thead>\n",
              "    <tr style=\"text-align: right;\">\n",
              "      <th></th>\n",
              "      <th>Country</th>\n",
              "      <th>City</th>\n",
              "    </tr>\n",
              "  </thead>\n",
              "  <tbody>\n",
              "    <tr>\n",
              "      <th>75230</th>\n",
              "      <td>it</td>\n",
              "      <td>matigge</td>\n",
              "    </tr>\n",
              "    <tr>\n",
              "      <th>64373</th>\n",
              "      <td>ge</td>\n",
              "      <td>trekhvi</td>\n",
              "    </tr>\n",
              "    <tr>\n",
              "      <th>46457</th>\n",
              "      <td>fr</td>\n",
              "      <td>saint-cheron-des-champs</td>\n",
              "    </tr>\n",
              "    <tr>\n",
              "      <th>75955</th>\n",
              "      <td>it</td>\n",
              "      <td>montedoglio</td>\n",
              "    </tr>\n",
              "    <tr>\n",
              "      <th>81169</th>\n",
              "      <td>it</td>\n",
              "      <td>saracinesco</td>\n",
              "    </tr>\n",
              "  </tbody>\n",
              "</table>\n",
              "</div>\n",
              "      <button class=\"colab-df-convert\" onclick=\"convertToInteractive('df-7ae8f140-2364-46cc-9411-895b07eeabb3')\"\n",
              "              title=\"Convert this dataframe to an interactive table.\"\n",
              "              style=\"display:none;\">\n",
              "        \n",
              "  <svg xmlns=\"http://www.w3.org/2000/svg\" height=\"24px\"viewBox=\"0 0 24 24\"\n",
              "       width=\"24px\">\n",
              "    <path d=\"M0 0h24v24H0V0z\" fill=\"none\"/>\n",
              "    <path d=\"M18.56 5.44l.94 2.06.94-2.06 2.06-.94-2.06-.94-.94-2.06-.94 2.06-2.06.94zm-11 1L8.5 8.5l.94-2.06 2.06-.94-2.06-.94L8.5 2.5l-.94 2.06-2.06.94zm10 10l.94 2.06.94-2.06 2.06-.94-2.06-.94-.94-2.06-.94 2.06-2.06.94z\"/><path d=\"M17.41 7.96l-1.37-1.37c-.4-.4-.92-.59-1.43-.59-.52 0-1.04.2-1.43.59L10.3 9.45l-7.72 7.72c-.78.78-.78 2.05 0 2.83L4 21.41c.39.39.9.59 1.41.59.51 0 1.02-.2 1.41-.59l7.78-7.78 2.81-2.81c.8-.78.8-2.07 0-2.86zM5.41 20L4 18.59l7.72-7.72 1.47 1.35L5.41 20z\"/>\n",
              "  </svg>\n",
              "      </button>\n",
              "      \n",
              "  <style>\n",
              "    .colab-df-container {\n",
              "      display:flex;\n",
              "      flex-wrap:wrap;\n",
              "      gap: 12px;\n",
              "    }\n",
              "\n",
              "    .colab-df-convert {\n",
              "      background-color: #E8F0FE;\n",
              "      border: none;\n",
              "      border-radius: 50%;\n",
              "      cursor: pointer;\n",
              "      display: none;\n",
              "      fill: #1967D2;\n",
              "      height: 32px;\n",
              "      padding: 0 0 0 0;\n",
              "      width: 32px;\n",
              "    }\n",
              "\n",
              "    .colab-df-convert:hover {\n",
              "      background-color: #E2EBFA;\n",
              "      box-shadow: 0px 1px 2px rgba(60, 64, 67, 0.3), 0px 1px 3px 1px rgba(60, 64, 67, 0.15);\n",
              "      fill: #174EA6;\n",
              "    }\n",
              "\n",
              "    [theme=dark] .colab-df-convert {\n",
              "      background-color: #3B4455;\n",
              "      fill: #D2E3FC;\n",
              "    }\n",
              "\n",
              "    [theme=dark] .colab-df-convert:hover {\n",
              "      background-color: #434B5C;\n",
              "      box-shadow: 0px 1px 3px 1px rgba(0, 0, 0, 0.15);\n",
              "      filter: drop-shadow(0px 1px 2px rgba(0, 0, 0, 0.3));\n",
              "      fill: #FFFFFF;\n",
              "    }\n",
              "  </style>\n",
              "\n",
              "      <script>\n",
              "        const buttonEl =\n",
              "          document.querySelector('#df-7ae8f140-2364-46cc-9411-895b07eeabb3 button.colab-df-convert');\n",
              "        buttonEl.style.display =\n",
              "          google.colab.kernel.accessAllowed ? 'block' : 'none';\n",
              "\n",
              "        async function convertToInteractive(key) {\n",
              "          const element = document.querySelector('#df-7ae8f140-2364-46cc-9411-895b07eeabb3');\n",
              "          const dataTable =\n",
              "            await google.colab.kernel.invokeFunction('convertToInteractive',\n",
              "                                                     [key], {});\n",
              "          if (!dataTable) return;\n",
              "\n",
              "          const docLinkHtml = 'Like what you see? Visit the ' +\n",
              "            '<a target=\"_blank\" href=https://colab.research.google.com/notebooks/data_table.ipynb>data table notebook</a>'\n",
              "            + ' to learn more about interactive tables.';\n",
              "          element.innerHTML = '';\n",
              "          dataTable['output_type'] = 'display_data';\n",
              "          await google.colab.output.renderOutput(dataTable, element);\n",
              "          const docLink = document.createElement('div');\n",
              "          docLink.innerHTML = docLinkHtml;\n",
              "          element.appendChild(docLink);\n",
              "        }\n",
              "      </script>\n",
              "    </div>\n",
              "  </div>\n",
              "  "
            ]
          },
          "metadata": {},
          "execution_count": 19
        }
      ],
      "source": [
        "import pandas as pd\n",
        "file = \"https://raw.githubusercontent.com/fabnancyuhp/DEEP-LEARNING/main/DATA/citie_fr_ge_it.csv\"\n",
        "world_cities_fr_ge_it = pd.read_csv(file,compression='zip')\n",
        "world_cities_fr_ge_it = world_cities_fr_ge_it.loc[world_cities_fr_ge_it['Country']\\\n",
        "                                                  .isin(['fr','ge','it'])][['Country','City','AccentCity']]\\\n",
        "                                                  .drop_duplicates(subset=['Country','City','AccentCity']).reset_index()\n",
        "\n",
        "fr = world_cities_fr_ge_it.loc[world_cities_fr_ge_it['Country']=='fr'].sample(n=20000)\n",
        "ge = world_cities_fr_ge_it.loc[world_cities_fr_ge_it['Country']=='ge']\n",
        "it = world_cities_fr_ge_it.loc[world_cities_fr_ge_it['Country']=='it']\n",
        "world_cities_fr_ge_it = pd.concat([fr,ge,it],axis=0).sample(frac=1)[['Country','City']]\n",
        "world_cities_fr_ge_it.head(5)"
      ]
    },
    {
      "cell_type": "markdown",
      "metadata": {
        "collapsed": false,
        "id": "89ytt4XLcOgn"
      },
      "source": [
        "1) Remove the blanks of the City column. You can use the function below. "
      ]
    },
    {
      "cell_type": "code",
      "execution_count": 20,
      "metadata": {
        "execution": {
          "iopub.execute_input": "2021-11-17T13:28:05.246687Z",
          "iopub.status.busy": "2021-11-17T13:28:05.246154Z",
          "iopub.status.idle": "2021-11-17T13:28:05.254143Z",
          "shell.execute_reply": "2021-11-17T13:28:05.253593Z",
          "shell.execute_reply.started": "2021-11-17T13:28:05.246654Z"
        },
        "trusted": true,
        "id": "PSi_nduDcOgo",
        "outputId": "0a3ac1a4-552a-43a2-a1c6-50544dc98364",
        "colab": {
          "base_uri": "https://localhost:8080/",
          "height": 36
        }
      },
      "outputs": [
        {
          "output_type": "execute_result",
          "data": {
            "text/plain": [
              "'saintmartindebromes'"
            ],
            "application/vnd.google.colaboratory.intrinsic+json": {
              "type": "string"
            }
          },
          "metadata": {},
          "execution_count": 20
        }
      ],
      "source": [
        "import string\n",
        "letters = list(string.ascii_lowercase)\n",
        "def remove_non_lettre(ville):\n",
        "    hh = list(str(ville))\n",
        "    hhbis = [lettre for lettre in hh if lettre in letters]\n",
        "    hhbis = \"\".join(hhbis)\n",
        "    return(hhbis)\n",
        "remove_non_lettre('saint-martin-de-bromes')"
      ]
    },
    {
      "cell_type": "code",
      "execution_count": null,
      "metadata": {
        "execution": {
          "iopub.execute_input": "2021-11-17T13:28:12.711338Z",
          "iopub.status.busy": "2021-11-17T13:28:12.710544Z",
          "iopub.status.idle": "2021-11-17T13:28:12.966653Z",
          "shell.execute_reply": "2021-11-17T13:28:12.965755Z",
          "shell.execute_reply.started": "2021-11-17T13:28:12.711304Z"
        },
        "trusted": true,
        "id": "3TGyQGrncOgo"
      },
      "outputs": [],
      "source": [
        "#Your code here : \n",
        "world_cities_fr_ge_it['City'] = #complete the code here"
      ]
    },
    {
      "cell_type": "markdown",
      "metadata": {
        "collapsed": false,
        "id": "z-Oebw2FcOgp"
      },
      "source": [
        "2) Encode the Country column using LabelEncoder from the sklearn library. Store the result in a new column named Country_encode."
      ]
    },
    {
      "cell_type": "code",
      "execution_count": null,
      "metadata": {
        "execution": {
          "iopub.execute_input": "2021-11-17T13:28:18.437813Z",
          "iopub.status.busy": "2021-11-17T13:28:18.4375Z",
          "iopub.status.idle": "2021-11-17T13:28:19.189625Z",
          "shell.execute_reply": "2021-11-17T13:28:19.188958Z",
          "shell.execute_reply.started": "2021-11-17T13:28:18.43778Z"
        },
        "trusted": true,
        "id": "TPDvEu4qcOgq"
      },
      "outputs": [],
      "source": [
        "#your code here\n",
        "from sklearn.preprocessing import LabelEncoder\n",
        "le = LabelEncoder()\n",
        "le.fit(world_cities_fr_ge_it['Country'].unique())\n",
        "\n",
        "world_cities_fr_ge_it['Country_encode'] = #complete the code here"
      ]
    },
    {
      "cell_type": "markdown",
      "metadata": {
        "collapsed": false,
        "id": "vTyVCnNdcOgr"
      },
      "source": [
        "3) Encode the letters of cities names from the City column. Read the third step in the above example. Store the result in a new column called City_code."
      ]
    },
    {
      "cell_type": "code",
      "execution_count": null,
      "metadata": {
        "execution": {
          "iopub.execute_input": "2021-11-17T13:28:24.533666Z",
          "iopub.status.busy": "2021-11-17T13:28:24.532927Z",
          "iopub.status.idle": "2021-11-17T13:28:24.804085Z",
          "shell.execute_reply": "2021-11-17T13:28:24.803144Z",
          "shell.execute_reply.started": "2021-11-17T13:28:24.53363Z"
        },
        "trusted": true,
        "id": "itqBPaNhcOgr"
      },
      "outputs": [],
      "source": [
        "import string\n",
        "letters = list(string.ascii_lowercase)\n",
        "vocab = dict(zip(letters,range(1,27)))\n",
        "\n",
        "def letter_to_number(nom):\n",
        "    return([vocab[l] for l in list(nom)])\n",
        "\n",
        "world_cities_fr_ge_it['City_code'] = #your code here"
      ]
    },
    {
      "cell_type": "markdown",
      "metadata": {
        "collapsed": false,
        "id": "D3mr5KrWcOgs"
      },
      "source": [
        "4) The lengths of the encoded cities names are not constant. We have to make all encoded cities names the same size. For this purpose we have to use pad_sequences from tensorflow.keras library like it is done in the fourth step in the above example. Apply pad_sequences to world_cities_fr_ge_it['City_code'] with max_len=20 and padding='post'. Store the result in X."
      ]
    },
    {
      "cell_type": "code",
      "execution_count": null,
      "metadata": {
        "execution": {
          "iopub.execute_input": "2021-11-17T13:28:34.751934Z",
          "iopub.status.busy": "2021-11-17T13:28:34.751613Z",
          "iopub.status.idle": "2021-11-17T13:28:35.119832Z",
          "shell.execute_reply": "2021-11-17T13:28:35.119004Z",
          "shell.execute_reply.started": "2021-11-17T13:28:34.751894Z"
        },
        "trusted": true,
        "id": "xTHJ3wWqcOgs"
      },
      "outputs": [],
      "source": [
        "#your code here\n",
        "from tensorflow.keras.preprocessing.sequence import pad_sequences \n",
        "X = #complete"
      ]
    },
    {
      "cell_type": "markdown",
      "metadata": {
        "collapsed": false,
        "id": "zCtNkiDicOgx"
      },
      "source": [
        "5) Create the train set and the test set from X (created in question 4) and Y=world_cities_fr_ge_it['Country_encode'] (created in question 2). For this purpose apply train_test_split from the sklearn package."
      ]
    },
    {
      "cell_type": "code",
      "execution_count": null,
      "metadata": {
        "execution": {
          "iopub.execute_input": "2021-11-17T13:30:09.785508Z",
          "iopub.status.busy": "2021-11-17T13:30:09.785087Z",
          "iopub.status.idle": "2021-11-17T13:30:09.850438Z",
          "shell.execute_reply": "2021-11-17T13:30:09.849594Z",
          "shell.execute_reply.started": "2021-11-17T13:30:09.785478Z"
        },
        "trusted": true,
        "id": "J9uHNdRZcOgy"
      },
      "outputs": [],
      "source": [
        "#your code here\n",
        "from sklearn.model_selection import train_test_split\n",
        "X_train, X_test, y_train, y_test = #your code here "
      ]
    },
    {
      "cell_type": "markdown",
      "metadata": {
        "collapsed": false,
        "id": "HUCWNLpAcOgy"
      },
      "source": [
        "7) In this question we Build a model with a single LSTM layer to predict the country of a city name. Build a neural network with the following layers:\n",
        "* an Input layer\n",
        "* an Embedding layer that output a 6 sized vector\n",
        "* a LSTM layer with 42 units\n",
        "* a Dense layer\n",
        "\n",
        "Call this model city_single. Compile this model with an adam optimizer and the accuracy metric. Fit it with 10 epochs using X_train and y_train. Evaluate this model on X_test and y_test.<br>\n",
        "\n",
        "We have 3 classes then you have to use softmax activation function in the last dense layer and you have to use sparse_categorical_crossentropy as a loss function."
      ]
    },
    {
      "cell_type": "code",
      "execution_count": null,
      "metadata": {
        "execution": {
          "iopub.execute_input": "2021-11-17T13:32:02.912082Z",
          "iopub.status.busy": "2021-11-17T13:32:02.911779Z",
          "iopub.status.idle": "2021-11-17T13:34:33.998511Z",
          "shell.execute_reply": "2021-11-17T13:34:33.997946Z",
          "shell.execute_reply.started": "2021-11-17T13:32:02.912048Z"
        },
        "trusted": true,
        "id": "0hDNNuJ7cOgz"
      },
      "outputs": [],
      "source": [
        "from tensorflow.keras.layers import Dense, BatchNormalization, LSTM, Input, Embedding\n",
        "from tensorflow.keras import Sequential\n",
        "\n",
        "vocabsize = len(vocab)+1\n",
        "\n",
        "city_single = #your code here"
      ]
    },
    {
      "cell_type": "markdown",
      "metadata": {
        "collapsed": false,
        "id": "7OinU-CLcOg0"
      },
      "source": [
        "8) Use city_single to predict the country of dijon, baressa, chvrnisi. \n",
        "* The function handle_city_name return the padded encoding of a city name. \n",
        "* city_single.predict return a probability vector."
      ]
    },
    {
      "cell_type": "code",
      "execution_count": null,
      "metadata": {
        "execution": {
          "iopub.execute_input": "2021-11-17T14:40:20.077003Z",
          "iopub.status.busy": "2021-11-17T14:40:20.076695Z",
          "iopub.status.idle": "2021-11-17T14:40:20.086287Z",
          "shell.execute_reply": "2021-11-17T14:40:20.085613Z",
          "shell.execute_reply.started": "2021-11-17T14:40:20.076946Z"
        },
        "trusted": true,
        "id": "OHyLHGiycOg1"
      },
      "outputs": [],
      "source": [
        "import numpy as np\n",
        "from tensorflow.keras.preprocessing.sequence import pad_sequences\n",
        "\n",
        "def  handle_city_name(cityname):\n",
        "    name = remove_non_lettre(cityname)\n",
        "    name = letter_to_number(name)\n",
        "    name = pad_sequences(np.array([name]),maxlen=20, padding='post')\n",
        "    return(name)\n",
        "\n",
        "handle_city_name('dijon')"
      ]
    },
    {
      "cell_type": "code",
      "execution_count": null,
      "metadata": {
        "id": "RcqPYVs0cOg1"
      },
      "outputs": [],
      "source": [
        "city_single.predict(handle_city_name('dijon'))"
      ]
    },
    {
      "cell_type": "code",
      "execution_count": null,
      "metadata": {
        "execution": {
          "iopub.execute_input": "2021-11-17T14:45:06.823862Z",
          "iopub.status.busy": "2021-11-17T14:45:06.82356Z",
          "iopub.status.idle": "2021-11-17T14:45:07.392226Z",
          "shell.execute_reply": "2021-11-17T14:45:07.391596Z",
          "shell.execute_reply.started": "2021-11-17T14:45:06.823828Z"
        },
        "trusted": true,
        "id": "aH9xdE8tcOg2"
      },
      "outputs": [],
      "source": [
        "#your code here\n"
      ]
    },
    {
      "cell_type": "markdown",
      "metadata": {
        "collapsed": false,
        "id": "QnaN52MGcOg3"
      },
      "source": [
        "9) In this question we build a model with a 2 LSTM layers to predict the country of a city name. Build a neural network with the following layers:\n",
        "* an Input layer\n",
        "* an Embedding layer that output a 6 sized vector\n",
        "* a LSTM layer with 30 units. You have to set return_sequences=True\n",
        "* a dropout layer with rate=0.2\n",
        "* a LSTM layer with 60 units.\n",
        "* a Dense layer\n",
        "\n",
        "Call this model city_double. Compile this model with an adam optimizer and the accuracy metric. Fit it with 10 epochs using X_train and y_train. Evaluate this model on X_test and y_test."
      ]
    },
    {
      "cell_type": "code",
      "execution_count": null,
      "metadata": {
        "execution": {
          "iopub.execute_input": "2021-11-17T13:57:02.886071Z",
          "iopub.status.busy": "2021-11-17T13:57:02.884727Z",
          "iopub.status.idle": "2021-11-17T14:00:18.829457Z",
          "shell.execute_reply": "2021-11-17T14:00:18.828476Z",
          "shell.execute_reply.started": "2021-11-17T13:57:02.88599Z"
        },
        "trusted": true,
        "id": "QUxN7tAtcOg3"
      },
      "outputs": [],
      "source": [
        "#your code here\n",
        "from tensorflow.keras.layers import Dense, BatchNormalization, LSTM, Input, Embedding, Dropout\n",
        "from tensorflow.keras import Sequential\n",
        "\n",
        "vocabsize = len(vocab)+1"
      ]
    },
    {
      "cell_type": "markdown",
      "metadata": {
        "collapsed": false,
        "id": "M7J_l4EmcOg4"
      },
      "source": [
        "10) Build a model with a bidirectional LSTM layer to predict the country of a city. Call this model city_bidirect. Compile this model with an adam optimizer and the accuracy metric. Fit it with 10 epochs using X_train and y_train. Evaluate this model on X_test and y_test."
      ]
    },
    {
      "cell_type": "code",
      "execution_count": null,
      "metadata": {
        "execution": {
          "iopub.execute_input": "2021-11-17T14:07:56.738933Z",
          "iopub.status.busy": "2021-11-17T14:07:56.738586Z",
          "iopub.status.idle": "2021-11-17T14:12:34.177051Z",
          "shell.execute_reply": "2021-11-17T14:12:34.176042Z",
          "shell.execute_reply.started": "2021-11-17T14:07:56.738895Z"
        },
        "trusted": true,
        "id": "mafRdndOcOg5"
      },
      "outputs": [],
      "source": [
        "from tensorflow.keras.layers import Dense, BatchNormalization, LSTM, Input, Embedding, Bidirectional\n",
        "from tensorflow.keras import Sequential"
      ]
    }
  ],
  "metadata": {
    "kernelspec": {
      "display_name": "Python 3 (system-wide)",
      "language": "python",
      "metadata": {
        "cocalc": {
          "description": "Python 3 programming language",
          "priority": 100,
          "url": "https://www.python.org/"
        }
      },
      "name": "python3",
      "resource_dir": "/ext/jupyter/kernels/python3"
    },
    "language_info": {
      "codemirror_mode": {
        "name": "ipython",
        "version": 3
      },
      "file_extension": ".py",
      "mimetype": "text/x-python",
      "name": "python",
      "nbconvert_exporter": "python",
      "pygments_lexer": "ipython3",
      "version": "3.7.10"
    },
    "colab": {
      "name": "simples-applications-of-recurrent-neural-networks.ipynb",
      "provenance": [],
      "include_colab_link": true
    }
  },
  "nbformat": 4,
  "nbformat_minor": 0
}