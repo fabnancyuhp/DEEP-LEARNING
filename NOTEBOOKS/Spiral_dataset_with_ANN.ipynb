{
  "metadata": {
    "kernelspec": {
      "language": "python",
      "display_name": "Python 3",
      "name": "python3"
    },
    "language_info": {
      "name": "python",
      "version": "3.7.9",
      "mimetype": "text/x-python",
      "codemirror_mode": {
        "name": "ipython",
        "version": 3
      },
      "pygments_lexer": "ipython3",
      "nbconvert_exporter": "python",
      "file_extension": ".py"
    },
    "colab": {
      "name": "Spiral dataset with ANN.ipynb",
      "provenance": [],
      "collapsed_sections": [
        "zYWDpSef1NPL",
        "O4MMt2QWl-th",
        "ZMzlyO000VUm",
        "wY8h4gIpsBbT",
        "b5lj0o2qDCbV"
      ],
      "include_colab_link": true
    }
  },
  "nbformat_minor": 0,
  "nbformat": 4,
  "cells": [
    {
      "cell_type": "markdown",
      "metadata": {
        "id": "view-in-github",
        "colab_type": "text"
      },
      "source": [
        "<a href=\"https://colab.research.google.com/github/fabnancyuhp/DEEP-LEARNING/blob/main/NOTEBOOKS/Spiral_dataset_with_ANN.ipynb\" target=\"_parent\"><img src=\"https://colab.research.google.com/assets/colab-badge.svg\" alt=\"Open In Colab\"/></a>"
      ]
    },
    {
      "cell_type": "markdown",
      "source": [
        "In this notebook, there are 2 solved problems related to some datasets that are not linearly separable. We show that ANNs with more than one hidden layer can tackle non-linear problems.<br>\n",
        "At the end of this notebook, there is an extra exercise illustrating the spars_categorical_crossentropy loss. "
      ],
      "metadata": {
        "id": "VlRFXNFQSMLu"
      }
    },
    {
      "cell_type": "markdown",
      "source": [
        "# Exercise 1 : Spiral dataset with 2 classes\n",
        "This example is inspired from https://cs231n.github.io/neural-networks-case-study/<br>\n",
        "In this exercise, we are in the case of a non linearly separable problem.First, you have to run the cell below to create the dataset and to draw the dataset. We have some red points (label y=1) and some blue points (label y=0). Our goal is to construct a classifier to predict the color of a point."
      ],
      "metadata": {
        "id": "f2bS8R3_zN11"
      }
    },
    {
      "cell_type": "code",
      "source": [
        "import numpy as np\n",
        "import matplotlib.pyplot as plt\n",
        "N = 1800 # number of points per class\n",
        "D = 2 # dimensionality\n",
        "K = 2 # number of classes\n",
        "X = np.zeros((N*K,D)) # data matrix (each row = single example)\n",
        "Y = np.zeros(N*K, dtype='uint8') # class labels\n",
        "for j in range(K):\n",
        "  ix = range(N*j,N*(j+1))\n",
        "  r = np.linspace(0.0,1,N) # radius\n",
        "  t = np.linspace(j*4,(j+1)*4,N) + np.random.randn(N)*0.2 # theta\n",
        "  X[ix] = np.c_[r*np.sin(t), r*np.cos(t)]\n",
        "  Y[ix] = j\n",
        "# lets visualize the data:\n",
        "plt.scatter(X[:, 0], X[:, 1], c=Y, s=40, cmap=plt.cm.Spectral)\n",
        "plt.show()"
      ],
      "metadata": {
        "id": "eWwP7GqeSM3A",
        "outputId": "48392fa4-56a0-4449-e216-e49de39f95ef",
        "colab": {
          "base_uri": "https://localhost:8080/",
          "height": 265
        }
      },
      "execution_count": 37,
      "outputs": [
        {
          "output_type": "display_data",
          "data": {
            "image/png": "[encoded data removed]",
            "text/plain": [
              "<Figure size 432x288 with 1 Axes>"
            ]
          },
          "metadata": {
            "needs_background": "light"
          }
        }
      ]
    },
    {
      "cell_type": "markdown",
      "source": [
        "1) What is the bacth-size of this problem? What is the shape of X and Y?"
      ],
      "metadata": {
        "id": "6d_wxjGiUwHC"
      }
    },
    {
      "cell_type": "code",
      "source": [
        "print(\"the batch size is: \"+str(X.shape[0]))\n",
        "print(\"the shape of X :\"+str(X.shape))\n",
        "print(\"the shape of Y :\"+str(Y.shape))"
      ],
      "metadata": {
        "id": "iCuPsVbDSSS5",
        "outputId": "3d91f643-1a8f-41b1-9acf-a98c708f2fb5",
        "colab": {
          "base_uri": "https://localhost:8080/"
        }
      },
      "execution_count": 38,
      "outputs": [
        {
          "output_type": "stream",
          "name": "stdout",
          "text": [
            "the batch size is: 3600\n",
            "the shape of X :(3600, 2)\n",
            "the shape of Y :(3600,)\n"
          ]
        }
      ]
    },
    {
      "cell_type": "markdown",
      "source": [
        "2) The goal of this exercise is to design a Neural network to predict the label of y. How many distinct labels do we have ?"
      ],
      "metadata": {
        "id": "IC1brrS7U4iJ"
      }
    },
    {
      "cell_type": "code",
      "source": [
        "print(\"the labels are: \"+str(np.unique(Y)))\n",
        "print(\"we have \"+str(len(np.unique(Y)))+\" distinct values\")"
      ],
      "metadata": {
        "id": "qFZcVXiASsv3",
        "outputId": "1039e45d-3e01-41c6-9fb8-1cafb1fe626d",
        "colab": {
          "base_uri": "https://localhost:8080/"
        }
      },
      "execution_count": 39,
      "outputs": [
        {
          "output_type": "stream",
          "name": "stdout",
          "text": [
            "the labels are: [0 1]\n",
            "we have 2 distinct values\n"
          ]
        }
      ]
    },
    {
      "cell_type": "markdown",
      "source": [
        "3) Split X, Y into a train set and a test set using train_test_split from the sklearn package."
      ],
      "metadata": {
        "id": "1lwC4kdXVBQr"
      }
    },
    {
      "cell_type": "code",
      "source": [
        "from sklearn.model_selection import train_test_split\n",
        "X_train, X_test, y_train, y_test = train_test_split(X, Y, test_size=0.33, random_state=42)"
      ],
      "metadata": {
        "id": "5SQ71d64Sy4L"
      },
      "execution_count": 40,
      "outputs": []
    },
    {
      "cell_type": "markdown",
      "source": [
        "4) In this question you have to use the package tensorflow.keras to build a Neural network with the architecture:\n",
        "    \n",
        "    * InputLayer \n",
        "    * Dense layer with 10 units and activation='tanh'.\n",
        "    * BatchNormalization()\n",
        "    * Dense layer with 5 units and activation='tanh'.\n",
        "    * BatchNormalization()\n",
        "    * Dense layer with 1 units ,activation='sigmoid'\n"
      ],
      "metadata": {
        "id": "2hQfAtZhVVBt"
      }
    },
    {
      "cell_type": "code",
      "source": [
        "from tensorflow.keras.layers import Dense, BatchNormalization,InputLayer  \n",
        "from tensorflow.keras.models import Sequential \n",
        "\n",
        "model = Sequential([InputLayer(input_shape=(X.shape[1],)),\n",
        "                    Dense(10,activation='tanh',name='first_hidden'),\n",
        "                    BatchNormalization(),\n",
        "                    Dense(5,activation='tanh',name='second_hidden'),\n",
        "                    BatchNormalization(),\n",
        "                    Dense(1,activation='sigmoid')])\n",
        "\n",
        "#model.compile(optimizer='adam',loss='categorical_crossentropy',metrics=['accuracy'])\n",
        "#model.fit(X_train,y_train,epochs=400,verbose=0)\n",
        "#model.evaluate(X_test, y_test)"
      ],
      "metadata": {
        "id": "brr3Lx72S2Xs"
      },
      "execution_count": 41,
      "outputs": []
    },
    {
      "cell_type": "markdown",
      "source": [
        "5) Compile and train the model you've just built in the previous question. Compute the accuracy score of the test set."
      ],
      "metadata": {
        "id": "EF7jO6EUVpkP"
      }
    },
    {
      "cell_type": "code",
      "source": [
        "model.compile(optimizer='adam',loss='categorical_crossentropy',metrics=['accuracy'])\n",
        "model.fit(X_train,y_train,epochs=400,verbose=0)\n",
        "model.evaluate(X_test, y_test)"
      ],
      "metadata": {
        "colab": {
          "base_uri": "https://localhost:8080/"
        },
        "id": "c0cySHIEVqkW",
        "outputId": "1c47c2fe-ec8a-4c4b-d9a1-7c51587d8ab0"
      },
      "execution_count": 42,
      "outputs": [
        {
          "output_type": "stream",
          "name": "stdout",
          "text": [
            "38/38 [==============================] - 0s 1ms/step - loss: 0.0000e+00 - accuracy: 0.9857\n"
          ]
        },
        {
          "output_type": "execute_result",
          "data": {
            "text/plain": [
              "[0.0, 0.9856902360916138]"
            ]
          },
          "metadata": {},
          "execution_count": 42
        }
      ]
    },
    {
      "cell_type": "markdown",
      "source": [
        "6)Save your model in a h5 file."
      ],
      "metadata": {
        "id": "wkthXAVMWCJ2"
      }
    },
    {
      "cell_type": "code",
      "source": [
        "model.save(\"./my_h5_model.h5\")"
      ],
      "metadata": {
        "id": "_4aEq6C9S93u"
      },
      "execution_count": 43,
      "outputs": []
    },
    {
      "cell_type": "markdown",
      "source": [
        "7)Load the model you've just saved."
      ],
      "metadata": {
        "id": "WXnrlfh4WIF2"
      }
    },
    {
      "cell_type": "code",
      "source": [
        "from tensorflow.keras.models import load_model\n",
        "reconstructed_model = load_model(\"./my_h5_model.h5\")\n",
        "reconstructed_model.summary()"
      ],
      "metadata": {
        "id": "MDgHmBabTE83",
        "colab": {
          "base_uri": "https://localhost:8080/"
        },
        "outputId": "e447453e-9e45-4b01-aa08-1ad32cbd549c"
      },
      "execution_count": 44,
      "outputs": [
        {
          "output_type": "stream",
          "name": "stdout",
          "text": [
            "Model: \"sequential_3\"\n",
            "_________________________________________________________________\n",
            " Layer (type)                Output Shape              Param #   \n",
            "=================================================================\n",
            " first_hidden (Dense)        (None, 10)                30        \n",
            "                                                                 \n",
            " batch_normalization_6 (Batc  (None, 10)               40        \n",
            " hNormalization)                                                 \n",
            "                                                                 \n",
            " second_hidden (Dense)       (None, 5)                 55        \n",
            "                                                                 \n",
            " batch_normalization_7 (Batc  (None, 5)                20        \n",
            " hNormalization)                                                 \n",
            "                                                                 \n",
            " dense_3 (Dense)             (None, 1)                 6         \n",
            "                                                                 \n",
            "=================================================================\n",
            "Total params: 151\n",
            "Trainable params: 121\n",
            "Non-trainable params: 30\n",
            "_________________________________________________________________\n"
          ]
        }
      ]
    },
    {
      "cell_type": "markdown",
      "source": [
        "8)Get the weights from the first_hidden layer."
      ],
      "metadata": {
        "id": "b_AA5q_pWOEJ"
      }
    },
    {
      "cell_type": "code",
      "source": [
        "model.layers[0].get_weights() \n",
        "model.get_layer('first_hidden').get_weights()"
      ],
      "metadata": {
        "id": "OZAoqkXNTRpg",
        "outputId": "5620c51a-5868-4385-bf38-1b98c2f2dab9",
        "colab": {
          "base_uri": "https://localhost:8080/"
        }
      },
      "execution_count": 45,
      "outputs": [
        {
          "output_type": "execute_result",
          "data": {
            "text/plain": [
              "[array([[ 1.1831646 ,  1.7340038 ,  0.05309166, -0.64837813,  0.41580105,\n",
              "          0.17984025, -0.1283305 , -0.02259362, 12.542652  ,  0.25872484],\n",
              "        [-0.08123869,  7.5114284 ,  0.18053956,  1.5111318 ,  0.20524457,\n",
              "          0.3493049 , -0.2664295 , -0.14073546,  3.3941014 ,  0.52527577]],\n",
              "       dtype=float32),\n",
              " array([-2.3824832 , -0.05298878, -1.0676888 , -1.3703289 , -1.7134192 ,\n",
              "        -0.87996656,  1.2436786 ,  0.7609811 , -0.07540481, -0.4175145 ],\n",
              "       dtype=float32)]"
            ]
          },
          "metadata": {},
          "execution_count": 45
        }
      ]
    },
    {
      "cell_type": "markdown",
      "source": [
        "# Exercise 2 : Spiral dataset with 3 classes\n",
        "This exercise is inspired from https://cs231n.github.io/neural-networks-case-study/<br>\n",
        "A teacher trained a keras model over a dataset that is not easily linearly separable. Run the cell below to generate a dataset close to the one used for the model trained by the teacher. There are three classes in that dataset distinguishable by their color."
      ],
      "metadata": {
        "id": "pkPig_j3TjDc"
      }
    },
    {
      "cell_type": "code",
      "source": [
        "import numpy as np\n",
        "import matplotlib.pyplot as plt\n",
        "N = 3500 # number of points per class\n",
        "D = 2 # dimensionality\n",
        "K = 3 # number of classes\n",
        "X = np.zeros((N*K,D)) # data matrix (each row = single example)\n",
        "y = np.zeros(N*K, dtype='uint8') # class labels\n",
        "for j in range(K):\n",
        "  ix = range(N*j,N*(j+1))\n",
        "  r = np.linspace(0.0,1,N) # radius\n",
        "  t = np.linspace(j*4,(j+1)*4,N) + np.random.randn(N)*0.2 # theta\n",
        "  X[ix] = np.c_[r*np.sin(t), r*np.cos(t)]\n",
        "  y[ix] = j\n",
        "# lets visualize the data:\n",
        "plt.scatter(X[:, 0], X[:, 1], c=y, s=40, cmap=plt.cm.Spectral)\n",
        "plt.show()"
      ],
      "metadata": {
        "id": "Eg4g_PtDTjvu",
        "outputId": "eb4b4d32-8312-4a46-bd6f-a15eff93998b",
        "colab": {
          "base_uri": "https://localhost:8080/",
          "height": 265
        }
      },
      "execution_count": 47,
      "outputs": [
        {
          "output_type": "display_data",
          "data": {
            "image/png": "[encoded data removed]",
            "text/plain": [
              "<Figure size 432x288 with 1 Axes>"
            ]
          },
          "metadata": {
            "needs_background": "light"
          }
        }
      ]
    },
    {
      "cell_type": "markdown",
      "source": [
        "In the spiral dataset we've just created, we have 3 classes   "
      ],
      "metadata": {
        "id": "zS3qmecMeLf9"
      }
    },
    {
      "cell_type": "markdown",
      "source": [
        "The teacher saved his model using the h5 format. Run the cell below to load the model."
      ],
      "metadata": {
        "id": "Dg7b-CLyTxyx"
      }
    },
    {
      "cell_type": "code",
      "source": [
        "import requests, io\n",
        "import numpy as np\n",
        "from tensorflow.keras.models import load_model\n",
        "import h5py\n",
        "url = \"https://raw.githubusercontent.com/fabnancyuhp/DEEP-LEARNING/main/DATA/teacher_model.h5\"\n",
        "\n",
        "r = requests.get(url)\n",
        "teach_model = h5py.File(io.BytesIO(r.content),'r')\n",
        "teacher_model = load_model(teach_model)"
      ],
      "metadata": {
        "id": "VnRD1Xd-TylW"
      },
      "execution_count": 12,
      "outputs": []
    },
    {
      "cell_type": "markdown",
      "source": [
        "Teacher_model is a tensorflow.keras model. The output of the cell below means the model is a Sequential one. Our goal is to guess how the teacher designed his model. "
      ],
      "metadata": {
        "id": "t1ucrCbj0AJf"
      }
    },
    {
      "cell_type": "code",
      "source": [
        "type(teacher_model)"
      ],
      "metadata": {
        "colab": {
          "base_uri": "https://localhost:8080/"
        },
        "id": "u-3PO2yB0TtY",
        "outputId": "edf8e907-4673-404c-c6aa-5b9eb1e8d43f"
      },
      "execution_count": 3,
      "outputs": [
        {
          "output_type": "execute_result",
          "data": {
            "text/plain": [
              "keras.engine.sequential.Sequential"
            ]
          },
          "metadata": {},
          "execution_count": 3
        }
      ]
    },
    {
      "cell_type": "markdown",
      "source": [
        "1) How many Dense Layers does teacher_model has? How many BatchNormalization() layer does this model have? How many Trainable params dose this model have? How many units does the last hidden layer have?"
      ],
      "metadata": {
        "id": "R3ZJf4L6C2Bj"
      }
    },
    {
      "cell_type": "code",
      "source": [
        "#1) How many Dense Layers does teacher_model has? answer : 4 Dense layers\n",
        "#How many BatchNormalization() layer does this model have?  answer : 2 BatchNormalization layers\n",
        "#How many Trainable params dose this model have? answer : 163 trainables parameters\n",
        "#How many units does the last hidden layer have? answer : 3 units\n",
        "teacher_model.summary()"
      ],
      "metadata": {
        "colab": {
          "base_uri": "https://localhost:8080/"
        },
        "id": "wTVXPgMWC0z6",
        "outputId": "ae1e513d-0e2d-45f0-d183-c74d89cdc3a7"
      },
      "execution_count": 19,
      "outputs": [
        {
          "output_type": "stream",
          "name": "stdout",
          "text": [
            "Model: \"sequential\"\n",
            "_________________________________________________________________\n",
            " Layer (type)                Output Shape              Param #   \n",
            "=================================================================\n",
            " first_hidden (Dense)        (None, 10)                30        \n",
            "                                                                 \n",
            " batch_normalization (BatchN  (None, 10)               40        \n",
            " ormalization)                                                   \n",
            "                                                                 \n",
            " second_hidden (Dense)       (None, 5)                 55        \n",
            "                                                                 \n",
            " batch_normalization_1 (Batc  (None, 5)                20        \n",
            " hNormalization)                                                 \n",
            "                                                                 \n",
            " third_hidden (Dense)        (None, 5)                 30        \n",
            "                                                                 \n",
            " dense (Dense)               (None, 3)                 18        \n",
            "                                                                 \n",
            "=================================================================\n",
            "Total params: 193\n",
            "Trainable params: 163\n",
            "Non-trainable params: 30\n",
            "_________________________________________________________________\n"
          ]
        }
      ]
    },
    {
      "cell_type": "markdown",
      "source": [
        "2) What is the weight matrix of the third hidden layer ?"
      ],
      "metadata": {
        "id": "Jfj32rrqC5Us"
      }
    },
    {
      "cell_type": "code",
      "source": [
        "#model.layers[0].get_weights() \n",
        "teacher_model.get_layer('third_hidden').get_weights()"
      ],
      "metadata": {
        "colab": {
          "base_uri": "https://localhost:8080/"
        },
        "id": "8Voymx3eC7hK",
        "outputId": "c52b5840-b95c-474e-ac7d-24d52668c50b"
      },
      "execution_count": 20,
      "outputs": [
        {
          "output_type": "execute_result",
          "data": {
            "text/plain": [
              "[array([[ 0.74147016, -0.7957535 ,  0.67191696,  0.8986576 ,  0.18083209],\n",
              "        [-1.4566284 , -0.9861701 ,  0.8741859 ,  0.08478148, -1.8854285 ],\n",
              "        [ 0.03102238,  0.5847911 , -0.75338507,  0.5877253 ,  0.9950492 ],\n",
              "        [ 0.9523286 , -0.48159003,  1.5990696 ,  1.0915468 , -0.37100694],\n",
              "        [-0.31160182,  0.3829333 ,  0.4370279 ,  0.88894445,  0.41969505]],\n",
              "       dtype=float32),\n",
              " array([-0.73652726,  0.43306306, -0.52848864,  0.9140984 , -0.63914084],\n",
              "       dtype=float32)]"
            ]
          },
          "metadata": {},
          "execution_count": 20
        }
      ]
    },
    {
      "cell_type": "markdown",
      "source": [
        "3) Make a prediction over np.array([[5.74323982e-05 ,5.68699218e-04]] using teacher_model. What kind of vector does this prediction return?"
      ],
      "metadata": {
        "id": "8njRIRz5C_jr"
      }
    },
    {
      "cell_type": "code",
      "source": [
        "teacher_model.predict(np.array([[5.74323982e-05 ,5.68699218e-04]]))\n",
        "#What kind of vector does this prediction return? answer : probability vector"
      ],
      "metadata": {
        "colab": {
          "base_uri": "https://localhost:8080/"
        },
        "id": "0drWVOVGDAdJ",
        "outputId": "bf732675-c104-4ad6-e252-2331a48d8746"
      },
      "execution_count": 22,
      "outputs": [
        {
          "output_type": "execute_result",
          "data": {
            "text/plain": [
              "array([[0.0786705 , 0.5829136 , 0.33841586]], dtype=float32)"
            ]
          },
          "metadata": {},
          "execution_count": 22
        }
      ]
    },
    {
      "cell_type": "markdown",
      "source": [
        "4) Try to build a neural network close to the teacher_model? You have to build it, to compile it. You have to train your neural network with the datset you've generated at the begining of this exercise."
      ],
      "metadata": {
        "id": "-RJaA4z7DBPV"
      }
    },
    {
      "cell_type": "markdown",
      "source": [
        "We will use loss='categorical_crossentropy' and we have 3 classes. We have to convert y to a binary class matrix."
      ],
      "metadata": {
        "id": "SZXIbQJGE9T2"
      }
    },
    {
      "cell_type": "code",
      "source": [
        "from tensorflow.keras.utils import to_categorical\n",
        "Y_cat = to_categorical(y,num_classes=3)"
      ],
      "metadata": {
        "id": "RhgSsfv4GMQG"
      },
      "execution_count": 27,
      "outputs": []
    },
    {
      "cell_type": "code",
      "source": [
        "from tensorflow.keras.layers import Dense, BatchNormalization,InputLayer  \n",
        "from tensorflow.keras.models import Sequential \n",
        "#from tensorflow.keras.utils import to_categorical\n",
        "#Y_cat = to_categorical(y,num_classes=3)\n",
        "\n",
        "model = Sequential([InputLayer(input_shape=(X.shape[1],)),\n",
        "                    Dense(10,activation='tanh',name='first_hidden'),\n",
        "                    BatchNormalization(),\n",
        "                    Dense(5,activation='tanh',name='second_hidden'),\n",
        "                    BatchNormalization(),\n",
        "                    Dense(5,activation='tanh',name='third_hidden'),\n",
        "                    Dense(3,activation='softmax')])\n",
        "\n",
        "model.compile(optimizer='adam',loss='categorical_crossentropy',metrics=['accuracy'])\n",
        "model.fit(X,Y_cat,epochs=400,verbose=0)\n",
        "model.evaluate(X, Y_cat)"
      ],
      "metadata": {
        "colab": {
          "base_uri": "https://localhost:8080/"
        },
        "id": "LBEAFIutDFkN",
        "outputId": "08413e32-d5b6-4ad8-ed6a-aa47f2bfe70f"
      },
      "execution_count": 23,
      "outputs": [
        {
          "output_type": "stream",
          "name": "stdout",
          "text": [
            "329/329 [==============================] - 1s 1ms/step - loss: 0.0111 - accuracy: 0.9971\n"
          ]
        },
        {
          "output_type": "execute_result",
          "data": {
            "text/plain": [
              "[0.011100897565484047, 0.9971428513526917]"
            ]
          },
          "metadata": {},
          "execution_count": 23
        }
      ]
    },
    {
      "cell_type": "markdown",
      "source": [
        "# Example 3 : sparse categorical crossentropy loss over 4 classes spiral dataset\n",
        "\n",
        "\n",
        "Training a neural network involves passing data forward, through a model, and comparing predictions with ground truth labels. This comparison is done by a loss function. In multiclass classification problems, **categorical crossentropy** loss is the loss function of choice. However, it requires that your labels are one-hot encoded, which is not always the case.<br><br>\n",
        "\n",
        "In that case, **sparse categorical crossentropy** loss can be a good choice. This loss function performs the same type of loss – categorical crossentropy loss – but works on integer targets instead of one-hot encoded ones. Saves you that to_categorical step which is common with TensorFlow/Keras models!<br><br>\n",
        "\n",
        "In this exercise, we use sparse categorical cross-entropy loss to make a classifier over a 4 classes spiral dataset. Run the cell below to create the data.\n",
        "\n"
      ],
      "metadata": {
        "id": "5TyTAjuhD99s"
      }
    },
    {
      "cell_type": "code",
      "source": [
        "import numpy as np\n",
        "import matplotlib.pyplot as plt\n",
        "N = 4000 # number of points per class\n",
        "D = 2 # dimensionality\n",
        "K = 4 # number of classes\n",
        "X = np.zeros((N*K,D)) # data matrix (each row = single example)\n",
        "y = np.zeros(N*K, dtype='uint8') # class labels\n",
        "for j in range(K):\n",
        "  ix = range(N*j,N*(j+1))\n",
        "  r = np.linspace(0.0,1,N) # radius\n",
        "  t = np.linspace(j*4,(j+1)*4,N) + np.random.randn(N)*0.2 # theta\n",
        "  X[ix] = np.c_[r*np.sin(t), r*np.cos(t)]\n",
        "  y[ix] = j\n",
        "# lets visualize the data:\n",
        "plt.scatter(X[:, 0], X[:, 1], c=y, s=40, cmap=plt.cm.Spectral)\n",
        "plt.show()"
      ],
      "metadata": {
        "colab": {
          "base_uri": "https://localhost:8080/",
          "height": 265
        },
        "id": "kWIFSbD4EEYV",
        "outputId": "ed935a79-4489-4dec-a16f-fbacbab8f5a3"
      },
      "execution_count": 53,
      "outputs": [
        {
          "output_type": "display_data",
          "data": {
            "image/png": "[encoded data removed]",
            "text/plain": [
              "<Figure size 432x288 with 1 Axes>"
            ]
          },
          "metadata": {
            "needs_background": "light"
          }
        }
      ]
    },
    {
      "cell_type": "markdown",
      "source": [
        "Our target is an integer value from { 0, 1, 2, 3 }."
      ],
      "metadata": {
        "id": "lAgs2vQp5Uh5"
      }
    },
    {
      "cell_type": "code",
      "source": [
        "np.unique(y)"
      ],
      "metadata": {
        "colab": {
          "base_uri": "https://localhost:8080/"
        },
        "id": "2ifK-cmE5XI5",
        "outputId": "3b1a5a9c-c4a7-4934-b265-f69fc7d37c9d"
      },
      "execution_count": 96,
      "outputs": [
        {
          "output_type": "execute_result",
          "data": {
            "text/plain": [
              "array([0, 1, 2, 3], dtype=uint8)"
            ]
          },
          "metadata": {},
          "execution_count": 96
        }
      ]
    },
    {
      "cell_type": "markdown",
      "source": [
        "When we use categorical crossentropy loss, we’ll have to convert our target into categorical format first – with one-hot encoding, or to_categorical in Keras. We’ll effectively transform your targets into this:\n",
        "* For class 0: [1,0,0,0]\n",
        "* For class 1: [0,1,0,0]\n",
        "* For class 2: [0,0,1,0]\n",
        "* For class 3: [0,0,0,1]\n",
        "\n",
        "However, when we have integer targets instead of categorical vectors as targets, we can use sparse categorical crossentropy. It’s an integer-based version of the categorical crossentropy loss function, which means that we don’t have to convert the targets into categorical format anymore."
      ],
      "metadata": {
        "id": "wfUAev-M5cVl"
      }
    },
    {
      "cell_type": "markdown",
      "source": [
        "**In the cell below we define a model that handles our classification problem.**<br><br> \n",
        "\n",
        "We have to notice our last Dense responsible for output a probability vector has 4+1 units. Generally, when we want to use sparse categorical, the last Dense layer has n+1 units, where n equals the unique number of classes in our dataset."
      ],
      "metadata": {
        "id": "RfO7WDzg71U9"
      }
    },
    {
      "cell_type": "code",
      "source": [
        "from tensorflow.keras.layers import Dense, BatchNormalization \n",
        "from tensorflow.keras.models import Sequential\n",
        "\n",
        "model_3 = Sequential()\n",
        "model_3.add(Dense(10,activation='tanh',input_shape=(X.shape[1],)))\n",
        "model_3.add(BatchNormalization())\n",
        "model_3.add(Dense(10,activation='tanh'))\n",
        "model_3.add(BatchNormalization())\n",
        "model_3.add(Dense(5,activation='tanh'))\n",
        "model_3.add(BatchNormalization())\n",
        "model_3.add(Dense(5,activation='softmax'))"
      ],
      "metadata": {
        "id": "eCIgsDxEEfYg"
      },
      "execution_count": 79,
      "outputs": []
    },
    {
      "cell_type": "markdown",
      "source": [
        "**Now, we compile our model with SparseCategoricalCrossentropy**:"
      ],
      "metadata": {
        "id": "98hnd6xa-jMI"
      }
    },
    {
      "cell_type": "code",
      "source": [
        "import tensorflow as tf\n",
        "model_3.compile(loss=tf.keras.losses.SparseCategoricalCrossentropy(from_logits=True),optimizer='adam',\\\n",
        "                metrics=[tf.keras.metrics.SparseCategoricalAccuracy()])"
      ],
      "metadata": {
        "id": "26wTB-PwTHmA"
      },
      "execution_count": 80,
      "outputs": []
    },
    {
      "cell_type": "markdown",
      "source": [
        "**We split X, Y into a train set and a test set using train_test_split from the sklearn package.**"
      ],
      "metadata": {
        "id": "7xJ5sOlg-vT2"
      }
    },
    {
      "cell_type": "code",
      "source": [
        "from sklearn.model_selection import train_test_split\n",
        "X_train, X_test, y_train, y_test = train_test_split(X, y, test_size=0.33, random_state=42)"
      ],
      "metadata": {
        "id": "BL8FNObrTWtK"
      },
      "execution_count": 81,
      "outputs": []
    },
    {
      "cell_type": "markdown",
      "source": [
        "**We fit our model with 400 epochs:**"
      ],
      "metadata": {
        "id": "D8UQRgnn_qFq"
      }
    },
    {
      "cell_type": "code",
      "source": [
        "model_3.fit(X_train,y_train,epochs=400,verbose=0)\n",
        "#model_3.evaluate(x_test,y_test)"
      ],
      "metadata": {
        "colab": {
          "base_uri": "https://localhost:8080/"
        },
        "id": "kZJ6EwvcUOiZ",
        "outputId": "a77c1214-6098-47d1-9594-6c8102fc44a6"
      },
      "execution_count": 82,
      "outputs": [
        {
          "output_type": "stream",
          "name": "stderr",
          "text": [
            "/usr/local/lib/python3.7/dist-packages/tensorflow/python/util/dispatch.py:1096: UserWarning: \"`sparse_categorical_crossentropy` received `from_logits=True`, but the `output` argument was produced by a sigmoid or softmax activation and thus does not represent logits. Was this intended?\"\n",
            "  return dispatch_target(*args, **kwargs)\n"
          ]
        },
        {
          "output_type": "execute_result",
          "data": {
            "text/plain": [
              "<keras.callbacks.History at 0x7f910c925550>"
            ]
          },
          "metadata": {},
          "execution_count": 82
        }
      ]
    },
    {
      "cell_type": "markdown",
      "source": [
        "**We evaluate our model over the test set**"
      ],
      "metadata": {
        "id": "qR3PbQtI_0hJ"
      }
    },
    {
      "cell_type": "code",
      "source": [
        "model_3.evaluate(X_test,y_test)"
      ],
      "metadata": {
        "id": "alY76f3yC0k4",
        "outputId": "29117605-1c5e-424b-b7e9-d56bb32fa819",
        "colab": {
          "base_uri": "https://localhost:8080/"
        }
      },
      "execution_count": 98,
      "outputs": [
        {
          "output_type": "stream",
          "name": "stdout",
          "text": [
            "165/165 [==============================] - 1s 8ms/step - loss: 0.1201 - sparse_categorical_accuracy: 0.9566\n"
          ]
        },
        {
          "output_type": "execute_result",
          "data": {
            "text/plain": [
              "[0.12005665153265, 0.9566287994384766]"
            ]
          },
          "metadata": {},
          "execution_count": 98
        }
      ]
    },
    {
      "cell_type": "markdown",
      "source": [
        "**We apply our model to a new sample:**\n",
        "  * we pass our new sample to the model\n",
        "  * we find the predicted class "
      ],
      "metadata": {
        "id": "okGrtEKvDUng"
      }
    },
    {
      "cell_type": "code",
      "source": [
        "vect_proba = model_3.predict(X_test[10].reshape(1,2))\n",
        "vect_proba"
      ],
      "metadata": {
        "colab": {
          "base_uri": "https://localhost:8080/"
        },
        "id": "bTjtXcnFnMTG",
        "outputId": "09c4502b-441a-4156-bfa3-0808df73c939"
      },
      "execution_count": 99,
      "outputs": [
        {
          "output_type": "execute_result",
          "data": {
            "text/plain": [
              "array([[1.1520664e-06, 1.0422052e-07, 9.9999869e-01, 1.2430806e-08,\n",
              "        5.2563655e-11]], dtype=float32)"
            ]
          },
          "metadata": {},
          "execution_count": 99
        }
      ]
    },
    {
      "cell_type": "code",
      "source": [
        "import numpy as np\n",
        "predicted_class = np.argmax(vect_proba)\n",
        "print(\"The true label is: \"+str(y_test[10]))\n",
        "print(\"The predicted label is: \"+str(predicted_class))"
      ],
      "metadata": {
        "id": "NZa0-0vnD6Xx",
        "outputId": "f64c449f-a4fd-4a70-e8e7-9dcfc62339fb",
        "colab": {
          "base_uri": "https://localhost:8080/"
        }
      },
      "execution_count": 103,
      "outputs": [
        {
          "output_type": "stream",
          "name": "stdout",
          "text": [
            "The true label is: 2\n",
            "The predicted label is: 2\n"
          ]
        }
      ]
    }
  ]
}