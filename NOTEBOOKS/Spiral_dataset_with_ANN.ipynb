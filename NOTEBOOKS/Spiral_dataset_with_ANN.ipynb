{
  "metadata": {
    "kernelspec": {
      "language": "python",
      "display_name": "Python 3",
      "name": "python3"
    },
    "language_info": {
      "name": "python",
      "version": "3.7.9",
      "mimetype": "text/x-python",
      "codemirror_mode": {
        "name": "ipython",
        "version": 3
      },
      "pygments_lexer": "ipython3",
      "nbconvert_exporter": "python",
      "file_extension": ".py"
    },
    "colab": {
      "name": "Spiral dataset with ANN.ipynb",
      "provenance": [],
      "collapsed_sections": [
        "zYWDpSef1NPL",
        "O4MMt2QWl-th",
        "ZMzlyO000VUm",
        "wY8h4gIpsBbT",
        "b5lj0o2qDCbV"
      ],
      "include_colab_link": true
    }
  },
  "nbformat_minor": 0,
  "nbformat": 4,
  "cells": [
    {
      "cell_type": "markdown",
      "metadata": {
        "id": "view-in-github",
        "colab_type": "text"
      },
      "source": [
        "<a href=\"https://colab.research.google.com/github/fabnancyuhp/DEEP-LEARNING/blob/main/NOTEBOOKS/Spiral_dataset_with_ANN.ipynb\" target=\"_parent\"><img src=\"https://colab.research.google.com/assets/colab-badge.svg\" alt=\"Open In Colab\"/></a>"
      ]
    },
    {
      "cell_type": "markdown",
      "source": [
        "In this notebook, there are 2 solved problems related to some datasets that are not linearly separable. We show that ANNs with more than one hidden layer can tackle non-linear problems.<br>\n",
        "At the end of this notebook, there is an extra exercise illustrating the spars_categorical_crossentropy loss. "
      ],
      "metadata": {
        "id": "VlRFXNFQSMLu"
      }
    },
    {
      "cell_type": "markdown",
      "source": [
        "# Exercise 1 : Spiral dataset with 2 classes\n",
        "This example is inspired from https://cs231n.github.io/neural-networks-case-study/<br>\n",
        "In this exercise, we are in the case of a non linearly separable problem.First, you have to run the cell below to create the dataset and to draw the dataset. We have some red points (label y=1) and some blue points (label y=0). Our goal is to construct a classifier to predict the color of a point."
      ],
      "metadata": {
        "id": "f2bS8R3_zN11"
      }
    },
    {
      "cell_type": "code",
      "source": [
        "import numpy as np\n",
        "import matplotlib.pyplot as plt\n",
        "N = 1800 # number of points per class\n",
        "D = 2 # dimensionality\n",
        "K = 2 # number of classes\n",
        "X = np.zeros((N*K,D)) # data matrix (each row = single example)\n",
        "Y = np.zeros(N*K, dtype='uint8') # class labels\n",
        "for j in range(K):\n",
        "  ix = range(N*j,N*(j+1))\n",
        "  r = np.linspace(0.0,1,N) # radius\n",
        "  t = np.linspace(j*4,(j+1)*4,N) + np.random.randn(N)*0.2 # theta\n",
        "  X[ix] = np.c_[r*np.sin(t), r*np.cos(t)]\n",
        "  Y[ix] = j\n",
        "# lets visualize the data:\n",
        "plt.scatter(X[:, 0], X[:, 1], c=Y, s=40, cmap=plt.cm.Spectral)\n",
        "plt.show()"
      ],
      "metadata": {
        "id": "eWwP7GqeSM3A",
        "outputId": "b587ae9e-ad79-4612-bdbf-9825b59b1998",
        "colab": {
          "base_uri": "https://localhost:8080/",
          "height": 265
        }
      },
      "execution_count": 4,
      "outputs": [
        {
          "output_type": "display_data",
          "data": {
            "image/png": "[encoded data removed]",
            "text/plain": [
              "<Figure size 432x288 with 1 Axes>"
            ]
          },
          "metadata": {
            "needs_background": "light"
          }
        }
      ]
    },
    {
      "cell_type": "markdown",
      "source": [
        "In the previous cell, you create the dataset as follow:\n",
        "* X : the matrice of the features\n",
        "* Y : the vector of the labels\n",
        "\n",
        "1) What is the bacth-size of this problem? What is the shape of X and Y?\n",
        "\n",
        "2) The goal of this exercise is to design a Neural network to predict the label of y. How many distinct labels do we have  ? \n",
        "\n",
        "3) Split X, Y into a train set and a test set using train_test_split from the sklearn package.\n",
        "\n",
        "4) In this question you have to use the package tensorflow.keras to build a Neural network with the architecture:\n",
        "    \n",
        "    * InputLayer \n",
        "    * Dense layer with 10 units and activation='tanh'.\n",
        "    * BatchNormalization()\n",
        "    * Dense layer with 5 units and activation='tanh'.\n",
        "    * BatchNormalization()\n",
        "    * Dense layer with 1 units ,activation='sigmoid'\n",
        "\n",
        "5) Compile and train the model you've just built in the previous question. Compute the accuracy score of the test set.\n",
        "\n",
        "6) Save your model in a h5 file.\n",
        "\n",
        "7) Load the model you've just saved.\n",
        "\n",
        "8) Get the weights from the first_hidden layer. "
      ],
      "metadata": {
        "id": "wj0madaSSifJ"
      }
    },
    {
      "cell_type": "code",
      "source": [
        "#1) What is the bacth-size of this problem? What is the shape of X and Y?\n",
        "print(\"the batch size is: \"+str(X.shape[0]))\n",
        "print(\"the shape of X :\"+str(X.shape))\n",
        "print(\"the shape of Y :\"+str(Y.shape))"
      ],
      "metadata": {
        "id": "iCuPsVbDSSS5",
        "outputId": "cc4a8203-930f-4ace-f993-f83c5fd97b66",
        "colab": {
          "base_uri": "https://localhost:8080/"
        }
      },
      "execution_count": 6,
      "outputs": [
        {
          "output_type": "stream",
          "name": "stdout",
          "text": [
            "the batch size is: 3600\n",
            "the shape of X :(3600, 2)\n",
            "the shape of Y :(3600,)\n"
          ]
        }
      ]
    },
    {
      "cell_type": "code",
      "source": [
        "#2)The goal of this exercise is to design a Neural network to predict the label of y. How many distinct labels do we have  ?\n",
        "print(\"the labels are: \"+str(np.unique(Y)))\n",
        "print(\"we have \"+str(len(np.unique(Y)))+\" distinct values\")"
      ],
      "metadata": {
        "id": "qFZcVXiASsv3",
        "outputId": "73c7c170-9a3a-4553-c18c-8f017fa8b0f1",
        "colab": {
          "base_uri": "https://localhost:8080/"
        }
      },
      "execution_count": 8,
      "outputs": [
        {
          "output_type": "stream",
          "name": "stdout",
          "text": [
            "the labels are: [0 1]\n",
            "we have 2 distinct values\n"
          ]
        }
      ]
    },
    {
      "cell_type": "code",
      "source": [
        "#3)Split X, Y into a train set and a test set using train_test_split from the sklearn package.\n",
        "from sklearn.model_selection import train_test_split\n",
        "X_train, X_test, y_train, y_test = train_test_split(X, Y, test_size=0.33, random_state=42)"
      ],
      "metadata": {
        "id": "5SQ71d64Sy4L"
      },
      "execution_count": 9,
      "outputs": []
    },
    {
      "cell_type": "code",
      "source": [
        "#4) 5)\n",
        "from tensorflow.keras.layers import Dense, BatchNormalization,InputLayer  \n",
        "from tensorflow.keras.models import Sequential \n",
        "\n",
        "model = Sequential([InputLayer(input_shape=(X.shape[1],)),\n",
        "                    Dense(10,activation='tanh',name='first_hidden'),\n",
        "                    BatchNormalization(),\n",
        "                    Dense(5,activation='tanh',name='second_hidden'),\n",
        "                    BatchNormalization(),\n",
        "                    Dense(1,activation='sigmoid')])\n",
        "\n",
        "model.compile(optimizer='adam',loss='categorical_crossentropy',metrics=['accuracy'])\n",
        "model.fit(X_train,y_train,epochs=400,verbose=0)\n",
        "model.evaluate(X_test, y_test)"
      ],
      "metadata": {
        "id": "brr3Lx72S2Xs",
        "outputId": "ea08706c-3293-4fe8-fe29-0daa1f57f3c6",
        "colab": {
          "base_uri": "https://localhost:8080/"
        }
      },
      "execution_count": 10,
      "outputs": [
        {
          "output_type": "stream",
          "name": "stdout",
          "text": [
            "38/38 [==============================] - 0s 2ms/step - loss: 0.0000e+00 - accuracy: 0.9848\n"
          ]
        },
        {
          "output_type": "execute_result",
          "data": {
            "text/plain": [
              "[0.0, 0.9848484992980957]"
            ]
          },
          "metadata": {},
          "execution_count": 10
        }
      ]
    },
    {
      "cell_type": "code",
      "source": [
        "#6)Save your model in a h5 file.\n",
        "model.save(\"./my_h5_model.h5\")"
      ],
      "metadata": {
        "id": "_4aEq6C9S93u"
      },
      "execution_count": null,
      "outputs": []
    },
    {
      "cell_type": "code",
      "source": [
        "#7)Load the model you've just saved.\n",
        "from tensorflow.keras.models import load_model\n",
        "reconstructed_model = load_model(\"./my_h5_model.h5\")"
      ],
      "metadata": {
        "id": "MDgHmBabTE83"
      },
      "execution_count": null,
      "outputs": []
    },
    {
      "cell_type": "code",
      "source": [
        "#8)Get the weights from the first_hidden layer.\n",
        "model.layers[0].get_weights() \n",
        "model.get_layer('first_hidden').get_weights()"
      ],
      "metadata": {
        "id": "OZAoqkXNTRpg",
        "outputId": "920080cc-be95-4650-8c4c-86f34d42f35b",
        "colab": {
          "base_uri": "https://localhost:8080/"
        }
      },
      "execution_count": null,
      "outputs": [
        {
          "output_type": "execute_result",
          "data": {
            "text/plain": [
              "[array([[  0.5340866 ,  -4.2429504 ,   0.21353781,   8.013598  ,\n",
              "          -0.13684288,  -0.77252537,  -0.0917374 ,  -0.81509703,\n",
              "          -0.25724602,  13.1493635 ],\n",
              "        [  0.57365113,   1.4830844 ,   0.09108303,   6.3630977 ,\n",
              "          -0.51085025,   0.13777182,  -0.24213205, -11.491596  ,\n",
              "           1.7950866 ,   1.2593478 ]], dtype=float32),\n",
              " array([-0.4738833 ,  0.3533954 , -1.1992573 ,  0.05722381, -0.586724  ,\n",
              "         1.966147  , -0.35279176, -0.02099759, -1.3296833 , -0.04949378],\n",
              "       dtype=float32)]"
            ]
          },
          "metadata": {},
          "execution_count": 8
        }
      ]
    },
    {
      "cell_type": "code",
      "source": [
        ""
      ],
      "metadata": {
        "id": "Tk7Bd7EiTYxS"
      },
      "execution_count": null,
      "outputs": []
    },
    {
      "cell_type": "markdown",
      "source": [
        "# Exercise 2 : Spiral dataset with 3 classes\n",
        "This exercise is inspired from https://cs231n.github.io/neural-networks-case-study/<br>\n",
        "A teacher trained a keras model over a dataset that is not easily linearly separable. Run the cell below to generate a dataset close to the one used for the model trained by the teacher."
      ],
      "metadata": {
        "id": "pkPig_j3TjDc"
      }
    },
    {
      "cell_type": "code",
      "source": [
        "import numpy as np\n",
        "import matplotlib.pyplot as plt\n",
        "N = 3500 # number of points per class\n",
        "D = 2 # dimensionality\n",
        "K = 3 # number of classes\n",
        "X = np.zeros((N*K,D)) # data matrix (each row = single example)\n",
        "y = np.zeros(N*K, dtype='uint8') # class labels\n",
        "for j in range(K):\n",
        "  ix = range(N*j,N*(j+1))\n",
        "  r = np.linspace(0.0,1,N) # radius\n",
        "  t = np.linspace(j*4,(j+1)*4,N) + np.random.randn(N)*0.2 # theta\n",
        "  X[ix] = np.c_[r*np.sin(t), r*np.cos(t)]\n",
        "  y[ix] = j\n",
        "# lets visualize the data:\n",
        "plt.scatter(X[:, 0], X[:, 1], c=y, s=40, cmap=plt.cm.Spectral)\n",
        "plt.show()"
      ],
      "metadata": {
        "id": "Eg4g_PtDTjvu",
        "outputId": "73d0fbba-d2f8-4dca-c60d-93d16fb534c5",
        "colab": {
          "base_uri": "https://localhost:8080/",
          "height": 265
        }
      },
      "execution_count": 11,
      "outputs": [
        {
          "output_type": "display_data",
          "data": {
            "image/png": "[encoded data removed]",
            "text/plain": [
              "<Figure size 432x288 with 1 Axes>"
            ]
          },
          "metadata": {
            "needs_background": "light"
          }
        }
      ]
    },
    {
      "cell_type": "markdown",
      "source": [
        "The teacher saved his model using the h5 format. Run the cell below to load the model."
      ],
      "metadata": {
        "id": "Dg7b-CLyTxyx"
      }
    },
    {
      "cell_type": "code",
      "source": [
        "import requests, io\n",
        "import numpy as np\n",
        "from tensorflow.keras.models import load_model\n",
        "import h5py\n",
        "url = \"https://raw.githubusercontent.com/fabnancyuhp/DEEP-LEARNING/main/DATA/teacher_model.h5\"\n",
        "\n",
        "r = requests.get(url)\n",
        "teach_model = h5py.File(io.BytesIO(r.content),'r')\n",
        "teacher_model = load_model(teach_model)"
      ],
      "metadata": {
        "id": "VnRD1Xd-TylW"
      },
      "execution_count": 12,
      "outputs": []
    },
    {
      "cell_type": "markdown",
      "source": [
        "Teacher_model is a tensorflow.keras model. The output of the cell below means the model is a Sequential one. Our goal is to guess how the teacher designed his model. "
      ],
      "metadata": {
        "id": "t1ucrCbj0AJf"
      }
    },
    {
      "cell_type": "code",
      "source": [
        "type(teacher_model)"
      ],
      "metadata": {
        "id": "u-3PO2yB0TtY",
        "outputId": "edf8e907-4673-404c-c6aa-5b9eb1e8d43f",
        "colab": {
          "base_uri": "https://localhost:8080/"
        }
      },
      "execution_count": 3,
      "outputs": [
        {
          "output_type": "execute_result",
          "data": {
            "text/plain": [
              "keras.engine.sequential.Sequential"
            ]
          },
          "metadata": {},
          "execution_count": 3
        }
      ]
    },
    {
      "cell_type": "markdown",
      "source": [
        "1) How many Dense Layers does teacher_model has? How many BatchNormalization() layer does this model have? How many Trainable params dose this model have? How many units does the last hidden layer have?"
      ],
      "metadata": {
        "id": "R3ZJf4L6C2Bj"
      }
    },
    {
      "cell_type": "code",
      "source": [
        "#1) How many Dense Layers does teacher_model has? answer : 4 Dense layers\n",
        "#How many BatchNormalization() layer does this model have?  answer : 2 BatchNormalization layers\n",
        "#How many Trainable params dose this model have? answer : 163 trainables parameters\n",
        "#How many units does the last hidden layer have? answer : 3 units\n",
        "teacher_model.summary()"
      ],
      "metadata": {
        "id": "wTVXPgMWC0z6",
        "outputId": "ae1e513d-0e2d-45f0-d183-c74d89cdc3a7",
        "colab": {
          "base_uri": "https://localhost:8080/"
        }
      },
      "execution_count": 19,
      "outputs": [
        {
          "output_type": "stream",
          "name": "stdout",
          "text": [
            "Model: \"sequential\"\n",
            "_________________________________________________________________\n",
            " Layer (type)                Output Shape              Param #   \n",
            "=================================================================\n",
            " first_hidden (Dense)        (None, 10)                30        \n",
            "                                                                 \n",
            " batch_normalization (BatchN  (None, 10)               40        \n",
            " ormalization)                                                   \n",
            "                                                                 \n",
            " second_hidden (Dense)       (None, 5)                 55        \n",
            "                                                                 \n",
            " batch_normalization_1 (Batc  (None, 5)                20        \n",
            " hNormalization)                                                 \n",
            "                                                                 \n",
            " third_hidden (Dense)        (None, 5)                 30        \n",
            "                                                                 \n",
            " dense (Dense)               (None, 3)                 18        \n",
            "                                                                 \n",
            "=================================================================\n",
            "Total params: 193\n",
            "Trainable params: 163\n",
            "Non-trainable params: 30\n",
            "_________________________________________________________________\n"
          ]
        }
      ]
    },
    {
      "cell_type": "markdown",
      "source": [
        "2) What is the weight matrix of the third hidden layer ?"
      ],
      "metadata": {
        "id": "Jfj32rrqC5Us"
      }
    },
    {
      "cell_type": "code",
      "source": [
        "#model.layers[0].get_weights() \n",
        "teacher_model.get_layer('third_hidden').get_weights()"
      ],
      "metadata": {
        "id": "8Voymx3eC7hK",
        "outputId": "c52b5840-b95c-474e-ac7d-24d52668c50b",
        "colab": {
          "base_uri": "https://localhost:8080/"
        }
      },
      "execution_count": 20,
      "outputs": [
        {
          "output_type": "execute_result",
          "data": {
            "text/plain": [
              "[array([[ 0.74147016, -0.7957535 ,  0.67191696,  0.8986576 ,  0.18083209],\n",
              "        [-1.4566284 , -0.9861701 ,  0.8741859 ,  0.08478148, -1.8854285 ],\n",
              "        [ 0.03102238,  0.5847911 , -0.75338507,  0.5877253 ,  0.9950492 ],\n",
              "        [ 0.9523286 , -0.48159003,  1.5990696 ,  1.0915468 , -0.37100694],\n",
              "        [-0.31160182,  0.3829333 ,  0.4370279 ,  0.88894445,  0.41969505]],\n",
              "       dtype=float32),\n",
              " array([-0.73652726,  0.43306306, -0.52848864,  0.9140984 , -0.63914084],\n",
              "       dtype=float32)]"
            ]
          },
          "metadata": {},
          "execution_count": 20
        }
      ]
    },
    {
      "cell_type": "markdown",
      "source": [
        "3) Make a prediction over np.array([[5.74323982e-05 ,5.68699218e-04]] using teacher_model. What kind of vector does this prediction return?"
      ],
      "metadata": {
        "id": "8njRIRz5C_jr"
      }
    },
    {
      "cell_type": "code",
      "source": [
        "teacher_model.predict(np.array([[5.74323982e-05 ,5.68699218e-04]]))\n",
        "#What kind of vector does this prediction return? answer : probability vector"
      ],
      "metadata": {
        "id": "0drWVOVGDAdJ",
        "outputId": "bf732675-c104-4ad6-e252-2331a48d8746",
        "colab": {
          "base_uri": "https://localhost:8080/"
        }
      },
      "execution_count": 22,
      "outputs": [
        {
          "output_type": "execute_result",
          "data": {
            "text/plain": [
              "array([[0.0786705 , 0.5829136 , 0.33841586]], dtype=float32)"
            ]
          },
          "metadata": {},
          "execution_count": 22
        }
      ]
    },
    {
      "cell_type": "markdown",
      "source": [
        "4) Try to build a neural network close to the teacher_model? You have to build it, to compile it. You have to train your neural network with the datset you've generated at the begining of this exercise."
      ],
      "metadata": {
        "id": "-RJaA4z7DBPV"
      }
    },
    {
      "cell_type": "markdown",
      "source": [
        "we will use loss='categorical_crossentropy' and we have 3 classes then we have to convert y to a "
      ],
      "metadata": {
        "id": "SZXIbQJGE9T2"
      }
    },
    {
      "cell_type": "code",
      "source": [
        "from tensorflow.keras.layers import Dense, BatchNormalization,InputLayer  \n",
        "from tensorflow.keras.models import Sequential \n",
        "from tensorflow.keras.utils import to_categorical\n",
        "\n",
        "Y_cat = to_categorical(y,num_classes=3)\n",
        "\n",
        "model = Sequential([InputLayer(input_shape=(X.shape[1],)),\n",
        "                    Dense(10,activation='tanh',name='first_hidden'),\n",
        "                    BatchNormalization(),\n",
        "                    Dense(5,activation='tanh',name='second_hidden'),\n",
        "                    BatchNormalization(),\n",
        "                    Dense(5,activation='tanh',name='third_hidden'),\n",
        "                    Dense(3,activation='softmax')])\n",
        "\n",
        "model.compile(optimizer='adam',loss='categorical_crossentropy',metrics=['accuracy'])\n",
        "model.fit(X,Y_cat,epochs=400,verbose=0)\n",
        "model.evaluate(X, Y_cat)"
      ],
      "metadata": {
        "id": "LBEAFIutDFkN",
        "outputId": "08413e32-d5b6-4ad8-ed6a-aa47f2bfe70f",
        "colab": {
          "base_uri": "https://localhost:8080/"
        }
      },
      "execution_count": 23,
      "outputs": [
        {
          "output_type": "stream",
          "name": "stdout",
          "text": [
            "329/329 [==============================] - 1s 1ms/step - loss: 0.0111 - accuracy: 0.9971\n"
          ]
        },
        {
          "output_type": "execute_result",
          "data": {
            "text/plain": [
              "[0.011100897565484047, 0.9971428513526917]"
            ]
          },
          "metadata": {},
          "execution_count": 23
        }
      ]
    },
    {
      "cell_type": "code",
      "source": [
        ""
      ],
      "metadata": {
        "id": "BcKCVm8BDrjI"
      },
      "execution_count": null,
      "outputs": []
    },
    {
      "cell_type": "markdown",
      "source": [
        "# Exercice 3 \n"
      ],
      "metadata": {
        "id": "5TyTAjuhD99s"
      }
    },
    {
      "cell_type": "code",
      "source": [
        "import numpy as np\n",
        "import matplotlib.pyplot as plt\n",
        "N = 2500 # number of points per class\n",
        "D = 2 # dimensionality\n",
        "K = 4 # number of classes\n",
        "X = np.zeros((N*K,D)) # data matrix (each row = single example)\n",
        "y = np.zeros(N*K, dtype='uint8') # class labels\n",
        "for j in range(K):\n",
        "  ix = range(N*j,N*(j+1))\n",
        "  r = np.linspace(0.0,1,N) # radius\n",
        "  t = np.linspace(j*4,(j+1)*4,N) + np.random.randn(N)*0.2 # theta\n",
        "  X[ix] = np.c_[r*np.sin(t), r*np.cos(t)]\n",
        "  y[ix] = j\n",
        "# lets visualize the data:\n",
        "plt.scatter(X[:, 0], X[:, 1], c=y, s=40, cmap=plt.cm.Spectral)\n",
        "plt.show()"
      ],
      "metadata": {
        "id": "kWIFSbD4EEYV",
        "outputId": "440d0cea-0124-44fc-bc8d-759afe369cbb",
        "colab": {
          "base_uri": "https://localhost:8080/",
          "height": 265
        }
      },
      "execution_count": 24,
      "outputs": [
        {
          "output_type": "display_data",
          "data": {
            "image/png": "[encoded data removed]",
            "text/plain": [
              "<Figure size 432x288 with 1 Axes>"
            ]
          },
          "metadata": {
            "needs_background": "light"
          }
        }
      ]
    },
    {
      "cell_type": "code",
      "source": [
        "from tensorflow.keras"
      ],
      "metadata": {
        "id": "eCIgsDxEEfYg"
      },
      "execution_count": null,
      "outputs": []
    }
  ]
}