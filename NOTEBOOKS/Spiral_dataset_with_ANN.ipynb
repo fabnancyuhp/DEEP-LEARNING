{
  "metadata": {
    "kernelspec": {
      "language": "python",
      "display_name": "Python 3",
      "name": "python3"
    },
    "language_info": {
      "name": "python",
      "version": "3.7.9",
      "mimetype": "text/x-python",
      "codemirror_mode": {
        "name": "ipython",
        "version": 3
      },
      "pygments_lexer": "ipython3",
      "nbconvert_exporter": "python",
      "file_extension": ".py"
    },
    "colab": {
      "name": "Spiral dataset with ANN.ipynb",
      "provenance": [],
      "collapsed_sections": [
        "zYWDpSef1NPL",
        "O4MMt2QWl-th",
        "ZMzlyO000VUm",
        "wY8h4gIpsBbT",
        "b5lj0o2qDCbV"
      ],
      "include_colab_link": true
    }
  },
  "nbformat_minor": 0,
  "nbformat": 4,
  "cells": [
    {
      "cell_type": "markdown",
      "metadata": {
        "id": "view-in-github",
        "colab_type": "text"
      },
      "source": [
        "<a href=\"https://colab.research.google.com/github/fabnancyuhp/DEEP-LEARNING/blob/main/NOTEBOOKS/Spiral_dataset_with_ANN.ipynb\" target=\"_parent\"><img src=\"https://colab.research.google.com/assets/colab-badge.svg\" alt=\"Open In Colab\"/></a>"
      ]
    },
    {
      "cell_type": "markdown",
      "source": [
        "In this notebook, there are 2 solved problems related to some datasets that are not linearly separable. We show that ANNs with more than one hidden layer can tackle non-linear problems.<br>\n",
        "At the end of this notebook, there is an extra exercise illustrating the spars_categorical_crossentropy loss. "
      ],
      "metadata": {
        "id": "VlRFXNFQSMLu"
      }
    },
    {
      "cell_type": "markdown",
      "source": [
        "# Exercise 1 : Spiral dataset with 2 classes\n",
        "This example is inspired from https://cs231n.github.io/neural-networks-case-study/<br>\n",
        "In this exercise, we are in the case of a non linearly separable problem.First, you have to run the cell below to create the dataset and to draw the dataset. We have some red points (label y=1) and some blue points (label y=0). Our goal is to construct a classifier to predict the color of a point."
      ],
      "metadata": {
        "id": "f2bS8R3_zN11"
      }
    },
    {
      "cell_type": "code",
      "source": [
        "import numpy as np\n",
        "import matplotlib.pyplot as plt\n",
        "N = 1800 # number of points per class\n",
        "D = 2 # dimensionality\n",
        "K = 2 # number of classes\n",
        "X = np.zeros((N*K,D)) # data matrix (each row = single example)\n",
        "Y = np.zeros(N*K, dtype='uint8') # class labels\n",
        "for j in range(K):\n",
        "  ix = range(N*j,N*(j+1))\n",
        "  r = np.linspace(0.0,1,N) # radius\n",
        "  t = np.linspace(j*4,(j+1)*4,N) + np.random.randn(N)*0.2 # theta\n",
        "  X[ix] = np.c_[r*np.sin(t), r*np.cos(t)]\n",
        "  Y[ix] = j\n",
        "# lets visualize the data:\n",
        "plt.scatter(X[:, 0], X[:, 1], c=Y, s=40, cmap=plt.cm.Spectral)\n",
        "plt.show()"
      ],
      "metadata": {
        "id": "eWwP7GqeSM3A",
        "outputId": "748ad978-384f-446f-a6cd-076d11a51668",
        "colab": {
          "base_uri": "https://localhost:8080/",
          "height": 265
        }
      },
      "execution_count": 1,
      "outputs": [
        {
          "output_type": "display_data",
          "data": {
            "text/plain": [
              "<Figure size 432x288 with 1 Axes>"
            ],
            "image/png": "[encoded data removed]"
          },
          "metadata": {
            "needs_background": "light"
          }
        }
      ]
    },
    {
      "cell_type": "markdown",
      "source": [
        "1) What is the bacth-size of this problem? What is the shape of X and Y?"
      ],
      "metadata": {
        "id": "6d_wxjGiUwHC"
      }
    },
    {
      "cell_type": "code",
      "source": [
        "print(\"the batch size is: \"+str(X.shape[0]))\n",
        "print(\"the shape of X :\"+str(X.shape))\n",
        "print(\"the shape of Y :\"+str(Y.shape))"
      ],
      "metadata": {
        "id": "iCuPsVbDSSS5",
        "outputId": "af5bd91f-0f90-45e9-f86a-dc6afc84e031",
        "colab": {
          "base_uri": "https://localhost:8080/"
        }
      },
      "execution_count": 2,
      "outputs": [
        {
          "output_type": "stream",
          "name": "stdout",
          "text": [
            "the batch size is: 3600\n",
            "the shape of X :(3600, 2)\n",
            "the shape of Y :(3600,)\n"
          ]
        }
      ]
    },
    {
      "cell_type": "markdown",
      "source": [
        "2) The goal of this exercise is to design a Neural network to predict the label of y. How many distinct labels do we have ?"
      ],
      "metadata": {
        "id": "IC1brrS7U4iJ"
      }
    },
    {
      "cell_type": "code",
      "source": [
        "print(\"the labels are: \"+str(np.unique(Y)))\n",
        "print(\"we have \"+str(len(np.unique(Y)))+\" distinct values\")"
      ],
      "metadata": {
        "id": "qFZcVXiASsv3",
        "outputId": "71707398-08e7-4479-ad5c-ec118b559319",
        "colab": {
          "base_uri": "https://localhost:8080/"
        }
      },
      "execution_count": 3,
      "outputs": [
        {
          "output_type": "stream",
          "name": "stdout",
          "text": [
            "the labels are: [0 1]\n",
            "we have 2 distinct values\n"
          ]
        }
      ]
    },
    {
      "cell_type": "markdown",
      "source": [
        "3) Split X, Y into a train set and a test set using train_test_split from the sklearn package."
      ],
      "metadata": {
        "id": "1lwC4kdXVBQr"
      }
    },
    {
      "cell_type": "code",
      "source": [
        "from sklearn.model_selection import train_test_split\n",
        "X_train, X_test, y_train, y_test = train_test_split(X, Y, test_size=0.33, random_state=42)"
      ],
      "metadata": {
        "id": "5SQ71d64Sy4L"
      },
      "execution_count": 4,
      "outputs": []
    },
    {
      "cell_type": "markdown",
      "source": [
        "4) In this question you have to use the package tensorflow.keras to build a Neural network with the architecture:\n",
        "    \n",
        "    * InputLayer \n",
        "    * Dense layer with 10 units and activation='tanh'.\n",
        "    * BatchNormalization()\n",
        "    * Dense layer with 5 units and activation='tanh'.\n",
        "    * BatchNormalization()\n",
        "    * Dense layer with 1 units ,activation='sigmoid'\n"
      ],
      "metadata": {
        "id": "2hQfAtZhVVBt"
      }
    },
    {
      "cell_type": "code",
      "source": [
        "from tensorflow.keras.layers import Dense, BatchNormalization,InputLayer  \n",
        "from tensorflow.keras.models import Sequential \n",
        "\n",
        "model = Sequential([InputLayer(input_shape=(X.shape[1],)),\n",
        "                    Dense(10,activation='tanh',name='first_hidden'),\n",
        "                    BatchNormalization(),\n",
        "                    Dense(5,activation='tanh',name='second_hidden'),\n",
        "                    BatchNormalization(),\n",
        "                    Dense(1,activation='sigmoid')])\n"
      ],
      "metadata": {
        "id": "brr3Lx72S2Xs"
      },
      "execution_count": 5,
      "outputs": []
    },
    {
      "cell_type": "markdown",
      "source": [
        "5) Compile and train the model you've just built in the previous question. Compute the accuracy score of the test set."
      ],
      "metadata": {
        "id": "EF7jO6EUVpkP"
      }
    },
    {
      "cell_type": "code",
      "source": [
        "model.compile(optimizer='adam',loss='binary_crossentropy',metrics=['accuracy'])\n",
        "model.fit(X_train,y_train,epochs=400,verbose=0)\n",
        "model.evaluate(X_test, y_test)"
      ],
      "metadata": {
        "colab": {
          "base_uri": "https://localhost:8080/"
        },
        "id": "c0cySHIEVqkW",
        "outputId": "db447cb4-cbb7-4456-8d68-9388daafc1bd"
      },
      "execution_count": 7,
      "outputs": [
        {
          "output_type": "stream",
          "name": "stdout",
          "text": [
            "38/38 [==============================] - 0s 2ms/step - loss: 7.9087e-32 - accuracy: 1.0000\n"
          ]
        },
        {
          "output_type": "execute_result",
          "data": {
            "text/plain": [
              "[7.908731869804104e-32, 1.0]"
            ]
          },
          "metadata": {},
          "execution_count": 7
        }
      ]
    },
    {
      "cell_type": "markdown",
      "source": [
        "6)Save your model in a h5 file."
      ],
      "metadata": {
        "id": "wkthXAVMWCJ2"
      }
    },
    {
      "cell_type": "code",
      "source": [
        "model.save(\"./my_h5_model.h5\")"
      ],
      "metadata": {
        "id": "_4aEq6C9S93u"
      },
      "execution_count": 8,
      "outputs": []
    },
    {
      "cell_type": "markdown",
      "source": [
        "7)Load the model you've just saved."
      ],
      "metadata": {
        "id": "WXnrlfh4WIF2"
      }
    },
    {
      "cell_type": "code",
      "source": [
        "from tensorflow.keras.models import load_model\n",
        "reconstructed_model = load_model(\"./my_h5_model.h5\")\n",
        "reconstructed_model.summary()"
      ],
      "metadata": {
        "id": "MDgHmBabTE83",
        "colab": {
          "base_uri": "https://localhost:8080/"
        },
        "outputId": "48b22a9b-5fcc-42b6-d1d4-b0a9ca4b961f"
      },
      "execution_count": 9,
      "outputs": [
        {
          "output_type": "stream",
          "name": "stdout",
          "text": [
            "Model: \"sequential\"\n",
            "_________________________________________________________________\n",
            " Layer (type)                Output Shape              Param #   \n",
            "=================================================================\n",
            " first_hidden (Dense)        (None, 10)                30        \n",
            "                                                                 \n",
            " batch_normalization (BatchN  (None, 10)               40        \n",
            " ormalization)                                                   \n",
            "                                                                 \n",
            " second_hidden (Dense)       (None, 5)                 55        \n",
            "                                                                 \n",
            " batch_normalization_1 (Batc  (None, 5)                20        \n",
            " hNormalization)                                                 \n",
            "                                                                 \n",
            " dense (Dense)               (None, 1)                 6         \n",
            "                                                                 \n",
            "=================================================================\n",
            "Total params: 151\n",
            "Trainable params: 121\n",
            "Non-trainable params: 30\n",
            "_________________________________________________________________\n"
          ]
        }
      ]
    },
    {
      "cell_type": "markdown",
      "source": [
        "8)Get the weights from the first_hidden layer."
      ],
      "metadata": {
        "id": "b_AA5q_pWOEJ"
      }
    },
    {
      "cell_type": "code",
      "source": [
        "model.layers[0].get_weights() \n",
        "model.get_layer('first_hidden').get_weights()"
      ],
      "metadata": {
        "id": "OZAoqkXNTRpg",
        "outputId": "c2841e65-d6a8-4d15-8dcb-766fec0e231a",
        "colab": {
          "base_uri": "https://localhost:8080/"
        }
      },
      "execution_count": 10,
      "outputs": [
        {
          "output_type": "execute_result",
          "data": {
            "text/plain": [
              "[array([[-5.9458695e-02,  1.8748068e+01, -8.8379078e+00,  6.6291004e-02,\n",
              "         -1.0201998e-02,  6.3330698e-01, -3.0188698e-01,  1.8918208e+00,\n",
              "          2.8921202e-01, -8.5996282e-01],\n",
              "        [-1.8298025e-01,  2.6860538e+00, -9.2578173e+00,  1.1765061e-01,\n",
              "          1.0154924e-01,  3.9414892e-01,  1.3146083e+00, -7.4562377e-01,\n",
              "          2.7250123e-01, -2.8049259e+00]], dtype=float32),\n",
              " array([-0.8661391 ,  0.23596272, -0.20089744, -1.1693009 ,  1.0183712 ,\n",
              "        -0.3432039 , -2.172401  , -3.3382344 , -1.5846298 , -1.1705085 ],\n",
              "       dtype=float32)]"
            ]
          },
          "metadata": {},
          "execution_count": 10
        }
      ]
    },
    {
      "cell_type": "markdown",
      "source": [
        "# Exercise 2 : Spiral dataset with 3 classes\n",
        "This exercise is inspired from https://cs231n.github.io/neural-networks-case-study/<br>\n",
        "A teacher trained a keras model over a dataset that is not easily linearly separable. Run the cell below to generate a dataset close to the one used for the model trained by the teacher. There are three classes in that dataset distinguishable by their color."
      ],
      "metadata": {
        "id": "pkPig_j3TjDc"
      }
    },
    {
      "cell_type": "code",
      "source": [
        "import numpy as np\n",
        "import matplotlib.pyplot as plt\n",
        "N = 3500 # number of points per class\n",
        "D = 2 # dimensionality\n",
        "K = 3 # number of classes\n",
        "X = np.zeros((N*K,D)) # data matrix (each row = single example)\n",
        "y = np.zeros(N*K, dtype='uint8') # class labels\n",
        "for j in range(K):\n",
        "  ix = range(N*j,N*(j+1))\n",
        "  r = np.linspace(0.0,1,N) # radius\n",
        "  t = np.linspace(j*4,(j+1)*4,N) + np.random.randn(N)*0.2 # theta\n",
        "  X[ix] = np.c_[r*np.sin(t), r*np.cos(t)]\n",
        "  y[ix] = j\n",
        "# lets visualize the data:\n",
        "plt.scatter(X[:, 0], X[:, 1], c=y, s=40, cmap=plt.cm.Spectral)\n",
        "plt.show()"
      ],
      "metadata": {
        "id": "Eg4g_PtDTjvu",
        "outputId": "dd0a751f-13b1-44ea-ab67-036a3d3660db",
        "colab": {
          "base_uri": "https://localhost:8080/",
          "height": 265
        }
      },
      "execution_count": 2,
      "outputs": [
        {
          "output_type": "display_data",
          "data": {
            "text/plain": [
              "<Figure size 432x288 with 1 Axes>"
            ],
            "image/png": "[encoded data removed]"
          },
          "metadata": {
            "needs_background": "light"
          }
        }
      ]
    },
    {
      "cell_type": "markdown",
      "source": [
        "In the spiral dataset we've just created, we have 3 classes   "
      ],
      "metadata": {
        "id": "zS3qmecMeLf9"
      }
    },
    {
      "cell_type": "markdown",
      "source": [
        "The teacher saved his model using the h5 format. Run the cell below to load the model."
      ],
      "metadata": {
        "id": "Dg7b-CLyTxyx"
      }
    },
    {
      "cell_type": "code",
      "source": [
        "import requests, io\n",
        "import numpy as np\n",
        "from tensorflow.keras.models import load_model\n",
        "import h5py\n",
        "url = \"https://raw.githubusercontent.com/fabnancyuhp/DEEP-LEARNING/main/DATA/teacher_model.h5\"\n",
        "\n",
        "r = requests.get(url)\n",
        "teach_model = h5py.File(io.BytesIO(r.content),'r')\n",
        "teacher_model = load_model(teach_model)"
      ],
      "metadata": {
        "id": "VnRD1Xd-TylW"
      },
      "execution_count": 3,
      "outputs": []
    },
    {
      "cell_type": "markdown",
      "source": [
        "Teacher_model is a tensorflow.keras model. The output of the cell below means the model is a Sequential one. Our goal is to guess how the teacher designed his model. "
      ],
      "metadata": {
        "id": "t1ucrCbj0AJf"
      }
    },
    {
      "cell_type": "code",
      "source": [
        "type(teacher_model)"
      ],
      "metadata": {
        "colab": {
          "base_uri": "https://localhost:8080/"
        },
        "id": "u-3PO2yB0TtY",
        "outputId": "940549d6-5cd7-4977-b222-5fbbf7aca22f"
      },
      "execution_count": 13,
      "outputs": [
        {
          "output_type": "execute_result",
          "data": {
            "text/plain": [
              "keras.engine.sequential.Sequential"
            ]
          },
          "metadata": {},
          "execution_count": 13
        }
      ]
    },
    {
      "cell_type": "markdown",
      "source": [
        "1) How many Dense Layers does teacher_model has? How many BatchNormalization() layer does this model have? How many Trainable params dose this model have? How many units does the last hidden layer have?"
      ],
      "metadata": {
        "id": "R3ZJf4L6C2Bj"
      }
    },
    {
      "cell_type": "code",
      "source": [
        "#1) How many Dense Layers does teacher_model has? answer : 4 Dense layers\n",
        "#How many BatchNormalization() layer does this model have?  answer : 2 BatchNormalization layers\n",
        "#How many Trainable params dose this model have? answer : 163 trainables parameters\n",
        "#How many units does the last hidden layer have? answer : 3 units\n",
        "teacher_model.summary()"
      ],
      "metadata": {
        "colab": {
          "base_uri": "https://localhost:8080/"
        },
        "id": "wTVXPgMWC0z6",
        "outputId": "7dedd661-f302-429e-b1e9-c90522fcf319"
      },
      "execution_count": 14,
      "outputs": [
        {
          "output_type": "stream",
          "name": "stdout",
          "text": [
            "Model: \"sequential\"\n",
            "_________________________________________________________________\n",
            " Layer (type)                Output Shape              Param #   \n",
            "=================================================================\n",
            " first_hidden (Dense)        (None, 10)                30        \n",
            "                                                                 \n",
            " batch_normalization (BatchN  (None, 10)               40        \n",
            " ormalization)                                                   \n",
            "                                                                 \n",
            " second_hidden (Dense)       (None, 5)                 55        \n",
            "                                                                 \n",
            " batch_normalization_1 (Batc  (None, 5)                20        \n",
            " hNormalization)                                                 \n",
            "                                                                 \n",
            " third_hidden (Dense)        (None, 5)                 30        \n",
            "                                                                 \n",
            " dense (Dense)               (None, 3)                 18        \n",
            "                                                                 \n",
            "=================================================================\n",
            "Total params: 193\n",
            "Trainable params: 163\n",
            "Non-trainable params: 30\n",
            "_________________________________________________________________\n"
          ]
        }
      ]
    },
    {
      "cell_type": "markdown",
      "source": [
        "2) What is the weight matrix of the third hidden layer ?"
      ],
      "metadata": {
        "id": "Jfj32rrqC5Us"
      }
    },
    {
      "cell_type": "code",
      "source": [
        "#model.layers[0].get_weights() \n",
        "teacher_model.get_layer('third_hidden').get_weights()"
      ],
      "metadata": {
        "colab": {
          "base_uri": "https://localhost:8080/"
        },
        "id": "8Voymx3eC7hK",
        "outputId": "52fee655-4e08-45a5-ad76-ebd7c66d0c17"
      },
      "execution_count": 4,
      "outputs": [
        {
          "output_type": "execute_result",
          "data": {
            "text/plain": [
              "[array([[ 0.74147016, -0.7957535 ,  0.67191696,  0.8986576 ,  0.18083209],\n",
              "        [-1.4566284 , -0.9861701 ,  0.8741859 ,  0.08478148, -1.8854285 ],\n",
              "        [ 0.03102238,  0.5847911 , -0.75338507,  0.5877253 ,  0.9950492 ],\n",
              "        [ 0.9523286 , -0.48159003,  1.5990696 ,  1.0915468 , -0.37100694],\n",
              "        [-0.31160182,  0.3829333 ,  0.4370279 ,  0.88894445,  0.41969505]],\n",
              "       dtype=float32),\n",
              " array([-0.73652726,  0.43306306, -0.52848864,  0.9140984 , -0.63914084],\n",
              "       dtype=float32)]"
            ]
          },
          "metadata": {},
          "execution_count": 4
        }
      ]
    },
    {
      "cell_type": "markdown",
      "source": [
        "3) Make a prediction over np.array([[5.74323982e-05 ,5.68699218e-04]] using teacher_model. What kind of vector does this prediction return?"
      ],
      "metadata": {
        "id": "8njRIRz5C_jr"
      }
    },
    {
      "cell_type": "code",
      "source": [
        "teacher_model.predict(np.array([[5.74323982e-05 ,5.68699218e-04]]))\n",
        "#What kind of vector does this prediction return? answer : probability vector"
      ],
      "metadata": {
        "colab": {
          "base_uri": "https://localhost:8080/"
        },
        "id": "0drWVOVGDAdJ",
        "outputId": "eb68260e-8222-448b-87c6-b8d157aebd83"
      },
      "execution_count": 5,
      "outputs": [
        {
          "output_type": "stream",
          "name": "stdout",
          "text": [
            "1/1 [==============================] - 0s 257ms/step\n"
          ]
        },
        {
          "output_type": "execute_result",
          "data": {
            "text/plain": [
              "array([[0.07867061, 0.5829137 , 0.3384157 ]], dtype=float32)"
            ]
          },
          "metadata": {},
          "execution_count": 5
        }
      ]
    },
    {
      "cell_type": "markdown",
      "source": [
        "4) Try to build a neural network close to the teacher_model? You have to build it, to compile it. You have to train your neural network with the datset you've generated at the begining of this exercise.<br>\n",
        "We will use loss='sparse_categorical_crossentropy' and we have 3 classes."
      ],
      "metadata": {
        "id": "-RJaA4z7DBPV"
      }
    },
    {
      "cell_type": "code",
      "source": [
        "from tensorflow.keras.layers import Dense, BatchNormalization,InputLayer  \n",
        "from tensorflow.keras.models import Sequential \n",
        "\n",
        "model = Sequential([InputLayer(input_shape=(X.shape[1],)),\n",
        "                    Dense(10,activation='tanh',name='first_hidden'),\n",
        "                    BatchNormalization(),\n",
        "                    Dense(5,activation='tanh',name='second_hidden'),\n",
        "                    BatchNormalization(),\n",
        "                    Dense(5,activation='tanh',name='third_hidden'),\n",
        "                    Dense(3,activation='softmax')])\n",
        "\n",
        "model.compile(optimizer='adam',loss='sparse_categorical_crossentropy',metrics=['accuracy'])\n",
        "model.fit(X,y,epochs=400,verbose=0)\n",
        "model.evaluate(X, y)"
      ],
      "metadata": {
        "colab": {
          "base_uri": "https://localhost:8080/"
        },
        "id": "LBEAFIutDFkN",
        "outputId": "e5e8ef42-434d-4937-ce11-4670818e7205"
      },
      "execution_count": 7,
      "outputs": [
        {
          "output_type": "stream",
          "name": "stdout",
          "text": [
            "329/329 [==============================] - 0s 936us/step - loss: 0.0099 - accuracy: 0.9979\n"
          ]
        },
        {
          "output_type": "execute_result",
          "data": {
            "text/plain": [
              "[0.009936599992215633, 0.9979047775268555]"
            ]
          },
          "metadata": {},
          "execution_count": 7
        }
      ]
    },
    {
      "cell_type": "markdown",
      "source": [
        "We make a prediction over np.array([[5.74323982e-05 ,5.68699218e-04]] using model."
      ],
      "metadata": {
        "id": "j3P2As2cwjOF"
      }
    },
    {
      "cell_type": "code",
      "source": [
        "probability_vector = model.predict(np.array([[5.74323982e-05 ,5.68699218e-04]]))\n",
        "print(str(probability_vector))\n",
        "\n",
        "class_pred = np.argmax(model.predict(np.array([[5.74323982e-05 ,5.68699218e-04]])))\n",
        "print(\"predicted class is \"+str(class_pred))"
      ],
      "metadata": {
        "id": "bPhW0Cdyvtc1",
        "outputId": "b13ef435-272f-4caf-b6bb-58e763953ff7",
        "colab": {
          "base_uri": "https://localhost:8080/"
        }
      },
      "execution_count": 15,
      "outputs": [
        {
          "output_type": "stream",
          "name": "stdout",
          "text": [
            "1/1 [==============================] - 0s 14ms/step\n",
            "[[0.45582804 0.16339144 0.38078052]]\n",
            "1/1 [==============================] - 0s 14ms/step\n",
            "predicted class is 0\n"
          ]
        }
      ]
    },
    {
      "cell_type": "markdown",
      "source": [
        "# Example 3 : sparse categorical crossentropy loss over 4 classes spiral dataset\n",
        "\n",
        "\n",
        "Training a neural network involves passing data forward, through a model, and comparing predictions with ground truth labels. This comparison is done by a loss function. In multiclass classification problems, **sparse categorical crossentropy** loss is the loss function of choice. Run the cell below to create the data.\n",
        "\n"
      ],
      "metadata": {
        "id": "5TyTAjuhD99s"
      }
    },
    {
      "cell_type": "code",
      "source": [
        "import numpy as np\n",
        "import matplotlib.pyplot as plt\n",
        "N = 4000 # number of points per class\n",
        "D = 2 # dimensionality\n",
        "K = 4 # number of classes\n",
        "X = np.zeros((N*K,D)) # data matrix (each row = single example)\n",
        "y = np.zeros(N*K, dtype='uint8') # class labels\n",
        "for j in range(K):\n",
        "  ix = range(N*j,N*(j+1))\n",
        "  r = np.linspace(0.0,1,N) # radius\n",
        "  t = np.linspace(j*4,(j+1)*4,N) + np.random.randn(N)*0.2 # theta\n",
        "  X[ix] = np.c_[r*np.sin(t), r*np.cos(t)]\n",
        "  y[ix] = j\n",
        "# lets visualize the data:\n",
        "plt.scatter(X[:, 0], X[:, 1], c=y, s=40, cmap=plt.cm.Spectral)\n",
        "plt.show()"
      ],
      "metadata": {
        "colab": {
          "base_uri": "https://localhost:8080/",
          "height": 265
        },
        "id": "kWIFSbD4EEYV",
        "outputId": "77dce60f-ab9f-49ab-8572-e16d4e737e3a"
      },
      "execution_count": 16,
      "outputs": [
        {
          "output_type": "display_data",
          "data": {
            "text/plain": [
              "<Figure size 432x288 with 1 Axes>"
            ],
            "image/png": "[encoded data removed]"
          },
          "metadata": {
            "needs_background": "light"
          }
        }
      ]
    },
    {
      "cell_type": "markdown",
      "source": [
        "Our target is an integer value from { 0, 1, 2, 3 }."
      ],
      "metadata": {
        "id": "lAgs2vQp5Uh5"
      }
    },
    {
      "cell_type": "code",
      "source": [
        "np.unique(y)"
      ],
      "metadata": {
        "colab": {
          "base_uri": "https://localhost:8080/"
        },
        "id": "2ifK-cmE5XI5",
        "outputId": "3b1a5a9c-c4a7-4934-b265-f69fc7d37c9d"
      },
      "execution_count": null,
      "outputs": [
        {
          "output_type": "execute_result",
          "data": {
            "text/plain": [
              "array([0, 1, 2, 3], dtype=uint8)"
            ]
          },
          "metadata": {},
          "execution_count": 96
        }
      ]
    },
    {
      "cell_type": "markdown",
      "source": [
        "**In the cell below we define a model that handles our classification problem.**<br><br> \n",
        "\n",
        "We have to notice our last Dense responsible for output a probability vector has 4+1 units. Generally, when we want to use sparse categorical, the last Dense layer has n+1 units, where n equals the unique number of classes in our dataset."
      ],
      "metadata": {
        "id": "RfO7WDzg71U9"
      }
    },
    {
      "cell_type": "code",
      "source": [
        "from tensorflow.keras.layers import Dense, BatchNormalization \n",
        "from tensorflow.keras.models import Sequential\n",
        "\n",
        "model_3 = Sequential()\n",
        "model_3.add(Dense(10,activation='tanh',input_shape=(X.shape[1],)))\n",
        "model_3.add(BatchNormalization())\n",
        "model_3.add(Dense(10,activation='tanh'))\n",
        "model_3.add(BatchNormalization())\n",
        "model_3.add(Dense(5,activation='tanh'))\n",
        "model_3.add(BatchNormalization())\n",
        "model_3.add(Dense(4,activation='softmax'))\n",
        "#model_3.add(Dense(5,activation='softmax'))"
      ],
      "metadata": {
        "id": "eCIgsDxEEfYg"
      },
      "execution_count": 17,
      "outputs": []
    },
    {
      "cell_type": "markdown",
      "source": [
        "**Now, we compile our model with SparseCategoricalCrossentropy**:"
      ],
      "metadata": {
        "id": "98hnd6xa-jMI"
      }
    },
    {
      "cell_type": "code",
      "source": [
        "import tensorflow as tf\n",
        "\n",
        "model_3.compile(loss=tf.keras.losses.SparseCategoricalCrossentropy(),optimizer='adam',\\\n",
        "                metrics=['Accuracy'])"
      ],
      "metadata": {
        "id": "26wTB-PwTHmA"
      },
      "execution_count": 19,
      "outputs": []
    },
    {
      "cell_type": "markdown",
      "source": [
        "**We split X, Y into a train set and a test set using train_test_split from the sklearn package.**"
      ],
      "metadata": {
        "id": "7xJ5sOlg-vT2"
      }
    },
    {
      "cell_type": "code",
      "source": [
        "from sklearn.model_selection import train_test_split\n",
        "X_train, X_test, y_train, y_test = train_test_split(X, y, test_size=0.33, random_state=42)"
      ],
      "metadata": {
        "id": "BL8FNObrTWtK"
      },
      "execution_count": 20,
      "outputs": []
    },
    {
      "cell_type": "markdown",
      "source": [
        "**We fit our model with 400 epochs:**"
      ],
      "metadata": {
        "id": "D8UQRgnn_qFq"
      }
    },
    {
      "cell_type": "code",
      "source": [
        "model_3.fit(X_train,y_train,epochs=400,verbose=0)\n",
        "#model_3.evaluate(x_test,y_test)"
      ],
      "metadata": {
        "colab": {
          "base_uri": "https://localhost:8080/"
        },
        "id": "kZJ6EwvcUOiZ",
        "outputId": "66f454d8-5f6e-4689-fb36-64b7f5b62dfc"
      },
      "execution_count": 21,
      "outputs": [
        {
          "output_type": "execute_result",
          "data": {
            "text/plain": [
              "<keras.callbacks.History at 0x7fc9aff9cc10>"
            ]
          },
          "metadata": {},
          "execution_count": 21
        }
      ]
    },
    {
      "cell_type": "markdown",
      "source": [
        "**We evaluate our model over the test set**"
      ],
      "metadata": {
        "id": "qR3PbQtI_0hJ"
      }
    },
    {
      "cell_type": "code",
      "source": [
        "model_3.evaluate(X_test,y_test)"
      ],
      "metadata": {
        "colab": {
          "base_uri": "https://localhost:8080/"
        },
        "id": "alY76f3yC0k4",
        "outputId": "4a3ba33a-891d-42c2-f77d-b1a466312445"
      },
      "execution_count": 22,
      "outputs": [
        {
          "output_type": "stream",
          "name": "stdout",
          "text": [
            "165/165 [==============================] - 0s 1ms/step - loss: 0.1205 - Accuracy: 0.9568\n"
          ]
        },
        {
          "output_type": "execute_result",
          "data": {
            "text/plain": [
              "[0.12051062285900116, 0.956818163394928]"
            ]
          },
          "metadata": {},
          "execution_count": 22
        }
      ]
    },
    {
      "cell_type": "markdown",
      "source": [
        "**We apply our model to a new sample:**\n",
        "  * we pass our new sample to the model\n",
        "  * we find the predicted class "
      ],
      "metadata": {
        "id": "okGrtEKvDUng"
      }
    },
    {
      "cell_type": "code",
      "source": [
        "vect_proba = model_3.predict(X_test[10].reshape(1,2))\n",
        "vect_proba"
      ],
      "metadata": {
        "colab": {
          "base_uri": "https://localhost:8080/"
        },
        "id": "bTjtXcnFnMTG",
        "outputId": "5b405924-4973-4e9b-a258-ec880ffbfe23"
      },
      "execution_count": 23,
      "outputs": [
        {
          "output_type": "stream",
          "name": "stdout",
          "text": [
            "1/1 [==============================] - 0s 72ms/step\n"
          ]
        },
        {
          "output_type": "execute_result",
          "data": {
            "text/plain": [
              "array([[4.761687e-04, 2.965300e-07, 9.995166e-01, 6.948388e-06]],\n",
              "      dtype=float32)"
            ]
          },
          "metadata": {},
          "execution_count": 23
        }
      ]
    },
    {
      "cell_type": "code",
      "source": [
        "import numpy as np\n",
        "predicted_class = np.argmax(vect_proba)\n",
        "print(\"The true label is: \"+str(y_test[10]))\n",
        "print(\"The predicted label is: \"+str(predicted_class))"
      ],
      "metadata": {
        "colab": {
          "base_uri": "https://localhost:8080/"
        },
        "id": "NZa0-0vnD6Xx",
        "outputId": "e6c0cd7a-a92c-4b5b-fae3-b87a39fbda9f"
      },
      "execution_count": 24,
      "outputs": [
        {
          "output_type": "stream",
          "name": "stdout",
          "text": [
            "The true label is: 2\n",
            "The predicted label is: 2\n"
          ]
        }
      ]
    }
  ]
}